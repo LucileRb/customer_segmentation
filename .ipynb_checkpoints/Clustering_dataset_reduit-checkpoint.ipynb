{
 "cells": [
  {
   "cell_type": "markdown",
   "metadata": {
    "id": "lIAPuXn77UNQ"
   },
   "source": [
    "# Imports"
   ]
  },
  {
   "cell_type": "code",
   "execution_count": null,
   "metadata": {
    "colab": {
     "base_uri": "https://localhost:8080/",
     "height": 1000
    },
    "id": "x5ywd3Jx-3Hv",
    "outputId": "fb642352-f8b5-4017-e455-4e53da019eb3"
   },
   "outputs": [
    {
     "name": "stdout",
     "output_type": "stream",
     "text": [
      "Requirement already satisfied: jyquickhelper in /usr/local/lib/python3.10/dist-packages (0.4.220)\n",
      "Requirement already satisfied: ipython in /usr/local/lib/python3.10/dist-packages (from jyquickhelper) (7.34.0)\n",
      "Requirement already satisfied: jupyter in /usr/local/lib/python3.10/dist-packages (from jyquickhelper) (1.0.0)\n",
      "Requirement already satisfied: notebook in /usr/local/lib/python3.10/dist-packages (from jyquickhelper) (6.5.5)\n",
      "Requirement already satisfied: setuptools>=18.5 in /usr/local/lib/python3.10/dist-packages (from ipython->jyquickhelper) (67.7.2)\n",
      "Requirement already satisfied: jedi>=0.16 in /usr/local/lib/python3.10/dist-packages (from ipython->jyquickhelper) (0.19.1)\n",
      "Requirement already satisfied: decorator in /usr/local/lib/python3.10/dist-packages (from ipython->jyquickhelper) (4.4.2)\n",
      "Requirement already satisfied: pickleshare in /usr/local/lib/python3.10/dist-packages (from ipython->jyquickhelper) (0.7.5)\n",
      "Requirement already satisfied: traitlets>=4.2 in /usr/local/lib/python3.10/dist-packages (from ipython->jyquickhelper) (5.7.1)\n",
      "Requirement already satisfied: prompt-toolkit!=3.0.0,!=3.0.1,<3.1.0,>=2.0.0 in /usr/local/lib/python3.10/dist-packages (from ipython->jyquickhelper) (3.0.39)\n",
      "Requirement already satisfied: pygments in /usr/local/lib/python3.10/dist-packages (from ipython->jyquickhelper) (2.16.1)\n",
      "Requirement already satisfied: backcall in /usr/local/lib/python3.10/dist-packages (from ipython->jyquickhelper) (0.2.0)\n",
      "Requirement already satisfied: matplotlib-inline in /usr/local/lib/python3.10/dist-packages (from ipython->jyquickhelper) (0.1.6)\n",
      "Requirement already satisfied: pexpect>4.3 in /usr/local/lib/python3.10/dist-packages (from ipython->jyquickhelper) (4.8.0)\n",
      "Requirement already satisfied: qtconsole in /usr/local/lib/python3.10/dist-packages (from jupyter->jyquickhelper) (5.4.4)\n",
      "Requirement already satisfied: jupyter-console in /usr/local/lib/python3.10/dist-packages (from jupyter->jyquickhelper) (6.1.0)\n",
      "Requirement already satisfied: nbconvert in /usr/local/lib/python3.10/dist-packages (from jupyter->jyquickhelper) (6.5.4)\n",
      "Requirement already satisfied: ipykernel in /usr/local/lib/python3.10/dist-packages (from jupyter->jyquickhelper) (5.5.6)\n",
      "Requirement already satisfied: ipywidgets in /usr/local/lib/python3.10/dist-packages (from jupyter->jyquickhelper) (7.7.1)\n",
      "Requirement already satisfied: jinja2 in /usr/local/lib/python3.10/dist-packages (from notebook->jyquickhelper) (3.1.2)\n",
      "Requirement already satisfied: tornado>=6.1 in /usr/local/lib/python3.10/dist-packages (from notebook->jyquickhelper) (6.3.2)\n",
      "Requirement already satisfied: pyzmq<25,>=17 in /usr/local/lib/python3.10/dist-packages (from notebook->jyquickhelper) (23.2.1)\n",
      "Requirement already satisfied: argon2-cffi in /usr/local/lib/python3.10/dist-packages (from notebook->jyquickhelper) (23.1.0)\n",
      "Requirement already satisfied: jupyter-core>=4.6.1 in /usr/local/lib/python3.10/dist-packages (from notebook->jyquickhelper) (5.3.2)\n",
      "Requirement already satisfied: jupyter-client<8,>=5.3.4 in /usr/local/lib/python3.10/dist-packages (from notebook->jyquickhelper) (6.1.12)\n",
      "Requirement already satisfied: ipython-genutils in /usr/local/lib/python3.10/dist-packages (from notebook->jyquickhelper) (0.2.0)\n",
      "Requirement already satisfied: nbformat in /usr/local/lib/python3.10/dist-packages (from notebook->jyquickhelper) (5.9.2)\n",
      "Requirement already satisfied: nest-asyncio>=1.5 in /usr/local/lib/python3.10/dist-packages (from notebook->jyquickhelper) (1.5.8)\n",
      "Requirement already satisfied: Send2Trash>=1.8.0 in /usr/local/lib/python3.10/dist-packages (from notebook->jyquickhelper) (1.8.2)\n",
      "Requirement already satisfied: terminado>=0.8.3 in /usr/local/lib/python3.10/dist-packages (from notebook->jyquickhelper) (0.17.1)\n",
      "Requirement already satisfied: prometheus-client in /usr/local/lib/python3.10/dist-packages (from notebook->jyquickhelper) (0.17.1)\n",
      "Requirement already satisfied: nbclassic>=0.4.7 in /usr/local/lib/python3.10/dist-packages (from notebook->jyquickhelper) (1.0.0)\n",
      "Requirement already satisfied: parso<0.9.0,>=0.8.3 in /usr/local/lib/python3.10/dist-packages (from jedi>=0.16->ipython->jyquickhelper) (0.8.3)\n",
      "Requirement already satisfied: python-dateutil>=2.1 in /usr/local/lib/python3.10/dist-packages (from jupyter-client<8,>=5.3.4->notebook->jyquickhelper) (2.8.2)\n",
      "Requirement already satisfied: platformdirs>=2.5 in /usr/local/lib/python3.10/dist-packages (from jupyter-core>=4.6.1->notebook->jyquickhelper) (3.11.0)\n",
      "Requirement already satisfied: jupyter-server>=1.8 in /usr/local/lib/python3.10/dist-packages (from nbclassic>=0.4.7->notebook->jyquickhelper) (1.24.0)\n",
      "Requirement already satisfied: notebook-shim>=0.2.3 in /usr/local/lib/python3.10/dist-packages (from nbclassic>=0.4.7->notebook->jyquickhelper) (0.2.3)\n",
      "Requirement already satisfied: lxml in /usr/local/lib/python3.10/dist-packages (from nbconvert->jupyter->jyquickhelper) (4.9.3)\n",
      "Requirement already satisfied: beautifulsoup4 in /usr/local/lib/python3.10/dist-packages (from nbconvert->jupyter->jyquickhelper) (4.11.2)\n",
      "Requirement already satisfied: bleach in /usr/local/lib/python3.10/dist-packages (from nbconvert->jupyter->jyquickhelper) (6.0.0)\n",
      "Requirement already satisfied: defusedxml in /usr/local/lib/python3.10/dist-packages (from nbconvert->jupyter->jyquickhelper) (0.7.1)\n",
      "Requirement already satisfied: entrypoints>=0.2.2 in /usr/local/lib/python3.10/dist-packages (from nbconvert->jupyter->jyquickhelper) (0.4)\n",
      "Requirement already satisfied: jupyterlab-pygments in /usr/local/lib/python3.10/dist-packages (from nbconvert->jupyter->jyquickhelper) (0.2.2)\n",
      "Requirement already satisfied: MarkupSafe>=2.0 in /usr/local/lib/python3.10/dist-packages (from nbconvert->jupyter->jyquickhelper) (2.1.3)\n",
      "Requirement already satisfied: mistune<2,>=0.8.1 in /usr/local/lib/python3.10/dist-packages (from nbconvert->jupyter->jyquickhelper) (0.8.4)\n",
      "Requirement already satisfied: nbclient>=0.5.0 in /usr/local/lib/python3.10/dist-packages (from nbconvert->jupyter->jyquickhelper) (0.8.0)\n",
      "Requirement already satisfied: packaging in /usr/local/lib/python3.10/dist-packages (from nbconvert->jupyter->jyquickhelper) (23.2)\n",
      "Requirement already satisfied: pandocfilters>=1.4.1 in /usr/local/lib/python3.10/dist-packages (from nbconvert->jupyter->jyquickhelper) (1.5.0)\n",
      "Requirement already satisfied: tinycss2 in /usr/local/lib/python3.10/dist-packages (from nbconvert->jupyter->jyquickhelper) (1.2.1)\n",
      "Requirement already satisfied: fastjsonschema in /usr/local/lib/python3.10/dist-packages (from nbformat->notebook->jyquickhelper) (2.18.1)\n",
      "Requirement already satisfied: jsonschema>=2.6 in /usr/local/lib/python3.10/dist-packages (from nbformat->notebook->jyquickhelper) (4.19.1)\n",
      "Requirement already satisfied: ptyprocess>=0.5 in /usr/local/lib/python3.10/dist-packages (from pexpect>4.3->ipython->jyquickhelper) (0.7.0)\n",
      "Requirement already satisfied: wcwidth in /usr/local/lib/python3.10/dist-packages (from prompt-toolkit!=3.0.0,!=3.0.1,<3.1.0,>=2.0.0->ipython->jyquickhelper) (0.2.8)\n",
      "Requirement already satisfied: argon2-cffi-bindings in /usr/local/lib/python3.10/dist-packages (from argon2-cffi->notebook->jyquickhelper) (21.2.0)\n",
      "Requirement already satisfied: widgetsnbextension~=3.6.0 in /usr/local/lib/python3.10/dist-packages (from ipywidgets->jupyter->jyquickhelper) (3.6.6)\n",
      "Requirement already satisfied: jupyterlab-widgets>=1.0.0 in /usr/local/lib/python3.10/dist-packages (from ipywidgets->jupyter->jyquickhelper) (3.0.9)\n",
      "Requirement already satisfied: qtpy>=2.4.0 in /usr/local/lib/python3.10/dist-packages (from qtconsole->jupyter->jyquickhelper) (2.4.0)\n",
      "Requirement already satisfied: attrs>=22.2.0 in /usr/local/lib/python3.10/dist-packages (from jsonschema>=2.6->nbformat->notebook->jyquickhelper) (23.1.0)\n",
      "Requirement already satisfied: jsonschema-specifications>=2023.03.6 in /usr/local/lib/python3.10/dist-packages (from jsonschema>=2.6->nbformat->notebook->jyquickhelper) (2023.7.1)\n",
      "Requirement already satisfied: referencing>=0.28.4 in /usr/local/lib/python3.10/dist-packages (from jsonschema>=2.6->nbformat->notebook->jyquickhelper) (0.30.2)\n",
      "Requirement already satisfied: rpds-py>=0.7.1 in /usr/local/lib/python3.10/dist-packages (from jsonschema>=2.6->nbformat->notebook->jyquickhelper) (0.10.4)\n",
      "Requirement already satisfied: anyio<4,>=3.1.0 in /usr/local/lib/python3.10/dist-packages (from jupyter-server>=1.8->nbclassic>=0.4.7->notebook->jyquickhelper) (3.7.1)\n",
      "Requirement already satisfied: websocket-client in /usr/local/lib/python3.10/dist-packages (from jupyter-server>=1.8->nbclassic>=0.4.7->notebook->jyquickhelper) (1.6.3)\n",
      "Requirement already satisfied: six>=1.5 in /usr/local/lib/python3.10/dist-packages (from python-dateutil>=2.1->jupyter-client<8,>=5.3.4->notebook->jyquickhelper) (1.16.0)\n",
      "Requirement already satisfied: cffi>=1.0.1 in /usr/local/lib/python3.10/dist-packages (from argon2-cffi-bindings->argon2-cffi->notebook->jyquickhelper) (1.16.0)\n",
      "Requirement already satisfied: soupsieve>1.2 in /usr/local/lib/python3.10/dist-packages (from beautifulsoup4->nbconvert->jupyter->jyquickhelper) (2.5)\n",
      "Requirement already satisfied: webencodings in /usr/local/lib/python3.10/dist-packages (from bleach->nbconvert->jupyter->jyquickhelper) (0.5.1)\n",
      "Requirement already satisfied: idna>=2.8 in /usr/local/lib/python3.10/dist-packages (from anyio<4,>=3.1.0->jupyter-server>=1.8->nbclassic>=0.4.7->notebook->jyquickhelper) (3.4)\n",
      "Requirement already satisfied: sniffio>=1.1 in /usr/local/lib/python3.10/dist-packages (from anyio<4,>=3.1.0->jupyter-server>=1.8->nbclassic>=0.4.7->notebook->jyquickhelper) (1.3.0)\n",
      "Requirement already satisfied: exceptiongroup in /usr/local/lib/python3.10/dist-packages (from anyio<4,>=3.1.0->jupyter-server>=1.8->nbclassic>=0.4.7->notebook->jyquickhelper) (1.1.3)\n",
      "Requirement already satisfied: pycparser in /usr/local/lib/python3.10/dist-packages (from cffi>=1.0.1->argon2-cffi-bindings->argon2-cffi->notebook->jyquickhelper) (2.21)\n"
     ]
    },
    {
     "data": {
      "text/html": [
       "<div id=\"my_id_menu_nb\">run previous cell, wait for 2 seconds</div>\n",
       "<script>\n",
       "function repeat_indent_string(n){\n",
       "    var a = \"\" ;\n",
       "    for ( ; n > 0 ; --n)\n",
       "        a += \"    \";\n",
       "    return a;\n",
       "}\n",
       "// look up into all sections and builds an automated menu //\n",
       "var update_menu_string = function(begin, lfirst, llast, sformat, send, keep_item, begin_format, end_format) {\n",
       "    var anchors = document.getElementsByClassName(\"section\");\n",
       "    if (anchors.length == 0) {\n",
       "        anchors = document.getElementsByClassName(\"text_cell_render rendered_html\");\n",
       "    }\n",
       "    var i,t;\n",
       "    var text_menu = begin;\n",
       "    var text_memo = \"<pre>\\nlength:\" + anchors.length + \"\\n\";\n",
       "    var ind = \"\";\n",
       "    var memo_level = 1;\n",
       "    var href;\n",
       "    var tags = [];\n",
       "    var main_item = 0;\n",
       "    var format_open = 0;\n",
       "    for (i = 0; i <= llast; i++)\n",
       "        tags.push(\"h\" + i);\n",
       "\n",
       "    for (i = 0; i < anchors.length; i++) {\n",
       "        text_memo += \"**\" + anchors[i].id + \"--\\n\";\n",
       "\n",
       "        var child = null;\n",
       "        for(t = 0; t < tags.length; t++) {\n",
       "            var r = anchors[i].getElementsByTagName(tags[t]);\n",
       "            if (r.length > 0) {\n",
       "child = r[0];\n",
       "break;\n",
       "            }\n",
       "        }\n",
       "        if (child == null) {\n",
       "            text_memo += \"null\\n\";\n",
       "            continue;\n",
       "        }\n",
       "        if (anchors[i].hasAttribute(\"id\")) {\n",
       "            // when converted in RST\n",
       "            href = anchors[i].id;\n",
       "            text_memo += \"#1-\" + href;\n",
       "            // passer à child suivant (le chercher)\n",
       "        }\n",
       "        else if (child.hasAttribute(\"id\")) {\n",
       "            // in a notebook\n",
       "            href = child.id;\n",
       "            text_memo += \"#2-\" + href;\n",
       "        }\n",
       "        else {\n",
       "            text_memo += \"#3-\" + \"*\" + \"\\n\";\n",
       "            continue;\n",
       "        }\n",
       "        var title = child.textContent;\n",
       "        var level = parseInt(child.tagName.substring(1,2));\n",
       "\n",
       "        text_memo += \"--\" + level + \"?\" + lfirst + \"--\" + title + \"\\n\";\n",
       "\n",
       "        if ((level < lfirst) || (level > llast)) {\n",
       "            continue ;\n",
       "        }\n",
       "        if (title.endsWith('¶')) {\n",
       "            title = title.substring(0,title.length-1).replace(\"<\", \"&lt;\")\n",
       "         .replace(\">\", \"&gt;\").replace(\"&\", \"&amp;\");\n",
       "        }\n",
       "        if (title.length == 0) {\n",
       "            continue;\n",
       "        }\n",
       "\n",
       "        while (level < memo_level) {\n",
       "            text_menu += end_format + \"</ul>\\n\";\n",
       "            format_open -= 1;\n",
       "            memo_level -= 1;\n",
       "        }\n",
       "        if (level == lfirst) {\n",
       "            main_item += 1;\n",
       "        }\n",
       "        if (keep_item != -1 && main_item != keep_item + 1) {\n",
       "            // alert(main_item + \" - \" + level + \" - \" + keep_item);\n",
       "            continue;\n",
       "        }\n",
       "        while (level > memo_level) {\n",
       "            text_menu += \"<ul>\\n\";\n",
       "            memo_level += 1;\n",
       "        }\n",
       "        text_menu += repeat_indent_string(level-2);\n",
       "        text_menu += begin_format + sformat.replace(\"__HREF__\", href).replace(\"__TITLE__\", title);\n",
       "        format_open += 1;\n",
       "    }\n",
       "    while (1 < memo_level) {\n",
       "        text_menu += end_format + \"</ul>\\n\";\n",
       "        memo_level -= 1;\n",
       "        format_open -= 1;\n",
       "    }\n",
       "    text_menu += send;\n",
       "    //text_menu += \"\\n\" + text_memo;\n",
       "\n",
       "    while (format_open > 0) {\n",
       "        text_menu += end_format;\n",
       "        format_open -= 1;\n",
       "    }\n",
       "    return text_menu;\n",
       "};\n",
       "var update_menu = function() {\n",
       "    var sbegin = \"\";\n",
       "    var sformat = '<a href=\"#__HREF__\">__TITLE__</a>';\n",
       "    var send = \"\";\n",
       "    var begin_format = '<li>';\n",
       "    var end_format = '</li>';\n",
       "    var keep_item = -1;\n",
       "    var text_menu = update_menu_string(sbegin, 2, 4, sformat, send, keep_item,\n",
       "       begin_format, end_format);\n",
       "    var menu = document.getElementById(\"my_id_menu_nb\");\n",
       "    menu.innerHTML=text_menu;\n",
       "};\n",
       "window.setTimeout(update_menu,2000);\n",
       "            </script>"
      ],
      "text/plain": [
       "<IPython.core.display.HTML object>"
      ]
     },
     "execution_count": 2,
     "metadata": {},
     "output_type": "execute_result"
    }
   ],
   "source": [
    "# General Imports\n",
    "import numpy as np\n",
    "import pandas as pd\n",
    "import math\n",
    "import pickle\n",
    "import os\n",
    "\n",
    "# Plot\n",
    "import matplotlib.pyplot as plt\n",
    "import seaborn as sns\n",
    "from mpl_toolkits.mplot3d import Axes3D\n",
    "\n",
    "# Dates\n",
    "import datetime as dt\n",
    "from datetime import timedelta\n",
    "\n",
    "# Preprocessing\n",
    "from sklearn.preprocessing import StandardScaler\n",
    "\n",
    "# Clustering\n",
    "from sklearn.cluster import KMeans\n",
    "from sklearn.metrics import silhouette_score\n",
    "from yellowbrick.cluster import KElbowVisualizer\n",
    "from yellowbrick.cluster import SilhouetteVisualizer\n",
    "\n",
    "# PCA\n",
    "from sklearn.decomposition import PCA\n",
    "from matplotlib.patches import Circle\n",
    "\n",
    "import warnings\n",
    "warnings.simplefilter(action = 'ignore')\n",
    "\n",
    "# Sommaire\n",
    "#!pip install jyquickhelper\n",
    "from jyquickhelper import add_notebook_menu # attention, ne prend que les titres de niveau 2\n",
    "add_notebook_menu()"
   ]
  },
  {
   "cell_type": "code",
   "execution_count": null,
   "metadata": {
    "id": "_vAbaPvG7UNR"
   },
   "outputs": [],
   "source": [
    "# Set display preferences\n",
    "pd.set_option('display.max_row', 250)\n",
    "pd.set_option('display.max_column', 100)\n",
    "pd.set_option('display.precision', 5)"
   ]
  },
  {
   "cell_type": "code",
   "execution_count": null,
   "metadata": {
    "colab": {
     "base_uri": "https://localhost:8080/"
    },
    "id": "BaYavtuN9hSr",
    "outputId": "e2a677f6-19b3-4459-e6cb-fdd9a52be1b7"
   },
   "outputs": [
    {
     "name": "stdout",
     "output_type": "stream",
     "text": [
      "Drive already mounted at /content/drive; to attempt to forcibly remount, call drive.mount(\"/content/drive\", force_remount=True).\n"
     ]
    }
   ],
   "source": [
    "# à run pour colab uniquement\n",
    "#from google.colab import drive\n",
    "#drive.mount('/content/drive')"
   ]
  },
  {
   "cell_type": "code",
   "execution_count": null,
   "metadata": {
    "id": "Z5CXHXBRZO6a"
   },
   "outputs": [],
   "source": [
    "# Evaluation du clustering\n",
    "\n",
    "# - forme des clusters (cf silhouette score)\n",
    "# - stabilité des clusters (ARI score)"
   ]
  },
  {
   "cell_type": "code",
   "execution_count": null,
   "metadata": {
    "id": "_IrzZR1YSfah"
   },
   "outputs": [],
   "source": [
    "# Métriques d'évalutation :\n",
    "\n",
    "# - Silhouette score/coefficient\n",
    "# - Davies-Bouldin Index\n",
    "# - Calinski-Harabasz Index\n",
    "# - Adjusted Rand Index\n",
    "\n",
    "# ne choisir qu'une métrique et se baser dessus\n",
    "# si j'en prends trop, peuvent dire des choses différentes et ne va m'avancer à rien"
   ]
  },
  {
   "cell_type": "markdown",
   "metadata": {
    "id": "lGPasaowHmKU"
   },
   "source": [
    "# Import des données"
   ]
  },
  {
   "cell_type": "markdown",
   "metadata": {
    "id": "ZhnFb4RVHpdS"
   },
   "source": [
    "## Import"
   ]
  },
  {
   "cell_type": "code",
   "execution_count": null,
   "metadata": {
    "colab": {
     "base_uri": "https://localhost:8080/",
     "height": 296
    },
    "id": "RNvMy-40xvW4",
    "outputId": "9faf8263-6a6c-4e63-c4b1-2c226320aa01"
   },
   "outputs": [
    {
     "data": {
      "text/html": [
       "\n",
       "  <div id=\"df-deaedf13-f186-4dc7-967d-6753f5758588\" class=\"colab-df-container\">\n",
       "    <div>\n",
       "<style scoped>\n",
       "    .dataframe tbody tr th:only-of-type {\n",
       "        vertical-align: middle;\n",
       "    }\n",
       "\n",
       "    .dataframe tbody tr th {\n",
       "        vertical-align: top;\n",
       "    }\n",
       "\n",
       "    .dataframe thead th {\n",
       "        text-align: right;\n",
       "    }\n",
       "</style>\n",
       "<table border=\"1\" class=\"dataframe\">\n",
       "  <thead>\n",
       "    <tr style=\"text-align: right;\">\n",
       "      <th></th>\n",
       "      <th>product_name_lenght</th>\n",
       "      <th>product_description_lenght</th>\n",
       "      <th>product_photos_qty</th>\n",
       "      <th>product_weight_g</th>\n",
       "      <th>payment_sequential</th>\n",
       "      <th>payment_installments</th>\n",
       "      <th>payment_value</th>\n",
       "      <th>review_score</th>\n",
       "      <th>review_time</th>\n",
       "      <th>order_time</th>\n",
       "      <th>delivery_error_time</th>\n",
       "      <th>order_preparation_time</th>\n",
       "      <th>shipping_limit_respect</th>\n",
       "      <th>purchase_month</th>\n",
       "      <th>purchase_dayofweek</th>\n",
       "      <th>purchase_day</th>\n",
       "      <th>purchase_hour</th>\n",
       "      <th>full_written_review</th>\n",
       "      <th>written_review_title</th>\n",
       "      <th>distance</th>\n",
       "      <th>order_status</th>\n",
       "      <th>payment_type</th>\n",
       "      <th>product_category</th>\n",
       "    </tr>\n",
       "  </thead>\n",
       "  <tbody>\n",
       "    <tr>\n",
       "      <th>0</th>\n",
       "      <td>41.0</td>\n",
       "      <td>1141.0</td>\n",
       "      <td>1.0</td>\n",
       "      <td>8683.0</td>\n",
       "      <td>1.0</td>\n",
       "      <td>2.0</td>\n",
       "      <td>146.87</td>\n",
       "      <td>4.0</td>\n",
       "      <td>4.94074</td>\n",
       "      <td>8.81250</td>\n",
       "      <td>-10.55862</td>\n",
       "      <td>6.80955</td>\n",
       "      <td>-0.80955</td>\n",
       "      <td>5.0</td>\n",
       "      <td>1.0</td>\n",
       "      <td>16.0</td>\n",
       "      <td>15.0</td>\n",
       "      <td>0.0</td>\n",
       "      <td>0.0</td>\n",
       "      <td>228.79538</td>\n",
       "      <td>delivered</td>\n",
       "      <td>credit_card</td>\n",
       "      <td>Furniture and Home Decor</td>\n",
       "    </tr>\n",
       "    <tr>\n",
       "      <th>1</th>\n",
       "      <td>43.0</td>\n",
       "      <td>1002.0</td>\n",
       "      <td>3.0</td>\n",
       "      <td>10150.0</td>\n",
       "      <td>1.0</td>\n",
       "      <td>8.0</td>\n",
       "      <td>335.48</td>\n",
       "      <td>5.0</td>\n",
       "      <td>11.94686</td>\n",
       "      <td>16.66175</td>\n",
       "      <td>-7.47131</td>\n",
       "      <td>2.84476</td>\n",
       "      <td>3.15524</td>\n",
       "      <td>1.0</td>\n",
       "      <td>4.0</td>\n",
       "      <td>12.0</td>\n",
       "      <td>20.0</td>\n",
       "      <td>0.0</td>\n",
       "      <td>0.0</td>\n",
       "      <td>302.71858</td>\n",
       "      <td>delivered</td>\n",
       "      <td>credit_card</td>\n",
       "      <td>Furniture and Home Decor</td>\n",
       "    </tr>\n",
       "    <tr>\n",
       "      <th>2</th>\n",
       "      <td>55.0</td>\n",
       "      <td>955.0</td>\n",
       "      <td>1.0</td>\n",
       "      <td>8267.0</td>\n",
       "      <td>1.0</td>\n",
       "      <td>7.0</td>\n",
       "      <td>157.73</td>\n",
       "      <td>5.0</td>\n",
       "      <td>0.50763</td>\n",
       "      <td>26.07715</td>\n",
       "      <td>1.74920</td>\n",
       "      <td>21.92488</td>\n",
       "      <td>-5.92488</td>\n",
       "      <td>5.0</td>\n",
       "      <td>5.0</td>\n",
       "      <td>19.0</td>\n",
       "      <td>16.0</td>\n",
       "      <td>0.0</td>\n",
       "      <td>0.0</td>\n",
       "      <td>29.14657</td>\n",
       "      <td>delivered</td>\n",
       "      <td>credit_card</td>\n",
       "      <td>Furniture and Home Decor</td>\n",
       "    </tr>\n",
       "    <tr>\n",
       "      <th>3</th>\n",
       "      <td>48.0</td>\n",
       "      <td>1066.0</td>\n",
       "      <td>1.0</td>\n",
       "      <td>12160.0</td>\n",
       "      <td>1.0</td>\n",
       "      <td>1.0</td>\n",
       "      <td>173.30</td>\n",
       "      <td>5.0</td>\n",
       "      <td>4.77554</td>\n",
       "      <td>14.99846</td>\n",
       "      <td>-12.33027</td>\n",
       "      <td>14.24541</td>\n",
       "      <td>-0.28572</td>\n",
       "      <td>3.0</td>\n",
       "      <td>1.0</td>\n",
       "      <td>13.0</td>\n",
       "      <td>16.0</td>\n",
       "      <td>0.0</td>\n",
       "      <td>0.0</td>\n",
       "      <td>18.11744</td>\n",
       "      <td>delivered</td>\n",
       "      <td>credit_card</td>\n",
       "      <td>Furniture and Home Decor</td>\n",
       "    </tr>\n",
       "    <tr>\n",
       "      <th>4</th>\n",
       "      <td>61.0</td>\n",
       "      <td>407.0</td>\n",
       "      <td>1.0</td>\n",
       "      <td>5200.0</td>\n",
       "      <td>1.0</td>\n",
       "      <td>8.0</td>\n",
       "      <td>252.25</td>\n",
       "      <td>5.0</td>\n",
       "      <td>7.08324</td>\n",
       "      <td>11.46132</td>\n",
       "      <td>-5.12792</td>\n",
       "      <td>1.21240</td>\n",
       "      <td>0.78760</td>\n",
       "      <td>7.0</td>\n",
       "      <td>6.0</td>\n",
       "      <td>29.0</td>\n",
       "      <td>9.0</td>\n",
       "      <td>1.0</td>\n",
       "      <td>1.0</td>\n",
       "      <td>187.45960</td>\n",
       "      <td>delivered</td>\n",
       "      <td>credit_card</td>\n",
       "      <td></td>\n",
       "    </tr>\n",
       "  </tbody>\n",
       "</table>\n",
       "</div>\n",
       "    <div class=\"colab-df-buttons\">\n",
       "\n",
       "  <div class=\"colab-df-container\">\n",
       "    <button class=\"colab-df-convert\" onclick=\"convertToInteractive('df-deaedf13-f186-4dc7-967d-6753f5758588')\"\n",
       "            title=\"Convert this dataframe to an interactive table.\"\n",
       "            style=\"display:none;\">\n",
       "\n",
       "  <svg xmlns=\"http://www.w3.org/2000/svg\" height=\"24px\" viewBox=\"0 -960 960 960\">\n",
       "    <path d=\"M120-120v-720h720v720H120Zm60-500h600v-160H180v160Zm220 220h160v-160H400v160Zm0 220h160v-160H400v160ZM180-400h160v-160H180v160Zm440 0h160v-160H620v160ZM180-180h160v-160H180v160Zm440 0h160v-160H620v160Z\"/>\n",
       "  </svg>\n",
       "    </button>\n",
       "\n",
       "  <style>\n",
       "    .colab-df-container {\n",
       "      display:flex;\n",
       "      gap: 12px;\n",
       "    }\n",
       "\n",
       "    .colab-df-convert {\n",
       "      background-color: #E8F0FE;\n",
       "      border: none;\n",
       "      border-radius: 50%;\n",
       "      cursor: pointer;\n",
       "      display: none;\n",
       "      fill: #1967D2;\n",
       "      height: 32px;\n",
       "      padding: 0 0 0 0;\n",
       "      width: 32px;\n",
       "    }\n",
       "\n",
       "    .colab-df-convert:hover {\n",
       "      background-color: #E2EBFA;\n",
       "      box-shadow: 0px 1px 2px rgba(60, 64, 67, 0.3), 0px 1px 3px 1px rgba(60, 64, 67, 0.15);\n",
       "      fill: #174EA6;\n",
       "    }\n",
       "\n",
       "    .colab-df-buttons div {\n",
       "      margin-bottom: 4px;\n",
       "    }\n",
       "\n",
       "    [theme=dark] .colab-df-convert {\n",
       "      background-color: #3B4455;\n",
       "      fill: #D2E3FC;\n",
       "    }\n",
       "\n",
       "    [theme=dark] .colab-df-convert:hover {\n",
       "      background-color: #434B5C;\n",
       "      box-shadow: 0px 1px 3px 1px rgba(0, 0, 0, 0.15);\n",
       "      filter: drop-shadow(0px 1px 2px rgba(0, 0, 0, 0.3));\n",
       "      fill: #FFFFFF;\n",
       "    }\n",
       "  </style>\n",
       "\n",
       "    <script>\n",
       "      const buttonEl =\n",
       "        document.querySelector('#df-deaedf13-f186-4dc7-967d-6753f5758588 button.colab-df-convert');\n",
       "      buttonEl.style.display =\n",
       "        google.colab.kernel.accessAllowed ? 'block' : 'none';\n",
       "\n",
       "      async function convertToInteractive(key) {\n",
       "        const element = document.querySelector('#df-deaedf13-f186-4dc7-967d-6753f5758588');\n",
       "        const dataTable =\n",
       "          await google.colab.kernel.invokeFunction('convertToInteractive',\n",
       "                                                    [key], {});\n",
       "        if (!dataTable) return;\n",
       "\n",
       "        const docLinkHtml = 'Like what you see? Visit the ' +\n",
       "          '<a target=\"_blank\" href=https://colab.research.google.com/notebooks/data_table.ipynb>data table notebook</a>'\n",
       "          + ' to learn more about interactive tables.';\n",
       "        element.innerHTML = '';\n",
       "        dataTable['output_type'] = 'display_data';\n",
       "        await google.colab.output.renderOutput(dataTable, element);\n",
       "        const docLink = document.createElement('div');\n",
       "        docLink.innerHTML = docLinkHtml;\n",
       "        element.appendChild(docLink);\n",
       "      }\n",
       "    </script>\n",
       "  </div>\n",
       "\n",
       "\n",
       "<div id=\"df-0f22df82-e72f-41c5-8232-663f45c90984\">\n",
       "  <button class=\"colab-df-quickchart\" onclick=\"quickchart('df-0f22df82-e72f-41c5-8232-663f45c90984')\"\n",
       "            title=\"Suggest charts.\"\n",
       "            style=\"display:none;\">\n",
       "\n",
       "<svg xmlns=\"http://www.w3.org/2000/svg\" height=\"24px\"viewBox=\"0 0 24 24\"\n",
       "     width=\"24px\">\n",
       "    <g>\n",
       "        <path d=\"M19 3H5c-1.1 0-2 .9-2 2v14c0 1.1.9 2 2 2h14c1.1 0 2-.9 2-2V5c0-1.1-.9-2-2-2zM9 17H7v-7h2v7zm4 0h-2V7h2v10zm4 0h-2v-4h2v4z\"/>\n",
       "    </g>\n",
       "</svg>\n",
       "  </button>\n",
       "\n",
       "<style>\n",
       "  .colab-df-quickchart {\n",
       "      --bg-color: #E8F0FE;\n",
       "      --fill-color: #1967D2;\n",
       "      --hover-bg-color: #E2EBFA;\n",
       "      --hover-fill-color: #174EA6;\n",
       "      --disabled-fill-color: #AAA;\n",
       "      --disabled-bg-color: #DDD;\n",
       "  }\n",
       "\n",
       "  [theme=dark] .colab-df-quickchart {\n",
       "      --bg-color: #3B4455;\n",
       "      --fill-color: #D2E3FC;\n",
       "      --hover-bg-color: #434B5C;\n",
       "      --hover-fill-color: #FFFFFF;\n",
       "      --disabled-bg-color: #3B4455;\n",
       "      --disabled-fill-color: #666;\n",
       "  }\n",
       "\n",
       "  .colab-df-quickchart {\n",
       "    background-color: var(--bg-color);\n",
       "    border: none;\n",
       "    border-radius: 50%;\n",
       "    cursor: pointer;\n",
       "    display: none;\n",
       "    fill: var(--fill-color);\n",
       "    height: 32px;\n",
       "    padding: 0;\n",
       "    width: 32px;\n",
       "  }\n",
       "\n",
       "  .colab-df-quickchart:hover {\n",
       "    background-color: var(--hover-bg-color);\n",
       "    box-shadow: 0 1px 2px rgba(60, 64, 67, 0.3), 0 1px 3px 1px rgba(60, 64, 67, 0.15);\n",
       "    fill: var(--button-hover-fill-color);\n",
       "  }\n",
       "\n",
       "  .colab-df-quickchart-complete:disabled,\n",
       "  .colab-df-quickchart-complete:disabled:hover {\n",
       "    background-color: var(--disabled-bg-color);\n",
       "    fill: var(--disabled-fill-color);\n",
       "    box-shadow: none;\n",
       "  }\n",
       "\n",
       "  .colab-df-spinner {\n",
       "    border: 2px solid var(--fill-color);\n",
       "    border-color: transparent;\n",
       "    border-bottom-color: var(--fill-color);\n",
       "    animation:\n",
       "      spin 1s steps(1) infinite;\n",
       "  }\n",
       "\n",
       "  @keyframes spin {\n",
       "    0% {\n",
       "      border-color: transparent;\n",
       "      border-bottom-color: var(--fill-color);\n",
       "      border-left-color: var(--fill-color);\n",
       "    }\n",
       "    20% {\n",
       "      border-color: transparent;\n",
       "      border-left-color: var(--fill-color);\n",
       "      border-top-color: var(--fill-color);\n",
       "    }\n",
       "    30% {\n",
       "      border-color: transparent;\n",
       "      border-left-color: var(--fill-color);\n",
       "      border-top-color: var(--fill-color);\n",
       "      border-right-color: var(--fill-color);\n",
       "    }\n",
       "    40% {\n",
       "      border-color: transparent;\n",
       "      border-right-color: var(--fill-color);\n",
       "      border-top-color: var(--fill-color);\n",
       "    }\n",
       "    60% {\n",
       "      border-color: transparent;\n",
       "      border-right-color: var(--fill-color);\n",
       "    }\n",
       "    80% {\n",
       "      border-color: transparent;\n",
       "      border-right-color: var(--fill-color);\n",
       "      border-bottom-color: var(--fill-color);\n",
       "    }\n",
       "    90% {\n",
       "      border-color: transparent;\n",
       "      border-bottom-color: var(--fill-color);\n",
       "    }\n",
       "  }\n",
       "</style>\n",
       "\n",
       "  <script>\n",
       "    async function quickchart(key) {\n",
       "      const quickchartButtonEl =\n",
       "        document.querySelector('#' + key + ' button');\n",
       "      quickchartButtonEl.disabled = true;  // To prevent multiple clicks.\n",
       "      quickchartButtonEl.classList.add('colab-df-spinner');\n",
       "      try {\n",
       "        const charts = await google.colab.kernel.invokeFunction(\n",
       "            'suggestCharts', [key], {});\n",
       "      } catch (error) {\n",
       "        console.error('Error during call to suggestCharts:', error);\n",
       "      }\n",
       "      quickchartButtonEl.classList.remove('colab-df-spinner');\n",
       "      quickchartButtonEl.classList.add('colab-df-quickchart-complete');\n",
       "    }\n",
       "    (() => {\n",
       "      let quickchartButtonEl =\n",
       "        document.querySelector('#df-0f22df82-e72f-41c5-8232-663f45c90984 button');\n",
       "      quickchartButtonEl.style.display =\n",
       "        google.colab.kernel.accessAllowed ? 'block' : 'none';\n",
       "    })();\n",
       "  </script>\n",
       "</div>\n",
       "    </div>\n",
       "  </div>\n"
      ],
      "text/plain": [
       "   product_name_lenght  product_description_lenght  product_photos_qty  \\\n",
       "0                 41.0                      1141.0                 1.0   \n",
       "1                 43.0                      1002.0                 3.0   \n",
       "2                 55.0                       955.0                 1.0   \n",
       "3                 48.0                      1066.0                 1.0   \n",
       "4                 61.0                       407.0                 1.0   \n",
       "\n",
       "   product_weight_g  payment_sequential  payment_installments  payment_value  \\\n",
       "0            8683.0                 1.0                   2.0         146.87   \n",
       "1           10150.0                 1.0                   8.0         335.48   \n",
       "2            8267.0                 1.0                   7.0         157.73   \n",
       "3           12160.0                 1.0                   1.0         173.30   \n",
       "4            5200.0                 1.0                   8.0         252.25   \n",
       "\n",
       "   review_score  review_time  order_time  delivery_error_time  \\\n",
       "0           4.0      4.94074     8.81250            -10.55862   \n",
       "1           5.0     11.94686    16.66175             -7.47131   \n",
       "2           5.0      0.50763    26.07715              1.74920   \n",
       "3           5.0      4.77554    14.99846            -12.33027   \n",
       "4           5.0      7.08324    11.46132             -5.12792   \n",
       "\n",
       "   order_preparation_time  shipping_limit_respect  purchase_month  \\\n",
       "0                 6.80955                -0.80955             5.0   \n",
       "1                 2.84476                 3.15524             1.0   \n",
       "2                21.92488                -5.92488             5.0   \n",
       "3                14.24541                -0.28572             3.0   \n",
       "4                 1.21240                 0.78760             7.0   \n",
       "\n",
       "   purchase_dayofweek  purchase_day  purchase_hour  full_written_review  \\\n",
       "0                 1.0          16.0           15.0                  0.0   \n",
       "1                 4.0          12.0           20.0                  0.0   \n",
       "2                 5.0          19.0           16.0                  0.0   \n",
       "3                 1.0          13.0           16.0                  0.0   \n",
       "4                 6.0          29.0            9.0                  1.0   \n",
       "\n",
       "   written_review_title   distance order_status payment_type  \\\n",
       "0                   0.0  228.79538    delivered  credit_card   \n",
       "1                   0.0  302.71858    delivered  credit_card   \n",
       "2                   0.0   29.14657    delivered  credit_card   \n",
       "3                   0.0   18.11744    delivered  credit_card   \n",
       "4                   1.0  187.45960    delivered  credit_card   \n",
       "\n",
       "           product_category  \n",
       "0  Furniture and Home Decor  \n",
       "1  Furniture and Home Decor  \n",
       "2  Furniture and Home Decor  \n",
       "3  Furniture and Home Decor  \n",
       "4                            "
      ]
     },
     "execution_count": 5,
     "metadata": {},
     "output_type": "execute_result"
    }
   ],
   "source": [
    "# import des données\n",
    "\n",
    "# Chemin d'accès aux données (à modifier si code en local)\n",
    "path = '/content/drive/MyDrive/OpenClassrooms/Projet5/' #-> pour colab\n",
    "#path = '' #-> en local\n",
    "\n",
    "filepath = os.path.join(path, 'df')\n",
    "\n",
    "with open(filepath, 'rb') as f:\n",
    "    df_final = pickle.load(f)\n",
    "\n",
    "df_final.head()"
   ]
  },
  {
   "cell_type": "code",
   "execution_count": null,
   "metadata": {
    "id": "Ud_lSkf1Ho-x"
   },
   "outputs": [],
   "source": []
  },
  {
   "cell_type": "code",
   "execution_count": null,
   "metadata": {
    "id": "SZU6fYT_Ho8I"
   },
   "outputs": [],
   "source": []
  },
  {
   "cell_type": "code",
   "execution_count": null,
   "metadata": {
    "id": "m2ynLz9NHo6Q"
   },
   "outputs": [],
   "source": []
  },
  {
   "cell_type": "markdown",
   "metadata": {
    "id": "gMVsxaLvbvys"
   },
   "source": [
    "# Jeu de données réduit"
   ]
  },
  {
   "cell_type": "markdown",
   "metadata": {
    "id": "VaWQAgGOcPPN"
   },
   "source": [
    "## Choix variables"
   ]
  },
  {
   "cell_type": "code",
   "execution_count": null,
   "metadata": {
    "colab": {
     "base_uri": "https://localhost:8080/"
    },
    "id": "qb3qaR5PcOLs",
    "outputId": "ca29da18-af99-4f86-f221-6fba2a7d7006"
   },
   "outputs": [
    {
     "data": {
      "text/plain": [
       "Index(['product_name_lenght', 'product_description_lenght',\n",
       "       'product_photos_qty', 'product_weight_g', 'payment_sequential',\n",
       "       'payment_installments', 'payment_value', 'review_score', 'review_time',\n",
       "       'order_time', 'delivery_error_time', 'order_preparation_time',\n",
       "       'shipping_limit_respect', 'purchase_month', 'purchase_dayofweek',\n",
       "       'purchase_day', 'purchase_hour', 'full_written_review',\n",
       "       'written_review_title', 'distance', 'order_status', 'payment_type',\n",
       "       'product_category'],\n",
       "      dtype='object')"
      ]
     },
     "execution_count": 6,
     "metadata": {},
     "output_type": "execute_result"
    }
   ],
   "source": [
    "# on reprend le df\n",
    "\n",
    "df_final.columns"
   ]
  },
  {
   "cell_type": "code",
   "execution_count": null,
   "metadata": {
    "id": "rk5mRdHIcOJt"
   },
   "outputs": [],
   "source": [
    "# Choix arbitraire des variables qui me semblent pertinentes :\n",
    "\n",
    "df_reduit = df_final[[#'product_name_lenght', # pas super pertinent\n",
    "                      'payment_type',\n",
    "                      'payment_value',\n",
    "                      'full_written_review', # prendre la variable review présence/absence à la place\n",
    "                      'product_category',\n",
    "                      'order_time',\n",
    "                      'shipping_limit_respect',\n",
    "                      'purchase_dayofweek',\n",
    "                      'purchase_hour',\n",
    "                      'purchase_day']] # regarder aussi jour du mois"
   ]
  },
  {
   "cell_type": "code",
   "execution_count": null,
   "metadata": {
    "colab": {
     "base_uri": "https://localhost:8080/"
    },
    "id": "HHDOBc1O9qic",
    "outputId": "9fbc1d80-d416-49fc-8dd9-da6df0ebec79"
   },
   "outputs": [
    {
     "name": "stdout",
     "output_type": "stream",
     "text": [
      "<class 'pandas.core.frame.DataFrame'>\n",
      "Int64Index: 116467 entries, 0 to 117738\n",
      "Data columns (total 2 columns):\n",
      " #   Column            Non-Null Count   Dtype \n",
      "---  ------            --------------   ----- \n",
      " 0   payment_type      116464 non-null  object\n",
      " 1   product_category  116467 non-null  object\n",
      "dtypes: object(2)\n",
      "memory usage: 2.7+ MB\n"
     ]
    }
   ],
   "source": [
    "df_quali = df_reduit.select_dtypes(include = 'object')\n",
    "df_quali.info()"
   ]
  },
  {
   "cell_type": "code",
   "execution_count": null,
   "metadata": {
    "colab": {
     "base_uri": "https://localhost:8080/"
    },
    "id": "RKDsTKGUBFXF",
    "outputId": "fa1bb365-82bf-4c2d-eab7-1b086c7d9d8d"
   },
   "outputs": [
    {
     "data": {
      "text/plain": [
       "array(['boleto', 'credit_card', 'debit_card', 'voucher', nan],\n",
       "      dtype=object)"
      ]
     },
     "execution_count": 9,
     "metadata": {},
     "output_type": "execute_result"
    }
   ],
   "source": [
    "le = LabelEncoder()\n",
    "\n",
    "# encoder variables une à une\n",
    "le.fit(df_quali[['payment_type']])\n",
    "le.classes_"
   ]
  },
  {
   "cell_type": "code",
   "execution_count": null,
   "metadata": {
    "colab": {
     "base_uri": "https://localhost:8080/"
    },
    "id": "BPVXhHIGBFVB",
    "outputId": "761f7229-59f4-4c77-f7bb-85ff1e3c9911"
   },
   "outputs": [
    {
     "data": {
      "text/plain": [
       "{'boleto': 0, 'credit_card': 1, 'debit_card': 2, 'voucher': 3, nan: 4}"
      ]
     },
     "execution_count": 10,
     "metadata": {},
     "output_type": "execute_result"
    }
   ],
   "source": [
    "# Mapping des catégories\n",
    "dict(zip(le.classes_, le.transform(le.classes_)))"
   ]
  },
  {
   "cell_type": "code",
   "execution_count": null,
   "metadata": {
    "colab": {
     "base_uri": "https://localhost:8080/"
    },
    "id": "v0AIK6rbBFSa",
    "outputId": "62eced2b-b1af-47ef-aefe-ab994dd8f425"
   },
   "outputs": [
    {
     "data": {
      "text/plain": [
       "array([1, 1, 1, ..., 1, 1, 0])"
      ]
     },
     "execution_count": 11,
     "metadata": {},
     "output_type": "execute_result"
    }
   ],
   "source": [
    "arr_label_payment = le.transform(df_quali[['payment_type']])\n",
    "arr_label_payment"
   ]
  },
  {
   "cell_type": "code",
   "execution_count": null,
   "metadata": {
    "id": "5hKgIyGBBVe1"
   },
   "outputs": [],
   "source": [
    "# Recréer un dataframe avec les données encodées\n",
    "\n",
    "quali_payment = pd.DataFrame()\n",
    "quali_payment[ 'payment_type'] = arr_label_payment"
   ]
  },
  {
   "cell_type": "code",
   "execution_count": null,
   "metadata": {
    "colab": {
     "base_uri": "https://localhost:8080/"
    },
    "id": "Rh4geqjRBVcN",
    "outputId": "4f60778f-3cbb-4cac-8a76-8f8533b75eb6"
   },
   "outputs": [
    {
     "data": {
      "text/plain": [
       "array(['', 'Electronics and Technology', 'Fashion and Accessories',\n",
       "       'Furniture and Home Decor', 'Leisure and Miscellaneous'],\n",
       "      dtype=object)"
      ]
     },
     "execution_count": 13,
     "metadata": {},
     "output_type": "execute_result"
    }
   ],
   "source": [
    "le = LabelEncoder()\n",
    "\n",
    "# encoder variables une à une\n",
    "le.fit(df_quali[['product_category']])\n",
    "le.classes_"
   ]
  },
  {
   "cell_type": "code",
   "execution_count": null,
   "metadata": {
    "colab": {
     "base_uri": "https://localhost:8080/"
    },
    "id": "8Crl8cNmBVZ3",
    "outputId": "88646f25-b148-4e84-d0c3-c51fa7633a5a"
   },
   "outputs": [
    {
     "data": {
      "text/plain": [
       "{'': 0,\n",
       " 'Electronics and Technology': 1,\n",
       " 'Fashion and Accessories': 2,\n",
       " 'Furniture and Home Decor': 3,\n",
       " 'Leisure and Miscellaneous': 4}"
      ]
     },
     "execution_count": 14,
     "metadata": {},
     "output_type": "execute_result"
    }
   ],
   "source": [
    "# Mapping des catégories\n",
    "dict(zip(le.classes_, le.transform(le.classes_)))"
   ]
  },
  {
   "cell_type": "code",
   "execution_count": null,
   "metadata": {
    "colab": {
     "base_uri": "https://localhost:8080/"
    },
    "id": "x2ZI3tRCBVW_",
    "outputId": "c9df6305-38ba-4eee-8453-2481c98097b0"
   },
   "outputs": [
    {
     "data": {
      "text/plain": [
       "array([3, 3, 3, ..., 4, 1, 3])"
      ]
     },
     "execution_count": 15,
     "metadata": {},
     "output_type": "execute_result"
    }
   ],
   "source": [
    "arr_label_product = le.transform(df_quali[['product_category']])\n",
    "arr_label_product"
   ]
  },
  {
   "cell_type": "code",
   "execution_count": null,
   "metadata": {
    "id": "mQoznA3TBsEH"
   },
   "outputs": [],
   "source": [
    "# Recréer un dataframe avec les données encodées\n",
    "\n",
    "quali_product = pd.DataFrame()\n",
    "quali_product['product_category'] = arr_label_product"
   ]
  },
  {
   "cell_type": "code",
   "execution_count": null,
   "metadata": {
    "id": "DkJZB1JBBFPx"
   },
   "outputs": [],
   "source": []
  },
  {
   "cell_type": "code",
   "execution_count": null,
   "metadata": {
    "id": "YZJLesstBFNe"
   },
   "outputs": [],
   "source": []
  },
  {
   "cell_type": "code",
   "execution_count": null,
   "metadata": {
    "id": "6Z_uKlPhn2zP"
   },
   "outputs": [],
   "source": [
    "\"\"\"\n",
    "# Encoding\n",
    "\n",
    "df_quali_reduit = df_reduit.select_dtypes(include = 'object')\n",
    "df_quali_reduit.info()\n",
    "\n",
    "\n",
    "########## ONE HOT ENCODER ##########\n",
    "from sklearn.preprocessing import OneHotEncoder\n",
    "# Visualiser df simplifié\n",
    "print(\"----------------------------------------------------\")\n",
    "print('df simplifié')\n",
    "print(\"----------------------------------------------------\")\n",
    "display(df_quali_reduit.head())\n",
    "\n",
    "# OneHotEncoder\n",
    "enc = OneHotEncoder(categories = 'auto')\n",
    "\n",
    "for col in df_quali_reduit.columns:\n",
    "  # Convertir type des colonnes en categories\n",
    "  df_quali_reduit[col] = df_quali_reduit[col].astype('category')\n",
    "\n",
    "  # Leur assigner des valeurs numériques et créer nouvelles colonnes\n",
    "  df_quali_reduit[col] = df_quali_reduit[col].cat.codes\n",
    "\n",
    "# Appliquer l'encoding\n",
    "feature_arr_reduit = enc.fit_transform(df_quali_reduit).toarray()\n",
    "\n",
    "feature_labels_reduit = enc.get_feature_names_out(df_quali_reduit.columns)\n",
    "\n",
    "# Recréer un dataframe avec les données encodées\n",
    "features_reduit = pd.DataFrame(feature_arr_reduit, columns = feature_labels_reduit)\n",
    "print(\"----------------------------------------------------\")\n",
    "print('df encodé')\n",
    "print(\"----------------------------------------------------\")\n",
    "display(features_reduit.head())\"\"\""
   ]
  },
  {
   "cell_type": "code",
   "execution_count": null,
   "metadata": {
    "colab": {
     "base_uri": "https://localhost:8080/",
     "height": 226
    },
    "id": "mlo0HHPxoCbi",
    "outputId": "ab6f8cd4-088d-4e83-f8a5-4826d8dc87bc"
   },
   "outputs": [
    {
     "data": {
      "text/html": [
       "\n",
       "  <div id=\"df-934716a5-af03-4dcc-afc7-7cf4922150b8\" class=\"colab-df-container\">\n",
       "    <div>\n",
       "<style scoped>\n",
       "    .dataframe tbody tr th:only-of-type {\n",
       "        vertical-align: middle;\n",
       "    }\n",
       "\n",
       "    .dataframe tbody tr th {\n",
       "        vertical-align: top;\n",
       "    }\n",
       "\n",
       "    .dataframe thead th {\n",
       "        text-align: right;\n",
       "    }\n",
       "</style>\n",
       "<table border=\"1\" class=\"dataframe\">\n",
       "  <thead>\n",
       "    <tr style=\"text-align: right;\">\n",
       "      <th></th>\n",
       "      <th>index</th>\n",
       "      <th>product_category</th>\n",
       "      <th>index</th>\n",
       "      <th>payment_type</th>\n",
       "      <th>index</th>\n",
       "      <th>payment_value</th>\n",
       "      <th>full_written_review</th>\n",
       "      <th>order_time</th>\n",
       "      <th>shipping_limit_respect</th>\n",
       "      <th>purchase_dayofweek</th>\n",
       "      <th>purchase_hour</th>\n",
       "      <th>purchase_day</th>\n",
       "    </tr>\n",
       "  </thead>\n",
       "  <tbody>\n",
       "    <tr>\n",
       "      <th>0</th>\n",
       "      <td>0</td>\n",
       "      <td>3</td>\n",
       "      <td>0</td>\n",
       "      <td>1</td>\n",
       "      <td>0</td>\n",
       "      <td>146.87</td>\n",
       "      <td>0.0</td>\n",
       "      <td>8.81250</td>\n",
       "      <td>-0.80955</td>\n",
       "      <td>1.0</td>\n",
       "      <td>15.0</td>\n",
       "      <td>16.0</td>\n",
       "    </tr>\n",
       "    <tr>\n",
       "      <th>1</th>\n",
       "      <td>1</td>\n",
       "      <td>3</td>\n",
       "      <td>1</td>\n",
       "      <td>1</td>\n",
       "      <td>1</td>\n",
       "      <td>335.48</td>\n",
       "      <td>0.0</td>\n",
       "      <td>16.66175</td>\n",
       "      <td>3.15524</td>\n",
       "      <td>4.0</td>\n",
       "      <td>20.0</td>\n",
       "      <td>12.0</td>\n",
       "    </tr>\n",
       "    <tr>\n",
       "      <th>2</th>\n",
       "      <td>2</td>\n",
       "      <td>3</td>\n",
       "      <td>2</td>\n",
       "      <td>1</td>\n",
       "      <td>2</td>\n",
       "      <td>157.73</td>\n",
       "      <td>0.0</td>\n",
       "      <td>26.07715</td>\n",
       "      <td>-5.92488</td>\n",
       "      <td>5.0</td>\n",
       "      <td>16.0</td>\n",
       "      <td>19.0</td>\n",
       "    </tr>\n",
       "    <tr>\n",
       "      <th>3</th>\n",
       "      <td>3</td>\n",
       "      <td>3</td>\n",
       "      <td>3</td>\n",
       "      <td>1</td>\n",
       "      <td>3</td>\n",
       "      <td>173.30</td>\n",
       "      <td>0.0</td>\n",
       "      <td>14.99846</td>\n",
       "      <td>-0.28572</td>\n",
       "      <td>1.0</td>\n",
       "      <td>16.0</td>\n",
       "      <td>13.0</td>\n",
       "    </tr>\n",
       "    <tr>\n",
       "      <th>4</th>\n",
       "      <td>4</td>\n",
       "      <td>0</td>\n",
       "      <td>4</td>\n",
       "      <td>1</td>\n",
       "      <td>4</td>\n",
       "      <td>252.25</td>\n",
       "      <td>1.0</td>\n",
       "      <td>11.46132</td>\n",
       "      <td>0.78760</td>\n",
       "      <td>6.0</td>\n",
       "      <td>9.0</td>\n",
       "      <td>29.0</td>\n",
       "    </tr>\n",
       "  </tbody>\n",
       "</table>\n",
       "</div>\n",
       "    <div class=\"colab-df-buttons\">\n",
       "\n",
       "  <div class=\"colab-df-container\">\n",
       "    <button class=\"colab-df-convert\" onclick=\"convertToInteractive('df-934716a5-af03-4dcc-afc7-7cf4922150b8')\"\n",
       "            title=\"Convert this dataframe to an interactive table.\"\n",
       "            style=\"display:none;\">\n",
       "\n",
       "  <svg xmlns=\"http://www.w3.org/2000/svg\" height=\"24px\" viewBox=\"0 -960 960 960\">\n",
       "    <path d=\"M120-120v-720h720v720H120Zm60-500h600v-160H180v160Zm220 220h160v-160H400v160Zm0 220h160v-160H400v160ZM180-400h160v-160H180v160Zm440 0h160v-160H620v160ZM180-180h160v-160H180v160Zm440 0h160v-160H620v160Z\"/>\n",
       "  </svg>\n",
       "    </button>\n",
       "\n",
       "  <style>\n",
       "    .colab-df-container {\n",
       "      display:flex;\n",
       "      gap: 12px;\n",
       "    }\n",
       "\n",
       "    .colab-df-convert {\n",
       "      background-color: #E8F0FE;\n",
       "      border: none;\n",
       "      border-radius: 50%;\n",
       "      cursor: pointer;\n",
       "      display: none;\n",
       "      fill: #1967D2;\n",
       "      height: 32px;\n",
       "      padding: 0 0 0 0;\n",
       "      width: 32px;\n",
       "    }\n",
       "\n",
       "    .colab-df-convert:hover {\n",
       "      background-color: #E2EBFA;\n",
       "      box-shadow: 0px 1px 2px rgba(60, 64, 67, 0.3), 0px 1px 3px 1px rgba(60, 64, 67, 0.15);\n",
       "      fill: #174EA6;\n",
       "    }\n",
       "\n",
       "    .colab-df-buttons div {\n",
       "      margin-bottom: 4px;\n",
       "    }\n",
       "\n",
       "    [theme=dark] .colab-df-convert {\n",
       "      background-color: #3B4455;\n",
       "      fill: #D2E3FC;\n",
       "    }\n",
       "\n",
       "    [theme=dark] .colab-df-convert:hover {\n",
       "      background-color: #434B5C;\n",
       "      box-shadow: 0px 1px 3px 1px rgba(0, 0, 0, 0.15);\n",
       "      filter: drop-shadow(0px 1px 2px rgba(0, 0, 0, 0.3));\n",
       "      fill: #FFFFFF;\n",
       "    }\n",
       "  </style>\n",
       "\n",
       "    <script>\n",
       "      const buttonEl =\n",
       "        document.querySelector('#df-934716a5-af03-4dcc-afc7-7cf4922150b8 button.colab-df-convert');\n",
       "      buttonEl.style.display =\n",
       "        google.colab.kernel.accessAllowed ? 'block' : 'none';\n",
       "\n",
       "      async function convertToInteractive(key) {\n",
       "        const element = document.querySelector('#df-934716a5-af03-4dcc-afc7-7cf4922150b8');\n",
       "        const dataTable =\n",
       "          await google.colab.kernel.invokeFunction('convertToInteractive',\n",
       "                                                    [key], {});\n",
       "        if (!dataTable) return;\n",
       "\n",
       "        const docLinkHtml = 'Like what you see? Visit the ' +\n",
       "          '<a target=\"_blank\" href=https://colab.research.google.com/notebooks/data_table.ipynb>data table notebook</a>'\n",
       "          + ' to learn more about interactive tables.';\n",
       "        element.innerHTML = '';\n",
       "        dataTable['output_type'] = 'display_data';\n",
       "        await google.colab.output.renderOutput(dataTable, element);\n",
       "        const docLink = document.createElement('div');\n",
       "        docLink.innerHTML = docLinkHtml;\n",
       "        element.appendChild(docLink);\n",
       "      }\n",
       "    </script>\n",
       "  </div>\n",
       "\n",
       "\n",
       "<div id=\"df-b60f3f66-7502-4604-a972-1522bfa21975\">\n",
       "  <button class=\"colab-df-quickchart\" onclick=\"quickchart('df-b60f3f66-7502-4604-a972-1522bfa21975')\"\n",
       "            title=\"Suggest charts.\"\n",
       "            style=\"display:none;\">\n",
       "\n",
       "<svg xmlns=\"http://www.w3.org/2000/svg\" height=\"24px\"viewBox=\"0 0 24 24\"\n",
       "     width=\"24px\">\n",
       "    <g>\n",
       "        <path d=\"M19 3H5c-1.1 0-2 .9-2 2v14c0 1.1.9 2 2 2h14c1.1 0 2-.9 2-2V5c0-1.1-.9-2-2-2zM9 17H7v-7h2v7zm4 0h-2V7h2v10zm4 0h-2v-4h2v4z\"/>\n",
       "    </g>\n",
       "</svg>\n",
       "  </button>\n",
       "\n",
       "<style>\n",
       "  .colab-df-quickchart {\n",
       "      --bg-color: #E8F0FE;\n",
       "      --fill-color: #1967D2;\n",
       "      --hover-bg-color: #E2EBFA;\n",
       "      --hover-fill-color: #174EA6;\n",
       "      --disabled-fill-color: #AAA;\n",
       "      --disabled-bg-color: #DDD;\n",
       "  }\n",
       "\n",
       "  [theme=dark] .colab-df-quickchart {\n",
       "      --bg-color: #3B4455;\n",
       "      --fill-color: #D2E3FC;\n",
       "      --hover-bg-color: #434B5C;\n",
       "      --hover-fill-color: #FFFFFF;\n",
       "      --disabled-bg-color: #3B4455;\n",
       "      --disabled-fill-color: #666;\n",
       "  }\n",
       "\n",
       "  .colab-df-quickchart {\n",
       "    background-color: var(--bg-color);\n",
       "    border: none;\n",
       "    border-radius: 50%;\n",
       "    cursor: pointer;\n",
       "    display: none;\n",
       "    fill: var(--fill-color);\n",
       "    height: 32px;\n",
       "    padding: 0;\n",
       "    width: 32px;\n",
       "  }\n",
       "\n",
       "  .colab-df-quickchart:hover {\n",
       "    background-color: var(--hover-bg-color);\n",
       "    box-shadow: 0 1px 2px rgba(60, 64, 67, 0.3), 0 1px 3px 1px rgba(60, 64, 67, 0.15);\n",
       "    fill: var(--button-hover-fill-color);\n",
       "  }\n",
       "\n",
       "  .colab-df-quickchart-complete:disabled,\n",
       "  .colab-df-quickchart-complete:disabled:hover {\n",
       "    background-color: var(--disabled-bg-color);\n",
       "    fill: var(--disabled-fill-color);\n",
       "    box-shadow: none;\n",
       "  }\n",
       "\n",
       "  .colab-df-spinner {\n",
       "    border: 2px solid var(--fill-color);\n",
       "    border-color: transparent;\n",
       "    border-bottom-color: var(--fill-color);\n",
       "    animation:\n",
       "      spin 1s steps(1) infinite;\n",
       "  }\n",
       "\n",
       "  @keyframes spin {\n",
       "    0% {\n",
       "      border-color: transparent;\n",
       "      border-bottom-color: var(--fill-color);\n",
       "      border-left-color: var(--fill-color);\n",
       "    }\n",
       "    20% {\n",
       "      border-color: transparent;\n",
       "      border-left-color: var(--fill-color);\n",
       "      border-top-color: var(--fill-color);\n",
       "    }\n",
       "    30% {\n",
       "      border-color: transparent;\n",
       "      border-left-color: var(--fill-color);\n",
       "      border-top-color: var(--fill-color);\n",
       "      border-right-color: var(--fill-color);\n",
       "    }\n",
       "    40% {\n",
       "      border-color: transparent;\n",
       "      border-right-color: var(--fill-color);\n",
       "      border-top-color: var(--fill-color);\n",
       "    }\n",
       "    60% {\n",
       "      border-color: transparent;\n",
       "      border-right-color: var(--fill-color);\n",
       "    }\n",
       "    80% {\n",
       "      border-color: transparent;\n",
       "      border-right-color: var(--fill-color);\n",
       "      border-bottom-color: var(--fill-color);\n",
       "    }\n",
       "    90% {\n",
       "      border-color: transparent;\n",
       "      border-bottom-color: var(--fill-color);\n",
       "    }\n",
       "  }\n",
       "</style>\n",
       "\n",
       "  <script>\n",
       "    async function quickchart(key) {\n",
       "      const quickchartButtonEl =\n",
       "        document.querySelector('#' + key + ' button');\n",
       "      quickchartButtonEl.disabled = true;  // To prevent multiple clicks.\n",
       "      quickchartButtonEl.classList.add('colab-df-spinner');\n",
       "      try {\n",
       "        const charts = await google.colab.kernel.invokeFunction(\n",
       "            'suggestCharts', [key], {});\n",
       "      } catch (error) {\n",
       "        console.error('Error during call to suggestCharts:', error);\n",
       "      }\n",
       "      quickchartButtonEl.classList.remove('colab-df-spinner');\n",
       "      quickchartButtonEl.classList.add('colab-df-quickchart-complete');\n",
       "    }\n",
       "    (() => {\n",
       "      let quickchartButtonEl =\n",
       "        document.querySelector('#df-b60f3f66-7502-4604-a972-1522bfa21975 button');\n",
       "      quickchartButtonEl.style.display =\n",
       "        google.colab.kernel.accessAllowed ? 'block' : 'none';\n",
       "    })();\n",
       "  </script>\n",
       "</div>\n",
       "    </div>\n",
       "  </div>\n"
      ],
      "text/plain": [
       "   index  product_category  index  payment_type  index  payment_value  \\\n",
       "0      0                 3      0             1      0         146.87   \n",
       "1      1                 3      1             1      1         335.48   \n",
       "2      2                 3      2             1      2         157.73   \n",
       "3      3                 3      3             1      3         173.30   \n",
       "4      4                 0      4             1      4         252.25   \n",
       "\n",
       "   full_written_review  order_time  shipping_limit_respect  \\\n",
       "0                  0.0     8.81250                -0.80955   \n",
       "1                  0.0    16.66175                 3.15524   \n",
       "2                  0.0    26.07715                -5.92488   \n",
       "3                  0.0    14.99846                -0.28572   \n",
       "4                  1.0    11.46132                 0.78760   \n",
       "\n",
       "   purchase_dayofweek  purchase_hour  purchase_day  \n",
       "0                 1.0           15.0          16.0  \n",
       "1                 4.0           20.0          12.0  \n",
       "2                 5.0           16.0          19.0  \n",
       "3                 1.0           16.0          13.0  \n",
       "4                 6.0            9.0          29.0  "
      ]
     },
     "execution_count": 17,
     "metadata": {},
     "output_type": "execute_result"
    }
   ],
   "source": [
    "########## CONCATENATION ##########\n",
    "# concatener données qualitatives et quantitatives transformées\n",
    "\n",
    "quali_product = quali_product.reset_index()\n",
    "quali_payment = quali_payment.reset_index()\n",
    "\n",
    "#features = features.reset_index()\n",
    "df_quanti = df_reduit.select_dtypes(include = ['int', 'float'])\n",
    "df_quanti = df_quanti.reset_index()\n",
    "\n",
    "df = pd.concat([quali_product, quali_payment, df_quanti], axis = 1)\n",
    "df.head()"
   ]
  },
  {
   "cell_type": "code",
   "execution_count": null,
   "metadata": {
    "id": "teAxjW7EzNRw"
   },
   "outputs": [],
   "source": [
    "# ATTENTION -> DROP INDEX\n",
    "df.drop(['index'], axis = 1, inplace = True)"
   ]
  },
  {
   "cell_type": "code",
   "execution_count": null,
   "metadata": {
    "colab": {
     "base_uri": "https://localhost:8080/"
    },
    "id": "XSOq9YVMSRxQ",
    "outputId": "6e38a6d0-2870-48cb-d053-64ba6756c479"
   },
   "outputs": [
    {
     "data": {
      "text/plain": [
       "product_category          0\n",
       "payment_type              0\n",
       "payment_value             0\n",
       "full_written_review       0\n",
       "order_time                0\n",
       "shipping_limit_respect    0\n",
       "purchase_dayofweek        0\n",
       "purchase_hour             0\n",
       "purchase_day              0\n",
       "dtype: int64"
      ]
     },
     "execution_count": 20,
     "metadata": {},
     "output_type": "execute_result"
    }
   ],
   "source": [
    "df.isna().sum()"
   ]
  },
  {
   "cell_type": "code",
   "execution_count": null,
   "metadata": {
    "id": "n_mW5uRfoC2d"
   },
   "outputs": [],
   "source": [
    "# vérifier nan\n",
    "\n",
    "df.dropna(inplace = True)"
   ]
  },
  {
   "cell_type": "code",
   "execution_count": null,
   "metadata": {
    "id": "uBkuE1YEnnlE"
   },
   "outputs": [],
   "source": [
    "# standardisation - A DEPLACER AVANT ENCODING ?\n",
    "\n",
    "scaler = StandardScaler()\n",
    "df_std_reduit = scaler.fit_transform(df) # attendre un peu\n",
    "df_std_reduit = pd.DataFrame(data = df_std_reduit, columns = df.columns)"
   ]
  },
  {
   "cell_type": "code",
   "execution_count": null,
   "metadata": {
    "colab": {
     "base_uri": "https://localhost:8080/",
     "height": 444
    },
    "id": "oivKmPdvQDe7",
    "outputId": "0dfa1ea8-cb49-4fc6-c651-92a9e35fbdfd"
   },
   "outputs": [
    {
     "data": {
      "text/html": [
       "\n",
       "  <div id=\"df-3affe270-559b-44cd-8a2a-4dc44b3f0ba4\" class=\"colab-df-container\">\n",
       "    <div>\n",
       "<style scoped>\n",
       "    .dataframe tbody tr th:only-of-type {\n",
       "        vertical-align: middle;\n",
       "    }\n",
       "\n",
       "    .dataframe tbody tr th {\n",
       "        vertical-align: top;\n",
       "    }\n",
       "\n",
       "    .dataframe thead th {\n",
       "        text-align: right;\n",
       "    }\n",
       "</style>\n",
       "<table border=\"1\" class=\"dataframe\">\n",
       "  <thead>\n",
       "    <tr style=\"text-align: right;\">\n",
       "      <th></th>\n",
       "      <th>product_category</th>\n",
       "      <th>payment_type</th>\n",
       "      <th>payment_value</th>\n",
       "      <th>full_written_review</th>\n",
       "      <th>order_time</th>\n",
       "      <th>shipping_limit_respect</th>\n",
       "      <th>purchase_dayofweek</th>\n",
       "      <th>purchase_hour</th>\n",
       "      <th>purchase_day</th>\n",
       "    </tr>\n",
       "  </thead>\n",
       "  <tbody>\n",
       "    <tr>\n",
       "      <th>0</th>\n",
       "      <td>-0.13984</td>\n",
       "      <td>0.1137</td>\n",
       "      <td>-0.09498</td>\n",
       "      <td>-0.84907</td>\n",
       "      <td>-0.39232</td>\n",
       "      <td>-0.63577</td>\n",
       "      <td>-0.89104</td>\n",
       "      <td>0.04499</td>\n",
       "      <td>0.05171</td>\n",
       "    </tr>\n",
       "    <tr>\n",
       "      <th>1</th>\n",
       "      <td>-0.13984</td>\n",
       "      <td>0.1137</td>\n",
       "      <td>0.61434</td>\n",
       "      <td>-0.84907</td>\n",
       "      <td>0.44313</td>\n",
       "      <td>-0.02643</td>\n",
       "      <td>0.63880</td>\n",
       "      <td>0.98383</td>\n",
       "      <td>-0.41016</td>\n",
       "    </tr>\n",
       "    <tr>\n",
       "      <th>2</th>\n",
       "      <td>-0.13984</td>\n",
       "      <td>0.1137</td>\n",
       "      <td>-0.05414</td>\n",
       "      <td>-0.84907</td>\n",
       "      <td>1.44528</td>\n",
       "      <td>-1.42192</td>\n",
       "      <td>1.14875</td>\n",
       "      <td>0.23275</td>\n",
       "      <td>0.39812</td>\n",
       "    </tr>\n",
       "    <tr>\n",
       "      <th>3</th>\n",
       "      <td>-0.13984</td>\n",
       "      <td>0.1137</td>\n",
       "      <td>0.00442</td>\n",
       "      <td>-0.84907</td>\n",
       "      <td>0.26609</td>\n",
       "      <td>-0.55526</td>\n",
       "      <td>-0.89104</td>\n",
       "      <td>0.23275</td>\n",
       "      <td>-0.29469</td>\n",
       "    </tr>\n",
       "    <tr>\n",
       "      <th>4</th>\n",
       "      <td>-2.65931</td>\n",
       "      <td>0.1137</td>\n",
       "      <td>0.30133</td>\n",
       "      <td>1.17776</td>\n",
       "      <td>-0.11039</td>\n",
       "      <td>-0.39031</td>\n",
       "      <td>1.65870</td>\n",
       "      <td>-1.08163</td>\n",
       "      <td>1.55280</td>\n",
       "    </tr>\n",
       "    <tr>\n",
       "      <th>...</th>\n",
       "      <td>...</td>\n",
       "      <td>...</td>\n",
       "      <td>...</td>\n",
       "      <td>...</td>\n",
       "      <td>...</td>\n",
       "      <td>...</td>\n",
       "      <td>...</td>\n",
       "      <td>...</td>\n",
       "      <td>...</td>\n",
       "    </tr>\n",
       "    <tr>\n",
       "      <th>116462</th>\n",
       "      <td>0.69998</td>\n",
       "      <td>-1.4338</td>\n",
       "      <td>-0.31344</td>\n",
       "      <td>-0.84907</td>\n",
       "      <td>-0.67258</td>\n",
       "      <td>-0.26800</td>\n",
       "      <td>1.14875</td>\n",
       "      <td>0.04499</td>\n",
       "      <td>-0.98750</td>\n",
       "    </tr>\n",
       "    <tr>\n",
       "      <th>116463</th>\n",
       "      <td>0.69998</td>\n",
       "      <td>0.1137</td>\n",
       "      <td>-0.16196</td>\n",
       "      <td>-0.84907</td>\n",
       "      <td>-0.53835</td>\n",
       "      <td>0.19226</td>\n",
       "      <td>-0.38109</td>\n",
       "      <td>-1.26940</td>\n",
       "      <td>-1.33390</td>\n",
       "    </tr>\n",
       "    <tr>\n",
       "      <th>116464</th>\n",
       "      <td>0.69998</td>\n",
       "      <td>0.1137</td>\n",
       "      <td>-0.43657</td>\n",
       "      <td>1.17776</td>\n",
       "      <td>1.96418</td>\n",
       "      <td>-0.03346</td>\n",
       "      <td>1.65870</td>\n",
       "      <td>0.98383</td>\n",
       "      <td>-0.87203</td>\n",
       "    </tr>\n",
       "    <tr>\n",
       "      <th>116465</th>\n",
       "      <td>-1.81949</td>\n",
       "      <td>0.1137</td>\n",
       "      <td>2.02685</td>\n",
       "      <td>-0.84907</td>\n",
       "      <td>0.04822</td>\n",
       "      <td>-0.03203</td>\n",
       "      <td>0.63880</td>\n",
       "      <td>1.17160</td>\n",
       "      <td>-1.44937</td>\n",
       "    </tr>\n",
       "    <tr>\n",
       "      <th>116466</th>\n",
       "      <td>-0.13984</td>\n",
       "      <td>-1.4338</td>\n",
       "      <td>-0.56545</td>\n",
       "      <td>1.17776</td>\n",
       "      <td>-0.56638</td>\n",
       "      <td>0.25423</td>\n",
       "      <td>-0.89104</td>\n",
       "      <td>-0.14278</td>\n",
       "      <td>0.39812</td>\n",
       "    </tr>\n",
       "  </tbody>\n",
       "</table>\n",
       "<p>116467 rows × 9 columns</p>\n",
       "</div>\n",
       "    <div class=\"colab-df-buttons\">\n",
       "\n",
       "  <div class=\"colab-df-container\">\n",
       "    <button class=\"colab-df-convert\" onclick=\"convertToInteractive('df-3affe270-559b-44cd-8a2a-4dc44b3f0ba4')\"\n",
       "            title=\"Convert this dataframe to an interactive table.\"\n",
       "            style=\"display:none;\">\n",
       "\n",
       "  <svg xmlns=\"http://www.w3.org/2000/svg\" height=\"24px\" viewBox=\"0 -960 960 960\">\n",
       "    <path d=\"M120-120v-720h720v720H120Zm60-500h600v-160H180v160Zm220 220h160v-160H400v160Zm0 220h160v-160H400v160ZM180-400h160v-160H180v160Zm440 0h160v-160H620v160ZM180-180h160v-160H180v160Zm440 0h160v-160H620v160Z\"/>\n",
       "  </svg>\n",
       "    </button>\n",
       "\n",
       "  <style>\n",
       "    .colab-df-container {\n",
       "      display:flex;\n",
       "      gap: 12px;\n",
       "    }\n",
       "\n",
       "    .colab-df-convert {\n",
       "      background-color: #E8F0FE;\n",
       "      border: none;\n",
       "      border-radius: 50%;\n",
       "      cursor: pointer;\n",
       "      display: none;\n",
       "      fill: #1967D2;\n",
       "      height: 32px;\n",
       "      padding: 0 0 0 0;\n",
       "      width: 32px;\n",
       "    }\n",
       "\n",
       "    .colab-df-convert:hover {\n",
       "      background-color: #E2EBFA;\n",
       "      box-shadow: 0px 1px 2px rgba(60, 64, 67, 0.3), 0px 1px 3px 1px rgba(60, 64, 67, 0.15);\n",
       "      fill: #174EA6;\n",
       "    }\n",
       "\n",
       "    .colab-df-buttons div {\n",
       "      margin-bottom: 4px;\n",
       "    }\n",
       "\n",
       "    [theme=dark] .colab-df-convert {\n",
       "      background-color: #3B4455;\n",
       "      fill: #D2E3FC;\n",
       "    }\n",
       "\n",
       "    [theme=dark] .colab-df-convert:hover {\n",
       "      background-color: #434B5C;\n",
       "      box-shadow: 0px 1px 3px 1px rgba(0, 0, 0, 0.15);\n",
       "      filter: drop-shadow(0px 1px 2px rgba(0, 0, 0, 0.3));\n",
       "      fill: #FFFFFF;\n",
       "    }\n",
       "  </style>\n",
       "\n",
       "    <script>\n",
       "      const buttonEl =\n",
       "        document.querySelector('#df-3affe270-559b-44cd-8a2a-4dc44b3f0ba4 button.colab-df-convert');\n",
       "      buttonEl.style.display =\n",
       "        google.colab.kernel.accessAllowed ? 'block' : 'none';\n",
       "\n",
       "      async function convertToInteractive(key) {\n",
       "        const element = document.querySelector('#df-3affe270-559b-44cd-8a2a-4dc44b3f0ba4');\n",
       "        const dataTable =\n",
       "          await google.colab.kernel.invokeFunction('convertToInteractive',\n",
       "                                                    [key], {});\n",
       "        if (!dataTable) return;\n",
       "\n",
       "        const docLinkHtml = 'Like what you see? Visit the ' +\n",
       "          '<a target=\"_blank\" href=https://colab.research.google.com/notebooks/data_table.ipynb>data table notebook</a>'\n",
       "          + ' to learn more about interactive tables.';\n",
       "        element.innerHTML = '';\n",
       "        dataTable['output_type'] = 'display_data';\n",
       "        await google.colab.output.renderOutput(dataTable, element);\n",
       "        const docLink = document.createElement('div');\n",
       "        docLink.innerHTML = docLinkHtml;\n",
       "        element.appendChild(docLink);\n",
       "      }\n",
       "    </script>\n",
       "  </div>\n",
       "\n",
       "\n",
       "<div id=\"df-0e45e75b-7112-46a3-b55c-c41d6bca2e5c\">\n",
       "  <button class=\"colab-df-quickchart\" onclick=\"quickchart('df-0e45e75b-7112-46a3-b55c-c41d6bca2e5c')\"\n",
       "            title=\"Suggest charts.\"\n",
       "            style=\"display:none;\">\n",
       "\n",
       "<svg xmlns=\"http://www.w3.org/2000/svg\" height=\"24px\"viewBox=\"0 0 24 24\"\n",
       "     width=\"24px\">\n",
       "    <g>\n",
       "        <path d=\"M19 3H5c-1.1 0-2 .9-2 2v14c0 1.1.9 2 2 2h14c1.1 0 2-.9 2-2V5c0-1.1-.9-2-2-2zM9 17H7v-7h2v7zm4 0h-2V7h2v10zm4 0h-2v-4h2v4z\"/>\n",
       "    </g>\n",
       "</svg>\n",
       "  </button>\n",
       "\n",
       "<style>\n",
       "  .colab-df-quickchart {\n",
       "      --bg-color: #E8F0FE;\n",
       "      --fill-color: #1967D2;\n",
       "      --hover-bg-color: #E2EBFA;\n",
       "      --hover-fill-color: #174EA6;\n",
       "      --disabled-fill-color: #AAA;\n",
       "      --disabled-bg-color: #DDD;\n",
       "  }\n",
       "\n",
       "  [theme=dark] .colab-df-quickchart {\n",
       "      --bg-color: #3B4455;\n",
       "      --fill-color: #D2E3FC;\n",
       "      --hover-bg-color: #434B5C;\n",
       "      --hover-fill-color: #FFFFFF;\n",
       "      --disabled-bg-color: #3B4455;\n",
       "      --disabled-fill-color: #666;\n",
       "  }\n",
       "\n",
       "  .colab-df-quickchart {\n",
       "    background-color: var(--bg-color);\n",
       "    border: none;\n",
       "    border-radius: 50%;\n",
       "    cursor: pointer;\n",
       "    display: none;\n",
       "    fill: var(--fill-color);\n",
       "    height: 32px;\n",
       "    padding: 0;\n",
       "    width: 32px;\n",
       "  }\n",
       "\n",
       "  .colab-df-quickchart:hover {\n",
       "    background-color: var(--hover-bg-color);\n",
       "    box-shadow: 0 1px 2px rgba(60, 64, 67, 0.3), 0 1px 3px 1px rgba(60, 64, 67, 0.15);\n",
       "    fill: var(--button-hover-fill-color);\n",
       "  }\n",
       "\n",
       "  .colab-df-quickchart-complete:disabled,\n",
       "  .colab-df-quickchart-complete:disabled:hover {\n",
       "    background-color: var(--disabled-bg-color);\n",
       "    fill: var(--disabled-fill-color);\n",
       "    box-shadow: none;\n",
       "  }\n",
       "\n",
       "  .colab-df-spinner {\n",
       "    border: 2px solid var(--fill-color);\n",
       "    border-color: transparent;\n",
       "    border-bottom-color: var(--fill-color);\n",
       "    animation:\n",
       "      spin 1s steps(1) infinite;\n",
       "  }\n",
       "\n",
       "  @keyframes spin {\n",
       "    0% {\n",
       "      border-color: transparent;\n",
       "      border-bottom-color: var(--fill-color);\n",
       "      border-left-color: var(--fill-color);\n",
       "    }\n",
       "    20% {\n",
       "      border-color: transparent;\n",
       "      border-left-color: var(--fill-color);\n",
       "      border-top-color: var(--fill-color);\n",
       "    }\n",
       "    30% {\n",
       "      border-color: transparent;\n",
       "      border-left-color: var(--fill-color);\n",
       "      border-top-color: var(--fill-color);\n",
       "      border-right-color: var(--fill-color);\n",
       "    }\n",
       "    40% {\n",
       "      border-color: transparent;\n",
       "      border-right-color: var(--fill-color);\n",
       "      border-top-color: var(--fill-color);\n",
       "    }\n",
       "    60% {\n",
       "      border-color: transparent;\n",
       "      border-right-color: var(--fill-color);\n",
       "    }\n",
       "    80% {\n",
       "      border-color: transparent;\n",
       "      border-right-color: var(--fill-color);\n",
       "      border-bottom-color: var(--fill-color);\n",
       "    }\n",
       "    90% {\n",
       "      border-color: transparent;\n",
       "      border-bottom-color: var(--fill-color);\n",
       "    }\n",
       "  }\n",
       "</style>\n",
       "\n",
       "  <script>\n",
       "    async function quickchart(key) {\n",
       "      const quickchartButtonEl =\n",
       "        document.querySelector('#' + key + ' button');\n",
       "      quickchartButtonEl.disabled = true;  // To prevent multiple clicks.\n",
       "      quickchartButtonEl.classList.add('colab-df-spinner');\n",
       "      try {\n",
       "        const charts = await google.colab.kernel.invokeFunction(\n",
       "            'suggestCharts', [key], {});\n",
       "      } catch (error) {\n",
       "        console.error('Error during call to suggestCharts:', error);\n",
       "      }\n",
       "      quickchartButtonEl.classList.remove('colab-df-spinner');\n",
       "      quickchartButtonEl.classList.add('colab-df-quickchart-complete');\n",
       "    }\n",
       "    (() => {\n",
       "      let quickchartButtonEl =\n",
       "        document.querySelector('#df-0e45e75b-7112-46a3-b55c-c41d6bca2e5c button');\n",
       "      quickchartButtonEl.style.display =\n",
       "        google.colab.kernel.accessAllowed ? 'block' : 'none';\n",
       "    })();\n",
       "  </script>\n",
       "</div>\n",
       "    </div>\n",
       "  </div>\n"
      ],
      "text/plain": [
       "        product_category  payment_type  payment_value  full_written_review  \\\n",
       "0               -0.13984        0.1137       -0.09498             -0.84907   \n",
       "1               -0.13984        0.1137        0.61434             -0.84907   \n",
       "2               -0.13984        0.1137       -0.05414             -0.84907   \n",
       "3               -0.13984        0.1137        0.00442             -0.84907   \n",
       "4               -2.65931        0.1137        0.30133              1.17776   \n",
       "...                  ...           ...            ...                  ...   \n",
       "116462           0.69998       -1.4338       -0.31344             -0.84907   \n",
       "116463           0.69998        0.1137       -0.16196             -0.84907   \n",
       "116464           0.69998        0.1137       -0.43657              1.17776   \n",
       "116465          -1.81949        0.1137        2.02685             -0.84907   \n",
       "116466          -0.13984       -1.4338       -0.56545              1.17776   \n",
       "\n",
       "        order_time  shipping_limit_respect  purchase_dayofweek  purchase_hour  \\\n",
       "0         -0.39232                -0.63577            -0.89104        0.04499   \n",
       "1          0.44313                -0.02643             0.63880        0.98383   \n",
       "2          1.44528                -1.42192             1.14875        0.23275   \n",
       "3          0.26609                -0.55526            -0.89104        0.23275   \n",
       "4         -0.11039                -0.39031             1.65870       -1.08163   \n",
       "...            ...                     ...                 ...            ...   \n",
       "116462    -0.67258                -0.26800             1.14875        0.04499   \n",
       "116463    -0.53835                 0.19226            -0.38109       -1.26940   \n",
       "116464     1.96418                -0.03346             1.65870        0.98383   \n",
       "116465     0.04822                -0.03203             0.63880        1.17160   \n",
       "116466    -0.56638                 0.25423            -0.89104       -0.14278   \n",
       "\n",
       "        purchase_day  \n",
       "0            0.05171  \n",
       "1           -0.41016  \n",
       "2            0.39812  \n",
       "3           -0.29469  \n",
       "4            1.55280  \n",
       "...              ...  \n",
       "116462      -0.98750  \n",
       "116463      -1.33390  \n",
       "116464      -0.87203  \n",
       "116465      -1.44937  \n",
       "116466       0.39812  \n",
       "\n",
       "[116467 rows x 9 columns]"
      ]
     },
     "execution_count": 22,
     "metadata": {},
     "output_type": "execute_result"
    }
   ],
   "source": [
    "df_std_reduit"
   ]
  },
  {
   "cell_type": "markdown",
   "metadata": {
    "id": "RSqIy9PNcRqp"
   },
   "source": [
    "## Kmeans"
   ]
  },
  {
   "cell_type": "markdown",
   "metadata": {
    "id": "O2gl_wHyD2P-"
   },
   "source": [
    "### K optimal"
   ]
  },
  {
   "cell_type": "code",
   "execution_count": null,
   "metadata": {
    "colab": {
     "base_uri": "https://localhost:8080/",
     "height": 503
    },
    "id": "SVwHrZytcOFL",
    "outputId": "a06b3993-7c93-42c3-d1a0-3aff23be1732"
   },
   "outputs": [
    {
     "data": {
      "image/png": "[encoded data removed]",
      "text/plain": [
       "<Figure size 1080x500 with 2 Axes>"
      ]
     },
     "metadata": {},
     "output_type": "display_data"
    },
    {
     "data": {
      "text/plain": [
       "<Axes: title={'center': 'Distortion Score Elbow for KMeans Clustering'}, xlabel='k', ylabel='distortion score'>"
      ]
     },
     "execution_count": 23,
     "metadata": {},
     "output_type": "execute_result"
    }
   ],
   "source": [
    "%%time\n",
    "# autre méthode\n",
    "#!pip install yellowbrick\n",
    "\n",
    "\n",
    "# Instantiate the clustering model and visualizer\n",
    "model = KMeans()\n",
    "visualizer = KElbowVisualizer(model, k = (1, 20), size = (1080, 500))\n",
    "\n",
    "visualizer.fit(df_std_reduit)        # Fit the data to the visualizer\n",
    "visualizer.show()        # Finalize and render the figure"
   ]
  },
  {
   "cell_type": "code",
   "execution_count": null,
   "metadata": {
    "colab": {
     "base_uri": "https://localhost:8080/"
    },
    "id": "Sby7xjY6Pkrm",
    "outputId": "662eb1e0-a648-4090-de42-1b8bfeb69bae"
   },
   "outputs": [
    {
     "name": "stdout",
     "output_type": "stream",
     "text": [
      "CPU times: user 2min 18s, sys: 19.3 s, total: 2min 37s\n",
      "Wall time: 1min 52s\n",
      "Nombre optimal de clusters : k = 9\n"
     ]
    }
   ],
   "source": [
    "# Extraire nombre de cluster optimal (même si pas un beau coude)\n",
    "k = visualizer.elbow_value_\n",
    "print(f'Nombre optimal de clusters : k = {k}')"
   ]
  },
  {
   "cell_type": "markdown",
   "metadata": {
    "id": "p-51WeJ6D69j"
   },
   "source": [
    "### Clustering"
   ]
  },
  {
   "cell_type": "code",
   "execution_count": null,
   "metadata": {
    "colab": {
     "base_uri": "https://localhost:8080/"
    },
    "id": "s5VfldRscOCz",
    "outputId": "4cf220f2-d447-4031-a57a-7c2373d34ada"
   },
   "outputs": [
    {
     "name": "stdout",
     "output_type": "stream",
     "text": [
      "CPU times: user 6.94 s, sys: 900 ms, total: 7.84 s\n",
      "Wall time: 7.21 s\n"
     ]
    }
   ],
   "source": [
    "%%time\n",
    "\n",
    "model = KMeans(n_clusters = k # nb de clusters qu'on veut avoir\n",
    "               #n_init = 10, # nb d'initialisations qu'on veut faire - 10 = valeur par défaut\n",
    "               #max_iter = 300, # nb d'itérations max - par défaut 300\n",
    "               #init = 'k-means++'' # quelle stratégie d'initialisation on utilise\n",
    "               )\n",
    "\n",
    "# K-Means++ -> méthode d'initialisation qui consiste à placer les centroïdes sur des points du dataset éloignés les uns des autres - facilite convergence\n",
    "\n",
    "model.fit(df_std_reduit) # pour entrainer modèle\n",
    "# model.labels_ ou\n",
    "model.predict(df_std_reduit)\n",
    "centroids = model.cluster_centers_"
   ]
  },
  {
   "cell_type": "code",
   "execution_count": null,
   "metadata": {
    "colab": {
     "base_uri": "https://localhost:8080/"
    },
    "id": "4ptF2EDqanNd",
    "outputId": "d7aba89c-6626-4b3d-d291-b1e611cf2d46"
   },
   "outputs": [
    {
     "name": "stdout",
     "output_type": "stream",
     "text": [
      "The average silhouette score is: 0.14\n"
     ]
    }
   ],
   "source": [
    "# Evaluation du clustering : silhouette score\n",
    "silhouette_kmeans_reduit = round(silhouette_score(df_std_reduit, model.fit_predict(df_std_reduit)), 2)\n",
    "print('The average silhouette score is:', silhouette_kmeans_reduit)"
   ]
  },
  {
   "cell_type": "code",
   "execution_count": null,
   "metadata": {
    "id": "KFDsy16IReM0"
   },
   "outputs": [],
   "source": [
    "# A score closer to 1 indicates that the clustering is good, while a score closer to -1 indicates that the clustering is bad."
   ]
  },
  {
   "cell_type": "markdown",
   "metadata": {
    "id": "fWSLFcb8D9fz"
   },
   "source": [
    "### Description des clusters"
   ]
  },
  {
   "cell_type": "code",
   "execution_count": null,
   "metadata": {
    "id": "pcHQ-gdTQM7i"
   },
   "outputs": [],
   "source": [
    "# dupliquer df pour ne pas mettre les clusters dans le df d'origine\n",
    "df_kmeans = df_std_reduit"
   ]
  },
  {
   "cell_type": "code",
   "execution_count": null,
   "metadata": {
    "colab": {
     "base_uri": "https://localhost:8080/",
     "height": 226
    },
    "id": "Yvd6snpjcOAU",
    "outputId": "1e6cc120-bb0c-4b5e-838b-9b96e5e71404"
   },
   "outputs": [
    {
     "data": {
      "text/html": [
       "\n",
       "  <div id=\"df-15b56594-7104-4706-8706-21a2f669baa2\" class=\"colab-df-container\">\n",
       "    <div>\n",
       "<style scoped>\n",
       "    .dataframe tbody tr th:only-of-type {\n",
       "        vertical-align: middle;\n",
       "    }\n",
       "\n",
       "    .dataframe tbody tr th {\n",
       "        vertical-align: top;\n",
       "    }\n",
       "\n",
       "    .dataframe thead th {\n",
       "        text-align: right;\n",
       "    }\n",
       "</style>\n",
       "<table border=\"1\" class=\"dataframe\">\n",
       "  <thead>\n",
       "    <tr style=\"text-align: right;\">\n",
       "      <th></th>\n",
       "      <th>product_category</th>\n",
       "      <th>payment_type</th>\n",
       "      <th>payment_value</th>\n",
       "      <th>full_written_review</th>\n",
       "      <th>order_time</th>\n",
       "      <th>shipping_limit_respect</th>\n",
       "      <th>purchase_dayofweek</th>\n",
       "      <th>purchase_hour</th>\n",
       "      <th>purchase_day</th>\n",
       "      <th>cluster_num</th>\n",
       "    </tr>\n",
       "  </thead>\n",
       "  <tbody>\n",
       "    <tr>\n",
       "      <th>0</th>\n",
       "      <td>-0.13984</td>\n",
       "      <td>0.1137</td>\n",
       "      <td>-0.09498</td>\n",
       "      <td>-0.84907</td>\n",
       "      <td>-0.39232</td>\n",
       "      <td>-0.63577</td>\n",
       "      <td>-0.89104</td>\n",
       "      <td>0.04499</td>\n",
       "      <td>0.05171</td>\n",
       "      <td>1</td>\n",
       "    </tr>\n",
       "    <tr>\n",
       "      <th>1</th>\n",
       "      <td>-0.13984</td>\n",
       "      <td>0.1137</td>\n",
       "      <td>0.61434</td>\n",
       "      <td>-0.84907</td>\n",
       "      <td>0.44313</td>\n",
       "      <td>-0.02643</td>\n",
       "      <td>0.63880</td>\n",
       "      <td>0.98383</td>\n",
       "      <td>-0.41016</td>\n",
       "      <td>3</td>\n",
       "    </tr>\n",
       "    <tr>\n",
       "      <th>2</th>\n",
       "      <td>-0.13984</td>\n",
       "      <td>0.1137</td>\n",
       "      <td>-0.05414</td>\n",
       "      <td>-0.84907</td>\n",
       "      <td>1.44528</td>\n",
       "      <td>-1.42192</td>\n",
       "      <td>1.14875</td>\n",
       "      <td>0.23275</td>\n",
       "      <td>0.39812</td>\n",
       "      <td>3</td>\n",
       "    </tr>\n",
       "    <tr>\n",
       "      <th>3</th>\n",
       "      <td>-0.13984</td>\n",
       "      <td>0.1137</td>\n",
       "      <td>0.00442</td>\n",
       "      <td>-0.84907</td>\n",
       "      <td>0.26609</td>\n",
       "      <td>-0.55526</td>\n",
       "      <td>-0.89104</td>\n",
       "      <td>0.23275</td>\n",
       "      <td>-0.29469</td>\n",
       "      <td>1</td>\n",
       "    </tr>\n",
       "    <tr>\n",
       "      <th>4</th>\n",
       "      <td>-2.65931</td>\n",
       "      <td>0.1137</td>\n",
       "      <td>0.30133</td>\n",
       "      <td>1.17776</td>\n",
       "      <td>-0.11039</td>\n",
       "      <td>-0.39031</td>\n",
       "      <td>1.65870</td>\n",
       "      <td>-1.08163</td>\n",
       "      <td>1.55280</td>\n",
       "      <td>6</td>\n",
       "    </tr>\n",
       "  </tbody>\n",
       "</table>\n",
       "</div>\n",
       "    <div class=\"colab-df-buttons\">\n",
       "\n",
       "  <div class=\"colab-df-container\">\n",
       "    <button class=\"colab-df-convert\" onclick=\"convertToInteractive('df-15b56594-7104-4706-8706-21a2f669baa2')\"\n",
       "            title=\"Convert this dataframe to an interactive table.\"\n",
       "            style=\"display:none;\">\n",
       "\n",
       "  <svg xmlns=\"http://www.w3.org/2000/svg\" height=\"24px\" viewBox=\"0 -960 960 960\">\n",
       "    <path d=\"M120-120v-720h720v720H120Zm60-500h600v-160H180v160Zm220 220h160v-160H400v160Zm0 220h160v-160H400v160ZM180-400h160v-160H180v160Zm440 0h160v-160H620v160ZM180-180h160v-160H180v160Zm440 0h160v-160H620v160Z\"/>\n",
       "  </svg>\n",
       "    </button>\n",
       "\n",
       "  <style>\n",
       "    .colab-df-container {\n",
       "      display:flex;\n",
       "      gap: 12px;\n",
       "    }\n",
       "\n",
       "    .colab-df-convert {\n",
       "      background-color: #E8F0FE;\n",
       "      border: none;\n",
       "      border-radius: 50%;\n",
       "      cursor: pointer;\n",
       "      display: none;\n",
       "      fill: #1967D2;\n",
       "      height: 32px;\n",
       "      padding: 0 0 0 0;\n",
       "      width: 32px;\n",
       "    }\n",
       "\n",
       "    .colab-df-convert:hover {\n",
       "      background-color: #E2EBFA;\n",
       "      box-shadow: 0px 1px 2px rgba(60, 64, 67, 0.3), 0px 1px 3px 1px rgba(60, 64, 67, 0.15);\n",
       "      fill: #174EA6;\n",
       "    }\n",
       "\n",
       "    .colab-df-buttons div {\n",
       "      margin-bottom: 4px;\n",
       "    }\n",
       "\n",
       "    [theme=dark] .colab-df-convert {\n",
       "      background-color: #3B4455;\n",
       "      fill: #D2E3FC;\n",
       "    }\n",
       "\n",
       "    [theme=dark] .colab-df-convert:hover {\n",
       "      background-color: #434B5C;\n",
       "      box-shadow: 0px 1px 3px 1px rgba(0, 0, 0, 0.15);\n",
       "      filter: drop-shadow(0px 1px 2px rgba(0, 0, 0, 0.3));\n",
       "      fill: #FFFFFF;\n",
       "    }\n",
       "  </style>\n",
       "\n",
       "    <script>\n",
       "      const buttonEl =\n",
       "        document.querySelector('#df-15b56594-7104-4706-8706-21a2f669baa2 button.colab-df-convert');\n",
       "      buttonEl.style.display =\n",
       "        google.colab.kernel.accessAllowed ? 'block' : 'none';\n",
       "\n",
       "      async function convertToInteractive(key) {\n",
       "        const element = document.querySelector('#df-15b56594-7104-4706-8706-21a2f669baa2');\n",
       "        const dataTable =\n",
       "          await google.colab.kernel.invokeFunction('convertToInteractive',\n",
       "                                                    [key], {});\n",
       "        if (!dataTable) return;\n",
       "\n",
       "        const docLinkHtml = 'Like what you see? Visit the ' +\n",
       "          '<a target=\"_blank\" href=https://colab.research.google.com/notebooks/data_table.ipynb>data table notebook</a>'\n",
       "          + ' to learn more about interactive tables.';\n",
       "        element.innerHTML = '';\n",
       "        dataTable['output_type'] = 'display_data';\n",
       "        await google.colab.output.renderOutput(dataTable, element);\n",
       "        const docLink = document.createElement('div');\n",
       "        docLink.innerHTML = docLinkHtml;\n",
       "        element.appendChild(docLink);\n",
       "      }\n",
       "    </script>\n",
       "  </div>\n",
       "\n",
       "\n",
       "<div id=\"df-1887fd84-57f5-4ef0-8f21-d0c1f1bb8ed8\">\n",
       "  <button class=\"colab-df-quickchart\" onclick=\"quickchart('df-1887fd84-57f5-4ef0-8f21-d0c1f1bb8ed8')\"\n",
       "            title=\"Suggest charts.\"\n",
       "            style=\"display:none;\">\n",
       "\n",
       "<svg xmlns=\"http://www.w3.org/2000/svg\" height=\"24px\"viewBox=\"0 0 24 24\"\n",
       "     width=\"24px\">\n",
       "    <g>\n",
       "        <path d=\"M19 3H5c-1.1 0-2 .9-2 2v14c0 1.1.9 2 2 2h14c1.1 0 2-.9 2-2V5c0-1.1-.9-2-2-2zM9 17H7v-7h2v7zm4 0h-2V7h2v10zm4 0h-2v-4h2v4z\"/>\n",
       "    </g>\n",
       "</svg>\n",
       "  </button>\n",
       "\n",
       "<style>\n",
       "  .colab-df-quickchart {\n",
       "      --bg-color: #E8F0FE;\n",
       "      --fill-color: #1967D2;\n",
       "      --hover-bg-color: #E2EBFA;\n",
       "      --hover-fill-color: #174EA6;\n",
       "      --disabled-fill-color: #AAA;\n",
       "      --disabled-bg-color: #DDD;\n",
       "  }\n",
       "\n",
       "  [theme=dark] .colab-df-quickchart {\n",
       "      --bg-color: #3B4455;\n",
       "      --fill-color: #D2E3FC;\n",
       "      --hover-bg-color: #434B5C;\n",
       "      --hover-fill-color: #FFFFFF;\n",
       "      --disabled-bg-color: #3B4455;\n",
       "      --disabled-fill-color: #666;\n",
       "  }\n",
       "\n",
       "  .colab-df-quickchart {\n",
       "    background-color: var(--bg-color);\n",
       "    border: none;\n",
       "    border-radius: 50%;\n",
       "    cursor: pointer;\n",
       "    display: none;\n",
       "    fill: var(--fill-color);\n",
       "    height: 32px;\n",
       "    padding: 0;\n",
       "    width: 32px;\n",
       "  }\n",
       "\n",
       "  .colab-df-quickchart:hover {\n",
       "    background-color: var(--hover-bg-color);\n",
       "    box-shadow: 0 1px 2px rgba(60, 64, 67, 0.3), 0 1px 3px 1px rgba(60, 64, 67, 0.15);\n",
       "    fill: var(--button-hover-fill-color);\n",
       "  }\n",
       "\n",
       "  .colab-df-quickchart-complete:disabled,\n",
       "  .colab-df-quickchart-complete:disabled:hover {\n",
       "    background-color: var(--disabled-bg-color);\n",
       "    fill: var(--disabled-fill-color);\n",
       "    box-shadow: none;\n",
       "  }\n",
       "\n",
       "  .colab-df-spinner {\n",
       "    border: 2px solid var(--fill-color);\n",
       "    border-color: transparent;\n",
       "    border-bottom-color: var(--fill-color);\n",
       "    animation:\n",
       "      spin 1s steps(1) infinite;\n",
       "  }\n",
       "\n",
       "  @keyframes spin {\n",
       "    0% {\n",
       "      border-color: transparent;\n",
       "      border-bottom-color: var(--fill-color);\n",
       "      border-left-color: var(--fill-color);\n",
       "    }\n",
       "    20% {\n",
       "      border-color: transparent;\n",
       "      border-left-color: var(--fill-color);\n",
       "      border-top-color: var(--fill-color);\n",
       "    }\n",
       "    30% {\n",
       "      border-color: transparent;\n",
       "      border-left-color: var(--fill-color);\n",
       "      border-top-color: var(--fill-color);\n",
       "      border-right-color: var(--fill-color);\n",
       "    }\n",
       "    40% {\n",
       "      border-color: transparent;\n",
       "      border-right-color: var(--fill-color);\n",
       "      border-top-color: var(--fill-color);\n",
       "    }\n",
       "    60% {\n",
       "      border-color: transparent;\n",
       "      border-right-color: var(--fill-color);\n",
       "    }\n",
       "    80% {\n",
       "      border-color: transparent;\n",
       "      border-right-color: var(--fill-color);\n",
       "      border-bottom-color: var(--fill-color);\n",
       "    }\n",
       "    90% {\n",
       "      border-color: transparent;\n",
       "      border-bottom-color: var(--fill-color);\n",
       "    }\n",
       "  }\n",
       "</style>\n",
       "\n",
       "  <script>\n",
       "    async function quickchart(key) {\n",
       "      const quickchartButtonEl =\n",
       "        document.querySelector('#' + key + ' button');\n",
       "      quickchartButtonEl.disabled = true;  // To prevent multiple clicks.\n",
       "      quickchartButtonEl.classList.add('colab-df-spinner');\n",
       "      try {\n",
       "        const charts = await google.colab.kernel.invokeFunction(\n",
       "            'suggestCharts', [key], {});\n",
       "      } catch (error) {\n",
       "        console.error('Error during call to suggestCharts:', error);\n",
       "      }\n",
       "      quickchartButtonEl.classList.remove('colab-df-spinner');\n",
       "      quickchartButtonEl.classList.add('colab-df-quickchart-complete');\n",
       "    }\n",
       "    (() => {\n",
       "      let quickchartButtonEl =\n",
       "        document.querySelector('#df-1887fd84-57f5-4ef0-8f21-d0c1f1bb8ed8 button');\n",
       "      quickchartButtonEl.style.display =\n",
       "        google.colab.kernel.accessAllowed ? 'block' : 'none';\n",
       "    })();\n",
       "  </script>\n",
       "</div>\n",
       "    </div>\n",
       "  </div>\n"
      ],
      "text/plain": [
       "   product_category  payment_type  payment_value  full_written_review  \\\n",
       "0          -0.13984        0.1137       -0.09498             -0.84907   \n",
       "1          -0.13984        0.1137        0.61434             -0.84907   \n",
       "2          -0.13984        0.1137       -0.05414             -0.84907   \n",
       "3          -0.13984        0.1137        0.00442             -0.84907   \n",
       "4          -2.65931        0.1137        0.30133              1.17776   \n",
       "\n",
       "   order_time  shipping_limit_respect  purchase_dayofweek  purchase_hour  \\\n",
       "0    -0.39232                -0.63577            -0.89104        0.04499   \n",
       "1     0.44313                -0.02643             0.63880        0.98383   \n",
       "2     1.44528                -1.42192             1.14875        0.23275   \n",
       "3     0.26609                -0.55526            -0.89104        0.23275   \n",
       "4    -0.11039                -0.39031             1.65870       -1.08163   \n",
       "\n",
       "   purchase_day  cluster_num  \n",
       "0       0.05171            1  \n",
       "1      -0.41016            3  \n",
       "2       0.39812            3  \n",
       "3      -0.29469            1  \n",
       "4       1.55280            6  "
      ]
     },
     "execution_count": 28,
     "metadata": {},
     "output_type": "execute_result"
    }
   ],
   "source": [
    "labels = model.labels_\n",
    "df_kmeans['cluster_num'] = labels\n",
    "df_kmeans.head()"
   ]
  },
  {
   "cell_type": "code",
   "execution_count": null,
   "metadata": {
    "colab": {
     "base_uri": "https://localhost:8080/",
     "height": 383
    },
    "id": "JokZ6OuvcN99",
    "outputId": "3490414e-83cb-4255-f468-6dcbe2ceb8c6"
   },
   "outputs": [
    {
     "data": {
      "text/html": [
       "\n",
       "  <div id=\"df-798816b3-5bf9-42ed-b3a1-e506e17ff5b1\" class=\"colab-df-container\">\n",
       "    <div>\n",
       "<style scoped>\n",
       "    .dataframe tbody tr th:only-of-type {\n",
       "        vertical-align: middle;\n",
       "    }\n",
       "\n",
       "    .dataframe tbody tr th {\n",
       "        vertical-align: top;\n",
       "    }\n",
       "\n",
       "    .dataframe thead th {\n",
       "        text-align: right;\n",
       "    }\n",
       "</style>\n",
       "<table border=\"1\" class=\"dataframe\">\n",
       "  <thead>\n",
       "    <tr style=\"text-align: right;\">\n",
       "      <th></th>\n",
       "      <th>product_category</th>\n",
       "      <th>payment_type</th>\n",
       "      <th>payment_value</th>\n",
       "      <th>full_written_review</th>\n",
       "      <th>order_time</th>\n",
       "      <th>shipping_limit_respect</th>\n",
       "      <th>purchase_dayofweek</th>\n",
       "      <th>purchase_hour</th>\n",
       "      <th>purchase_day</th>\n",
       "    </tr>\n",
       "    <tr>\n",
       "      <th>cluster_num</th>\n",
       "      <th></th>\n",
       "      <th></th>\n",
       "      <th></th>\n",
       "      <th></th>\n",
       "      <th></th>\n",
       "      <th></th>\n",
       "      <th></th>\n",
       "      <th></th>\n",
       "      <th></th>\n",
       "    </tr>\n",
       "  </thead>\n",
       "  <tbody>\n",
       "    <tr>\n",
       "      <th>0</th>\n",
       "      <td>0.08217</td>\n",
       "      <td>-0.09391</td>\n",
       "      <td>5.12502</td>\n",
       "      <td>0.14829</td>\n",
       "      <td>0.12544</td>\n",
       "      <td>-0.05921</td>\n",
       "      <td>-0.06907</td>\n",
       "      <td>-0.07753</td>\n",
       "      <td>-0.03700</td>\n",
       "    </tr>\n",
       "    <tr>\n",
       "      <th>1</th>\n",
       "      <td>0.40205</td>\n",
       "      <td>-0.18248</td>\n",
       "      <td>-0.11832</td>\n",
       "      <td>-0.84907</td>\n",
       "      <td>-0.22124</td>\n",
       "      <td>0.08946</td>\n",
       "      <td>-0.90617</td>\n",
       "      <td>0.02262</td>\n",
       "      <td>0.02833</td>\n",
       "    </tr>\n",
       "    <tr>\n",
       "      <th>2</th>\n",
       "      <td>0.39862</td>\n",
       "      <td>-0.17258</td>\n",
       "      <td>-0.06896</td>\n",
       "      <td>1.17776</td>\n",
       "      <td>-0.09676</td>\n",
       "      <td>-0.05986</td>\n",
       "      <td>0.90462</td>\n",
       "      <td>0.07423</td>\n",
       "      <td>-0.09673</td>\n",
       "    </tr>\n",
       "    <tr>\n",
       "      <th>3</th>\n",
       "      <td>0.40289</td>\n",
       "      <td>-0.18529</td>\n",
       "      <td>-0.13151</td>\n",
       "      <td>-0.84907</td>\n",
       "      <td>-0.13075</td>\n",
       "      <td>-0.03301</td>\n",
       "      <td>0.85300</td>\n",
       "      <td>-0.00010</td>\n",
       "      <td>-0.01735</td>\n",
       "    </tr>\n",
       "    <tr>\n",
       "      <th>4</th>\n",
       "      <td>0.39678</td>\n",
       "      <td>-0.17360</td>\n",
       "      <td>-0.06223</td>\n",
       "      <td>1.17776</td>\n",
       "      <td>-0.21275</td>\n",
       "      <td>0.10717</td>\n",
       "      <td>-0.80580</td>\n",
       "      <td>-0.07589</td>\n",
       "      <td>0.09490</td>\n",
       "    </tr>\n",
       "    <tr>\n",
       "      <th>5</th>\n",
       "      <td>-0.13984</td>\n",
       "      <td>0.11370</td>\n",
       "      <td>0.27583</td>\n",
       "      <td>-0.17346</td>\n",
       "      <td>0.24084</td>\n",
       "      <td>160.75430</td>\n",
       "      <td>-0.89104</td>\n",
       "      <td>1.17160</td>\n",
       "      <td>0.51359</td>\n",
       "    </tr>\n",
       "    <tr>\n",
       "      <th>6</th>\n",
       "      <td>-2.05985</td>\n",
       "      <td>-0.22831</td>\n",
       "      <td>-0.09036</td>\n",
       "      <td>-0.02964</td>\n",
       "      <td>-0.12545</td>\n",
       "      <td>0.02237</td>\n",
       "      <td>-0.01130</td>\n",
       "      <td>-0.00619</td>\n",
       "      <td>-0.00146</td>\n",
       "    </tr>\n",
       "    <tr>\n",
       "      <th>7</th>\n",
       "      <td>-0.02692</td>\n",
       "      <td>3.12730</td>\n",
       "      <td>-0.06729</td>\n",
       "      <td>-0.03374</td>\n",
       "      <td>-0.06550</td>\n",
       "      <td>0.00273</td>\n",
       "      <td>0.00371</td>\n",
       "      <td>-0.00054</td>\n",
       "      <td>-0.02609</td>\n",
       "    </tr>\n",
       "    <tr>\n",
       "      <th>8</th>\n",
       "      <td>0.14584</td>\n",
       "      <td>-0.12394</td>\n",
       "      <td>0.03867</td>\n",
       "      <td>0.41452</td>\n",
       "      <td>2.93562</td>\n",
       "      <td>-0.54087</td>\n",
       "      <td>-0.00451</td>\n",
       "      <td>-0.01942</td>\n",
       "      <td>-0.02223</td>\n",
       "    </tr>\n",
       "  </tbody>\n",
       "</table>\n",
       "</div>\n",
       "    <div class=\"colab-df-buttons\">\n",
       "\n",
       "  <div class=\"colab-df-container\">\n",
       "    <button class=\"colab-df-convert\" onclick=\"convertToInteractive('df-798816b3-5bf9-42ed-b3a1-e506e17ff5b1')\"\n",
       "            title=\"Convert this dataframe to an interactive table.\"\n",
       "            style=\"display:none;\">\n",
       "\n",
       "  <svg xmlns=\"http://www.w3.org/2000/svg\" height=\"24px\" viewBox=\"0 -960 960 960\">\n",
       "    <path d=\"M120-120v-720h720v720H120Zm60-500h600v-160H180v160Zm220 220h160v-160H400v160Zm0 220h160v-160H400v160ZM180-400h160v-160H180v160Zm440 0h160v-160H620v160ZM180-180h160v-160H180v160Zm440 0h160v-160H620v160Z\"/>\n",
       "  </svg>\n",
       "    </button>\n",
       "\n",
       "  <style>\n",
       "    .colab-df-container {\n",
       "      display:flex;\n",
       "      gap: 12px;\n",
       "    }\n",
       "\n",
       "    .colab-df-convert {\n",
       "      background-color: #E8F0FE;\n",
       "      border: none;\n",
       "      border-radius: 50%;\n",
       "      cursor: pointer;\n",
       "      display: none;\n",
       "      fill: #1967D2;\n",
       "      height: 32px;\n",
       "      padding: 0 0 0 0;\n",
       "      width: 32px;\n",
       "    }\n",
       "\n",
       "    .colab-df-convert:hover {\n",
       "      background-color: #E2EBFA;\n",
       "      box-shadow: 0px 1px 2px rgba(60, 64, 67, 0.3), 0px 1px 3px 1px rgba(60, 64, 67, 0.15);\n",
       "      fill: #174EA6;\n",
       "    }\n",
       "\n",
       "    .colab-df-buttons div {\n",
       "      margin-bottom: 4px;\n",
       "    }\n",
       "\n",
       "    [theme=dark] .colab-df-convert {\n",
       "      background-color: #3B4455;\n",
       "      fill: #D2E3FC;\n",
       "    }\n",
       "\n",
       "    [theme=dark] .colab-df-convert:hover {\n",
       "      background-color: #434B5C;\n",
       "      box-shadow: 0px 1px 3px 1px rgba(0, 0, 0, 0.15);\n",
       "      filter: drop-shadow(0px 1px 2px rgba(0, 0, 0, 0.3));\n",
       "      fill: #FFFFFF;\n",
       "    }\n",
       "  </style>\n",
       "\n",
       "    <script>\n",
       "      const buttonEl =\n",
       "        document.querySelector('#df-798816b3-5bf9-42ed-b3a1-e506e17ff5b1 button.colab-df-convert');\n",
       "      buttonEl.style.display =\n",
       "        google.colab.kernel.accessAllowed ? 'block' : 'none';\n",
       "\n",
       "      async function convertToInteractive(key) {\n",
       "        const element = document.querySelector('#df-798816b3-5bf9-42ed-b3a1-e506e17ff5b1');\n",
       "        const dataTable =\n",
       "          await google.colab.kernel.invokeFunction('convertToInteractive',\n",
       "                                                    [key], {});\n",
       "        if (!dataTable) return;\n",
       "\n",
       "        const docLinkHtml = 'Like what you see? Visit the ' +\n",
       "          '<a target=\"_blank\" href=https://colab.research.google.com/notebooks/data_table.ipynb>data table notebook</a>'\n",
       "          + ' to learn more about interactive tables.';\n",
       "        element.innerHTML = '';\n",
       "        dataTable['output_type'] = 'display_data';\n",
       "        await google.colab.output.renderOutput(dataTable, element);\n",
       "        const docLink = document.createElement('div');\n",
       "        docLink.innerHTML = docLinkHtml;\n",
       "        element.appendChild(docLink);\n",
       "      }\n",
       "    </script>\n",
       "  </div>\n",
       "\n",
       "\n",
       "<div id=\"df-634c93e3-ef3e-4335-89ab-7a35f635d62b\">\n",
       "  <button class=\"colab-df-quickchart\" onclick=\"quickchart('df-634c93e3-ef3e-4335-89ab-7a35f635d62b')\"\n",
       "            title=\"Suggest charts.\"\n",
       "            style=\"display:none;\">\n",
       "\n",
       "<svg xmlns=\"http://www.w3.org/2000/svg\" height=\"24px\"viewBox=\"0 0 24 24\"\n",
       "     width=\"24px\">\n",
       "    <g>\n",
       "        <path d=\"M19 3H5c-1.1 0-2 .9-2 2v14c0 1.1.9 2 2 2h14c1.1 0 2-.9 2-2V5c0-1.1-.9-2-2-2zM9 17H7v-7h2v7zm4 0h-2V7h2v10zm4 0h-2v-4h2v4z\"/>\n",
       "    </g>\n",
       "</svg>\n",
       "  </button>\n",
       "\n",
       "<style>\n",
       "  .colab-df-quickchart {\n",
       "      --bg-color: #E8F0FE;\n",
       "      --fill-color: #1967D2;\n",
       "      --hover-bg-color: #E2EBFA;\n",
       "      --hover-fill-color: #174EA6;\n",
       "      --disabled-fill-color: #AAA;\n",
       "      --disabled-bg-color: #DDD;\n",
       "  }\n",
       "\n",
       "  [theme=dark] .colab-df-quickchart {\n",
       "      --bg-color: #3B4455;\n",
       "      --fill-color: #D2E3FC;\n",
       "      --hover-bg-color: #434B5C;\n",
       "      --hover-fill-color: #FFFFFF;\n",
       "      --disabled-bg-color: #3B4455;\n",
       "      --disabled-fill-color: #666;\n",
       "  }\n",
       "\n",
       "  .colab-df-quickchart {\n",
       "    background-color: var(--bg-color);\n",
       "    border: none;\n",
       "    border-radius: 50%;\n",
       "    cursor: pointer;\n",
       "    display: none;\n",
       "    fill: var(--fill-color);\n",
       "    height: 32px;\n",
       "    padding: 0;\n",
       "    width: 32px;\n",
       "  }\n",
       "\n",
       "  .colab-df-quickchart:hover {\n",
       "    background-color: var(--hover-bg-color);\n",
       "    box-shadow: 0 1px 2px rgba(60, 64, 67, 0.3), 0 1px 3px 1px rgba(60, 64, 67, 0.15);\n",
       "    fill: var(--button-hover-fill-color);\n",
       "  }\n",
       "\n",
       "  .colab-df-quickchart-complete:disabled,\n",
       "  .colab-df-quickchart-complete:disabled:hover {\n",
       "    background-color: var(--disabled-bg-color);\n",
       "    fill: var(--disabled-fill-color);\n",
       "    box-shadow: none;\n",
       "  }\n",
       "\n",
       "  .colab-df-spinner {\n",
       "    border: 2px solid var(--fill-color);\n",
       "    border-color: transparent;\n",
       "    border-bottom-color: var(--fill-color);\n",
       "    animation:\n",
       "      spin 1s steps(1) infinite;\n",
       "  }\n",
       "\n",
       "  @keyframes spin {\n",
       "    0% {\n",
       "      border-color: transparent;\n",
       "      border-bottom-color: var(--fill-color);\n",
       "      border-left-color: var(--fill-color);\n",
       "    }\n",
       "    20% {\n",
       "      border-color: transparent;\n",
       "      border-left-color: var(--fill-color);\n",
       "      border-top-color: var(--fill-color);\n",
       "    }\n",
       "    30% {\n",
       "      border-color: transparent;\n",
       "      border-left-color: var(--fill-color);\n",
       "      border-top-color: var(--fill-color);\n",
       "      border-right-color: var(--fill-color);\n",
       "    }\n",
       "    40% {\n",
       "      border-color: transparent;\n",
       "      border-right-color: var(--fill-color);\n",
       "      border-top-color: var(--fill-color);\n",
       "    }\n",
       "    60% {\n",
       "      border-color: transparent;\n",
       "      border-right-color: var(--fill-color);\n",
       "    }\n",
       "    80% {\n",
       "      border-color: transparent;\n",
       "      border-right-color: var(--fill-color);\n",
       "      border-bottom-color: var(--fill-color);\n",
       "    }\n",
       "    90% {\n",
       "      border-color: transparent;\n",
       "      border-bottom-color: var(--fill-color);\n",
       "    }\n",
       "  }\n",
       "</style>\n",
       "\n",
       "  <script>\n",
       "    async function quickchart(key) {\n",
       "      const quickchartButtonEl =\n",
       "        document.querySelector('#' + key + ' button');\n",
       "      quickchartButtonEl.disabled = true;  // To prevent multiple clicks.\n",
       "      quickchartButtonEl.classList.add('colab-df-spinner');\n",
       "      try {\n",
       "        const charts = await google.colab.kernel.invokeFunction(\n",
       "            'suggestCharts', [key], {});\n",
       "      } catch (error) {\n",
       "        console.error('Error during call to suggestCharts:', error);\n",
       "      }\n",
       "      quickchartButtonEl.classList.remove('colab-df-spinner');\n",
       "      quickchartButtonEl.classList.add('colab-df-quickchart-complete');\n",
       "    }\n",
       "    (() => {\n",
       "      let quickchartButtonEl =\n",
       "        document.querySelector('#df-634c93e3-ef3e-4335-89ab-7a35f635d62b button');\n",
       "      quickchartButtonEl.style.display =\n",
       "        google.colab.kernel.accessAllowed ? 'block' : 'none';\n",
       "    })();\n",
       "  </script>\n",
       "</div>\n",
       "    </div>\n",
       "  </div>\n"
      ],
      "text/plain": [
       "             product_category  payment_type  payment_value  \\\n",
       "cluster_num                                                  \n",
       "0                     0.08217      -0.09391        5.12502   \n",
       "1                     0.40205      -0.18248       -0.11832   \n",
       "2                     0.39862      -0.17258       -0.06896   \n",
       "3                     0.40289      -0.18529       -0.13151   \n",
       "4                     0.39678      -0.17360       -0.06223   \n",
       "5                    -0.13984       0.11370        0.27583   \n",
       "6                    -2.05985      -0.22831       -0.09036   \n",
       "7                    -0.02692       3.12730       -0.06729   \n",
       "8                     0.14584      -0.12394        0.03867   \n",
       "\n",
       "             full_written_review  order_time  shipping_limit_respect  \\\n",
       "cluster_num                                                            \n",
       "0                        0.14829     0.12544                -0.05921   \n",
       "1                       -0.84907    -0.22124                 0.08946   \n",
       "2                        1.17776    -0.09676                -0.05986   \n",
       "3                       -0.84907    -0.13075                -0.03301   \n",
       "4                        1.17776    -0.21275                 0.10717   \n",
       "5                       -0.17346     0.24084               160.75430   \n",
       "6                       -0.02964    -0.12545                 0.02237   \n",
       "7                       -0.03374    -0.06550                 0.00273   \n",
       "8                        0.41452     2.93562                -0.54087   \n",
       "\n",
       "             purchase_dayofweek  purchase_hour  purchase_day  \n",
       "cluster_num                                                   \n",
       "0                      -0.06907       -0.07753      -0.03700  \n",
       "1                      -0.90617        0.02262       0.02833  \n",
       "2                       0.90462        0.07423      -0.09673  \n",
       "3                       0.85300       -0.00010      -0.01735  \n",
       "4                      -0.80580       -0.07589       0.09490  \n",
       "5                      -0.89104        1.17160       0.51359  \n",
       "6                      -0.01130       -0.00619      -0.00146  \n",
       "7                       0.00371       -0.00054      -0.02609  \n",
       "8                      -0.00451       -0.01942      -0.02223  "
      ]
     },
     "execution_count": 29,
     "metadata": {},
     "output_type": "execute_result"
    }
   ],
   "source": [
    "# Description des clusters\n",
    "df_kmeans.groupby('cluster_num').mean()"
   ]
  },
  {
   "cell_type": "code",
   "execution_count": null,
   "metadata": {
    "colab": {
     "base_uri": "https://localhost:8080/"
    },
    "id": "KUYJYNjidJ2V",
    "outputId": "5b89ab76-5255-4fe9-ed8c-1a10f69f03ce"
   },
   "outputs": [
    {
     "data": {
      "text/plain": [
       "Index(['product_category', 'payment_type', 'payment_value',\n",
       "       'full_written_review', 'order_time', 'shipping_limit_respect',\n",
       "       'purchase_dayofweek', 'purchase_hour', 'purchase_day', 'cluster_num'],\n",
       "      dtype='object')"
      ]
     },
     "execution_count": 30,
     "metadata": {},
     "output_type": "execute_result"
    }
   ],
   "source": [
    "df_kmeans.columns"
   ]
  },
  {
   "cell_type": "code",
   "execution_count": null,
   "metadata": {
    "colab": {
     "base_uri": "https://localhost:8080/",
     "height": 399
    },
    "id": "m0OPIVcrc2Uk",
    "outputId": "f66b1b21-3dd2-42f8-86fc-0ceb57520127"
   },
   "outputs": [
    {
     "ename": "AttributeError",
     "evalue": "ignored",
     "output_type": "error",
     "traceback": [
      "\u001b[0;31m---------------------------------------------------------------------------\u001b[0m",
      "\u001b[0;31mAttributeError\u001b[0m                            Traceback (most recent call last)",
      "\u001b[0;32m<ipython-input-31-75be0c2bd384>\u001b[0m in \u001b[0;36m<cell line: 9>\u001b[0;34m()\u001b[0m\n\u001b[1;32m      7\u001b[0m     \u001b[0;32mreturn\u001b[0m \u001b[0mmy_counter\u001b[0m\u001b[0;34m.\u001b[0m\u001b[0mmost_common\u001b[0m\u001b[0;34m(\u001b[0m\u001b[0;36m1\u001b[0m\u001b[0;34m)\u001b[0m\u001b[0;34m[\u001b[0m\u001b[0;36m0\u001b[0m\u001b[0;34m]\u001b[0m\u001b[0;34m[\u001b[0m\u001b[0;36m0\u001b[0m\u001b[0;34m]\u001b[0m\u001b[0;34m\u001b[0m\u001b[0;34m\u001b[0m\u001b[0m\n\u001b[1;32m      8\u001b[0m \u001b[0;34m\u001b[0m\u001b[0m\n\u001b[0;32m----> 9\u001b[0;31m df_kmeans.groupby('cluster_num').agg({'payment_type' : 'get_most_common',\n\u001b[0m\u001b[1;32m     10\u001b[0m                                           \u001b[0;34m'payment_value'\u001b[0m \u001b[0;34m:\u001b[0m \u001b[0;34m'mean'\u001b[0m\u001b[0;34m,\u001b[0m\u001b[0;34m\u001b[0m\u001b[0;34m\u001b[0m\u001b[0m\n\u001b[1;32m     11\u001b[0m                                           \u001b[0;34m'full_written_review'\u001b[0m \u001b[0;34m:\u001b[0m \u001b[0;34m'get_most_common'\u001b[0m\u001b[0;34m,\u001b[0m\u001b[0;34m\u001b[0m\u001b[0;34m\u001b[0m\u001b[0m\n",
      "\u001b[0;32m/usr/local/lib/python3.10/dist-packages/pandas/core/groupby/generic.py\u001b[0m in \u001b[0;36maggregate\u001b[0;34m(self, func, engine, engine_kwargs, *args, **kwargs)\u001b[0m\n\u001b[1;32m    893\u001b[0m \u001b[0;34m\u001b[0m\u001b[0m\n\u001b[1;32m    894\u001b[0m         \u001b[0mop\u001b[0m \u001b[0;34m=\u001b[0m \u001b[0mGroupByApply\u001b[0m\u001b[0;34m(\u001b[0m\u001b[0mself\u001b[0m\u001b[0;34m,\u001b[0m \u001b[0mfunc\u001b[0m\u001b[0;34m,\u001b[0m \u001b[0margs\u001b[0m\u001b[0;34m,\u001b[0m \u001b[0mkwargs\u001b[0m\u001b[0;34m)\u001b[0m\u001b[0;34m\u001b[0m\u001b[0;34m\u001b[0m\u001b[0m\n\u001b[0;32m--> 895\u001b[0;31m         \u001b[0mresult\u001b[0m \u001b[0;34m=\u001b[0m \u001b[0mop\u001b[0m\u001b[0;34m.\u001b[0m\u001b[0magg\u001b[0m\u001b[0;34m(\u001b[0m\u001b[0;34m)\u001b[0m\u001b[0;34m\u001b[0m\u001b[0;34m\u001b[0m\u001b[0m\n\u001b[0m\u001b[1;32m    896\u001b[0m         \u001b[0;32mif\u001b[0m \u001b[0;32mnot\u001b[0m \u001b[0mis_dict_like\u001b[0m\u001b[0;34m(\u001b[0m\u001b[0mfunc\u001b[0m\u001b[0;34m)\u001b[0m \u001b[0;32mand\u001b[0m \u001b[0mresult\u001b[0m \u001b[0;32mis\u001b[0m \u001b[0;32mnot\u001b[0m \u001b[0;32mNone\u001b[0m\u001b[0;34m:\u001b[0m\u001b[0;34m\u001b[0m\u001b[0;34m\u001b[0m\u001b[0m\n\u001b[1;32m    897\u001b[0m             \u001b[0;32mreturn\u001b[0m \u001b[0mresult\u001b[0m\u001b[0;34m\u001b[0m\u001b[0;34m\u001b[0m\u001b[0m\n",
      "\u001b[0;32m/usr/local/lib/python3.10/dist-packages/pandas/core/apply.py\u001b[0m in \u001b[0;36magg\u001b[0;34m(self)\u001b[0m\n\u001b[1;32m    170\u001b[0m \u001b[0;34m\u001b[0m\u001b[0m\n\u001b[1;32m    171\u001b[0m         \u001b[0;32mif\u001b[0m \u001b[0mis_dict_like\u001b[0m\u001b[0;34m(\u001b[0m\u001b[0marg\u001b[0m\u001b[0;34m)\u001b[0m\u001b[0;34m:\u001b[0m\u001b[0;34m\u001b[0m\u001b[0;34m\u001b[0m\u001b[0m\n\u001b[0;32m--> 172\u001b[0;31m             \u001b[0;32mreturn\u001b[0m \u001b[0mself\u001b[0m\u001b[0;34m.\u001b[0m\u001b[0magg_dict_like\u001b[0m\u001b[0;34m(\u001b[0m\u001b[0;34m)\u001b[0m\u001b[0;34m\u001b[0m\u001b[0;34m\u001b[0m\u001b[0m\n\u001b[0m\u001b[1;32m    173\u001b[0m         \u001b[0;32melif\u001b[0m \u001b[0mis_list_like\u001b[0m\u001b[0;34m(\u001b[0m\u001b[0marg\u001b[0m\u001b[0;34m)\u001b[0m\u001b[0;34m:\u001b[0m\u001b[0;34m\u001b[0m\u001b[0;34m\u001b[0m\u001b[0m\n\u001b[1;32m    174\u001b[0m             \u001b[0;31m# we require a list, but not a 'str'\u001b[0m\u001b[0;34m\u001b[0m\u001b[0;34m\u001b[0m\u001b[0m\n",
      "\u001b[0;32m/usr/local/lib/python3.10/dist-packages/pandas/core/apply.py\u001b[0m in \u001b[0;36magg_dict_like\u001b[0;34m(self)\u001b[0m\n\u001b[1;32m    502\u001b[0m         \u001b[0;32melse\u001b[0m\u001b[0;34m:\u001b[0m\u001b[0;34m\u001b[0m\u001b[0;34m\u001b[0m\u001b[0m\n\u001b[1;32m    503\u001b[0m             \u001b[0;31m# key used for column selection and output\u001b[0m\u001b[0;34m\u001b[0m\u001b[0;34m\u001b[0m\u001b[0m\n\u001b[0;32m--> 504\u001b[0;31m             results = {\n\u001b[0m\u001b[1;32m    505\u001b[0m                 \u001b[0mkey\u001b[0m\u001b[0;34m:\u001b[0m \u001b[0mobj\u001b[0m\u001b[0;34m.\u001b[0m\u001b[0m_gotitem\u001b[0m\u001b[0;34m(\u001b[0m\u001b[0mkey\u001b[0m\u001b[0;34m,\u001b[0m \u001b[0mndim\u001b[0m\u001b[0;34m=\u001b[0m\u001b[0;36m1\u001b[0m\u001b[0;34m)\u001b[0m\u001b[0;34m.\u001b[0m\u001b[0magg\u001b[0m\u001b[0;34m(\u001b[0m\u001b[0mhow\u001b[0m\u001b[0;34m)\u001b[0m \u001b[0;32mfor\u001b[0m \u001b[0mkey\u001b[0m\u001b[0;34m,\u001b[0m \u001b[0mhow\u001b[0m \u001b[0;32min\u001b[0m \u001b[0marg\u001b[0m\u001b[0;34m.\u001b[0m\u001b[0mitems\u001b[0m\u001b[0;34m(\u001b[0m\u001b[0;34m)\u001b[0m\u001b[0;34m\u001b[0m\u001b[0;34m\u001b[0m\u001b[0m\n\u001b[1;32m    506\u001b[0m             }\n",
      "\u001b[0;32m/usr/local/lib/python3.10/dist-packages/pandas/core/apply.py\u001b[0m in \u001b[0;36m<dictcomp>\u001b[0;34m(.0)\u001b[0m\n\u001b[1;32m    503\u001b[0m             \u001b[0;31m# key used for column selection and output\u001b[0m\u001b[0;34m\u001b[0m\u001b[0;34m\u001b[0m\u001b[0m\n\u001b[1;32m    504\u001b[0m             results = {\n\u001b[0;32m--> 505\u001b[0;31m                 \u001b[0mkey\u001b[0m\u001b[0;34m:\u001b[0m \u001b[0mobj\u001b[0m\u001b[0;34m.\u001b[0m\u001b[0m_gotitem\u001b[0m\u001b[0;34m(\u001b[0m\u001b[0mkey\u001b[0m\u001b[0;34m,\u001b[0m \u001b[0mndim\u001b[0m\u001b[0;34m=\u001b[0m\u001b[0;36m1\u001b[0m\u001b[0;34m)\u001b[0m\u001b[0;34m.\u001b[0m\u001b[0magg\u001b[0m\u001b[0;34m(\u001b[0m\u001b[0mhow\u001b[0m\u001b[0;34m)\u001b[0m \u001b[0;32mfor\u001b[0m \u001b[0mkey\u001b[0m\u001b[0;34m,\u001b[0m \u001b[0mhow\u001b[0m \u001b[0;32min\u001b[0m \u001b[0marg\u001b[0m\u001b[0;34m.\u001b[0m\u001b[0mitems\u001b[0m\u001b[0;34m(\u001b[0m\u001b[0;34m)\u001b[0m\u001b[0;34m\u001b[0m\u001b[0;34m\u001b[0m\u001b[0m\n\u001b[0m\u001b[1;32m    506\u001b[0m             }\n\u001b[1;32m    507\u001b[0m \u001b[0;34m\u001b[0m\u001b[0m\n",
      "\u001b[0;32m/usr/local/lib/python3.10/dist-packages/pandas/core/groupby/generic.py\u001b[0m in \u001b[0;36maggregate\u001b[0;34m(self, func, engine, engine_kwargs, *args, **kwargs)\u001b[0m\n\u001b[1;32m    273\u001b[0m \u001b[0;34m\u001b[0m\u001b[0m\n\u001b[1;32m    274\u001b[0m         \u001b[0;32mif\u001b[0m \u001b[0misinstance\u001b[0m\u001b[0;34m(\u001b[0m\u001b[0mfunc\u001b[0m\u001b[0;34m,\u001b[0m \u001b[0mstr\u001b[0m\u001b[0;34m)\u001b[0m\u001b[0;34m:\u001b[0m\u001b[0;34m\u001b[0m\u001b[0;34m\u001b[0m\u001b[0m\n\u001b[0;32m--> 275\u001b[0;31m             \u001b[0;32mreturn\u001b[0m \u001b[0mgetattr\u001b[0m\u001b[0;34m(\u001b[0m\u001b[0mself\u001b[0m\u001b[0;34m,\u001b[0m \u001b[0mfunc\u001b[0m\u001b[0;34m)\u001b[0m\u001b[0;34m(\u001b[0m\u001b[0;34m*\u001b[0m\u001b[0margs\u001b[0m\u001b[0;34m,\u001b[0m \u001b[0;34m**\u001b[0m\u001b[0mkwargs\u001b[0m\u001b[0;34m)\u001b[0m\u001b[0;34m\u001b[0m\u001b[0;34m\u001b[0m\u001b[0m\n\u001b[0m\u001b[1;32m    276\u001b[0m \u001b[0;34m\u001b[0m\u001b[0m\n\u001b[1;32m    277\u001b[0m         \u001b[0;32melif\u001b[0m \u001b[0misinstance\u001b[0m\u001b[0;34m(\u001b[0m\u001b[0mfunc\u001b[0m\u001b[0;34m,\u001b[0m \u001b[0mabc\u001b[0m\u001b[0;34m.\u001b[0m\u001b[0mIterable\u001b[0m\u001b[0;34m)\u001b[0m\u001b[0;34m:\u001b[0m\u001b[0;34m\u001b[0m\u001b[0;34m\u001b[0m\u001b[0m\n",
      "\u001b[0;32m/usr/local/lib/python3.10/dist-packages/pandas/core/groupby/groupby.py\u001b[0m in \u001b[0;36m__getattr__\u001b[0;34m(self, attr)\u001b[0m\n\u001b[1;32m    985\u001b[0m             \u001b[0;32mreturn\u001b[0m \u001b[0mself\u001b[0m\u001b[0;34m[\u001b[0m\u001b[0mattr\u001b[0m\u001b[0;34m]\u001b[0m\u001b[0;34m\u001b[0m\u001b[0;34m\u001b[0m\u001b[0m\n\u001b[1;32m    986\u001b[0m \u001b[0;34m\u001b[0m\u001b[0m\n\u001b[0;32m--> 987\u001b[0;31m         raise AttributeError(\n\u001b[0m\u001b[1;32m    988\u001b[0m             \u001b[0;34mf\"'{type(self).__name__}' object has no attribute '{attr}'\"\u001b[0m\u001b[0;34m\u001b[0m\u001b[0;34m\u001b[0m\u001b[0m\n\u001b[1;32m    989\u001b[0m         )\n",
      "\u001b[0;31mAttributeError\u001b[0m: 'SeriesGroupBy' object has no attribute 'get_most_common'"
     ]
    }
   ],
   "source": [
    "# Moyenne ne correspond pas vraiment à toutes les features... adapter la méthode d'aggrégation selon les features\n",
    "\n",
    "from collections import Counter\n",
    "def get_most_common(srs):\n",
    "    x = list(srs)\n",
    "    my_counter = Counter(x)\n",
    "    return my_counter.most_common(1)[0][0]\n",
    "\n",
    "df_kmeans.groupby('cluster_num').agg({'payment_type' : 'get_most_common',\n",
    "                                          'payment_value' : 'mean',\n",
    "                                          'full_written_review' : 'get_most_common',\n",
    "                                          'product_category' : 'get_most_common',\n",
    "                                          'order_time' : 'mean',\n",
    "                                          'shipping_limit_respect' : 'get_most_common',\n",
    "                                          'purchase_dayofweek' : 'get_most_common',\n",
    "                                          'purchase_hour' : 'get_most_common',\n",
    "                                          'purchase_day' : 'get_most_common'\n",
    "                                          })"
   ]
  },
  {
   "cell_type": "code",
   "execution_count": null,
   "metadata": {
    "colab": {
     "base_uri": "https://localhost:8080/",
     "height": 502
    },
    "id": "EYZb7hWgTxzf",
    "outputId": "953148e3-0114-4d90-818a-302a01c5fbe6"
   },
   "outputs": [
    {
     "data": {
      "text/plain": [
       "<Axes: >"
      ]
     },
     "execution_count": 34,
     "metadata": {},
     "output_type": "execute_result"
    },
    {
     "data": {
      "image/png": "[encoded data removed]",
      "text/plain": [
       "<Figure size 800x550 with 1 Axes>"
      ]
     },
     "metadata": {},
     "output_type": "display_data"
    }
   ],
   "source": [
    "# Parallel coordinates plot (WIP)\n",
    "pd.plotting.parallel_coordinates(df_kmeans, 'cluster_num')"
   ]
  },
  {
   "cell_type": "code",
   "execution_count": null,
   "metadata": {
    "id": "JBR52YU2U_LR"
   },
   "outputs": [],
   "source": [
    "# autre idée de visualisation -> pairplot et colorer par cluster\n",
    "\n",
    "# Pairplot\n",
    "plt.figure()\n",
    "sns.pairplot(df_kmeans, hue = 'cluster_num')\n",
    "plt.show()"
   ]
  },
  {
   "cell_type": "code",
   "execution_count": null,
   "metadata": {
    "id": "-0e9lnNm0U9j"
   },
   "outputs": [],
   "source": [
    "# faire boxplots par variables par clusters pour expliquer clusters\n",
    "\n",
    "# https://www.data-to-viz.com/graph/parallel.html\n"
   ]
  },
  {
   "cell_type": "code",
   "execution_count": null,
   "metadata": {
    "id": "PUY5nv-xJST8"
   },
   "outputs": [],
   "source": [
    "# Plot Radar chart\n",
    "plot_radars(data = df_kmeans,\n",
    "            group = 'cluster_num')"
   ]
  },
  {
   "cell_type": "code",
   "execution_count": null,
   "metadata": {
    "id": "QVCYJM06Pq9-"
   },
   "outputs": [],
   "source": [
    "# faire boucle pour faire les plots\n",
    "\n",
    "# sinon, prendre les variables qui ont l'air le plus intéressantes pour expliquer les clusters"
   ]
  },
  {
   "cell_type": "code",
   "execution_count": null,
   "metadata": {
    "colab": {
     "base_uri": "https://localhost:8080/",
     "height": 825
    },
    "id": "J43tRkq9oTHx",
    "outputId": "91252404-7963-45ea-d30c-3d71ec6b465f"
   },
   "outputs": [
    {
     "data": {
      "text/plain": [
       "<mpl_toolkits.mplot3d.art3d.Path3DCollection at 0x7c4868ab2710>"
      ]
     },
     "execution_count": 32,
     "metadata": {},
     "output_type": "execute_result"
    },
    {
     "data": {
      "image/png": "[encoded data removed]",
      "text/plain": [
       "<Figure size 2000x1000 with 1 Axes>"
      ]
     },
     "metadata": {},
     "output_type": "display_data"
    }
   ],
   "source": [
    "# 3d-plot\n",
    "\n",
    "from mpl_toolkits.mplot3d import Axes3D\n",
    "\n",
    "fig = plt.figure(figsize = (20, 10))\n",
    "ax = fig.add_subplot(111, projection = '3d')\n",
    "\n",
    "x = np.array(labels == 0)\n",
    "y = np.array(labels == 1)\n",
    "z = np.array(labels == 2)\n",
    "\n",
    "ax.scatter(df_std_reduit[x]['payment_value'], df_std_reduit[x]['purchase_hour'], df_std_reduit[x]['full_written_review'], color = 'red')\n",
    "ax.scatter(df_std_reduit[y]['payment_value'], df_std_reduit[y]['purchase_hour'], df_std_reduit[y]['full_written_review'], color = 'blue')\n",
    "ax.scatter(df_std_reduit[z]['payment_value'], df_std_reduit[z]['purchase_hour'], df_std_reduit[z]['full_written_review'], color = 'yellow')\n",
    "ax.scatter(centroids[:, 0], centroids[:, 1], centroids[:, 2], c = 'black', s = 150, label = 'Center', alpha = 1)"
   ]
  },
  {
   "cell_type": "code",
   "execution_count": null,
   "metadata": {
    "colab": {
     "base_uri": "https://localhost:8080/",
     "height": 825
    },
    "id": "nsO5FKGtoTFR",
    "outputId": "1fedbb94-a911-4855-b5af-17749a946a58"
   },
   "outputs": [
    {
     "data": {
      "text/plain": [
       "<mpl_toolkits.mplot3d.art3d.Path3DCollection at 0x7c486896e4d0>"
      ]
     },
     "execution_count": 33,
     "metadata": {},
     "output_type": "execute_result"
    },
    {
     "data": {
      "image/png": "[encoded data removed]",
      "text/plain": [
       "<Figure size 2000x1000 with 1 Axes>"
      ]
     },
     "metadata": {},
     "output_type": "display_data"
    }
   ],
   "source": [
    "# 3d-plot\n",
    "\n",
    "from mpl_toolkits.mplot3d import Axes3D\n",
    "\n",
    "fig = plt.figure(figsize = (20, 10))\n",
    "ax = fig.add_subplot(111, projection = '3d')\n",
    "\n",
    "x = np.array(labels == 0)\n",
    "y = np.array(labels == 1)\n",
    "z = np.array(labels == 2)\n",
    "\n",
    "ax.scatter(df_std_reduit[x]['full_written_review'], df_std_reduit[x]['order_time'], df_std_reduit[x]['payment_value'], color = 'red')\n",
    "ax.scatter(df_std_reduit[y]['full_written_review'], df_std_reduit[y]['order_time'], df_std_reduit[y]['payment_value'], color = 'blue')\n",
    "ax.scatter(df_std_reduit[z]['full_written_review'], df_std_reduit[z]['order_time'], df_std_reduit[z]['payment_value'], color = 'yellow')\n",
    "ax.scatter(centroids[:, 0], centroids[:, 1], centroids[:, 2], c = 'black', s = 150, label = 'Center', alpha = 1)"
   ]
  },
  {
   "cell_type": "code",
   "execution_count": null,
   "metadata": {
    "id": "X8zu53dcoTCZ"
   },
   "outputs": [],
   "source": []
  },
  {
   "cell_type": "code",
   "execution_count": null,
   "metadata": {
    "id": "4tyGBveDoS_2"
   },
   "outputs": [],
   "source": []
  },
  {
   "cell_type": "code",
   "execution_count": null,
   "metadata": {
    "id": "2vynDecPoS9x"
   },
   "outputs": [],
   "source": [
    "# terminer de tester les autres modèles (aglomerative)\n",
    "# aller plus loin dans le feature eng -> le but est à la fin de pouvoir expliquer le comportement des clients\n",
    "# faire mon acp et aller jusqu'au cercle des corrélations -> prendre les variables qui ont des grands vecteurs\n",
    "# catégories de produits -> faire le mapping vers des catégories plus pertinentes (chatgpt)"
   ]
  },
  {
   "cell_type": "code",
   "execution_count": null,
   "metadata": {
    "id": "vfd7KK-MoS6w"
   },
   "outputs": [],
   "source": [
    "# faire un premier choix arbitraire et en fonction des résultats je peux identifier les variables qui sont vraiment pertinentes ou non etc"
   ]
  },
  {
   "cell_type": "code",
   "execution_count": null,
   "metadata": {
    "id": "qSuRTJbGoS1I"
   },
   "outputs": [],
   "source": [
    "# finir de tester mes différents modèles, les comparer et choisir le meilleur\n",
    "# avoir une description vulgarisée du comportement des clients de chaque cluster"
   ]
  },
  {
   "cell_type": "code",
   "execution_count": null,
   "metadata": {
    "id": "KzhtZvqgVOaR"
   },
   "outputs": [],
   "source": []
  },
  {
   "cell_type": "code",
   "execution_count": null,
   "metadata": {
    "id": "FDqs9XPkVOYU"
   },
   "outputs": [],
   "source": [
    "# Cluster interpretation\n",
    "\n",
    "# https://python.plainenglish.io/a-comprehensive-guide-to-customer-segmentation-in-python-with-kmeans-a04068f8c3c"
   ]
  },
  {
   "cell_type": "code",
   "execution_count": null,
   "metadata": {
    "id": "R5InLFWZWM5E"
   },
   "outputs": [],
   "source": [
    "# https://www.kaggle.com/code/karnikakapoor/customer-segmentation-clustering\n",
    "# à lire"
   ]
  },
  {
   "cell_type": "code",
   "execution_count": null,
   "metadata": {
    "id": "1V8Za0pNWM2e"
   },
   "outputs": [],
   "source": []
  },
  {
   "cell_type": "code",
   "execution_count": null,
   "metadata": {
    "id": "uqX72kY8WM0H"
   },
   "outputs": [],
   "source": []
  },
  {
   "cell_type": "code",
   "execution_count": null,
   "metadata": {
    "id": "wlFPM9s5WMxh"
   },
   "outputs": [],
   "source": []
  },
  {
   "cell_type": "code",
   "execution_count": null,
   "metadata": {
    "id": "yFCmI43CWMvN"
   },
   "outputs": [],
   "source": []
  },
  {
   "cell_type": "markdown",
   "metadata": {
    "id": "G4lraa8aVPGe"
   },
   "source": [
    "## Agglomerative clustering"
   ]
  },
  {
   "cell_type": "code",
   "execution_count": null,
   "metadata": {
    "id": "imN_C3RfVOVq"
   },
   "outputs": [],
   "source": [
    "# agglomerative clustering vs kmeans\n",
    "\n",
    "# https://datascience.stackexchange.com/questions/91182/when-should-we-choose-agglomerative-clustering-over-k-means-clustering\n",
    "# https://medium.com/@namanbhandari/agglomerative-clustering-vs-k-means-clustering-766a90b37dc0\n",
    "# https://towardsdatascience.com/machine-learning-algorithms-part-12-hierarchical-agglomerative-clustering-example-in-python-1e18e0075019"
   ]
  },
  {
   "cell_type": "code",
   "execution_count": null,
   "metadata": {
    "id": "615Thg9zFrVc"
   },
   "outputs": [],
   "source": [
    "# Run sur google colab -> echec (pas assez de RAM)\n",
    "# Run en local -> echec (kernel planté)\n",
    "\n",
    "# -> # complexité algorithmique -> n cube\n",
    "\n",
    "#-> test avec un échantillon réduit"
   ]
  },
  {
   "cell_type": "code",
   "execution_count": null,
   "metadata": {
    "id": "j8YkYG9WKgFM"
   },
   "outputs": [],
   "source": [
    "# Complexité algorithmique\n",
    "\n",
    "# = quantité de ressources (temps, espace...) nécessaire à l'execution d'un algorithme\n",
    "# calcul de la complexité d'un algorithme permet de mesurer sa performance (ah bon)\n",
    "\n",
    "# Il existe deux types de complexité :\n",
    "# - complexité spatiale : permet de quantifier l'utilisation de la mémoire\n",
    "# - complexité temporelle :  permet de quantifier la vitesse d'execution\n",
    "\n",
    "# 1 - Complexité temporelle\n",
    "\n",
    "# L’objectif d’un calcul de complexité algorithmique temporelle est de pouvoir comparer l’efficacité d’algorithmes résolvant le même problème.\n",
    "# Dans une situation donnée, cela permet donc d’établir lequel des algorithmes disponibles est le plus optimal.\n",
    "# -> revient à compter le nombre d'opérations élémentaires (affectation, calcul arithmétique ou logique, comparaison...) effectuées par l'algorithme\n",
    "# (on part du principe que toutes les opérations élémentaires ont le même coût de '1')\n",
    "\n",
    "# attention -> temps peut dépendre du langage de programmation utilisé, du processeur de l'ordinateur, du compilateur employé etc...\n",
    "\n",
    "# Plusieurs classes de complexité :\n",
    "# - constante, logarithmique, linéraire, cubique, exponentielle...\n"
   ]
  },
  {
   "cell_type": "code",
   "execution_count": null,
   "metadata": {
    "id": "vynEkC6WMopQ"
   },
   "outputs": [],
   "source": [
    "# Complexité algo de l'agglomerative clustering :\n",
    "# https://www.geeksforgeeks.org/ml-hierarchical-clustering-agglomerative-and-divisive-clustering/\n",
    "# The time complexity of a naive agglomerative clustering is O(n3) because we exhaustively scan the N x N matrix dist_mat for the lowest distance in each of\n",
    "# N-1 iterations. Using priority queue data structure we can reduce this complexity to O(n2logn). By using some more optimizations it can be brought down to O(n2)."
   ]
  },
  {
   "cell_type": "code",
   "execution_count": null,
   "metadata": {
    "id": "_KT7V4yrGk1p"
   },
   "outputs": [],
   "source": [
    "df_std_reduit.shape"
   ]
  },
  {
   "cell_type": "code",
   "execution_count": null,
   "metadata": {
    "id": "VlMhLvRcI4Xt"
   },
   "outputs": [],
   "source": [
    "# Test avec un échantillon de 10% :\n",
    "df_sampled = df_std_reduit.sample(frac = 0.1, axis = 0)"
   ]
  },
  {
   "cell_type": "code",
   "execution_count": null,
   "metadata": {
    "id": "qd3Rky84VOTi"
   },
   "outputs": [],
   "source": [
    "# code :\n",
    "# https://www.geeksforgeeks.org/implementing-agglomerative-clustering-using-sklearn/"
   ]
  },
  {
   "cell_type": "code",
   "execution_count": null,
   "metadata": {
    "id": "WXkPCgAXYHb1"
   },
   "outputs": [],
   "source": [
    "# articles à regarder :\n",
    "# https://stackabuse.com/bytes/agglomerative-hierarchical-clustering-with-scikit-learn/\n",
    "# https://medium.com/datadenys/what-is-agglomerative-clustering-and-how-to-use-it-with-python-scikit-learn-7e127ddb148c\n",
    "# https://scikit-learn.org/stable/auto_examples/cluster/plot_agglomerative_clustering_metrics.html#sphx-glr-auto-examples-cluster-plot-agglomerative-clustering-metrics-py"
   ]
  },
  {
   "cell_type": "code",
   "execution_count": null,
   "metadata": {
    "id": "B7nYVrCMYHZZ"
   },
   "outputs": [],
   "source": []
  },
  {
   "cell_type": "code",
   "execution_count": null,
   "metadata": {
    "id": "i9FaSOujYHXJ"
   },
   "outputs": [],
   "source": [
    "#https://github.com/OpenClassrooms-Student-Center/Multivariate-Exploratory-Analysis/blob/master/3b.%20Hierarchical%20Clustering.ipynb"
   ]
  },
  {
   "cell_type": "code",
   "execution_count": null,
   "metadata": {
    "id": "HDFHwYsP2UEF"
   },
   "outputs": [],
   "source": [
    "from sklearn.cluster import AgglomerativeClustering"
   ]
  },
  {
   "cell_type": "code",
   "execution_count": null,
   "metadata": {
    "id": "0_ktYs6Y2UBt"
   },
   "outputs": [],
   "source": [
    "# Create a hierarchical clustering model\n",
    "hiercluster = AgglomerativeClustering(affinity = 'euclidean',\n",
    "                                      linkage = 'ward',\n",
    "                                      compute_full_tree = True)"
   ]
  },
  {
   "cell_type": "code",
   "execution_count": null,
   "metadata": {
    "id": "OpCvjOYwOl3C"
   },
   "outputs": [],
   "source": [
    "# Comment définir nb de cluster optimal ?"
   ]
  },
  {
   "cell_type": "code",
   "execution_count": null,
   "metadata": {
    "id": "8cvoH8sP2T_U"
   },
   "outputs": [],
   "source": [
    "# Fit the data to the model and determine which clusters each data point belongs to:\n",
    "hiercluster.set_params(n_clusters = 3) # pour trouver 3 clusters\n",
    "clusters_3 = hiercluster.fit_predict(df_sampled)\n",
    "np.bincount(clusters_3) # count of data points in each cluster"
   ]
  },
  {
   "cell_type": "code",
   "execution_count": null,
   "metadata": {
    "id": "T9zcp7dAa2Rt"
   },
   "outputs": [],
   "source": [
    "# Evaluation du clustering : silhouette score\n",
    "silhouette_agglo_3 = round(silhouette_score(df_sampled, clusters_3), 2)\n",
    "print('The average silhouette score is:', silhouette_agglo_3)"
   ]
  },
  {
   "cell_type": "code",
   "execution_count": null,
   "metadata": {
    "id": "54VlJ1Sh2T80"
   },
   "outputs": [],
   "source": [
    "# Read off 5 clusters:\n",
    "hiercluster.set_params(n_clusters = 5)\n",
    "clusters_5 = hiercluster.fit_predict(df_sampled)\n",
    "np.bincount(clusters_5)"
   ]
  },
  {
   "cell_type": "code",
   "execution_count": null,
   "metadata": {
    "id": "WyFHBAk2bHVJ"
   },
   "outputs": [],
   "source": [
    "# Evaluation du clustering : silhouette score\n",
    "silhouette_agglo_5 = round(silhouette_score(df_sampled, clusters_5), 2)\n",
    "print('The average silhouette score is:', silhouette_agglo_5)"
   ]
  },
  {
   "cell_type": "code",
   "execution_count": null,
   "metadata": {
    "id": "oPeIl7gU2T6G"
   },
   "outputs": [],
   "source": [
    "# Add cluster number to the original data\n",
    "df_sampled_clustered = pd.DataFrame(df_sampled,\n",
    "                                       columns = df_sampled.columns,\n",
    "                                       index = df_sampled.index)\n",
    "df_sampled_clustered['cluster'] = clusters_5\n",
    "\n",
    "df_sampled_clustered.head()"
   ]
  },
  {
   "cell_type": "code",
   "execution_count": null,
   "metadata": {
    "id": "hYaJCrYE2T4A"
   },
   "outputs": [],
   "source": [
    "# Find the size of the clusters\n",
    "df_sampled_clustered[\"cluster\"].value_counts()"
   ]
  },
  {
   "cell_type": "code",
   "execution_count": null,
   "metadata": {
    "id": "vCvzzftQQdyH"
   },
   "outputs": [],
   "source": [
    "# regarder si imbalanced ou non"
   ]
  },
  {
   "cell_type": "code",
   "execution_count": null,
   "metadata": {
    "id": "RYqMKY4mJzsY"
   },
   "outputs": [],
   "source": [
    "def plot_dendrogram(Z, names, figsize = (10, 25)):\n",
    "    '''Plot a dendrogram to illustrate hierarchical clustering'''\n",
    "\n",
    "    plt.figure(figsize = figsize)\n",
    "    plt.title('Hierarchical Clustering Dendrogram')\n",
    "    plt.xlabel('distance')\n",
    "    dendrogram(\n",
    "        Z,\n",
    "        labels = names,\n",
    "        orientation = \"left\",\n",
    "    )\n",
    "    plt.show()"
   ]
  },
  {
   "cell_type": "code",
   "execution_count": null,
   "metadata": {
    "id": "0tnMK3AQ2T1U"
   },
   "outputs": [],
   "source": [
    "# Show a dendrogram, just for the first smallest cluster\n",
    "from scipy.cluster.hierarchy import linkage, fcluster\n",
    "from scipy.cluster.hierarchy import dendrogram\n",
    "sample = df_sampled_clustered[df_sampled_clustered.cluster == 2] # prendre le cluster 2 car celui avec le moins d'échantillons donc sera plus lisible\n",
    "Z = linkage(sample, 'ward')\n",
    "names = sample.index\n",
    "plot_dendrogram(Z, names, figsize = (10, 15))"
   ]
  },
  {
   "cell_type": "code",
   "execution_count": null,
   "metadata": {
    "id": "CwrIrCIP2Ty_"
   },
   "outputs": [],
   "source": [
    "sample = df_sampled\n",
    "Z = linkage(sample, 'ward')\n",
    "names = sample.index\n",
    "plot_dendrogram(Z, names, figsize = (10, 15))"
   ]
  },
  {
   "cell_type": "code",
   "execution_count": null,
   "metadata": {
    "id": "fRnS9YAhOuPs"
   },
   "outputs": [],
   "source": []
  },
  {
   "cell_type": "code",
   "execution_count": null,
   "metadata": {
    "id": "0J4E_fGVOuNk"
   },
   "outputs": [],
   "source": [
    "# https://www.geeksforgeeks.org/implementing-agglomerative-clustering-using-sklearn/"
   ]
  },
  {
   "cell_type": "code",
   "execution_count": null,
   "metadata": {
    "id": "Sk0W2Mf9OuK0"
   },
   "outputs": [],
   "source": [
    "import scipy.cluster.hierarchy as shc\n",
    "plt.figure(figsize = (8, 8))\n",
    "plt.title('Visualising the data')\n",
    "Dendrogram = shc.dendrogram((shc.linkage(df_sampled, method ='ward')))"
   ]
  },
  {
   "cell_type": "code",
   "execution_count": null,
   "metadata": {
    "id": "nAfjVxWNOuGc"
   },
   "outputs": [],
   "source": [
    "# résultat doit être à peu près similaire à ce qu'on option avec kmeans\n",
    "# or on a du beaucoup réduire jeu de données donc trop contraignant donc pas adapté à notre situation donc on abandonne"
   ]
  },
  {
   "cell_type": "code",
   "execution_count": null,
   "metadata": {
    "id": "rDevJi_bOuEM"
   },
   "outputs": [],
   "source": []
  },
  {
   "cell_type": "code",
   "execution_count": null,
   "metadata": {
    "id": "7UspZEvTOuB3"
   },
   "outputs": [],
   "source": []
  },
  {
   "cell_type": "code",
   "execution_count": null,
   "metadata": {
    "id": "wj5nHnbaOt_X"
   },
   "outputs": [],
   "source": []
  },
  {
   "cell_type": "code",
   "execution_count": null,
   "metadata": {
    "id": "QW_cAYyCOt9M"
   },
   "outputs": [],
   "source": []
  },
  {
   "cell_type": "code",
   "execution_count": null,
   "metadata": {
    "id": "sOIzw5J7Ot6_"
   },
   "outputs": [],
   "source": []
  },
  {
   "cell_type": "code",
   "execution_count": null,
   "metadata": {
    "id": "68QoJHPMOt40"
   },
   "outputs": [],
   "source": []
  },
  {
   "cell_type": "code",
   "execution_count": null,
   "metadata": {
    "id": "xNOiSFAKOt2P"
   },
   "outputs": [],
   "source": []
  },
  {
   "cell_type": "code",
   "execution_count": null,
   "metadata": {
    "id": "3alJXgjM2Ttt"
   },
   "outputs": [],
   "source": []
  },
  {
   "cell_type": "code",
   "execution_count": null,
   "metadata": {
    "id": "YziXf1yW2Tq_"
   },
   "outputs": [],
   "source": [
    "# REGARDER INFERENCE BAYESIENNE et voir si on ne peut pas faire ça ici"
   ]
  },
  {
   "cell_type": "markdown",
   "metadata": {
    "id": "xWzT_r8XmONK"
   },
   "source": [
    "## DBSCAN"
   ]
  },
  {
   "cell_type": "code",
   "execution_count": null,
   "metadata": {
    "id": "pytVLkMu7UNZ"
   },
   "outputs": [],
   "source": [
    "# DBSCAN\n",
    "\n",
    "# https://datascientest.com/machine-learning-clustering-dbscan#:~:text=Le%20DBSCAN%20est%20un%20algorithme%20simple%20qui%20d%C3%A9finit%20des%20clusters,estimation%20de%20la%20densit%C3%A9%20locale.\n",
    "# Le DBSCAN est un algorithme simple qui définit des clusters en utilisant l’estimation de la densité locale\n",
    "\n",
    "# https://www.reneshbedre.com/blog/dbscan-python.html"
   ]
  },
  {
   "cell_type": "code",
   "execution_count": null,
   "metadata": {
    "id": "vfwbt7yRlVAy"
   },
   "outputs": [],
   "source": [
    "# 1) calculer epsilon et min_samples"
   ]
  },
  {
   "cell_type": "code",
   "execution_count": null,
   "metadata": {
    "id": "5BxG0j7wm9fe"
   },
   "outputs": [],
   "source": [
    "from sklearn.neighbors import NearestNeighbors\n",
    "# n_neighbors = 5 as kneighbors function returns distance of point to itself (i.e. first column will be zeros)\n",
    "nbrs = NearestNeighbors(n_neighbors = 5).fit(df_sampled)\n",
    "# Find the k-neighbors of a point\n",
    "neigh_dist, neigh_ind = nbrs.kneighbors(df_sampled)\n",
    "# sort the neighbor distances (lengths to points) in ascending order\n",
    "# axis = 0 represents sort along first axis i.e. sort along row\n",
    "sort_neigh_dist = np.sort(neigh_dist, axis = 0)\n",
    "\n",
    "k_dist = sort_neigh_dist[:, 4]\n",
    "plt.plot(k_dist)\n",
    "plt.ylabel(\"k-NN distance\")\n",
    "plt.xlabel(\"Sorted observations (4th NN)\")\n",
    "plt.show()"
   ]
  },
  {
   "cell_type": "code",
   "execution_count": null,
   "metadata": {
    "id": "phDZDJUU9FqV"
   },
   "outputs": [],
   "source": [
    "!pip install kneed\n",
    "from kneed import KneeLocator\n",
    "kneedle = KneeLocator(x = range(1, len(neigh_dist)+1), y = k_dist, S = 1.0,\n",
    "                      curve = \"concave\", direction = \"increasing\", online=True)\n",
    "\n",
    "# get the estimate of knee point\n",
    "print(kneedle.knee_y)"
   ]
  },
  {
   "cell_type": "code",
   "execution_count": null,
   "metadata": {
    "id": "0a4ounaMjsiu"
   },
   "outputs": [],
   "source": [
    "kneedle.plot_knee()\n",
    "plt.show()"
   ]
  },
  {
   "cell_type": "code",
   "execution_count": null,
   "metadata": {
    "id": "vBPgZmWgjxRe"
   },
   "outputs": [],
   "source": [
    "# utiliser cet optimum pour le dbscan clustering\n",
    "\n",
    "eps = kneedle.knee_y"
   ]
  },
  {
   "cell_type": "code",
   "execution_count": null,
   "metadata": {
    "id": "EYXR-vtdnOZv"
   },
   "outputs": [],
   "source": [
    "df_sampled.columns"
   ]
  },
  {
   "cell_type": "code",
   "execution_count": null,
   "metadata": {
    "id": "ttEMA8kikiz_"
   },
   "outputs": [],
   "source": [
    "# min_samples = 2 * number of dimensions\n",
    "\n",
    "min_samples = 2 * df_sampled.shape[1]\n",
    "\n",
    "# fixer min_samples à 100 -> sinon ne fait pas sens (on veut au moins 100 clients par cluster)\n",
    "# essayer avec un min_samples à 10 et faire varier epsilon\n",
    "# le but étant de montrer que pas adapté"
   ]
  },
  {
   "cell_type": "code",
   "execution_count": null,
   "metadata": {
    "id": "p48AKcrPL-9R"
   },
   "outputs": [],
   "source": [
    "# ATTENTION -> les clusters et les num de clusters sont dans le df ?????\n",
    "\n",
    "# c'est quoi level_0 ???"
   ]
  },
  {
   "cell_type": "code",
   "execution_count": null,
   "metadata": {
    "id": "HChTW41SnFj4"
   },
   "outputs": [],
   "source": [
    "from sklearn.cluster import DBSCAN\n",
    "\n",
    "db = DBSCAN(eps = eps, min_samples = min_samples).fit(df_sampled)\n",
    "\n",
    "# get cluster labels\n",
    "labels = db.labels_"
   ]
  },
  {
   "cell_type": "code",
   "execution_count": null,
   "metadata": {
    "id": "2DICvXmPmxo1"
   },
   "outputs": [],
   "source": [
    "# Number of clusters in labels, ignoring noise if present.\n",
    "n_clusters_ = len(set(labels)) - (1 if -1 in labels else 0)\n",
    "n_noise_ = list(labels).count(-1)\n",
    "\n",
    "print(\"Estimated number of clusters: %d\" % n_clusters_)\n",
    "print(\"Estimated number of noise points: %d\" % n_noise_)"
   ]
  },
  {
   "cell_type": "code",
   "execution_count": null,
   "metadata": {
    "id": "csp2gjwklxzk"
   },
   "outputs": [],
   "source": [
    "# check unique clusters\n",
    "set(labels) # -1 value represents noisy points could not assigned to any cluster"
   ]
  },
  {
   "cell_type": "code",
   "execution_count": null,
   "metadata": {
    "id": "MHEva9N4l7hx"
   },
   "outputs": [],
   "source": [
    "# Get each cluster size\n",
    "from collections import Counter\n",
    "Counter(labels)"
   ]
  },
  {
   "cell_type": "code",
   "execution_count": null,
   "metadata": {
    "id": "_jwsHOZAlq96"
   },
   "outputs": [],
   "source": [
    "y_pred = DBSCAN(eps = eps, min_samples = min_samples).fit_predict(df_sampled)"
   ]
  },
  {
   "cell_type": "code",
   "execution_count": null,
   "metadata": {
    "id": "idn-OLssbaFy"
   },
   "outputs": [],
   "source": [
    "# Evaluation du clustering : silhouette score\n",
    "silhouette_dbscan = round(silhouette_score(df_sampled, y_pred), 2)\n",
    "print('The average silhouette score is:', silhouette_dbscan)"
   ]
  },
  {
   "cell_type": "code",
   "execution_count": null,
   "metadata": {
    "id": "WDR8EPFUnHBa"
   },
   "outputs": [],
   "source": [
    "from sklearn import metrics\n",
    "print(f\"Homogeneity: {metrics.homogeneity_score(labels_true, labels):.3f}\")\n",
    "print(f\"Completeness: {metrics.completeness_score(labels_true, labels):.3f}\")\n",
    "print(f\"V-measure: {metrics.v_measure_score(labels_true, labels):.3f}\")\n",
    "print(f\"Adjusted Rand Index: {metrics.adjusted_rand_score(labels_true, labels):.3f}\")\n",
    "print(\n",
    "    \"Adjusted Mutual Information:\"\n",
    "    f\" {metrics.adjusted_mutual_info_score(labels_true, labels):.3f}\"\n",
    ")\n",
    "print(f\"Silhouette Coefficient: {metrics.silhouette_score(X, labels):.3f}\")"
   ]
  },
  {
   "cell_type": "code",
   "execution_count": null,
   "metadata": {
    "id": "n_0yyBOsqu7A"
   },
   "outputs": [],
   "source": [
    "plt.figure()\n",
    "plt.scatter(df_sampled['payment_value'],\n",
    "            df_sampled['product_category'],\n",
    "            c = y_pred)\n",
    "plt.show()"
   ]
  },
  {
   "cell_type": "code",
   "execution_count": null,
   "metadata": {
    "id": "dGk2o8E8rcRc"
   },
   "outputs": [],
   "source": [
    "plt.figure()\n",
    "plt.scatter(df_sampled['payment_value'],\n",
    "            df_sampled['product_category'],\n",
    "            c = y_pred,\n",
    "            cmap = plt.get_cmap('jet'))\n",
    "plt.show()"
   ]
  },
  {
   "cell_type": "code",
   "execution_count": null,
   "metadata": {
    "id": "v8j3UrE6mJ3p"
   },
   "outputs": [],
   "source": [
    "plt.figure()\n",
    "p = sns.scatterplot(data = df_sampled,\n",
    "                    x = 'purchase_day',\n",
    "                    y = 'product_category',\n",
    "                    hue = labels,\n",
    "                    legend = 'full',\n",
    "                    palette = 'deep')\n",
    "sns.move_legend(p,\n",
    "                'upper right',\n",
    "                bbox_to_anchor = (1.17, 1.),\n",
    "                title = 'Clusters')\n",
    "plt.show()"
   ]
  },
  {
   "cell_type": "markdown",
   "metadata": {
    "id": "-M-BqEQHVJE0"
   },
   "source": [
    "## Spectral clustering"
   ]
  },
  {
   "cell_type": "code",
   "execution_count": null,
   "metadata": {
    "id": "lbo3HwmWYHVK"
   },
   "outputs": [],
   "source": [
    "# https://www.kaggle.com/code/vipulgandhi/spectral-clustering-detailed-explanation"
   ]
  },
  {
   "cell_type": "markdown",
   "metadata": {
    "id": "FViHW50EJJuz"
   },
   "source": [
    "In spectral clustering, data points are treated as nodes of a graph. Thus, spectral clustering is a graph partitioning problem. The nodes are then mapped to a low-dimensional space that can be easily segregated to form clusters. No assumption is made about the shape/form of the clusters. The goal of spectral clustering is to cluster data that is connected but not necessarily compact or clustered within convex boundaries.\n",
    "\n",
    "Spectral Clustering vs. Kmeans\n",
    "Compactness — Points that lie close to each other fall in the same cluster and are compact around the cluster center. The closeness can be measured by the distance between the observations. E.g.: K-Means Clustering\n",
    "Connectivity — Points that are connected or immediately next to each other are put in the same cluster. Even if the distance between 2 points is less, if they are not connected, they are not clustered together. Spectral Clustering is a technique that follows this approach.\n",
    "\n"
   ]
  },
  {
   "cell_type": "code",
   "execution_count": null,
   "metadata": {
    "id": "GYVMw7T_VIb5"
   },
   "outputs": [],
   "source": [
    "# https://www.geeksforgeeks.org/ml-spectral-clustering/\n",
    "#### à lire"
   ]
  },
  {
   "cell_type": "code",
   "execution_count": null,
   "metadata": {
    "id": "vw3yGgHOVIee"
   },
   "outputs": [],
   "source": [
    "# souvent utilisé après une ACP comme ça les données sont visualisées en 2D (en gardant 2 composantes uniquement) donc plus facile d'évaluer perf du clustering\n",
    "# (comme pour tous les algo en fait...)"
   ]
  },
  {
   "cell_type": "code",
   "execution_count": null,
   "metadata": {
    "id": "6Mu13_1_LAx7"
   },
   "outputs": [],
   "source": [
    "# complexité algorithmique : O(n3)\n",
    "# -> utiliser le df_sampled"
   ]
  },
  {
   "cell_type": "code",
   "execution_count": null,
   "metadata": {
    "id": "xYAN50dzVIg0"
   },
   "outputs": [],
   "source": [
    "from sklearn.cluster import SpectralClustering"
   ]
  },
  {
   "cell_type": "code",
   "execution_count": null,
   "metadata": {
    "id": "9LRQyxJIOxsB"
   },
   "outputs": [],
   "source": [
    "# Comment définir nb de cluster optimal ?"
   ]
  },
  {
   "cell_type": "code",
   "execution_count": null,
   "metadata": {
    "id": "cQ9y3DkKVImB"
   },
   "outputs": [],
   "source": [
    "%%time\n",
    "# affinity matrix avec kernel Gaussien\n",
    "# -> 'affinity' = 'rbf'\n",
    "\n",
    "# Building the clustering model\n",
    "spectral_model_rbf = SpectralClustering(n_clusters = 4, affinity ='rbf')\n",
    "\n",
    "# Training the model and Storing the predicted cluster labels\n",
    "labels_rbf = spectral_model_rbf.fit_predict(df_sampled)"
   ]
  },
  {
   "cell_type": "code",
   "execution_count": null,
   "metadata": {
    "id": "5dInt0d7bm47"
   },
   "outputs": [],
   "source": [
    "# Evaluation du clustering : silhouette score\n",
    "silhouette_spectral_rbf = round(silhouette_score(df_sampled, labels_rbf), 2)\n",
    "print('The average silhouette score is:', silhouette_spectral_rbf)"
   ]
  },
  {
   "cell_type": "code",
   "execution_count": null,
   "metadata": {
    "id": "X2zR9Hi3VIoW"
   },
   "outputs": [],
   "source": [
    "# Visualizing the clustering\n",
    "plt.figure()\n",
    "plt.scatter(df_sampled['payment_value'],\n",
    "            df_sampled['purchase_dayofweek'],\n",
    "            c = SpectralClustering(n_clusters = 4, affinity = 'rbf').fit_predict(df_sampled),\n",
    "            cmap = plt.cm.winter)\n",
    "plt.show()"
   ]
  },
  {
   "cell_type": "code",
   "execution_count": null,
   "metadata": {
    "id": "WBtGDyROVIqb"
   },
   "outputs": [],
   "source": [
    "%%time\n",
    "# -> affinity = ‘nearest_neighbors’\n",
    "\n",
    "# Building the clustering model\n",
    "spectral_model_nn = SpectralClustering(n_clusters = 2, affinity ='nearest_neighbors')\n",
    "\n",
    "# Training the model and Storing the predicted cluster labels\n",
    "labels_nn = spectral_model_nn.fit_predict(df_sampled)"
   ]
  },
  {
   "cell_type": "code",
   "execution_count": null,
   "metadata": {
    "id": "o2I6JZn9bxmc"
   },
   "outputs": [],
   "source": [
    "# Evaluation du clustering : silhouette score\n",
    "silhouette_spectral_nn = round(silhouette_score(df_sampled, labels_nn), 2)\n",
    "print('The average silhouette score is:', silhouette_spectral_nn)"
   ]
  },
  {
   "cell_type": "code",
   "execution_count": null,
   "metadata": {
    "id": "-Gu1UhvbYHTB"
   },
   "outputs": [],
   "source": [
    "# Visualizing the clustering\n",
    "plt.figure()\n",
    "plt.scatter(df_sampled['payment_value'],\n",
    "            df_sampled['purchase_dayofweek'],\n",
    "            c = SpectralClustering(n_clusters = 2, affinity = 'nearest_neighbors').fit_predict(df_sampled),\n",
    "            cmap = plt.cm.winter)\n",
    "plt.show()"
   ]
  },
  {
   "cell_type": "code",
   "execution_count": null,
   "metadata": {
    "id": "ElzjbwB8PAJb"
   },
   "outputs": [],
   "source": [
    "# Evaluer performances (sur dataset avant sampling ? )\n",
    "\n",
    "# List of different values of affinity\n",
    "affinity = ['rbf', 'nearest-neighbours']\n",
    "\n",
    "# List of Silhouette Scores\n",
    "s_scores = []\n",
    "\n",
    "# Evaluating the performance\n",
    "s_scores.append(silhouette_score(df_std_reduit, labels_rbf))\n",
    "s_scores.append(silhouette_score(df_std_reduit, labels_nn))\n",
    "\n",
    "print(s_scores)"
   ]
  },
  {
   "cell_type": "markdown",
   "metadata": {
    "id": "Z5Wgt71K0HBl"
   },
   "source": [
    "## ACP"
   ]
  },
  {
   "cell_type": "code",
   "execution_count": null,
   "metadata": {
    "id": "m73cnpuQ0HBl"
   },
   "outputs": [],
   "source": [
    "# Df réduit\n",
    "df_std_reduit.shape"
   ]
  },
  {
   "cell_type": "code",
   "execution_count": null,
   "metadata": {
    "id": "ilplEhvX0HBm"
   },
   "outputs": [],
   "source": [
    "# Réduction dimmensionnelle avec 'Principal Component Analysis'\n",
    "pca_reduit = PCA()\n",
    "df_pca_reduit = pca_reduit.fit_transform(df_std_reduit)\n",
    "df_pca_reduit"
   ]
  },
  {
   "cell_type": "code",
   "execution_count": null,
   "metadata": {
    "id": "X97xinH_0HBm"
   },
   "outputs": [],
   "source": [
    "# Représentation graphique\n",
    "fig = plt.figure(1, figsize = (12, 4))\n",
    "plt.bar(range(len(pca_reduit.explained_variance_ratio_)),\n",
    "        100*pca_reduit.explained_variance_ratio_)\n",
    "plt.ylim(0, 1.05*100)\n",
    "plt.plot(range(len(pca_reduit.explained_variance_ratio_)),\n",
    "         100*np.cumsum(pca_reduit.explained_variance_ratio_), \"s-\")\n",
    "plt.ylabel(\"Pourcentage de variance\")\n",
    "plt.xlabel(\"Nombre de composantes\")\n",
    "plt.title(\"Variance expliqué par PCA\")\n",
    "plt.show()"
   ]
  },
  {
   "cell_type": "code",
   "execution_count": null,
   "metadata": {
    "id": "auXB4DYR0HBm"
   },
   "outputs": [],
   "source": [
    "# meh"
   ]
  },
  {
   "cell_type": "code",
   "execution_count": null,
   "metadata": {
    "id": "ciJ8_o6i0HBm"
   },
   "outputs": [],
   "source": [
    "# autre représentation de la variance expliquée :\n",
    "plt.figure(figsize = (12, 4))\n",
    "sns.barplot(x = np.arange(1, len(pca_reduit.explained_variance_ratio_) + 1),\n",
    "            y = np.cumsum(pca_reduit.explained_variance_ratio_))\n",
    "plt.xlabel('Number of Principal Components')\n",
    "plt.ylabel('Cumulative Explained Variance')\n",
    "plt.title('Explained Variance Ratio')\n",
    "plt.show()"
   ]
  },
  {
   "cell_type": "code",
   "execution_count": null,
   "metadata": {
    "id": "3gAgSj_n0HBm"
   },
   "outputs": [],
   "source": [
    "pca_reduit.explained_variance_ratio_"
   ]
  },
  {
   "cell_type": "code",
   "execution_count": null,
   "metadata": {
    "id": "sRrIc-dd0HBm"
   },
   "outputs": [],
   "source": [
    "# Scree plot\n",
    "# ( = line plot of the eigenvalues of factors or principal components in an analysis)\n",
    "\n",
    "ind = np.arange(0, 22)\n",
    "(fig, ax) = plt.subplots(figsize = (8, 6))\n",
    "sns.pointplot(x = ind, y = pca_reduit.explained_variance_ratio_)\n",
    "ax.set_title('Scree plot')\n",
    "ax.set_xticks(ind)\n",
    "ax.set_xticklabels(ind)\n",
    "ax.set_xlabel('Component Number')\n",
    "ax.set_ylabel('Explained Variance')\n",
    "plt.show()"
   ]
  },
  {
   "cell_type": "code",
   "execution_count": null,
   "metadata": {
    "id": "Pw9udHVg18b_"
   },
   "outputs": [],
   "source": [
    "def display_scree_plot(pca):\n",
    "    '''Display a scree plot for the pca'''\n",
    "\n",
    "    scree = pca.explained_variance_ratio_*100\n",
    "    plt.bar(np.arange(len(scree))+1, scree)\n",
    "    plt.plot(np.arange(len(scree))+1, scree.cumsum(),c=\"red\",marker='o')\n",
    "    plt.xlabel(\"Number of principal components\")\n",
    "    plt.ylabel(\"Percentage explained variance\")\n",
    "    plt.title(\"Scree plot\")\n",
    "    plt.show(block=False)"
   ]
  },
  {
   "cell_type": "code",
   "execution_count": null,
   "metadata": {
    "id": "u292TVYg19Xv"
   },
   "outputs": [],
   "source": [
    "display_scree_plot(pca)"
   ]
  },
  {
   "cell_type": "code",
   "execution_count": null,
   "metadata": {
    "id": "zDF39d-00HBn"
   },
   "outputs": [],
   "source": [
    "# Test en ne gardant que 2 dimensions :\n",
    "\n",
    "pca_reduit = PCA(n_components = 5)\n",
    "df_pca_reduit = pca_reduit.fit_transform(df_std_reduit)"
   ]
  },
  {
   "cell_type": "code",
   "execution_count": null,
   "metadata": {
    "id": "J45Or_jN0HBn"
   },
   "outputs": [],
   "source": [
    "print('Explained variance regarding first dimension : ' + \"{:.1%}\".format(pca_reduit.explained_variance_ratio_[0]))\n",
    "print('Explained variance regarding second dimension : ' + \"{:.1%}\".format(pca_reduit.explained_variance_ratio_[1]))\n",
    "print('Total variance included in those 2 dimensions : ' + \"{:.1%}\".format(pca_reduit.explained_variance_ratio_.sum()))"
   ]
  },
  {
   "cell_type": "code",
   "execution_count": null,
   "metadata": {
    "id": "fdmjB2dS0HBn"
   },
   "outputs": [],
   "source": [
    "# nuuuuuul - 31% de variance expliquée avec 5 features..."
   ]
  },
  {
   "cell_type": "code",
   "execution_count": null,
   "metadata": {
    "id": "c3d6vR6Y0HBn"
   },
   "outputs": [],
   "source": [
    "# Test en conservant 90% de la variance\n",
    "\n",
    "pca_reduit_90 = PCA(n_components = 0.90)  # 90% de la variance\n",
    "df_pca_reduit_90 = pca_reduit_90.fit_transform(df_std_reduit)\n",
    "\n",
    "# Mise sous forme de DataFrame\n",
    "df_pca_reduit_90 = pd.DataFrame(df_pca_reduit_90, columns = [\"Composante_\" + str(i) for i in range(df_pca_reduit_90.shape[1])])\n",
    "df_pca_reduit_90.shape"
   ]
  },
  {
   "cell_type": "code",
   "execution_count": null,
   "metadata": {
    "id": "d8tRnBST0HBn"
   },
   "outputs": [],
   "source": [
    "# 18 variables..."
   ]
  },
  {
   "cell_type": "code",
   "execution_count": null,
   "metadata": {
    "id": "cFrueExp0HBn"
   },
   "outputs": [],
   "source": [
    "# Plot the correlation circle\n",
    "from matplotlib.patches import Ellipse\n",
    "\n",
    "def plot_correlation_circle(pca, features, dimensions = (0, 1), scale_factor = 1):\n",
    "    num_features = len(features)\n",
    "    num_principal_components = pca.components_.shape[0]\n",
    "\n",
    "    if dimensions[0] >= num_principal_components or dimensions[1] >= num_principal_components:\n",
    "        raise ValueError(\"Invalid dimensions. Ensure that dimensions are within the range of available principal components.\")\n",
    "\n",
    "    plt.figure(figsize = (10, 10))\n",
    "\n",
    "    # Scatter plot (avec transparence)\n",
    "    plt.scatter(pca.components_[dimensions[0], :],\n",
    "                pca.components_[dimensions[1], :],\n",
    "                alpha = 0.7)\n",
    "\n",
    "    # Plot arrows\n",
    "    for i in range(num_features):\n",
    "        plt.arrow(0,\n",
    "                  0,\n",
    "                  pca.components_[dimensions[0], i],\n",
    "                  pca.components_[dimensions[1], i],\n",
    "                  head_width = 0.05,\n",
    "                  head_length = 0.05,\n",
    "                  fc = 'grey',\n",
    "                  ec = 'grey',\n",
    "                  alpha = 0.5)\n",
    "\n",
    "        plt.text(pca.components_[dimensions[0], i] * scale_factor,\n",
    "                 pca.components_[dimensions[1], i] * scale_factor,\n",
    "                 features[i],\n",
    "                 ha = 'left',\n",
    "                 va = 'bottom',\n",
    "                 fontsize = 8)\n",
    "\n",
    "    # Add circle patch\n",
    "    ellipse = Ellipse((0, 0),\n",
    "                      2,\n",
    "                      2,\n",
    "                      edgecolor = 'black',\n",
    "                      facecolor = 'none',\n",
    "                      linewidth = 2)\n",
    "    plt.gca().add_patch(ellipse)\n",
    "\n",
    "    # Add reference lines\n",
    "    plt.axhline(0, color = 'black', linestyle = '--', linewidth = 1)\n",
    "    plt.axvline(0, color = 'black', linestyle = '--', linewidth = 1)\n",
    "\n",
    "    # Set axis labels\n",
    "    plt.xlabel(f'Principal Component {dimensions[0] + 1}')\n",
    "    plt.ylabel(f'Principal Component {dimensions[1] + 1}')\n",
    "\n",
    "    # Set plot title\n",
    "    plt.title('Correlation Circle')\n",
    "\n",
    "# Plot correlation circle using the first two principal components\n",
    "plot_correlation_circle(pca_reduit_90, features = df_std_reduit.columns, dimensions = (0, 1))\n",
    "\n",
    "plt.show()"
   ]
  },
  {
   "cell_type": "code",
   "execution_count": null,
   "metadata": {
    "id": "p3DWyNBn0HBn"
   },
   "outputs": [],
   "source": [
    "# un peu plus lisible mais toujours moche..."
   ]
  },
  {
   "cell_type": "code",
   "execution_count": null,
   "metadata": {
    "id": "dypHNjmGuq6z"
   },
   "outputs": [],
   "source": [
    "#La corrélation de chaque point sur un axe exprime la qualité de représentation du point sur l’axe.\n",
    "#Elle prend des valeurs entre 0 (pas corrélé du tout) et 1 (fortement corrélé).\n",
    "#Si cette valeur est proche de 1, alors le point est bien représenté sur l’axe."
   ]
  },
  {
   "cell_type": "code",
   "execution_count": null,
   "metadata": {
    "id": "y4PY_mVVuq4_"
   },
   "outputs": [],
   "source": []
  },
  {
   "cell_type": "code",
   "execution_count": null,
   "metadata": {
    "id": "LBqI8f_Duq2e"
   },
   "outputs": [],
   "source": []
  },
  {
   "cell_type": "code",
   "execution_count": null,
   "metadata": {
    "id": "4ptyca4kuq0A"
   },
   "outputs": [],
   "source": [
    "# Comparer performance des différents algo\n",
    "\n",
    "# https://saturncloud.io/blog/performance-analysis-of-clustering-algorithms/#:~:text=The%20adjusted%20Rand%20index%20(ARI,value%20indicates%20better%20clustering%20performance.\n",
    "# https://stats.stackexchange.com/questions/95782/what-are-the-most-common-metrics-for-comparing-two-clustering-algorithms-especi"
   ]
  },
  {
   "cell_type": "code",
   "execution_count": null,
   "metadata": {
    "id": "AuLrFeCYEFAD"
   },
   "outputs": [],
   "source": []
  },
  {
   "cell_type": "code",
   "execution_count": null,
   "metadata": {
    "id": "2tfljVSZEE-v"
   },
   "outputs": [],
   "source": []
  },
  {
   "cell_type": "code",
   "execution_count": null,
   "metadata": {
    "id": "GwEDdf8cEE9M"
   },
   "outputs": [],
   "source": []
  },
  {
   "cell_type": "markdown",
   "metadata": {
    "id": "Z-qjA78tEFs3"
   },
   "source": [
    "# ARI Score"
   ]
  },
  {
   "cell_type": "code",
   "execution_count": null,
   "metadata": {
    "id": "rO0gos4YEE5_"
   },
   "outputs": [],
   "source": [
    "from sklearn.metrics.cluster import adjusted_rand_score"
   ]
  },
  {
   "cell_type": "code",
   "execution_count": null,
   "metadata": {
    "id": "bqmb1_YuEE3H"
   },
   "outputs": [],
   "source": [
    "#https://amueller.github.io/aml/04-model-evaluation/17-cluster-evaluation.html"
   ]
  },
  {
   "cell_type": "code",
   "execution_count": null,
   "metadata": {
    "id": "nd8DPWSXEE1D"
   },
   "outputs": [],
   "source": [
    "# https://reval.readthedocs.io/en/latest/"
   ]
  },
  {
   "cell_type": "code",
   "execution_count": null,
   "metadata": {
    "id": "BJJJfsBFEEyw"
   },
   "outputs": [],
   "source": [
    "# https://github.com/FlorentF9/skstab"
   ]
  },
  {
   "cell_type": "code",
   "execution_count": null,
   "metadata": {
    "id": "WKK_6q6nEEws"
   },
   "outputs": [],
   "source": []
  },
  {
   "cell_type": "code",
   "execution_count": null,
   "metadata": {
    "id": "PcueDaMyEEuN"
   },
   "outputs": [],
   "source": []
  },
  {
   "cell_type": "code",
   "execution_count": null,
   "metadata": {
    "id": "FauW2_9pEEr5"
   },
   "outputs": [],
   "source": []
  },
  {
   "cell_type": "code",
   "execution_count": null,
   "metadata": {
    "id": "YoLkzyStEEpc"
   },
   "outputs": [],
   "source": []
  },
  {
   "cell_type": "code",
   "execution_count": null,
   "metadata": {
    "id": "SwPuC_3gEEm8"
   },
   "outputs": [],
   "source": []
  }
 ],
 "metadata": {
  "colab": {
   "provenance": [],
   "toc_visible": true
  },
  "kernelspec": {
   "display_name": "Python 3 (ipykernel)",
   "language": "python",
   "name": "python3"
  },
  "language_info": {
   "codemirror_mode": {
    "name": "ipython",
    "version": 3
   },
   "file_extension": ".py",
   "mimetype": "text/x-python",
   "name": "python",
   "nbconvert_exporter": "python",
   "pygments_lexer": "ipython3",
   "version": "3.9.7"
  }
 },
 "nbformat": 4,
 "nbformat_minor": 1
}
