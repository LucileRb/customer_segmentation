{
 "cells": [
  {
   "cell_type": "markdown",
   "metadata": {
    "id": "lIAPuXn77UNQ"
   },
   "source": [
    "# Imports"
   ]
  },
  {
   "cell_type": "code",
   "execution_count": 1,
   "metadata": {
    "colab": {
     "base_uri": "https://localhost:8080/",
     "height": 1000
    },
    "id": "x5ywd3Jx-3Hv",
    "outputId": "8ef87b95-8c81-49b8-93b5-1a42aa98cb98"
   },
   "outputs": [
    {
     "data": {
      "text/html": [
       "<div id=\"my_id_menu_nb\">run previous cell, wait for 2 seconds</div>\n",
       "<script>\n",
       "function repeat_indent_string(n){\n",
       "    var a = \"\" ;\n",
       "    for ( ; n > 0 ; --n)\n",
       "        a += \"    \";\n",
       "    return a;\n",
       "}\n",
       "// look up into all sections and builds an automated menu //\n",
       "var update_menu_string = function(begin, lfirst, llast, sformat, send, keep_item, begin_format, end_format) {\n",
       "    var anchors = document.getElementsByClassName(\"section\");\n",
       "    if (anchors.length == 0) {\n",
       "        anchors = document.getElementsByClassName(\"text_cell_render rendered_html\");\n",
       "    }\n",
       "    var i,t;\n",
       "    var text_menu = begin;\n",
       "    var text_memo = \"<pre>\\nlength:\" + anchors.length + \"\\n\";\n",
       "    var ind = \"\";\n",
       "    var memo_level = 1;\n",
       "    var href;\n",
       "    var tags = [];\n",
       "    var main_item = 0;\n",
       "    var format_open = 0;\n",
       "    for (i = 0; i <= llast; i++)\n",
       "        tags.push(\"h\" + i);\n",
       "\n",
       "    for (i = 0; i < anchors.length; i++) {\n",
       "        text_memo += \"**\" + anchors[i].id + \"--\\n\";\n",
       "\n",
       "        var child = null;\n",
       "        for(t = 0; t < tags.length; t++) {\n",
       "            var r = anchors[i].getElementsByTagName(tags[t]);\n",
       "            if (r.length > 0) {\n",
       "child = r[0];\n",
       "break;\n",
       "            }\n",
       "        }\n",
       "        if (child == null) {\n",
       "            text_memo += \"null\\n\";\n",
       "            continue;\n",
       "        }\n",
       "        if (anchors[i].hasAttribute(\"id\")) {\n",
       "            // when converted in RST\n",
       "            href = anchors[i].id;\n",
       "            text_memo += \"#1-\" + href;\n",
       "            // passer à child suivant (le chercher)\n",
       "        }\n",
       "        else if (child.hasAttribute(\"id\")) {\n",
       "            // in a notebook\n",
       "            href = child.id;\n",
       "            text_memo += \"#2-\" + href;\n",
       "        }\n",
       "        else {\n",
       "            text_memo += \"#3-\" + \"*\" + \"\\n\";\n",
       "            continue;\n",
       "        }\n",
       "        var title = child.textContent;\n",
       "        var level = parseInt(child.tagName.substring(1,2));\n",
       "\n",
       "        text_memo += \"--\" + level + \"?\" + lfirst + \"--\" + title + \"\\n\";\n",
       "\n",
       "        if ((level < lfirst) || (level > llast)) {\n",
       "            continue ;\n",
       "        }\n",
       "        if (title.endsWith('¶')) {\n",
       "            title = title.substring(0,title.length-1).replace(\"<\", \"&lt;\")\n",
       "         .replace(\">\", \"&gt;\").replace(\"&\", \"&amp;\");\n",
       "        }\n",
       "        if (title.length == 0) {\n",
       "            continue;\n",
       "        }\n",
       "\n",
       "        while (level < memo_level) {\n",
       "            text_menu += end_format + \"</ul>\\n\";\n",
       "            format_open -= 1;\n",
       "            memo_level -= 1;\n",
       "        }\n",
       "        if (level == lfirst) {\n",
       "            main_item += 1;\n",
       "        }\n",
       "        if (keep_item != -1 && main_item != keep_item + 1) {\n",
       "            // alert(main_item + \" - \" + level + \" - \" + keep_item);\n",
       "            continue;\n",
       "        }\n",
       "        while (level > memo_level) {\n",
       "            text_menu += \"<ul>\\n\";\n",
       "            memo_level += 1;\n",
       "        }\n",
       "        text_menu += repeat_indent_string(level-2);\n",
       "        text_menu += begin_format + sformat.replace(\"__HREF__\", href).replace(\"__TITLE__\", title);\n",
       "        format_open += 1;\n",
       "    }\n",
       "    while (1 < memo_level) {\n",
       "        text_menu += end_format + \"</ul>\\n\";\n",
       "        memo_level -= 1;\n",
       "        format_open -= 1;\n",
       "    }\n",
       "    text_menu += send;\n",
       "    //text_menu += \"\\n\" + text_memo;\n",
       "\n",
       "    while (format_open > 0) {\n",
       "        text_menu += end_format;\n",
       "        format_open -= 1;\n",
       "    }\n",
       "    return text_menu;\n",
       "};\n",
       "var update_menu = function() {\n",
       "    var sbegin = \"\";\n",
       "    var sformat = '<a href=\"#__HREF__\">__TITLE__</a>';\n",
       "    var send = \"\";\n",
       "    var begin_format = '<li>';\n",
       "    var end_format = '</li>';\n",
       "    var keep_item = -1;\n",
       "    var text_menu = update_menu_string(sbegin, 2, 4, sformat, send, keep_item,\n",
       "       begin_format, end_format);\n",
       "    var menu = document.getElementById(\"my_id_menu_nb\");\n",
       "    menu.innerHTML=text_menu;\n",
       "};\n",
       "window.setTimeout(update_menu,2000);\n",
       "            </script>"
      ],
      "text/plain": [
       "<IPython.core.display.HTML object>"
      ]
     },
     "execution_count": 1,
     "metadata": {},
     "output_type": "execute_result"
    }
   ],
   "source": [
    "# General Imports\n",
    "import numpy as np\n",
    "import pandas as pd\n",
    "import pickle\n",
    "import os\n",
    "\n",
    "# Plot\n",
    "import matplotlib.pyplot as plt\n",
    "import seaborn as sns\n",
    "\n",
    "# Preprocessing\n",
    "from sklearn.preprocessing import OrdinalEncoder\n",
    "from sklearn.preprocessing import LabelEncoder\n",
    "from sklearn.preprocessing import StandardScaler\n",
    "\n",
    "# Clustering\n",
    "from sklearn.cluster import KMeans\n",
    "from sklearn.metrics import silhouette_score\n",
    "from yellowbrick.cluster import KElbowVisualizer\n",
    "from yellowbrick.cluster import SilhouetteVisualizer\n",
    "\n",
    "# PCA\n",
    "from sklearn.decomposition import PCA\n",
    "from matplotlib.patches import Circle\n",
    "\n",
    "import warnings\n",
    "warnings.simplefilter(action = 'ignore')\n",
    "\n",
    "# Sommaire\n",
    "#!pip install jyquickhelper\n",
    "from jyquickhelper import add_notebook_menu # attention, ne prend que les titres de niveau 2\n",
    "add_notebook_menu()"
   ]
  },
  {
   "cell_type": "code",
   "execution_count": 2,
   "metadata": {
    "id": "_vAbaPvG7UNR"
   },
   "outputs": [],
   "source": [
    "# Set display preferences\n",
    "pd.set_option('display.max_row', 250)\n",
    "pd.set_option('display.max_column', 100)\n",
    "pd.set_option('display.precision', 5)"
   ]
  },
  {
   "cell_type": "code",
   "execution_count": 3,
   "metadata": {
    "colab": {
     "base_uri": "https://localhost:8080/"
    },
    "id": "BaYavtuN9hSr",
    "outputId": "a7f03aa5-c4c7-48db-84bf-7f6d0fc7b496"
   },
   "outputs": [],
   "source": [
    "# à run pour colab uniquement\n",
    "#from google.colab import drive\n",
    "#drive.mount('/content/drive')"
   ]
  },
  {
   "cell_type": "markdown",
   "metadata": {
    "id": "lGPasaowHmKU"
   },
   "source": [
    "# Import des données"
   ]
  },
  {
   "cell_type": "markdown",
   "metadata": {
    "id": "ZhnFb4RVHpdS"
   },
   "source": [
    "## Import"
   ]
  },
  {
   "cell_type": "code",
   "execution_count": 4,
   "metadata": {
    "colab": {
     "base_uri": "https://localhost:8080/",
     "height": 296
    },
    "id": "RNvMy-40xvW4",
    "outputId": "0247e08c-f5fd-409b-fb3d-4a32e8a14f86"
   },
   "outputs": [
    {
     "data": {
      "text/html": [
       "<div>\n",
       "<style scoped>\n",
       "    .dataframe tbody tr th:only-of-type {\n",
       "        vertical-align: middle;\n",
       "    }\n",
       "\n",
       "    .dataframe tbody tr th {\n",
       "        vertical-align: top;\n",
       "    }\n",
       "\n",
       "    .dataframe thead th {\n",
       "        text-align: right;\n",
       "    }\n",
       "</style>\n",
       "<table border=\"1\" class=\"dataframe\">\n",
       "  <thead>\n",
       "    <tr style=\"text-align: right;\">\n",
       "      <th></th>\n",
       "      <th>product_name_lenght</th>\n",
       "      <th>product_description_lenght</th>\n",
       "      <th>product_photos_qty</th>\n",
       "      <th>product_weight_g</th>\n",
       "      <th>payment_sequential</th>\n",
       "      <th>payment_installments</th>\n",
       "      <th>payment_value</th>\n",
       "      <th>review_score</th>\n",
       "      <th>review_time</th>\n",
       "      <th>order_time</th>\n",
       "      <th>delivery_error_time</th>\n",
       "      <th>order_preparation_time</th>\n",
       "      <th>shipping_limit_respect</th>\n",
       "      <th>purchase_month</th>\n",
       "      <th>purchase_dayofweek</th>\n",
       "      <th>purchase_day</th>\n",
       "      <th>purchase_hour</th>\n",
       "      <th>full_written_review</th>\n",
       "      <th>written_review_title</th>\n",
       "      <th>distance</th>\n",
       "      <th>order_status</th>\n",
       "      <th>payment_type</th>\n",
       "      <th>product_category</th>\n",
       "    </tr>\n",
       "  </thead>\n",
       "  <tbody>\n",
       "    <tr>\n",
       "      <th>0</th>\n",
       "      <td>41.0</td>\n",
       "      <td>1141.0</td>\n",
       "      <td>1.0</td>\n",
       "      <td>8683.0</td>\n",
       "      <td>1.0</td>\n",
       "      <td>2.0</td>\n",
       "      <td>146.87</td>\n",
       "      <td>4.0</td>\n",
       "      <td>4.94074</td>\n",
       "      <td>8.81250</td>\n",
       "      <td>-10.55862</td>\n",
       "      <td>6.80955</td>\n",
       "      <td>-0.80955</td>\n",
       "      <td>5.0</td>\n",
       "      <td>1.0</td>\n",
       "      <td>16.0</td>\n",
       "      <td>15.0</td>\n",
       "      <td>0.0</td>\n",
       "      <td>0.0</td>\n",
       "      <td>228.79538</td>\n",
       "      <td>delivered</td>\n",
       "      <td>credit_card</td>\n",
       "      <td>Furniture and Home Decor</td>\n",
       "    </tr>\n",
       "    <tr>\n",
       "      <th>1</th>\n",
       "      <td>43.0</td>\n",
       "      <td>1002.0</td>\n",
       "      <td>3.0</td>\n",
       "      <td>10150.0</td>\n",
       "      <td>1.0</td>\n",
       "      <td>8.0</td>\n",
       "      <td>335.48</td>\n",
       "      <td>5.0</td>\n",
       "      <td>11.94686</td>\n",
       "      <td>16.66175</td>\n",
       "      <td>-7.47131</td>\n",
       "      <td>2.84476</td>\n",
       "      <td>3.15524</td>\n",
       "      <td>1.0</td>\n",
       "      <td>4.0</td>\n",
       "      <td>12.0</td>\n",
       "      <td>20.0</td>\n",
       "      <td>0.0</td>\n",
       "      <td>0.0</td>\n",
       "      <td>302.71858</td>\n",
       "      <td>delivered</td>\n",
       "      <td>credit_card</td>\n",
       "      <td>Furniture and Home Decor</td>\n",
       "    </tr>\n",
       "    <tr>\n",
       "      <th>2</th>\n",
       "      <td>55.0</td>\n",
       "      <td>955.0</td>\n",
       "      <td>1.0</td>\n",
       "      <td>8267.0</td>\n",
       "      <td>1.0</td>\n",
       "      <td>7.0</td>\n",
       "      <td>157.73</td>\n",
       "      <td>5.0</td>\n",
       "      <td>0.50763</td>\n",
       "      <td>26.07715</td>\n",
       "      <td>1.74920</td>\n",
       "      <td>21.92488</td>\n",
       "      <td>-5.92488</td>\n",
       "      <td>5.0</td>\n",
       "      <td>5.0</td>\n",
       "      <td>19.0</td>\n",
       "      <td>16.0</td>\n",
       "      <td>0.0</td>\n",
       "      <td>0.0</td>\n",
       "      <td>29.14657</td>\n",
       "      <td>delivered</td>\n",
       "      <td>credit_card</td>\n",
       "      <td>Furniture and Home Decor</td>\n",
       "    </tr>\n",
       "    <tr>\n",
       "      <th>3</th>\n",
       "      <td>48.0</td>\n",
       "      <td>1066.0</td>\n",
       "      <td>1.0</td>\n",
       "      <td>12160.0</td>\n",
       "      <td>1.0</td>\n",
       "      <td>1.0</td>\n",
       "      <td>173.30</td>\n",
       "      <td>5.0</td>\n",
       "      <td>4.77554</td>\n",
       "      <td>14.99846</td>\n",
       "      <td>-12.33027</td>\n",
       "      <td>14.24541</td>\n",
       "      <td>-0.28572</td>\n",
       "      <td>3.0</td>\n",
       "      <td>1.0</td>\n",
       "      <td>13.0</td>\n",
       "      <td>16.0</td>\n",
       "      <td>0.0</td>\n",
       "      <td>0.0</td>\n",
       "      <td>18.11744</td>\n",
       "      <td>delivered</td>\n",
       "      <td>credit_card</td>\n",
       "      <td>Furniture and Home Decor</td>\n",
       "    </tr>\n",
       "    <tr>\n",
       "      <th>4</th>\n",
       "      <td>61.0</td>\n",
       "      <td>407.0</td>\n",
       "      <td>1.0</td>\n",
       "      <td>5200.0</td>\n",
       "      <td>1.0</td>\n",
       "      <td>8.0</td>\n",
       "      <td>252.25</td>\n",
       "      <td>5.0</td>\n",
       "      <td>7.08324</td>\n",
       "      <td>11.46132</td>\n",
       "      <td>-5.12792</td>\n",
       "      <td>1.21240</td>\n",
       "      <td>0.78760</td>\n",
       "      <td>7.0</td>\n",
       "      <td>6.0</td>\n",
       "      <td>29.0</td>\n",
       "      <td>9.0</td>\n",
       "      <td>1.0</td>\n",
       "      <td>1.0</td>\n",
       "      <td>187.45960</td>\n",
       "      <td>delivered</td>\n",
       "      <td>credit_card</td>\n",
       "      <td></td>\n",
       "    </tr>\n",
       "  </tbody>\n",
       "</table>\n",
       "</div>"
      ],
      "text/plain": [
       "   product_name_lenght  product_description_lenght  product_photos_qty  \\\n",
       "0                 41.0                      1141.0                 1.0   \n",
       "1                 43.0                      1002.0                 3.0   \n",
       "2                 55.0                       955.0                 1.0   \n",
       "3                 48.0                      1066.0                 1.0   \n",
       "4                 61.0                       407.0                 1.0   \n",
       "\n",
       "   product_weight_g  payment_sequential  payment_installments  payment_value  \\\n",
       "0            8683.0                 1.0                   2.0         146.87   \n",
       "1           10150.0                 1.0                   8.0         335.48   \n",
       "2            8267.0                 1.0                   7.0         157.73   \n",
       "3           12160.0                 1.0                   1.0         173.30   \n",
       "4            5200.0                 1.0                   8.0         252.25   \n",
       "\n",
       "   review_score  review_time  order_time  delivery_error_time  \\\n",
       "0           4.0      4.94074     8.81250            -10.55862   \n",
       "1           5.0     11.94686    16.66175             -7.47131   \n",
       "2           5.0      0.50763    26.07715              1.74920   \n",
       "3           5.0      4.77554    14.99846            -12.33027   \n",
       "4           5.0      7.08324    11.46132             -5.12792   \n",
       "\n",
       "   order_preparation_time  shipping_limit_respect  purchase_month  \\\n",
       "0                 6.80955                -0.80955             5.0   \n",
       "1                 2.84476                 3.15524             1.0   \n",
       "2                21.92488                -5.92488             5.0   \n",
       "3                14.24541                -0.28572             3.0   \n",
       "4                 1.21240                 0.78760             7.0   \n",
       "\n",
       "   purchase_dayofweek  purchase_day  purchase_hour  full_written_review  \\\n",
       "0                 1.0          16.0           15.0                  0.0   \n",
       "1                 4.0          12.0           20.0                  0.0   \n",
       "2                 5.0          19.0           16.0                  0.0   \n",
       "3                 1.0          13.0           16.0                  0.0   \n",
       "4                 6.0          29.0            9.0                  1.0   \n",
       "\n",
       "   written_review_title   distance order_status payment_type  \\\n",
       "0                   0.0  228.79538    delivered  credit_card   \n",
       "1                   0.0  302.71858    delivered  credit_card   \n",
       "2                   0.0   29.14657    delivered  credit_card   \n",
       "3                   0.0   18.11744    delivered  credit_card   \n",
       "4                   1.0  187.45960    delivered  credit_card   \n",
       "\n",
       "           product_category  \n",
       "0  Furniture and Home Decor  \n",
       "1  Furniture and Home Decor  \n",
       "2  Furniture and Home Decor  \n",
       "3  Furniture and Home Decor  \n",
       "4                            "
      ]
     },
     "execution_count": 4,
     "metadata": {},
     "output_type": "execute_result"
    }
   ],
   "source": [
    "# import des données\n",
    "\n",
    "# Chemin d'accès aux données (à modifier si code en local)\n",
    "#path = '/content/drive/MyDrive/OpenClassrooms/Projet5/' #-> pour colab\n",
    "path = '' #-> en local\n",
    "\n",
    "filepath = os.path.join(path, 'df')\n",
    "\n",
    "with open(filepath, 'rb') as f:\n",
    "    df_final = pickle.load(f)\n",
    "\n",
    "df_final.head()"
   ]
  },
  {
   "cell_type": "markdown",
   "metadata": {
    "id": "mf0dTcW2a7Mf"
   },
   "source": [
    "# Jeu de données complet"
   ]
  },
  {
   "cell_type": "markdown",
   "metadata": {
    "id": "X3PoyuOsxvW4"
   },
   "source": [
    "## Preprocessing"
   ]
  },
  {
   "cell_type": "code",
   "execution_count": 5,
   "metadata": {
    "colab": {
     "base_uri": "https://localhost:8080/"
    },
    "id": "sFKwj4CRzYkd",
    "outputId": "58344431-32aa-4e38-ae6d-a1a77dff334a"
   },
   "outputs": [
    {
     "data": {
      "text/plain": [
       "Index(['product_name_lenght', 'product_description_lenght',\n",
       "       'product_photos_qty', 'product_weight_g', 'payment_sequential',\n",
       "       'payment_installments', 'payment_value', 'review_score', 'review_time',\n",
       "       'order_time', 'delivery_error_time', 'order_preparation_time',\n",
       "       'shipping_limit_respect', 'purchase_month', 'purchase_dayofweek',\n",
       "       'purchase_day', 'purchase_hour', 'full_written_review',\n",
       "       'written_review_title', 'distance', 'order_status', 'payment_type',\n",
       "       'product_category'],\n",
       "      dtype='object')"
      ]
     },
     "execution_count": 5,
     "metadata": {},
     "output_type": "execute_result"
    }
   ],
   "source": [
    "df_final.columns"
   ]
  },
  {
   "cell_type": "code",
   "execution_count": 6,
   "metadata": {
    "colab": {
     "base_uri": "https://localhost:8080/"
    },
    "id": "Tze3SNix4Bht",
    "outputId": "a39fe2f3-536c-4cfd-a269-aad711d6e43d"
   },
   "outputs": [
    {
     "name": "stdout",
     "output_type": "stream",
     "text": [
      "<class 'pandas.core.frame.DataFrame'>\n",
      "Int64Index: 116467 entries, 0 to 117738\n",
      "Data columns (total 23 columns):\n",
      " #   Column                      Non-Null Count   Dtype  \n",
      "---  ------                      --------------   -----  \n",
      " 0   product_name_lenght         116467 non-null  float64\n",
      " 1   product_description_lenght  116467 non-null  float64\n",
      " 2   product_photos_qty          116467 non-null  float64\n",
      " 3   product_weight_g            116467 non-null  float64\n",
      " 4   payment_sequential          116467 non-null  float64\n",
      " 5   payment_installments        116467 non-null  float64\n",
      " 6   payment_value               116467 non-null  float64\n",
      " 7   review_score                116467 non-null  float64\n",
      " 8   review_time                 116467 non-null  float64\n",
      " 9   order_time                  116467 non-null  float64\n",
      " 10  delivery_error_time         116467 non-null  float64\n",
      " 11  order_preparation_time      116467 non-null  float64\n",
      " 12  shipping_limit_respect      116467 non-null  float64\n",
      " 13  purchase_month              116467 non-null  float64\n",
      " 14  purchase_dayofweek          116467 non-null  float64\n",
      " 15  purchase_day                116467 non-null  float64\n",
      " 16  purchase_hour               116467 non-null  float64\n",
      " 17  full_written_review         116467 non-null  float64\n",
      " 18  written_review_title        116467 non-null  float64\n",
      " 19  distance                    116467 non-null  float64\n",
      " 20  order_status                116467 non-null  object \n",
      " 21  payment_type                116464 non-null  object \n",
      " 22  product_category            116467 non-null  object \n",
      "dtypes: float64(20), object(3)\n",
      "memory usage: 21.3+ MB\n"
     ]
    }
   ],
   "source": [
    "df_final.info()"
   ]
  },
  {
   "cell_type": "code",
   "execution_count": 7,
   "metadata": {
    "colab": {
     "base_uri": "https://localhost:8080/",
     "height": 600
    },
    "id": "ROpI3-FKxvW5",
    "outputId": "d7259e8d-b680-4aac-bfdf-9378b0cddda4"
   },
   "outputs": [
    {
     "data": {
      "text/html": [
       "<div>\n",
       "<style scoped>\n",
       "    .dataframe tbody tr th:only-of-type {\n",
       "        vertical-align: middle;\n",
       "    }\n",
       "\n",
       "    .dataframe tbody tr th {\n",
       "        vertical-align: top;\n",
       "    }\n",
       "\n",
       "    .dataframe thead th {\n",
       "        text-align: right;\n",
       "    }\n",
       "</style>\n",
       "<table border=\"1\" class=\"dataframe\">\n",
       "  <thead>\n",
       "    <tr style=\"text-align: right;\">\n",
       "      <th></th>\n",
       "      <th>product_name_lenght</th>\n",
       "      <th>product_description_lenght</th>\n",
       "      <th>product_photos_qty</th>\n",
       "      <th>product_weight_g</th>\n",
       "      <th>payment_sequential</th>\n",
       "      <th>payment_installments</th>\n",
       "      <th>payment_value</th>\n",
       "      <th>review_score</th>\n",
       "      <th>review_time</th>\n",
       "      <th>order_time</th>\n",
       "      <th>delivery_error_time</th>\n",
       "      <th>order_preparation_time</th>\n",
       "      <th>shipping_limit_respect</th>\n",
       "      <th>purchase_month</th>\n",
       "      <th>purchase_dayofweek</th>\n",
       "      <th>purchase_day</th>\n",
       "      <th>purchase_hour</th>\n",
       "      <th>full_written_review</th>\n",
       "      <th>written_review_title</th>\n",
       "      <th>distance</th>\n",
       "      <th>order_status</th>\n",
       "      <th>payment_type</th>\n",
       "      <th>product_category</th>\n",
       "    </tr>\n",
       "  </thead>\n",
       "  <tbody>\n",
       "    <tr>\n",
       "      <th>0</th>\n",
       "      <td>41.0</td>\n",
       "      <td>1141.0</td>\n",
       "      <td>1.0</td>\n",
       "      <td>8683.0</td>\n",
       "      <td>1.0</td>\n",
       "      <td>2.0</td>\n",
       "      <td>146.87</td>\n",
       "      <td>4.0</td>\n",
       "      <td>4.94074</td>\n",
       "      <td>8.81250</td>\n",
       "      <td>-10.55862</td>\n",
       "      <td>6.80955</td>\n",
       "      <td>-0.80955</td>\n",
       "      <td>5.0</td>\n",
       "      <td>1.0</td>\n",
       "      <td>16.0</td>\n",
       "      <td>15.0</td>\n",
       "      <td>0.0</td>\n",
       "      <td>0.0</td>\n",
       "      <td>228.79538</td>\n",
       "      <td>delivered</td>\n",
       "      <td>credit_card</td>\n",
       "      <td>Furniture and Home Decor</td>\n",
       "    </tr>\n",
       "    <tr>\n",
       "      <th>1</th>\n",
       "      <td>43.0</td>\n",
       "      <td>1002.0</td>\n",
       "      <td>3.0</td>\n",
       "      <td>10150.0</td>\n",
       "      <td>1.0</td>\n",
       "      <td>8.0</td>\n",
       "      <td>335.48</td>\n",
       "      <td>5.0</td>\n",
       "      <td>11.94686</td>\n",
       "      <td>16.66175</td>\n",
       "      <td>-7.47131</td>\n",
       "      <td>2.84476</td>\n",
       "      <td>3.15524</td>\n",
       "      <td>1.0</td>\n",
       "      <td>4.0</td>\n",
       "      <td>12.0</td>\n",
       "      <td>20.0</td>\n",
       "      <td>0.0</td>\n",
       "      <td>0.0</td>\n",
       "      <td>302.71858</td>\n",
       "      <td>delivered</td>\n",
       "      <td>credit_card</td>\n",
       "      <td>Furniture and Home Decor</td>\n",
       "    </tr>\n",
       "    <tr>\n",
       "      <th>2</th>\n",
       "      <td>55.0</td>\n",
       "      <td>955.0</td>\n",
       "      <td>1.0</td>\n",
       "      <td>8267.0</td>\n",
       "      <td>1.0</td>\n",
       "      <td>7.0</td>\n",
       "      <td>157.73</td>\n",
       "      <td>5.0</td>\n",
       "      <td>0.50763</td>\n",
       "      <td>26.07715</td>\n",
       "      <td>1.74920</td>\n",
       "      <td>21.92488</td>\n",
       "      <td>-5.92488</td>\n",
       "      <td>5.0</td>\n",
       "      <td>5.0</td>\n",
       "      <td>19.0</td>\n",
       "      <td>16.0</td>\n",
       "      <td>0.0</td>\n",
       "      <td>0.0</td>\n",
       "      <td>29.14657</td>\n",
       "      <td>delivered</td>\n",
       "      <td>credit_card</td>\n",
       "      <td>Furniture and Home Decor</td>\n",
       "    </tr>\n",
       "    <tr>\n",
       "      <th>3</th>\n",
       "      <td>48.0</td>\n",
       "      <td>1066.0</td>\n",
       "      <td>1.0</td>\n",
       "      <td>12160.0</td>\n",
       "      <td>1.0</td>\n",
       "      <td>1.0</td>\n",
       "      <td>173.30</td>\n",
       "      <td>5.0</td>\n",
       "      <td>4.77554</td>\n",
       "      <td>14.99846</td>\n",
       "      <td>-12.33027</td>\n",
       "      <td>14.24541</td>\n",
       "      <td>-0.28572</td>\n",
       "      <td>3.0</td>\n",
       "      <td>1.0</td>\n",
       "      <td>13.0</td>\n",
       "      <td>16.0</td>\n",
       "      <td>0.0</td>\n",
       "      <td>0.0</td>\n",
       "      <td>18.11744</td>\n",
       "      <td>delivered</td>\n",
       "      <td>credit_card</td>\n",
       "      <td>Furniture and Home Decor</td>\n",
       "    </tr>\n",
       "    <tr>\n",
       "      <th>4</th>\n",
       "      <td>61.0</td>\n",
       "      <td>407.0</td>\n",
       "      <td>1.0</td>\n",
       "      <td>5200.0</td>\n",
       "      <td>1.0</td>\n",
       "      <td>8.0</td>\n",
       "      <td>252.25</td>\n",
       "      <td>5.0</td>\n",
       "      <td>7.08324</td>\n",
       "      <td>11.46132</td>\n",
       "      <td>-5.12792</td>\n",
       "      <td>1.21240</td>\n",
       "      <td>0.78760</td>\n",
       "      <td>7.0</td>\n",
       "      <td>6.0</td>\n",
       "      <td>29.0</td>\n",
       "      <td>9.0</td>\n",
       "      <td>1.0</td>\n",
       "      <td>1.0</td>\n",
       "      <td>187.45960</td>\n",
       "      <td>delivered</td>\n",
       "      <td>credit_card</td>\n",
       "      <td></td>\n",
       "    </tr>\n",
       "    <tr>\n",
       "      <th>...</th>\n",
       "      <td>...</td>\n",
       "      <td>...</td>\n",
       "      <td>...</td>\n",
       "      <td>...</td>\n",
       "      <td>...</td>\n",
       "      <td>...</td>\n",
       "      <td>...</td>\n",
       "      <td>...</td>\n",
       "      <td>...</td>\n",
       "      <td>...</td>\n",
       "      <td>...</td>\n",
       "      <td>...</td>\n",
       "      <td>...</td>\n",
       "      <td>...</td>\n",
       "      <td>...</td>\n",
       "      <td>...</td>\n",
       "      <td>...</td>\n",
       "      <td>...</td>\n",
       "      <td>...</td>\n",
       "      <td>...</td>\n",
       "      <td>...</td>\n",
       "      <td>...</td>\n",
       "      <td>...</td>\n",
       "    </tr>\n",
       "    <tr>\n",
       "      <th>117734</th>\n",
       "      <td>51.0</td>\n",
       "      <td>489.0</td>\n",
       "      <td>2.0</td>\n",
       "      <td>611.0</td>\n",
       "      <td>1.0</td>\n",
       "      <td>6.0</td>\n",
       "      <td>88.78</td>\n",
       "      <td>4.0</td>\n",
       "      <td>14.46880</td>\n",
       "      <td>6.17940</td>\n",
       "      <td>-11.16207</td>\n",
       "      <td>3.41656</td>\n",
       "      <td>1.58344</td>\n",
       "      <td>4.0</td>\n",
       "      <td>5.0</td>\n",
       "      <td>7.0</td>\n",
       "      <td>15.0</td>\n",
       "      <td>0.0</td>\n",
       "      <td>1.0</td>\n",
       "      <td>329.23572</td>\n",
       "      <td>delivered</td>\n",
       "      <td>boleto</td>\n",
       "      <td>Leisure and Miscellaneous</td>\n",
       "    </tr>\n",
       "    <tr>\n",
       "      <th>117735</th>\n",
       "      <td>51.0</td>\n",
       "      <td>1193.0</td>\n",
       "      <td>1.0</td>\n",
       "      <td>1211.0</td>\n",
       "      <td>1.0</td>\n",
       "      <td>3.0</td>\n",
       "      <td>129.06</td>\n",
       "      <td>5.0</td>\n",
       "      <td>4.44172</td>\n",
       "      <td>7.44054</td>\n",
       "      <td>-8.21198</td>\n",
       "      <td>1.42179</td>\n",
       "      <td>4.57821</td>\n",
       "      <td>4.0</td>\n",
       "      <td>2.0</td>\n",
       "      <td>4.0</td>\n",
       "      <td>8.0</td>\n",
       "      <td>0.0</td>\n",
       "      <td>0.0</td>\n",
       "      <td>188.57356</td>\n",
       "      <td>delivered</td>\n",
       "      <td>credit_card</td>\n",
       "      <td>Leisure and Miscellaneous</td>\n",
       "    </tr>\n",
       "    <tr>\n",
       "      <th>117736</th>\n",
       "      <td>60.0</td>\n",
       "      <td>575.0</td>\n",
       "      <td>1.0</td>\n",
       "      <td>870.0</td>\n",
       "      <td>1.0</td>\n",
       "      <td>5.0</td>\n",
       "      <td>56.04</td>\n",
       "      <td>1.0</td>\n",
       "      <td>4.07022</td>\n",
       "      <td>30.95237</td>\n",
       "      <td>7.79392</td>\n",
       "      <td>0.89044</td>\n",
       "      <td>3.10956</td>\n",
       "      <td>4.0</td>\n",
       "      <td>6.0</td>\n",
       "      <td>8.0</td>\n",
       "      <td>20.0</td>\n",
       "      <td>1.0</td>\n",
       "      <td>1.0</td>\n",
       "      <td>1662.21122</td>\n",
       "      <td>delivered</td>\n",
       "      <td>credit_card</td>\n",
       "      <td>Leisure and Miscellaneous</td>\n",
       "    </tr>\n",
       "    <tr>\n",
       "      <th>117737</th>\n",
       "      <td>59.0</td>\n",
       "      <td>452.0</td>\n",
       "      <td>1.0</td>\n",
       "      <td>710.0</td>\n",
       "      <td>1.0</td>\n",
       "      <td>2.0</td>\n",
       "      <td>711.07</td>\n",
       "      <td>5.0</td>\n",
       "      <td>2.98215</td>\n",
       "      <td>12.95146</td>\n",
       "      <td>-18.16760</td>\n",
       "      <td>2.87038</td>\n",
       "      <td>3.11887</td>\n",
       "      <td>11.0</td>\n",
       "      <td>4.0</td>\n",
       "      <td>3.0</td>\n",
       "      <td>21.0</td>\n",
       "      <td>0.0</td>\n",
       "      <td>0.0</td>\n",
       "      <td>628.26583</td>\n",
       "      <td>delivered</td>\n",
       "      <td>credit_card</td>\n",
       "      <td>Electronics and Technology</td>\n",
       "    </tr>\n",
       "    <tr>\n",
       "      <th>117738</th>\n",
       "      <td>54.0</td>\n",
       "      <td>933.0</td>\n",
       "      <td>1.0</td>\n",
       "      <td>50.0</td>\n",
       "      <td>1.0</td>\n",
       "      <td>1.0</td>\n",
       "      <td>21.77</td>\n",
       "      <td>5.0</td>\n",
       "      <td>0.97299</td>\n",
       "      <td>7.17723</td>\n",
       "      <td>-12.22042</td>\n",
       "      <td>2.01854</td>\n",
       "      <td>4.98146</td>\n",
       "      <td>12.0</td>\n",
       "      <td>1.0</td>\n",
       "      <td>19.0</td>\n",
       "      <td>14.0</td>\n",
       "      <td>1.0</td>\n",
       "      <td>0.0</td>\n",
       "      <td>43.42418</td>\n",
       "      <td>delivered</td>\n",
       "      <td>boleto</td>\n",
       "      <td>Furniture and Home Decor</td>\n",
       "    </tr>\n",
       "  </tbody>\n",
       "</table>\n",
       "<p>116467 rows × 23 columns</p>\n",
       "</div>"
      ],
      "text/plain": [
       "        product_name_lenght  product_description_lenght  product_photos_qty  \\\n",
       "0                      41.0                      1141.0                 1.0   \n",
       "1                      43.0                      1002.0                 3.0   \n",
       "2                      55.0                       955.0                 1.0   \n",
       "3                      48.0                      1066.0                 1.0   \n",
       "4                      61.0                       407.0                 1.0   \n",
       "...                     ...                         ...                 ...   \n",
       "117734                 51.0                       489.0                 2.0   \n",
       "117735                 51.0                      1193.0                 1.0   \n",
       "117736                 60.0                       575.0                 1.0   \n",
       "117737                 59.0                       452.0                 1.0   \n",
       "117738                 54.0                       933.0                 1.0   \n",
       "\n",
       "        product_weight_g  payment_sequential  payment_installments  \\\n",
       "0                 8683.0                 1.0                   2.0   \n",
       "1                10150.0                 1.0                   8.0   \n",
       "2                 8267.0                 1.0                   7.0   \n",
       "3                12160.0                 1.0                   1.0   \n",
       "4                 5200.0                 1.0                   8.0   \n",
       "...                  ...                 ...                   ...   \n",
       "117734             611.0                 1.0                   6.0   \n",
       "117735            1211.0                 1.0                   3.0   \n",
       "117736             870.0                 1.0                   5.0   \n",
       "117737             710.0                 1.0                   2.0   \n",
       "117738              50.0                 1.0                   1.0   \n",
       "\n",
       "        payment_value  review_score  review_time  order_time  \\\n",
       "0              146.87           4.0      4.94074     8.81250   \n",
       "1              335.48           5.0     11.94686    16.66175   \n",
       "2              157.73           5.0      0.50763    26.07715   \n",
       "3              173.30           5.0      4.77554    14.99846   \n",
       "4              252.25           5.0      7.08324    11.46132   \n",
       "...               ...           ...          ...         ...   \n",
       "117734          88.78           4.0     14.46880     6.17940   \n",
       "117735         129.06           5.0      4.44172     7.44054   \n",
       "117736          56.04           1.0      4.07022    30.95237   \n",
       "117737         711.07           5.0      2.98215    12.95146   \n",
       "117738          21.77           5.0      0.97299     7.17723   \n",
       "\n",
       "        delivery_error_time  order_preparation_time  shipping_limit_respect  \\\n",
       "0                 -10.55862                 6.80955                -0.80955   \n",
       "1                  -7.47131                 2.84476                 3.15524   \n",
       "2                   1.74920                21.92488                -5.92488   \n",
       "3                 -12.33027                14.24541                -0.28572   \n",
       "4                  -5.12792                 1.21240                 0.78760   \n",
       "...                     ...                     ...                     ...   \n",
       "117734            -11.16207                 3.41656                 1.58344   \n",
       "117735             -8.21198                 1.42179                 4.57821   \n",
       "117736              7.79392                 0.89044                 3.10956   \n",
       "117737            -18.16760                 2.87038                 3.11887   \n",
       "117738            -12.22042                 2.01854                 4.98146   \n",
       "\n",
       "        purchase_month  purchase_dayofweek  purchase_day  purchase_hour  \\\n",
       "0                  5.0                 1.0          16.0           15.0   \n",
       "1                  1.0                 4.0          12.0           20.0   \n",
       "2                  5.0                 5.0          19.0           16.0   \n",
       "3                  3.0                 1.0          13.0           16.0   \n",
       "4                  7.0                 6.0          29.0            9.0   \n",
       "...                ...                 ...           ...            ...   \n",
       "117734             4.0                 5.0           7.0           15.0   \n",
       "117735             4.0                 2.0           4.0            8.0   \n",
       "117736             4.0                 6.0           8.0           20.0   \n",
       "117737            11.0                 4.0           3.0           21.0   \n",
       "117738            12.0                 1.0          19.0           14.0   \n",
       "\n",
       "        full_written_review  written_review_title    distance order_status  \\\n",
       "0                       0.0                   0.0   228.79538    delivered   \n",
       "1                       0.0                   0.0   302.71858    delivered   \n",
       "2                       0.0                   0.0    29.14657    delivered   \n",
       "3                       0.0                   0.0    18.11744    delivered   \n",
       "4                       1.0                   1.0   187.45960    delivered   \n",
       "...                     ...                   ...         ...          ...   \n",
       "117734                  0.0                   1.0   329.23572    delivered   \n",
       "117735                  0.0                   0.0   188.57356    delivered   \n",
       "117736                  1.0                   1.0  1662.21122    delivered   \n",
       "117737                  0.0                   0.0   628.26583    delivered   \n",
       "117738                  1.0                   0.0    43.42418    delivered   \n",
       "\n",
       "       payment_type            product_category  \n",
       "0       credit_card    Furniture and Home Decor  \n",
       "1       credit_card    Furniture and Home Decor  \n",
       "2       credit_card    Furniture and Home Decor  \n",
       "3       credit_card    Furniture and Home Decor  \n",
       "4       credit_card                              \n",
       "...             ...                         ...  \n",
       "117734       boleto   Leisure and Miscellaneous  \n",
       "117735  credit_card   Leisure and Miscellaneous  \n",
       "117736  credit_card   Leisure and Miscellaneous  \n",
       "117737  credit_card  Electronics and Technology  \n",
       "117738       boleto    Furniture and Home Decor  \n",
       "\n",
       "[116467 rows x 23 columns]"
      ]
     },
     "execution_count": 7,
     "metadata": {},
     "output_type": "execute_result"
    }
   ],
   "source": [
    "df_final"
   ]
  },
  {
   "cell_type": "code",
   "execution_count": 8,
   "metadata": {
    "colab": {
     "base_uri": "https://localhost:8080/"
    },
    "id": "flK65QObxvW5",
    "outputId": "ee908e85-bf5e-486f-d7d2-81f46d473d58"
   },
   "outputs": [
    {
     "name": "stdout",
     "output_type": "stream",
     "text": [
      "<class 'pandas.core.frame.DataFrame'>\n",
      "Int64Index: 116467 entries, 0 to 117738\n",
      "Data columns (total 3 columns):\n",
      " #   Column            Non-Null Count   Dtype \n",
      "---  ------            --------------   ----- \n",
      " 0   order_status      116467 non-null  object\n",
      " 1   payment_type      116464 non-null  object\n",
      " 2   product_category  116467 non-null  object\n",
      "dtypes: object(3)\n",
      "memory usage: 3.6+ MB\n"
     ]
    }
   ],
   "source": [
    "df_quali = df_final.select_dtypes(include = 'object')\n",
    "df_quali.info()"
   ]
  },
  {
   "cell_type": "code",
   "execution_count": 9,
   "metadata": {
    "colab": {
     "base_uri": "https://localhost:8080/"
    },
    "id": "wmizyZf4N8-V",
    "outputId": "01fd095a-34d6-4459-9356-1f065329e20b"
   },
   "outputs": [
    {
     "data": {
      "text/plain": [
       "[array(['approved', 'delivered', 'invoiced', 'processing', 'shipped',\n",
       "        'unavailable'], dtype=object)]"
      ]
     },
     "execution_count": 9,
     "metadata": {},
     "output_type": "execute_result"
    }
   ],
   "source": [
    "########## ORDINAL ENCODER ##########\n",
    "\n",
    "# possible d'encoder plusieurs colonnes d'un coup (mais ici on en a une seule à encoder)\n",
    "enc = OrdinalEncoder()\n",
    "arr_ordinal = enc.fit_transform(df_quali[['order_status']])\n",
    "\n",
    "enc.categories_"
   ]
  },
  {
   "cell_type": "code",
   "execution_count": 10,
   "metadata": {
    "colab": {
     "base_uri": "https://localhost:8080/"
    },
    "id": "yN_LGS753xaH",
    "outputId": "802557f5-7a0d-46d4-900f-1a669cd91602"
   },
   "outputs": [
    {
     "data": {
      "text/plain": [
       "[{0: 'approved',\n",
       "  1: 'delivered',\n",
       "  2: 'invoiced',\n",
       "  3: 'processing',\n",
       "  4: 'shipped',\n",
       "  5: 'unavailable'}]"
      ]
     },
     "execution_count": 10,
     "metadata": {},
     "output_type": "execute_result"
    }
   ],
   "source": [
    "# Mapping des catégories :\n",
    "[dict(enumerate(mapping)) for mapping in enc.categories_]"
   ]
  },
  {
   "cell_type": "code",
   "execution_count": 11,
   "metadata": {
    "colab": {
     "base_uri": "https://localhost:8080/"
    },
    "id": "z308grw-WxSM",
    "outputId": "50d62b5a-53b7-4a47-d202-bd153970574d"
   },
   "outputs": [
    {
     "data": {
      "text/plain": [
       "array([[1.],\n",
       "       [1.],\n",
       "       [1.],\n",
       "       ...,\n",
       "       [1.],\n",
       "       [1.],\n",
       "       [1.]])"
      ]
     },
     "execution_count": 11,
     "metadata": {},
     "output_type": "execute_result"
    }
   ],
   "source": [
    "arr_ordinal"
   ]
  },
  {
   "cell_type": "code",
   "execution_count": 12,
   "metadata": {
    "id": "V85twRwwYudp"
   },
   "outputs": [],
   "source": [
    "arr_ordinal = arr_ordinal.reshape(-1, )"
   ]
  },
  {
   "cell_type": "code",
   "execution_count": 13,
   "metadata": {
    "id": "K4NgFlifXg_b"
   },
   "outputs": [],
   "source": [
    "# Recréer un dataframe avec les données encodées\n",
    "quali_order = pd.DataFrame()\n",
    "quali_order['order_status'] = arr_ordinal.tolist()"
   ]
  },
  {
   "cell_type": "code",
   "execution_count": 14,
   "metadata": {
    "colab": {
     "base_uri": "https://localhost:8080/",
     "height": 424
    },
    "id": "VHos64z9YkYM",
    "outputId": "031748a2-f8bf-455a-8de8-36e336716481"
   },
   "outputs": [
    {
     "data": {
      "text/html": [
       "<div>\n",
       "<style scoped>\n",
       "    .dataframe tbody tr th:only-of-type {\n",
       "        vertical-align: middle;\n",
       "    }\n",
       "\n",
       "    .dataframe tbody tr th {\n",
       "        vertical-align: top;\n",
       "    }\n",
       "\n",
       "    .dataframe thead th {\n",
       "        text-align: right;\n",
       "    }\n",
       "</style>\n",
       "<table border=\"1\" class=\"dataframe\">\n",
       "  <thead>\n",
       "    <tr style=\"text-align: right;\">\n",
       "      <th></th>\n",
       "      <th>order_status</th>\n",
       "    </tr>\n",
       "  </thead>\n",
       "  <tbody>\n",
       "    <tr>\n",
       "      <th>0</th>\n",
       "      <td>1.0</td>\n",
       "    </tr>\n",
       "    <tr>\n",
       "      <th>1</th>\n",
       "      <td>1.0</td>\n",
       "    </tr>\n",
       "    <tr>\n",
       "      <th>2</th>\n",
       "      <td>1.0</td>\n",
       "    </tr>\n",
       "    <tr>\n",
       "      <th>3</th>\n",
       "      <td>1.0</td>\n",
       "    </tr>\n",
       "    <tr>\n",
       "      <th>4</th>\n",
       "      <td>1.0</td>\n",
       "    </tr>\n",
       "    <tr>\n",
       "      <th>...</th>\n",
       "      <td>...</td>\n",
       "    </tr>\n",
       "    <tr>\n",
       "      <th>116462</th>\n",
       "      <td>1.0</td>\n",
       "    </tr>\n",
       "    <tr>\n",
       "      <th>116463</th>\n",
       "      <td>1.0</td>\n",
       "    </tr>\n",
       "    <tr>\n",
       "      <th>116464</th>\n",
       "      <td>1.0</td>\n",
       "    </tr>\n",
       "    <tr>\n",
       "      <th>116465</th>\n",
       "      <td>1.0</td>\n",
       "    </tr>\n",
       "    <tr>\n",
       "      <th>116466</th>\n",
       "      <td>1.0</td>\n",
       "    </tr>\n",
       "  </tbody>\n",
       "</table>\n",
       "<p>116467 rows × 1 columns</p>\n",
       "</div>"
      ],
      "text/plain": [
       "        order_status\n",
       "0                1.0\n",
       "1                1.0\n",
       "2                1.0\n",
       "3                1.0\n",
       "4                1.0\n",
       "...              ...\n",
       "116462           1.0\n",
       "116463           1.0\n",
       "116464           1.0\n",
       "116465           1.0\n",
       "116466           1.0\n",
       "\n",
       "[116467 rows x 1 columns]"
      ]
     },
     "execution_count": 14,
     "metadata": {},
     "output_type": "execute_result"
    }
   ],
   "source": [
    "quali_order"
   ]
  },
  {
   "cell_type": "code",
   "execution_count": 15,
   "metadata": {
    "colab": {
     "base_uri": "https://localhost:8080/",
     "height": 424
    },
    "id": "IffUqpF_Swxy",
    "outputId": "c44144cd-63eb-499f-cfa2-c04b7b84977f"
   },
   "outputs": [
    {
     "data": {
      "text/html": [
       "<div>\n",
       "<style scoped>\n",
       "    .dataframe tbody tr th:only-of-type {\n",
       "        vertical-align: middle;\n",
       "    }\n",
       "\n",
       "    .dataframe tbody tr th {\n",
       "        vertical-align: top;\n",
       "    }\n",
       "\n",
       "    .dataframe thead th {\n",
       "        text-align: right;\n",
       "    }\n",
       "</style>\n",
       "<table border=\"1\" class=\"dataframe\">\n",
       "  <thead>\n",
       "    <tr style=\"text-align: right;\">\n",
       "      <th></th>\n",
       "      <th>payment_type</th>\n",
       "    </tr>\n",
       "  </thead>\n",
       "  <tbody>\n",
       "    <tr>\n",
       "      <th>0</th>\n",
       "      <td>credit_card</td>\n",
       "    </tr>\n",
       "    <tr>\n",
       "      <th>1</th>\n",
       "      <td>credit_card</td>\n",
       "    </tr>\n",
       "    <tr>\n",
       "      <th>2</th>\n",
       "      <td>credit_card</td>\n",
       "    </tr>\n",
       "    <tr>\n",
       "      <th>3</th>\n",
       "      <td>credit_card</td>\n",
       "    </tr>\n",
       "    <tr>\n",
       "      <th>4</th>\n",
       "      <td>credit_card</td>\n",
       "    </tr>\n",
       "    <tr>\n",
       "      <th>...</th>\n",
       "      <td>...</td>\n",
       "    </tr>\n",
       "    <tr>\n",
       "      <th>117734</th>\n",
       "      <td>boleto</td>\n",
       "    </tr>\n",
       "    <tr>\n",
       "      <th>117735</th>\n",
       "      <td>credit_card</td>\n",
       "    </tr>\n",
       "    <tr>\n",
       "      <th>117736</th>\n",
       "      <td>credit_card</td>\n",
       "    </tr>\n",
       "    <tr>\n",
       "      <th>117737</th>\n",
       "      <td>credit_card</td>\n",
       "    </tr>\n",
       "    <tr>\n",
       "      <th>117738</th>\n",
       "      <td>boleto</td>\n",
       "    </tr>\n",
       "  </tbody>\n",
       "</table>\n",
       "<p>116467 rows × 1 columns</p>\n",
       "</div>"
      ],
      "text/plain": [
       "       payment_type\n",
       "0       credit_card\n",
       "1       credit_card\n",
       "2       credit_card\n",
       "3       credit_card\n",
       "4       credit_card\n",
       "...             ...\n",
       "117734       boleto\n",
       "117735  credit_card\n",
       "117736  credit_card\n",
       "117737  credit_card\n",
       "117738       boleto\n",
       "\n",
       "[116467 rows x 1 columns]"
      ]
     },
     "execution_count": 15,
     "metadata": {},
     "output_type": "execute_result"
    }
   ],
   "source": [
    "########### LABEL ENCODER ##########\n",
    "df_quali[['payment_type']]"
   ]
  },
  {
   "cell_type": "code",
   "execution_count": 16,
   "metadata": {
    "colab": {
     "base_uri": "https://localhost:8080/"
    },
    "id": "pVFI5mqnQueK",
    "outputId": "e5918a61-dfe5-4e22-db5a-9a111df47b67"
   },
   "outputs": [
    {
     "data": {
      "text/plain": [
       "array(['boleto', 'credit_card', 'debit_card', 'voucher', nan],\n",
       "      dtype=object)"
      ]
     },
     "execution_count": 16,
     "metadata": {},
     "output_type": "execute_result"
    }
   ],
   "source": [
    "le = LabelEncoder()\n",
    "\n",
    "# encoder variables une à une\n",
    "le.fit(df_quali[['payment_type']])\n",
    "le.classes_"
   ]
  },
  {
   "cell_type": "code",
   "execution_count": 17,
   "metadata": {
    "colab": {
     "base_uri": "https://localhost:8080/"
    },
    "id": "F_XLKiM65pLG",
    "outputId": "e81f9239-4225-46be-a9b5-aad197aac4ef"
   },
   "outputs": [
    {
     "data": {
      "text/plain": [
       "{'boleto': 0, 'credit_card': 1, 'debit_card': 2, 'voucher': 3, nan: 4}"
      ]
     },
     "execution_count": 17,
     "metadata": {},
     "output_type": "execute_result"
    }
   ],
   "source": [
    "# Mapping des catégories\n",
    "dict(zip(le.classes_, le.transform(le.classes_)))"
   ]
  },
  {
   "cell_type": "code",
   "execution_count": 18,
   "metadata": {
    "colab": {
     "base_uri": "https://localhost:8080/"
    },
    "id": "i5Hf0GOEShI7",
    "outputId": "c922249a-c994-4fbe-a8b3-97aefc8977b6"
   },
   "outputs": [
    {
     "data": {
      "text/plain": [
       "array([1, 1, 1, ..., 1, 1, 0])"
      ]
     },
     "execution_count": 18,
     "metadata": {},
     "output_type": "execute_result"
    }
   ],
   "source": [
    "arr_label_payment = le.transform(df_quali[['payment_type']])\n",
    "arr_label_payment"
   ]
  },
  {
   "cell_type": "code",
   "execution_count": 19,
   "metadata": {
    "id": "tVFPIO8DXaog"
   },
   "outputs": [],
   "source": [
    "# Recréer un dataframe avec les données encodées\n",
    "\n",
    "quali_payment = pd.DataFrame()\n",
    "quali_payment[ 'payment_type'] = arr_label_payment"
   ]
  },
  {
   "cell_type": "code",
   "execution_count": 20,
   "metadata": {
    "colab": {
     "base_uri": "https://localhost:8080/"
    },
    "id": "yC2YiXjuTMUV",
    "outputId": "e999fdd9-9270-4b7a-e55f-366628f00ecb"
   },
   "outputs": [
    {
     "data": {
      "text/plain": [
       "array(['', 'Electronics and Technology', 'Fashion and Accessories',\n",
       "       'Furniture and Home Decor', 'Leisure and Miscellaneous'],\n",
       "      dtype=object)"
      ]
     },
     "execution_count": 20,
     "metadata": {},
     "output_type": "execute_result"
    }
   ],
   "source": [
    "le = LabelEncoder()\n",
    "# encoder variables une à une\n",
    "le.fit(df_quali[['product_category']])\n",
    "le.classes_"
   ]
  },
  {
   "cell_type": "code",
   "execution_count": 21,
   "metadata": {
    "colab": {
     "base_uri": "https://localhost:8080/"
    },
    "id": "bt5Cep6f5u1Y",
    "outputId": "f334411d-c16e-472f-d7a6-73b928a580fa"
   },
   "outputs": [
    {
     "data": {
      "text/plain": [
       "{'': 0,\n",
       " 'Electronics and Technology': 1,\n",
       " 'Fashion and Accessories': 2,\n",
       " 'Furniture and Home Decor': 3,\n",
       " 'Leisure and Miscellaneous': 4}"
      ]
     },
     "execution_count": 21,
     "metadata": {},
     "output_type": "execute_result"
    }
   ],
   "source": [
    "# Mapping des catégories\n",
    "dict(zip(le.classes_, le.transform(le.classes_)))"
   ]
  },
  {
   "cell_type": "code",
   "execution_count": 22,
   "metadata": {
    "colab": {
     "base_uri": "https://localhost:8080/"
    },
    "id": "I3ZwHMC3TUzW",
    "outputId": "ad1ec8cc-5f4d-4547-81fa-b86399cf19d8"
   },
   "outputs": [
    {
     "data": {
      "text/plain": [
       "array([3, 3, 3, ..., 4, 1, 3])"
      ]
     },
     "execution_count": 22,
     "metadata": {},
     "output_type": "execute_result"
    }
   ],
   "source": [
    "arr_label_product = le.transform(df_quali[['product_category']])\n",
    "arr_label_product"
   ]
  },
  {
   "cell_type": "code",
   "execution_count": 23,
   "metadata": {
    "id": "rdU5wtaGXIIl"
   },
   "outputs": [],
   "source": [
    "# Recréer un dataframe avec les données encodées\n",
    "\n",
    "quali_product = pd.DataFrame()\n",
    "quali_product['product_category'] = arr_label_product"
   ]
  },
  {
   "cell_type": "code",
   "execution_count": 24,
   "metadata": {
    "colab": {
     "base_uri": "https://localhost:8080/",
     "height": 178
    },
    "id": "R5z099F8zYee",
    "outputId": "b3c36199-353f-492f-8e12-b08d9db24360"
   },
   "outputs": [
    {
     "data": {
      "text/plain": [
       "'\\n########## ONE HOT ENCODER ##########\\n\\n# Visualiser df simplifié\\nprint(\"----------------------------------------------------\")\\nprint(\\'df simplifié\\')\\nprint(\"----------------------------------------------------\")\\ndisplay(df_quali.head())\\n\\n# OneHotEncoder\\nenc = OneHotEncoder(categories = \\'auto\\')\\n\\nfor col in df_quali.columns:\\n  # Convertir type des colonnes en categories\\n  df_quali[col] = df_quali[col].astype(\\'category\\')\\n\\n  # Leur assigner des valeurs numériques et créer nouvelles colonnes\\n  df_quali[col] = df_quali[col].cat.codes\\n\\n# Appliquer l\\'encoding\\nfeature_arr = enc.fit_transform(df_quali).toarray()\\n\\nfeature_labels = enc.get_feature_names_out(df_quali.columns)\\n\\n# Recréer un dataframe avec les données encodées\\nfeatures = pd.DataFrame(feature_arr, columns = feature_labels)\\nprint(\"----------------------------------------------------\")\\nprint(\\'df encodé\\')\\nprint(\"----------------------------------------------------\")\\ndisplay(features.head())'"
      ]
     },
     "execution_count": 24,
     "metadata": {},
     "output_type": "execute_result"
    }
   ],
   "source": [
    "\"\"\"\n",
    "########## ONE HOT ENCODER ##########\n",
    "\n",
    "# Visualiser df simplifié\n",
    "print(\"----------------------------------------------------\")\n",
    "print('df simplifié')\n",
    "print(\"----------------------------------------------------\")\n",
    "display(df_quali.head())\n",
    "\n",
    "# OneHotEncoder\n",
    "enc = OneHotEncoder(categories = 'auto')\n",
    "\n",
    "for col in df_quali.columns:\n",
    "  # Convertir type des colonnes en categories\n",
    "  df_quali[col] = df_quali[col].astype('category')\n",
    "\n",
    "  # Leur assigner des valeurs numériques et créer nouvelles colonnes\n",
    "  df_quali[col] = df_quali[col].cat.codes\n",
    "\n",
    "# Appliquer l'encoding\n",
    "feature_arr = enc.fit_transform(df_quali).toarray()\n",
    "\n",
    "feature_labels = enc.get_feature_names_out(df_quali.columns)\n",
    "\n",
    "# Recréer un dataframe avec les données encodées\n",
    "features = pd.DataFrame(feature_arr, columns = feature_labels)\n",
    "print(\"----------------------------------------------------\")\n",
    "print('df encodé')\n",
    "print(\"----------------------------------------------------\")\n",
    "display(features.head())\"\"\""
   ]
  },
  {
   "cell_type": "code",
   "execution_count": 25,
   "metadata": {
    "colab": {
     "base_uri": "https://localhost:8080/",
     "height": 226
    },
    "id": "6ZXrrBvOxvW6",
    "outputId": "e69eda0f-bb6e-4925-ccb4-57dad76e5a26"
   },
   "outputs": [
    {
     "data": {
      "text/html": [
       "<div>\n",
       "<style scoped>\n",
       "    .dataframe tbody tr th:only-of-type {\n",
       "        vertical-align: middle;\n",
       "    }\n",
       "\n",
       "    .dataframe tbody tr th {\n",
       "        vertical-align: top;\n",
       "    }\n",
       "\n",
       "    .dataframe thead th {\n",
       "        text-align: right;\n",
       "    }\n",
       "</style>\n",
       "<table border=\"1\" class=\"dataframe\">\n",
       "  <thead>\n",
       "    <tr style=\"text-align: right;\">\n",
       "      <th></th>\n",
       "      <th>index</th>\n",
       "      <th>product_category</th>\n",
       "      <th>index</th>\n",
       "      <th>payment_type</th>\n",
       "      <th>index</th>\n",
       "      <th>order_status</th>\n",
       "      <th>index</th>\n",
       "      <th>product_name_lenght</th>\n",
       "      <th>product_description_lenght</th>\n",
       "      <th>product_photos_qty</th>\n",
       "      <th>product_weight_g</th>\n",
       "      <th>payment_sequential</th>\n",
       "      <th>payment_installments</th>\n",
       "      <th>payment_value</th>\n",
       "      <th>review_score</th>\n",
       "      <th>review_time</th>\n",
       "      <th>order_time</th>\n",
       "      <th>delivery_error_time</th>\n",
       "      <th>order_preparation_time</th>\n",
       "      <th>shipping_limit_respect</th>\n",
       "      <th>purchase_month</th>\n",
       "      <th>purchase_dayofweek</th>\n",
       "      <th>purchase_day</th>\n",
       "      <th>purchase_hour</th>\n",
       "      <th>full_written_review</th>\n",
       "      <th>written_review_title</th>\n",
       "      <th>distance</th>\n",
       "    </tr>\n",
       "  </thead>\n",
       "  <tbody>\n",
       "    <tr>\n",
       "      <th>0</th>\n",
       "      <td>0</td>\n",
       "      <td>3</td>\n",
       "      <td>0</td>\n",
       "      <td>1</td>\n",
       "      <td>0</td>\n",
       "      <td>1.0</td>\n",
       "      <td>0</td>\n",
       "      <td>41.0</td>\n",
       "      <td>1141.0</td>\n",
       "      <td>1.0</td>\n",
       "      <td>8683.0</td>\n",
       "      <td>1.0</td>\n",
       "      <td>2.0</td>\n",
       "      <td>146.87</td>\n",
       "      <td>4.0</td>\n",
       "      <td>4.94074</td>\n",
       "      <td>8.81250</td>\n",
       "      <td>-10.55862</td>\n",
       "      <td>6.80955</td>\n",
       "      <td>-0.80955</td>\n",
       "      <td>5.0</td>\n",
       "      <td>1.0</td>\n",
       "      <td>16.0</td>\n",
       "      <td>15.0</td>\n",
       "      <td>0.0</td>\n",
       "      <td>0.0</td>\n",
       "      <td>228.79538</td>\n",
       "    </tr>\n",
       "    <tr>\n",
       "      <th>1</th>\n",
       "      <td>1</td>\n",
       "      <td>3</td>\n",
       "      <td>1</td>\n",
       "      <td>1</td>\n",
       "      <td>1</td>\n",
       "      <td>1.0</td>\n",
       "      <td>1</td>\n",
       "      <td>43.0</td>\n",
       "      <td>1002.0</td>\n",
       "      <td>3.0</td>\n",
       "      <td>10150.0</td>\n",
       "      <td>1.0</td>\n",
       "      <td>8.0</td>\n",
       "      <td>335.48</td>\n",
       "      <td>5.0</td>\n",
       "      <td>11.94686</td>\n",
       "      <td>16.66175</td>\n",
       "      <td>-7.47131</td>\n",
       "      <td>2.84476</td>\n",
       "      <td>3.15524</td>\n",
       "      <td>1.0</td>\n",
       "      <td>4.0</td>\n",
       "      <td>12.0</td>\n",
       "      <td>20.0</td>\n",
       "      <td>0.0</td>\n",
       "      <td>0.0</td>\n",
       "      <td>302.71858</td>\n",
       "    </tr>\n",
       "    <tr>\n",
       "      <th>2</th>\n",
       "      <td>2</td>\n",
       "      <td>3</td>\n",
       "      <td>2</td>\n",
       "      <td>1</td>\n",
       "      <td>2</td>\n",
       "      <td>1.0</td>\n",
       "      <td>2</td>\n",
       "      <td>55.0</td>\n",
       "      <td>955.0</td>\n",
       "      <td>1.0</td>\n",
       "      <td>8267.0</td>\n",
       "      <td>1.0</td>\n",
       "      <td>7.0</td>\n",
       "      <td>157.73</td>\n",
       "      <td>5.0</td>\n",
       "      <td>0.50763</td>\n",
       "      <td>26.07715</td>\n",
       "      <td>1.74920</td>\n",
       "      <td>21.92488</td>\n",
       "      <td>-5.92488</td>\n",
       "      <td>5.0</td>\n",
       "      <td>5.0</td>\n",
       "      <td>19.0</td>\n",
       "      <td>16.0</td>\n",
       "      <td>0.0</td>\n",
       "      <td>0.0</td>\n",
       "      <td>29.14657</td>\n",
       "    </tr>\n",
       "    <tr>\n",
       "      <th>3</th>\n",
       "      <td>3</td>\n",
       "      <td>3</td>\n",
       "      <td>3</td>\n",
       "      <td>1</td>\n",
       "      <td>3</td>\n",
       "      <td>1.0</td>\n",
       "      <td>3</td>\n",
       "      <td>48.0</td>\n",
       "      <td>1066.0</td>\n",
       "      <td>1.0</td>\n",
       "      <td>12160.0</td>\n",
       "      <td>1.0</td>\n",
       "      <td>1.0</td>\n",
       "      <td>173.30</td>\n",
       "      <td>5.0</td>\n",
       "      <td>4.77554</td>\n",
       "      <td>14.99846</td>\n",
       "      <td>-12.33027</td>\n",
       "      <td>14.24541</td>\n",
       "      <td>-0.28572</td>\n",
       "      <td>3.0</td>\n",
       "      <td>1.0</td>\n",
       "      <td>13.0</td>\n",
       "      <td>16.0</td>\n",
       "      <td>0.0</td>\n",
       "      <td>0.0</td>\n",
       "      <td>18.11744</td>\n",
       "    </tr>\n",
       "    <tr>\n",
       "      <th>4</th>\n",
       "      <td>4</td>\n",
       "      <td>0</td>\n",
       "      <td>4</td>\n",
       "      <td>1</td>\n",
       "      <td>4</td>\n",
       "      <td>1.0</td>\n",
       "      <td>4</td>\n",
       "      <td>61.0</td>\n",
       "      <td>407.0</td>\n",
       "      <td>1.0</td>\n",
       "      <td>5200.0</td>\n",
       "      <td>1.0</td>\n",
       "      <td>8.0</td>\n",
       "      <td>252.25</td>\n",
       "      <td>5.0</td>\n",
       "      <td>7.08324</td>\n",
       "      <td>11.46132</td>\n",
       "      <td>-5.12792</td>\n",
       "      <td>1.21240</td>\n",
       "      <td>0.78760</td>\n",
       "      <td>7.0</td>\n",
       "      <td>6.0</td>\n",
       "      <td>29.0</td>\n",
       "      <td>9.0</td>\n",
       "      <td>1.0</td>\n",
       "      <td>1.0</td>\n",
       "      <td>187.45960</td>\n",
       "    </tr>\n",
       "  </tbody>\n",
       "</table>\n",
       "</div>"
      ],
      "text/plain": [
       "   index  product_category  index  payment_type  index  order_status  index  \\\n",
       "0      0                 3      0             1      0           1.0      0   \n",
       "1      1                 3      1             1      1           1.0      1   \n",
       "2      2                 3      2             1      2           1.0      2   \n",
       "3      3                 3      3             1      3           1.0      3   \n",
       "4      4                 0      4             1      4           1.0      4   \n",
       "\n",
       "   product_name_lenght  product_description_lenght  product_photos_qty  \\\n",
       "0                 41.0                      1141.0                 1.0   \n",
       "1                 43.0                      1002.0                 3.0   \n",
       "2                 55.0                       955.0                 1.0   \n",
       "3                 48.0                      1066.0                 1.0   \n",
       "4                 61.0                       407.0                 1.0   \n",
       "\n",
       "   product_weight_g  payment_sequential  payment_installments  payment_value  \\\n",
       "0            8683.0                 1.0                   2.0         146.87   \n",
       "1           10150.0                 1.0                   8.0         335.48   \n",
       "2            8267.0                 1.0                   7.0         157.73   \n",
       "3           12160.0                 1.0                   1.0         173.30   \n",
       "4            5200.0                 1.0                   8.0         252.25   \n",
       "\n",
       "   review_score  review_time  order_time  delivery_error_time  \\\n",
       "0           4.0      4.94074     8.81250            -10.55862   \n",
       "1           5.0     11.94686    16.66175             -7.47131   \n",
       "2           5.0      0.50763    26.07715              1.74920   \n",
       "3           5.0      4.77554    14.99846            -12.33027   \n",
       "4           5.0      7.08324    11.46132             -5.12792   \n",
       "\n",
       "   order_preparation_time  shipping_limit_respect  purchase_month  \\\n",
       "0                 6.80955                -0.80955             5.0   \n",
       "1                 2.84476                 3.15524             1.0   \n",
       "2                21.92488                -5.92488             5.0   \n",
       "3                14.24541                -0.28572             3.0   \n",
       "4                 1.21240                 0.78760             7.0   \n",
       "\n",
       "   purchase_dayofweek  purchase_day  purchase_hour  full_written_review  \\\n",
       "0                 1.0          16.0           15.0                  0.0   \n",
       "1                 4.0          12.0           20.0                  0.0   \n",
       "2                 5.0          19.0           16.0                  0.0   \n",
       "3                 1.0          13.0           16.0                  0.0   \n",
       "4                 6.0          29.0            9.0                  1.0   \n",
       "\n",
       "   written_review_title   distance  \n",
       "0                   0.0  228.79538  \n",
       "1                   0.0  302.71858  \n",
       "2                   0.0   29.14657  \n",
       "3                   0.0   18.11744  \n",
       "4                   1.0  187.45960  "
      ]
     },
     "execution_count": 25,
     "metadata": {},
     "output_type": "execute_result"
    }
   ],
   "source": [
    "########## CONCATENATION ##########\n",
    "# concatener données qualitatives et quantitatives transformées\n",
    "\n",
    "quali_product = quali_product.reset_index()\n",
    "quali_payment = quali_payment.reset_index()\n",
    "quali_order = quali_order.reset_index()\n",
    "\n",
    "#features = features.reset_index()\n",
    "df_quanti = df_final.select_dtypes(include = ['int', 'float'])\n",
    "df_quanti = df_quanti.reset_index()\n",
    "\n",
    "df = pd.concat([quali_product, quali_payment, quali_order, df_quanti], axis = 1)\n",
    "df.head()"
   ]
  },
  {
   "cell_type": "code",
   "execution_count": 26,
   "metadata": {
    "id": "oM2GHHYN0Dzd"
   },
   "outputs": [],
   "source": [
    "# attention -> drop index\n",
    "df.drop(['index'], axis = 1, inplace = True)"
   ]
  },
  {
   "cell_type": "code",
   "execution_count": 27,
   "metadata": {
    "colab": {
     "base_uri": "https://localhost:8080/",
     "height": 444
    },
    "id": "WNFlDN3hZL6j",
    "outputId": "6bb27576-a144-46fa-92fa-3908c6a6de94"
   },
   "outputs": [
    {
     "data": {
      "text/html": [
       "<div>\n",
       "<style scoped>\n",
       "    .dataframe tbody tr th:only-of-type {\n",
       "        vertical-align: middle;\n",
       "    }\n",
       "\n",
       "    .dataframe tbody tr th {\n",
       "        vertical-align: top;\n",
       "    }\n",
       "\n",
       "    .dataframe thead th {\n",
       "        text-align: right;\n",
       "    }\n",
       "</style>\n",
       "<table border=\"1\" class=\"dataframe\">\n",
       "  <thead>\n",
       "    <tr style=\"text-align: right;\">\n",
       "      <th></th>\n",
       "      <th>product_category</th>\n",
       "      <th>payment_type</th>\n",
       "      <th>order_status</th>\n",
       "      <th>product_name_lenght</th>\n",
       "      <th>product_description_lenght</th>\n",
       "      <th>product_photos_qty</th>\n",
       "      <th>product_weight_g</th>\n",
       "      <th>payment_sequential</th>\n",
       "      <th>payment_installments</th>\n",
       "      <th>payment_value</th>\n",
       "      <th>review_score</th>\n",
       "      <th>review_time</th>\n",
       "      <th>order_time</th>\n",
       "      <th>delivery_error_time</th>\n",
       "      <th>order_preparation_time</th>\n",
       "      <th>shipping_limit_respect</th>\n",
       "      <th>purchase_month</th>\n",
       "      <th>purchase_dayofweek</th>\n",
       "      <th>purchase_day</th>\n",
       "      <th>purchase_hour</th>\n",
       "      <th>full_written_review</th>\n",
       "      <th>written_review_title</th>\n",
       "      <th>distance</th>\n",
       "    </tr>\n",
       "  </thead>\n",
       "  <tbody>\n",
       "    <tr>\n",
       "      <th>0</th>\n",
       "      <td>3</td>\n",
       "      <td>1</td>\n",
       "      <td>1.0</td>\n",
       "      <td>41.0</td>\n",
       "      <td>1141.0</td>\n",
       "      <td>1.0</td>\n",
       "      <td>8683.0</td>\n",
       "      <td>1.0</td>\n",
       "      <td>2.0</td>\n",
       "      <td>146.87</td>\n",
       "      <td>4.0</td>\n",
       "      <td>4.94074</td>\n",
       "      <td>8.81250</td>\n",
       "      <td>-10.55862</td>\n",
       "      <td>6.80955</td>\n",
       "      <td>-0.80955</td>\n",
       "      <td>5.0</td>\n",
       "      <td>1.0</td>\n",
       "      <td>16.0</td>\n",
       "      <td>15.0</td>\n",
       "      <td>0.0</td>\n",
       "      <td>0.0</td>\n",
       "      <td>228.79538</td>\n",
       "    </tr>\n",
       "    <tr>\n",
       "      <th>1</th>\n",
       "      <td>3</td>\n",
       "      <td>1</td>\n",
       "      <td>1.0</td>\n",
       "      <td>43.0</td>\n",
       "      <td>1002.0</td>\n",
       "      <td>3.0</td>\n",
       "      <td>10150.0</td>\n",
       "      <td>1.0</td>\n",
       "      <td>8.0</td>\n",
       "      <td>335.48</td>\n",
       "      <td>5.0</td>\n",
       "      <td>11.94686</td>\n",
       "      <td>16.66175</td>\n",
       "      <td>-7.47131</td>\n",
       "      <td>2.84476</td>\n",
       "      <td>3.15524</td>\n",
       "      <td>1.0</td>\n",
       "      <td>4.0</td>\n",
       "      <td>12.0</td>\n",
       "      <td>20.0</td>\n",
       "      <td>0.0</td>\n",
       "      <td>0.0</td>\n",
       "      <td>302.71858</td>\n",
       "    </tr>\n",
       "    <tr>\n",
       "      <th>2</th>\n",
       "      <td>3</td>\n",
       "      <td>1</td>\n",
       "      <td>1.0</td>\n",
       "      <td>55.0</td>\n",
       "      <td>955.0</td>\n",
       "      <td>1.0</td>\n",
       "      <td>8267.0</td>\n",
       "      <td>1.0</td>\n",
       "      <td>7.0</td>\n",
       "      <td>157.73</td>\n",
       "      <td>5.0</td>\n",
       "      <td>0.50763</td>\n",
       "      <td>26.07715</td>\n",
       "      <td>1.74920</td>\n",
       "      <td>21.92488</td>\n",
       "      <td>-5.92488</td>\n",
       "      <td>5.0</td>\n",
       "      <td>5.0</td>\n",
       "      <td>19.0</td>\n",
       "      <td>16.0</td>\n",
       "      <td>0.0</td>\n",
       "      <td>0.0</td>\n",
       "      <td>29.14657</td>\n",
       "    </tr>\n",
       "    <tr>\n",
       "      <th>3</th>\n",
       "      <td>3</td>\n",
       "      <td>1</td>\n",
       "      <td>1.0</td>\n",
       "      <td>48.0</td>\n",
       "      <td>1066.0</td>\n",
       "      <td>1.0</td>\n",
       "      <td>12160.0</td>\n",
       "      <td>1.0</td>\n",
       "      <td>1.0</td>\n",
       "      <td>173.30</td>\n",
       "      <td>5.0</td>\n",
       "      <td>4.77554</td>\n",
       "      <td>14.99846</td>\n",
       "      <td>-12.33027</td>\n",
       "      <td>14.24541</td>\n",
       "      <td>-0.28572</td>\n",
       "      <td>3.0</td>\n",
       "      <td>1.0</td>\n",
       "      <td>13.0</td>\n",
       "      <td>16.0</td>\n",
       "      <td>0.0</td>\n",
       "      <td>0.0</td>\n",
       "      <td>18.11744</td>\n",
       "    </tr>\n",
       "    <tr>\n",
       "      <th>4</th>\n",
       "      <td>0</td>\n",
       "      <td>1</td>\n",
       "      <td>1.0</td>\n",
       "      <td>61.0</td>\n",
       "      <td>407.0</td>\n",
       "      <td>1.0</td>\n",
       "      <td>5200.0</td>\n",
       "      <td>1.0</td>\n",
       "      <td>8.0</td>\n",
       "      <td>252.25</td>\n",
       "      <td>5.0</td>\n",
       "      <td>7.08324</td>\n",
       "      <td>11.46132</td>\n",
       "      <td>-5.12792</td>\n",
       "      <td>1.21240</td>\n",
       "      <td>0.78760</td>\n",
       "      <td>7.0</td>\n",
       "      <td>6.0</td>\n",
       "      <td>29.0</td>\n",
       "      <td>9.0</td>\n",
       "      <td>1.0</td>\n",
       "      <td>1.0</td>\n",
       "      <td>187.45960</td>\n",
       "    </tr>\n",
       "    <tr>\n",
       "      <th>...</th>\n",
       "      <td>...</td>\n",
       "      <td>...</td>\n",
       "      <td>...</td>\n",
       "      <td>...</td>\n",
       "      <td>...</td>\n",
       "      <td>...</td>\n",
       "      <td>...</td>\n",
       "      <td>...</td>\n",
       "      <td>...</td>\n",
       "      <td>...</td>\n",
       "      <td>...</td>\n",
       "      <td>...</td>\n",
       "      <td>...</td>\n",
       "      <td>...</td>\n",
       "      <td>...</td>\n",
       "      <td>...</td>\n",
       "      <td>...</td>\n",
       "      <td>...</td>\n",
       "      <td>...</td>\n",
       "      <td>...</td>\n",
       "      <td>...</td>\n",
       "      <td>...</td>\n",
       "      <td>...</td>\n",
       "    </tr>\n",
       "    <tr>\n",
       "      <th>116462</th>\n",
       "      <td>4</td>\n",
       "      <td>0</td>\n",
       "      <td>1.0</td>\n",
       "      <td>51.0</td>\n",
       "      <td>489.0</td>\n",
       "      <td>2.0</td>\n",
       "      <td>611.0</td>\n",
       "      <td>1.0</td>\n",
       "      <td>6.0</td>\n",
       "      <td>88.78</td>\n",
       "      <td>4.0</td>\n",
       "      <td>14.46880</td>\n",
       "      <td>6.17940</td>\n",
       "      <td>-11.16207</td>\n",
       "      <td>3.41656</td>\n",
       "      <td>1.58344</td>\n",
       "      <td>4.0</td>\n",
       "      <td>5.0</td>\n",
       "      <td>7.0</td>\n",
       "      <td>15.0</td>\n",
       "      <td>0.0</td>\n",
       "      <td>1.0</td>\n",
       "      <td>329.23572</td>\n",
       "    </tr>\n",
       "    <tr>\n",
       "      <th>116463</th>\n",
       "      <td>4</td>\n",
       "      <td>1</td>\n",
       "      <td>1.0</td>\n",
       "      <td>51.0</td>\n",
       "      <td>1193.0</td>\n",
       "      <td>1.0</td>\n",
       "      <td>1211.0</td>\n",
       "      <td>1.0</td>\n",
       "      <td>3.0</td>\n",
       "      <td>129.06</td>\n",
       "      <td>5.0</td>\n",
       "      <td>4.44172</td>\n",
       "      <td>7.44054</td>\n",
       "      <td>-8.21198</td>\n",
       "      <td>1.42179</td>\n",
       "      <td>4.57821</td>\n",
       "      <td>4.0</td>\n",
       "      <td>2.0</td>\n",
       "      <td>4.0</td>\n",
       "      <td>8.0</td>\n",
       "      <td>0.0</td>\n",
       "      <td>0.0</td>\n",
       "      <td>188.57356</td>\n",
       "    </tr>\n",
       "    <tr>\n",
       "      <th>116464</th>\n",
       "      <td>4</td>\n",
       "      <td>1</td>\n",
       "      <td>1.0</td>\n",
       "      <td>60.0</td>\n",
       "      <td>575.0</td>\n",
       "      <td>1.0</td>\n",
       "      <td>870.0</td>\n",
       "      <td>1.0</td>\n",
       "      <td>5.0</td>\n",
       "      <td>56.04</td>\n",
       "      <td>1.0</td>\n",
       "      <td>4.07022</td>\n",
       "      <td>30.95237</td>\n",
       "      <td>7.79392</td>\n",
       "      <td>0.89044</td>\n",
       "      <td>3.10956</td>\n",
       "      <td>4.0</td>\n",
       "      <td>6.0</td>\n",
       "      <td>8.0</td>\n",
       "      <td>20.0</td>\n",
       "      <td>1.0</td>\n",
       "      <td>1.0</td>\n",
       "      <td>1662.21122</td>\n",
       "    </tr>\n",
       "    <tr>\n",
       "      <th>116465</th>\n",
       "      <td>1</td>\n",
       "      <td>1</td>\n",
       "      <td>1.0</td>\n",
       "      <td>59.0</td>\n",
       "      <td>452.0</td>\n",
       "      <td>1.0</td>\n",
       "      <td>710.0</td>\n",
       "      <td>1.0</td>\n",
       "      <td>2.0</td>\n",
       "      <td>711.07</td>\n",
       "      <td>5.0</td>\n",
       "      <td>2.98215</td>\n",
       "      <td>12.95146</td>\n",
       "      <td>-18.16760</td>\n",
       "      <td>2.87038</td>\n",
       "      <td>3.11887</td>\n",
       "      <td>11.0</td>\n",
       "      <td>4.0</td>\n",
       "      <td>3.0</td>\n",
       "      <td>21.0</td>\n",
       "      <td>0.0</td>\n",
       "      <td>0.0</td>\n",
       "      <td>628.26583</td>\n",
       "    </tr>\n",
       "    <tr>\n",
       "      <th>116466</th>\n",
       "      <td>3</td>\n",
       "      <td>0</td>\n",
       "      <td>1.0</td>\n",
       "      <td>54.0</td>\n",
       "      <td>933.0</td>\n",
       "      <td>1.0</td>\n",
       "      <td>50.0</td>\n",
       "      <td>1.0</td>\n",
       "      <td>1.0</td>\n",
       "      <td>21.77</td>\n",
       "      <td>5.0</td>\n",
       "      <td>0.97299</td>\n",
       "      <td>7.17723</td>\n",
       "      <td>-12.22042</td>\n",
       "      <td>2.01854</td>\n",
       "      <td>4.98146</td>\n",
       "      <td>12.0</td>\n",
       "      <td>1.0</td>\n",
       "      <td>19.0</td>\n",
       "      <td>14.0</td>\n",
       "      <td>1.0</td>\n",
       "      <td>0.0</td>\n",
       "      <td>43.42418</td>\n",
       "    </tr>\n",
       "  </tbody>\n",
       "</table>\n",
       "<p>116467 rows × 23 columns</p>\n",
       "</div>"
      ],
      "text/plain": [
       "        product_category  payment_type  order_status  product_name_lenght  \\\n",
       "0                      3             1           1.0                 41.0   \n",
       "1                      3             1           1.0                 43.0   \n",
       "2                      3             1           1.0                 55.0   \n",
       "3                      3             1           1.0                 48.0   \n",
       "4                      0             1           1.0                 61.0   \n",
       "...                  ...           ...           ...                  ...   \n",
       "116462                 4             0           1.0                 51.0   \n",
       "116463                 4             1           1.0                 51.0   \n",
       "116464                 4             1           1.0                 60.0   \n",
       "116465                 1             1           1.0                 59.0   \n",
       "116466                 3             0           1.0                 54.0   \n",
       "\n",
       "        product_description_lenght  product_photos_qty  product_weight_g  \\\n",
       "0                           1141.0                 1.0            8683.0   \n",
       "1                           1002.0                 3.0           10150.0   \n",
       "2                            955.0                 1.0            8267.0   \n",
       "3                           1066.0                 1.0           12160.0   \n",
       "4                            407.0                 1.0            5200.0   \n",
       "...                            ...                 ...               ...   \n",
       "116462                       489.0                 2.0             611.0   \n",
       "116463                      1193.0                 1.0            1211.0   \n",
       "116464                       575.0                 1.0             870.0   \n",
       "116465                       452.0                 1.0             710.0   \n",
       "116466                       933.0                 1.0              50.0   \n",
       "\n",
       "        payment_sequential  payment_installments  payment_value  review_score  \\\n",
       "0                      1.0                   2.0         146.87           4.0   \n",
       "1                      1.0                   8.0         335.48           5.0   \n",
       "2                      1.0                   7.0         157.73           5.0   \n",
       "3                      1.0                   1.0         173.30           5.0   \n",
       "4                      1.0                   8.0         252.25           5.0   \n",
       "...                    ...                   ...            ...           ...   \n",
       "116462                 1.0                   6.0          88.78           4.0   \n",
       "116463                 1.0                   3.0         129.06           5.0   \n",
       "116464                 1.0                   5.0          56.04           1.0   \n",
       "116465                 1.0                   2.0         711.07           5.0   \n",
       "116466                 1.0                   1.0          21.77           5.0   \n",
       "\n",
       "        review_time  order_time  delivery_error_time  order_preparation_time  \\\n",
       "0           4.94074     8.81250            -10.55862                 6.80955   \n",
       "1          11.94686    16.66175             -7.47131                 2.84476   \n",
       "2           0.50763    26.07715              1.74920                21.92488   \n",
       "3           4.77554    14.99846            -12.33027                14.24541   \n",
       "4           7.08324    11.46132             -5.12792                 1.21240   \n",
       "...             ...         ...                  ...                     ...   \n",
       "116462     14.46880     6.17940            -11.16207                 3.41656   \n",
       "116463      4.44172     7.44054             -8.21198                 1.42179   \n",
       "116464      4.07022    30.95237              7.79392                 0.89044   \n",
       "116465      2.98215    12.95146            -18.16760                 2.87038   \n",
       "116466      0.97299     7.17723            -12.22042                 2.01854   \n",
       "\n",
       "        shipping_limit_respect  purchase_month  purchase_dayofweek  \\\n",
       "0                     -0.80955             5.0                 1.0   \n",
       "1                      3.15524             1.0                 4.0   \n",
       "2                     -5.92488             5.0                 5.0   \n",
       "3                     -0.28572             3.0                 1.0   \n",
       "4                      0.78760             7.0                 6.0   \n",
       "...                        ...             ...                 ...   \n",
       "116462                 1.58344             4.0                 5.0   \n",
       "116463                 4.57821             4.0                 2.0   \n",
       "116464                 3.10956             4.0                 6.0   \n",
       "116465                 3.11887            11.0                 4.0   \n",
       "116466                 4.98146            12.0                 1.0   \n",
       "\n",
       "        purchase_day  purchase_hour  full_written_review  \\\n",
       "0               16.0           15.0                  0.0   \n",
       "1               12.0           20.0                  0.0   \n",
       "2               19.0           16.0                  0.0   \n",
       "3               13.0           16.0                  0.0   \n",
       "4               29.0            9.0                  1.0   \n",
       "...              ...            ...                  ...   \n",
       "116462           7.0           15.0                  0.0   \n",
       "116463           4.0            8.0                  0.0   \n",
       "116464           8.0           20.0                  1.0   \n",
       "116465           3.0           21.0                  0.0   \n",
       "116466          19.0           14.0                  1.0   \n",
       "\n",
       "        written_review_title    distance  \n",
       "0                        0.0   228.79538  \n",
       "1                        0.0   302.71858  \n",
       "2                        0.0    29.14657  \n",
       "3                        0.0    18.11744  \n",
       "4                        1.0   187.45960  \n",
       "...                      ...         ...  \n",
       "116462                   1.0   329.23572  \n",
       "116463                   0.0   188.57356  \n",
       "116464                   1.0  1662.21122  \n",
       "116465                   0.0   628.26583  \n",
       "116466                   0.0    43.42418  \n",
       "\n",
       "[116467 rows x 23 columns]"
      ]
     },
     "execution_count": 27,
     "metadata": {},
     "output_type": "execute_result"
    }
   ],
   "source": [
    "df"
   ]
  },
  {
   "cell_type": "code",
   "execution_count": 28,
   "metadata": {
    "colab": {
     "base_uri": "https://localhost:8080/"
    },
    "id": "A7NhIMU1xvW6",
    "outputId": "affd0ab4-8012-4e56-a90e-8cccb898dc0a"
   },
   "outputs": [
    {
     "data": {
      "text/plain": [
       "0"
      ]
     },
     "execution_count": 28,
     "metadata": {},
     "output_type": "execute_result"
    }
   ],
   "source": [
    "# Vérifier qu'il ne reste pas de NaN\n",
    "df.isna().sum().sum()"
   ]
  },
  {
   "cell_type": "code",
   "execution_count": 29,
   "metadata": {
    "id": "QOljdh2wzYYv"
   },
   "outputs": [],
   "source": [
    "# standardisation - A DEPLACER AVANT ENCODING ?\n",
    "\n",
    "scaler = StandardScaler()\n",
    "df_std = scaler.fit_transform(df) # attendre un peu\n",
    "df_std = pd.DataFrame(data = df_std, columns = df.columns)"
   ]
  },
  {
   "cell_type": "code",
   "execution_count": 30,
   "metadata": {
    "id": "RZ5iTb-9lzO2"
   },
   "outputs": [],
   "source": [
    "# Question -> utiliser MinMaxScaler à la place ?"
   ]
  },
  {
   "cell_type": "code",
   "execution_count": 31,
   "metadata": {
    "colab": {
     "base_uri": "https://localhost:8080/"
    },
    "id": "xgwf7zsOzYPX",
    "outputId": "68bfdb89-f343-47f0-a65e-bff69652b840"
   },
   "outputs": [
    {
     "data": {
      "text/plain": [
       "(116467, 23)"
      ]
     },
     "execution_count": 31,
     "metadata": {},
     "output_type": "execute_result"
    }
   ],
   "source": [
    "df_std.shape"
   ]
  },
  {
   "cell_type": "markdown",
   "metadata": {
    "id": "4ScIYBkn7UNa"
   },
   "source": [
    "## Kmeans"
   ]
  },
  {
   "cell_type": "code",
   "execution_count": 32,
   "metadata": {
    "id": "amODcKSs7UNa"
   },
   "outputs": [],
   "source": [
    "# K Means Clustering\n",
    "# = algo itératif qui fonctionne en 2 étapes :\n",
    "\n",
    "# 1) on affecte les points du dataset au centroïde le plus proche\n",
    "# 2) puis on calcule la moyenne de chaque cluster et on déplace chaque centroïde au centre de son cluster\n",
    "\n",
    "# et ainsi de suite jusqu'à ce que les centroïdes convergent à une position d'équilibre\n",
    "\n",
    "# selon la position initiale des centroïdes, l'algo k-means peut donner de mauvais clusters (converger vers de mauvaises positions)\n",
    "# pour éviter ce pb, on execute algo plusieurs fois en modifiant les positions de départ/la position initiale du centroïde\n",
    "\n",
    "# pour chaque résultat donné, on mesure la distance entre les points d'un cluster et le centre de ce dernier et on retient la solution pour laquelle la somme de ces distances\n",
    "# est la plus petite\n",
    "\n",
    "# en gros, cherche la position des centres qui minimise la distance entre les points d'un cluster et le centre de ce dernier\n",
    "# équivaut plus ou moins à minimiser la variance des clusters"
   ]
  },
  {
   "cell_type": "markdown",
   "metadata": {
    "id": "FXp6DYHfDTHD"
   },
   "source": [
    "### K optimal"
   ]
  },
  {
   "cell_type": "code",
   "execution_count": 33,
   "metadata": {
    "id": "Md4hKe1a7UNa"
   },
   "outputs": [],
   "source": [
    "# choix nb cluster -> voir méthodes elbow et coefficients de silhouette"
   ]
  },
  {
   "cell_type": "code",
   "execution_count": null,
   "metadata": {
    "colab": {
     "base_uri": "https://localhost:8080/"
    },
    "id": "Sb7BA4zc7UNa",
    "outputId": "76864041-62bf-4dfe-c3e5-ec86666c5179"
   },
   "outputs": [],
   "source": [
    "%%time\n",
    "# Elbow method\n",
    "# -> detecter une zone de coude dans la minimisation du coût (inertia)\n",
    "\n",
    "inertia = []\n",
    "K_range = range(1, 20)\n",
    "for k in K_range:\n",
    "    model = KMeans(n_clusters = k).fit(df_std)\n",
    "    inertia.append(model.inertia_)\n",
    "\n",
    "# loooooooooong"
   ]
  },
  {
   "cell_type": "code",
   "execution_count": null,
   "metadata": {
    "colab": {
     "base_uri": "https://localhost:8080/",
     "height": 536
    },
    "id": "uaDfwiV_xvW-",
    "outputId": "2c74bd1d-c24e-4730-daa9-2e5b22ba1535"
   },
   "outputs": [],
   "source": [
    "# plot le coude\n",
    "plt.plot(K_range, inertia)\n",
    "plt.xlabel('nb de clusters')\n",
    "plt.ylabel('coût du modèle')"
   ]
  },
  {
   "cell_type": "code",
   "execution_count": null,
   "metadata": {
    "id": "kD562pIIxvW-"
   },
   "outputs": [],
   "source": [
    "# https://www.kaggle.com/code/mesofianeyou/customer-segmentation-with-k-means"
   ]
  },
  {
   "cell_type": "code",
   "execution_count": null,
   "metadata": {
    "colab": {
     "base_uri": "https://localhost:8080/",
     "height": 539
    },
    "id": "sfdaqMrVxvW-",
    "outputId": "2495991d-a8f8-43f2-c327-74f8ce737f34"
   },
   "outputs": [],
   "source": [
    "%%time\n",
    "# autre méthode\n",
    "#!pip install yellowbrick\n",
    "\n",
    "# Instantiate the clustering model and visualizer\n",
    "model = KMeans()\n",
    "visualizer = KElbowVisualizer(model, k = (1, 20), size = (1080, 500)) # on teste de k = 1 à k = 20 - pas pertinent d'aller au dessus dans notre cas\n",
    "\n",
    "visualizer.fit(df_std)        # Fit the data to the visualizer\n",
    "visualizer.show()        # Finalize and render the figure"
   ]
  },
  {
   "cell_type": "code",
   "execution_count": null,
   "metadata": {
    "colab": {
     "base_uri": "https://localhost:8080/"
    },
    "id": "9t--PdNWJ3Fw",
    "outputId": "b29dac07-0e96-4555-bc5e-4124d6cd638b"
   },
   "outputs": [],
   "source": [
    "# extraire le nombre de clusters optimal (même si pas franchement un joli coude)\n",
    "k = visualizer.elbow_value_\n",
    "print(f'Nombre optimal de clusters : k = {k}')"
   ]
  },
  {
   "cell_type": "code",
   "execution_count": null,
   "metadata": {
    "colab": {
     "base_uri": "https://localhost:8080/",
     "height": 1000
    },
    "id": "gjte4WgUFR_F",
    "outputId": "851dee8a-be50-41c2-81d4-9cff48ed76b1"
   },
   "outputs": [],
   "source": [
    "%%time\n",
    "# attention, long\n",
    "\n",
    "# metric par défaut du KElbowVisualizer = distortion\n",
    "# comparer le résultat obtenu avec d'autres métriques d'évaluation\n",
    "\n",
    "# Elbow method with differents metrics\n",
    "metrics = ['distortion', 'silhouette', 'calinski_harabasz']\n",
    "i = 0\n",
    "\n",
    "#fig, axes = plt.subplots(nrows = 1, ncols = 3, sharex = False, sharey = False, figsize = (24, 8))\n",
    "plt.figure()\n",
    "for m in metrics:\n",
    "    i+=1\n",
    "    plt.subplot(int(f'13{i}'))\n",
    "    visualizer = KElbowVisualizer(KMeans(), k = (4, 15), metric = m)\n",
    "    visualizer.fit(df_std)\n",
    "    visualizer.show()\n",
    "\n",
    "plt.show()"
   ]
  },
  {
   "cell_type": "code",
   "execution_count": null,
   "metadata": {
    "id": "XFixySrZc7NP"
   },
   "outputs": [],
   "source": [
    "# essayer les différentes métriques séparemment"
   ]
  },
  {
   "cell_type": "code",
   "execution_count": null,
   "metadata": {
    "id": "h8ZNaThiHfce"
   },
   "outputs": [],
   "source": [
    "# voir si on a le même k optimal avec les différentes métriques"
   ]
  },
  {
   "cell_type": "code",
   "execution_count": null,
   "metadata": {
    "id": "08Ql3e1xxvW_"
   },
   "outputs": [],
   "source": [
    "# Silhouette score"
   ]
  },
  {
   "cell_type": "code",
   "execution_count": null,
   "metadata": {
    "colab": {
     "base_uri": "https://localhost:8080/",
     "height": 556
    },
    "id": "J4mdHLmuxvW_",
    "outputId": "91c85b44-6dfe-4cb1-880d-61775fd7bab5"
   },
   "outputs": [],
   "source": [
    "%%time\n",
    "\n",
    "kmeans1 = KMeans(n_clusters = k, init = 'k-means++', random_state = 42) # attention -> prendre même random state partout\n",
    "visualizer = SilhouetteVisualizer(kmeans1, size = (1080, 500))\n",
    "\n",
    "visualizer.fit(df_std)    # Fit the data to the visualizer\n",
    "visualizer.show()    # Finalize and render the figure"
   ]
  },
  {
   "cell_type": "code",
   "execution_count": null,
   "metadata": {
    "id": "Z65tCp6TCu3z"
   },
   "outputs": [],
   "source": [
    "# Silhouette analysis can be used to study the separation distance between the resulting clusters. The silhouette plot displays a measure of\n",
    "# how close each point in one cluster is to points in the neighboring clusters and thus provides a way to assess parameters like number of\n",
    "# clusters visually. This measure has a range of [-1, 1].\n",
    "\n",
    "# Silhouette coefficients (as these values are referred to as) near +1 indicate that the sample is far away from the neighboring clusters.\n",
    "# A value of 0 indicates that the sample is on or very close to the decision boundary between two neighboring clusters and negative values\n",
    "# indicate that those samples might have been assigned to the wrong cluster.\n",
    "\n",
    "# Silhoutte plots may be used to analyze the appropriateness of a chosen number of clusters for the given data, by bumping up the cluster\n",
    "# count every time that you see a poorly fitted cluster. They are a heavier approach to cluster number selection than the elbow plot,\n",
    "# but also tell you much more about the composition of the clusters themselves."
   ]
  },
  {
   "cell_type": "code",
   "execution_count": null,
   "metadata": {
    "id": "Pn5ktrfbxvW_"
   },
   "outputs": [],
   "source": [
    "# Nb de points par 'blob'\n",
    "# Regarder si un blob ( = cluster) à des données plus faiblement 'fittées'\n",
    "\n",
    "# Silhouette Coefficient\n",
    "# The silhouette coefficient measures the quality of clustering by computing the average distance between each data point and other points within the same cluster,\n",
    "# relative to the distance between the data point and points in neighboring clusters. The coefficient ranges from -1 to +1, where a higher value indicates better clustering."
   ]
  },
  {
   "cell_type": "markdown",
   "metadata": {
    "id": "RT7D7oOGDXBH"
   },
   "source": [
    "### Clustering"
   ]
  },
  {
   "cell_type": "code",
   "execution_count": null,
   "metadata": {
    "id": "vxIutjxcDDyV"
   },
   "outputs": [],
   "source": [
    "# Maintenant qu'on a notre k optimal -> on peut faire notre clustering avec Kmeans"
   ]
  },
  {
   "cell_type": "code",
   "execution_count": null,
   "metadata": {
    "colab": {
     "base_uri": "https://localhost:8080/"
    },
    "id": "moB_GpkTsbva",
    "outputId": "4a6f82a6-4b21-4191-9cf4-2ff586546988"
   },
   "outputs": [],
   "source": [
    "%%time\n",
    "\n",
    "model = KMeans(n_clusters = k # nb de clusters qu'on veut avoir\n",
    "               #n_init = 10, # nb d'initialisations qu'on veut faire - 10 = valeur par défaut\n",
    "               #max_iter = 300, # nb d'itérations max - par défaut 300\n",
    "               #init = 'k-means++'' # quelle stratégie d'initialisation on utilise\n",
    "               )\n",
    "\n",
    "# K-Means++ -> méthode d'initialisation qui consiste à placer les centroïdes sur des points du dataset éloignés les uns des autres - facilite convergence\n",
    "\n",
    "model.fit(df_std) # pour entrainer modèle\n",
    "# model.labels_ ou\n",
    "model.predict(df_std)"
   ]
  },
  {
   "cell_type": "code",
   "execution_count": null,
   "metadata": {
    "colab": {
     "base_uri": "https://localhost:8080/"
    },
    "id": "hvyCvYk8aCtW",
    "outputId": "26de5c93-027d-4d02-e960-e875dd6e1e04"
   },
   "outputs": [],
   "source": [
    "# Evaluation du clustering : silhouette score\n",
    "silhouette_kmeans = round(silhouette_score(df_std, model.fit_predict(df_std)), 2)\n",
    "print('The average silhouette score is:', silhouette_kmeans)"
   ]
  },
  {
   "cell_type": "code",
   "execution_count": null,
   "metadata": {
    "id": "IDaWOcudaUw-"
   },
   "outputs": [],
   "source": [
    "# A score closer to 1 indicates that the clustering is good, while a score closer to -1 indicates that the clustering is bad."
   ]
  },
  {
   "cell_type": "markdown",
   "metadata": {
    "id": "gyL8mbfTDb2H"
   },
   "source": [
    "### Description des clusters"
   ]
  },
  {
   "cell_type": "code",
   "execution_count": null,
   "metadata": {
    "id": "dMimavehItKP"
   },
   "outputs": [],
   "source": [
    "# Créer une copie du df pour ajouter les clusters\n",
    "df_clusters = df_std"
   ]
  },
  {
   "cell_type": "code",
   "execution_count": null,
   "metadata": {
    "colab": {
     "base_uri": "https://localhost:8080/",
     "height": 226
    },
    "id": "URG1GwBMxvW7",
    "outputId": "daf3988e-7aed-4894-e7f4-f01338b45967"
   },
   "outputs": [],
   "source": [
    "# Description des clusters obtenus\n",
    "\n",
    "labels = model.labels_\n",
    "df_clusters['cluster_num'] = labels\n",
    "df_clusters.head()"
   ]
  },
  {
   "cell_type": "code",
   "execution_count": null,
   "metadata": {
    "colab": {
     "base_uri": "https://localhost:8080/",
     "height": 383
    },
    "id": "6JEgaR3YxvW7",
    "outputId": "26e5ac00-fda5-469a-ad8d-4c5e4250fa9b"
   },
   "outputs": [],
   "source": [
    "df_clusters.groupby('cluster_num').mean().reset_index()"
   ]
  },
  {
   "cell_type": "code",
   "execution_count": null,
   "metadata": {
    "colab": {
     "base_uri": "https://localhost:8080/"
    },
    "id": "f21zQKX8H21b",
    "outputId": "ca26946b-acb0-4a5c-ea51-7a9eb1b8886a"
   },
   "outputs": [],
   "source": [
    "df_clusters.columns"
   ]
  },
  {
   "cell_type": "code",
   "execution_count": null,
   "metadata": {
    "id": "cq1DP7X0HzjI"
   },
   "outputs": [],
   "source": [
    "from collections import Counter\n",
    "def get_most_common(srs):\n",
    "    x = list(srs)\n",
    "    my_counter = Counter(x)\n",
    "    return my_counter.most_common(1)[0][0]\n",
    "\n",
    "df_clusters.groupby('cluster_num').agg({'payment_type' : 'get_most_common',\n",
    "                                        'payment_value' : 'mean',\n",
    "                                        'full_written_review' : 'get_most_common',\n",
    "                                        'product_category' : 'get_most_common',\n",
    "                                        'order_time' : 'mean',\n",
    "                                        'shipping_limit_respect' : 'get_most_common',\n",
    "                                        'purchase_dayofweek' : 'get_most_common',\n",
    "                                        'purchase_hour' : 'get_most_common',\n",
    "                                        'purchase_day' : 'get_most_common'\n",
    "                                        })"
   ]
  },
  {
   "cell_type": "code",
   "execution_count": null,
   "metadata": {
    "colab": {
     "base_uri": "https://localhost:8080/",
     "height": 502
    },
    "id": "sqZ2zjkFUTpI",
    "outputId": "dd8ee0e4-2671-4c14-c3d7-e6bccbcf97fb"
   },
   "outputs": [],
   "source": [
    "# https://stackoverflow.com/questions/46844654/how-to-visualize-kmeans-clustering-on-multidimensional-data\n",
    "plt.figure()\n",
    "pd.plotting.parallel_coordinates(df_clusters, 'cluster_num')\n",
    "plt.show()"
   ]
  },
  {
   "cell_type": "code",
   "execution_count": null,
   "metadata": {
    "id": "FTdH_0zTMpqJ"
   },
   "outputs": [],
   "source": [
    "# illisible mais il y a de l'idée... à creuser"
   ]
  },
  {
   "cell_type": "code",
   "execution_count": null,
   "metadata": {
    "id": "XZuIsfDbUpdf"
   },
   "outputs": [],
   "source": [
    "# autre idée de visualisation -> pairplot et colorer par cluster\n",
    "\n",
    "# Pairplot\n",
    "plt.figure()\n",
    "#sns.pairplot(df_clusters, hue = 'cluster_num') # sera surement trop lourd, à faire avec df réduit\n",
    "plt.show()"
   ]
  },
  {
   "cell_type": "code",
   "execution_count": null,
   "metadata": {
    "id": "Z4HtjaU2VdEc"
   },
   "outputs": [],
   "source": [
    "# Idées de graphs\n",
    "# https://echarts.apache.org/examples/en/index.html#chart-type-line"
   ]
  },
  {
   "cell_type": "code",
   "execution_count": null,
   "metadata": {
    "colab": {
     "base_uri": "https://localhost:8080/"
    },
    "id": "mbZLs7OZNY-4",
    "outputId": "97f082bc-cc8b-4a65-f91c-e6b9afca41d1"
   },
   "outputs": [],
   "source": [
    "# Plotter chaque feature\n",
    "\n",
    "df_clusters['Constant'] = 'patate' # juste là pour 'accrocher' mon graph en x\n",
    "df_clusters.shape # pour voir combien de features"
   ]
  },
  {
   "cell_type": "code",
   "execution_count": null,
   "metadata": {
    "colab": {
     "base_uri": "https://localhost:8080/",
     "height": 226
    },
    "id": "PK-Kk6kHNdi5",
    "outputId": "b15e5865-349f-4865-c41c-8e968f5e6c51"
   },
   "outputs": [],
   "source": [
    "df_clusters.head()"
   ]
  },
  {
   "cell_type": "code",
   "execution_count": null,
   "metadata": {
    "colab": {
     "base_uri": "https://localhost:8080/",
     "height": 453
    },
    "id": "EiQapLEAVSD0",
    "outputId": "d8b2f2cc-a343-49b1-8b0b-9fcb5fbe640d"
   },
   "outputs": [],
   "source": [
    "# Plotter chaque feature\n",
    "\n",
    "df_clusters['Constant'] = 'patate' # juste là pour 'accrocher' mon graph en x\n",
    "\n",
    "f, axes = plt.subplots(4, 5, figsize = (20, 25), sharex = False) #create a 4x5 grid of empty figures where we will plot our feature plots. We will have a couple empty ones.\n",
    "#f, axes = plt.subplots(1, 5, figsize = (20, 25), sharex = False)\n",
    "f.subplots_adjust(hspace = 0.2, wspace = 0.7) #Scooch em apart, give em some room\n",
    "#In this for loop, I step through every column that I want to plot. This is a 4x5 grid, so I split this up by rows of 5 in the else if statements\n",
    "#for i in range(0, len(list(df_clusters))-2): #minus two because I don't want to plot labels or constant\n",
    "for i in range(0, 5):\n",
    "    col = df_clusters.columns[i]\n",
    "    ax = sns.stripplot(x = df_clusters['Constant'], y = df_clusters[col].values, hue = df_clusters['cluster_num'], jitter = True, ax = axes[0, (i)])\n",
    "    ax.set_title(col)"
   ]
  },
  {
   "cell_type": "code",
   "execution_count": null,
   "metadata": {
    "id": "t6LbLjCIIS8Q"
   },
   "outputs": [],
   "source": [
    "import plotly.graph_objs as go\n",
    "def plot_radars(data, group):\n",
    "\n",
    "    fig = go.Figure()\n",
    "\n",
    "    for k in data[group]:\n",
    "        fig.add_trace(go.Scatterpolar(\n",
    "            r = data[data[group] == k].iloc[:,1:].values.reshape(-1),\n",
    "            theta = data.columns[1:],\n",
    "            fill = 'toself',\n",
    "            name = 'Cluster ' + str(k)\n",
    "        ))\n",
    "\n",
    "    fig.update_layout(\n",
    "        polar = dict(\n",
    "        radialaxis = dict(\n",
    "          visible = True,\n",
    "          range = [0, 1]\n",
    "        )),\n",
    "        showlegend = True,\n",
    "        title = {\n",
    "            'text': 'Comparaison des moyennes par variable des clusters',\n",
    "            'y':0.95,\n",
    "            'x':0.5,\n",
    "            'xanchor': 'center',\n",
    "            'yanchor': 'top'},\n",
    "        title_font_color = \"blue\",\n",
    "        title_font_size = 18)\n",
    "\n",
    "    fig.show()"
   ]
  },
  {
   "cell_type": "code",
   "execution_count": null,
   "metadata": {
    "id": "cqJxoLFBIVp9"
   },
   "outputs": [],
   "source": [
    "plot_radars(data = df_clusters,\n",
    "            group = 'cluster_num')\n",
    "\n",
    "# trop gourmand en ram -> fait planter la session... essayer avec jeu de données réduit"
   ]
  },
  {
   "cell_type": "code",
   "execution_count": null,
   "metadata": {
    "id": "BLKPLw8_xvW7"
   },
   "outputs": [],
   "source": [
    "# position des centroïdes\n",
    "# model.cluster_centers_\n",
    "\n",
    "# model.inertia_ -> somme des distances au centroïdes\n",
    "# model.score(X) -> idem mais exprimé de manière négative"
   ]
  },
  {
   "cell_type": "code",
   "execution_count": null,
   "metadata": {
    "id": "RbR5K8RrxvW_"
   },
   "outputs": [],
   "source": [
    "# autres algo à tester:\n",
    "# - DBSCAN\n",
    "# - AgglomerativeClustering\n",
    "# - Spectral Clustering"
   ]
  },
  {
   "cell_type": "markdown",
   "metadata": {
    "id": "Gr1zJ1BBvV0H"
   },
   "source": [
    "## ACP"
   ]
  },
  {
   "cell_type": "code",
   "execution_count": null,
   "metadata": {
    "id": "C6j0ZSBcvP8e"
   },
   "outputs": [],
   "source": [
    "# Df total\n",
    "df_std.shape"
   ]
  },
  {
   "cell_type": "code",
   "execution_count": null,
   "metadata": {
    "id": "6AJxJflIm5cV"
   },
   "outputs": [],
   "source": [
    "# Réduction dimmensionnelle avec 'Principal Component Analysis'\n",
    "pca = PCA()\n",
    "df_pca = pca.fit_transform(df_std)\n",
    "df_pca"
   ]
  },
  {
   "cell_type": "code",
   "execution_count": null,
   "metadata": {
    "id": "r3SQDfjcnTgt"
   },
   "outputs": [],
   "source": [
    "# Représentation graphique\n",
    "fig = plt.figure(1, figsize = (12, 4))\n",
    "plt.bar(range(len(pca.explained_variance_ratio_)), 100*pca.explained_variance_ratio_)\n",
    "plt.ylim(0, 1.05*100)\n",
    "plt.plot(range(len(pca.explained_variance_ratio_)), 100*np.cumsum(pca.explained_variance_ratio_), 's-')\n",
    "plt.ylabel('Pourcentage de variance')\n",
    "plt.xlabel('Nombre de composantes')\n",
    "plt.title('Variance expliqué par PCA')\n",
    "plt.show()"
   ]
  },
  {
   "cell_type": "code",
   "execution_count": null,
   "metadata": {
    "id": "zenqh38Bo6hG"
   },
   "outputs": [],
   "source": [
    "# meh"
   ]
  },
  {
   "cell_type": "code",
   "execution_count": null,
   "metadata": {
    "id": "nay2EqDur7Fl"
   },
   "outputs": [],
   "source": [
    "# autre représentation de la variance expliquée :\n",
    "plt.figure(figsize = (12, 4))\n",
    "sns.barplot(x = np.arange(1, len(pca.explained_variance_ratio_) + 1),\n",
    "            y = np.cumsum(pca.explained_variance_ratio_))\n",
    "plt.xlabel('Number of Principal Components')\n",
    "plt.ylabel('Cumulative Explained Variance')\n",
    "plt.title('Explained Variance Ratio')\n",
    "plt.show()"
   ]
  },
  {
   "cell_type": "code",
   "execution_count": null,
   "metadata": {
    "id": "T9tkKJ8rpX5G"
   },
   "outputs": [],
   "source": [
    "pca.explained_variance_ratio_"
   ]
  },
  {
   "cell_type": "code",
   "execution_count": null,
   "metadata": {
    "id": "mcb-WWGWvI9B"
   },
   "outputs": [],
   "source": [
    "# Scree plot\n",
    "# ( = line plot of the eigenvalues of factors or principal components in an analysis)\n",
    "\n",
    "ind = np.arange(0, 24)\n",
    "(fig, ax) = plt.subplots(figsize = (8, 6))\n",
    "sns.pointplot(x = ind, y = pca.explained_variance_ratio_)\n",
    "ax.set_title('Scree plot')\n",
    "ax.set_xticks(ind)\n",
    "ax.set_xticklabels(ind)\n",
    "ax.set_xlabel('Component Number')\n",
    "ax.set_ylabel('Explained Variance')\n",
    "plt.show()"
   ]
  },
  {
   "cell_type": "code",
   "execution_count": null,
   "metadata": {
    "id": "8gV7bqTAplhH"
   },
   "outputs": [],
   "source": [
    "# Test en ne gardant que 2 dimensions :\n",
    "\n",
    "pca = PCA(n_components = 2)\n",
    "df_pca = pca.fit_transform(df_std)"
   ]
  },
  {
   "cell_type": "code",
   "execution_count": null,
   "metadata": {
    "id": "uU2ah91gpNyu"
   },
   "outputs": [],
   "source": [
    "print('Explained variance regarding first dimension : ' + '{:.1%}'.format(pca.explained_variance_ratio_[0]))\n",
    "print('Explained variance regarding second dimension : ' + '{:.1%}'.format(pca.explained_variance_ratio_[1]))\n",
    "print('Total variance included in those 2 dimensions : ' + '{:.1%}'.format(pca.explained_variance_ratio_.sum()))"
   ]
  },
  {
   "cell_type": "code",
   "execution_count": null,
   "metadata": {
    "id": "NreZTwZWpQrk"
   },
   "outputs": [],
   "source": [
    "# nuuuuuul"
   ]
  },
  {
   "cell_type": "code",
   "execution_count": null,
   "metadata": {
    "id": "8R2T1TZDte68"
   },
   "outputs": [],
   "source": [
    "# Test en conservant 90% de la variance\n",
    "\n",
    "pca_90 = PCA(n_components = 0.90)  # 90% de la variance\n",
    "df_pca_90 = pca_90.fit_transform(df_std)\n",
    "\n",
    "# Mise sous forme de DataFrame\n",
    "df_pca_90 = pd.DataFrame(df_pca_90, columns = ['Composante_' + str(i) for i in range(df_pca_90.shape[1])])\n",
    "df_pca_90.shape"
   ]
  },
  {
   "cell_type": "code",
   "execution_count": null,
   "metadata": {
    "id": "X0mCmeAcv2c5"
   },
   "outputs": [],
   "source": [
    "# 32 variables..."
   ]
  },
  {
   "cell_type": "code",
   "execution_count": null,
   "metadata": {
    "id": "5v7Mvi8gnX8L"
   },
   "outputs": [],
   "source": [
    "# Plot the correlation circle\n",
    "from matplotlib.patches import Ellipse\n",
    "\n",
    "def plot_correlation_circle(pca, features, dimensions = (0, 1), scale_factor = 1):\n",
    "    num_features = len(features)\n",
    "    num_principal_components = pca.components_.shape[0]\n",
    "\n",
    "    if dimensions[0] >= num_principal_components or dimensions[1] >= num_principal_components:\n",
    "        raise ValueError('Invalid dimensions. Ensure that dimensions are within the range of available principal components.')\n",
    "\n",
    "    plt.figure(figsize = (10, 10))\n",
    "\n",
    "    # Scatter plot (avec transparence)\n",
    "    plt.scatter(pca.components_[dimensions[0], :],\n",
    "                pca.components_[dimensions[1], :],\n",
    "                alpha = 0.7)\n",
    "\n",
    "    # Plot arrows\n",
    "    for i in range(num_features):\n",
    "        plt.arrow(0,\n",
    "                  0,\n",
    "                  pca.components_[dimensions[0], i],\n",
    "                  pca.components_[dimensions[1], i],\n",
    "                  head_width = 0.05,\n",
    "                  head_length = 0.05,\n",
    "                  fc = 'grey',\n",
    "                  ec = 'grey',\n",
    "                  alpha = 0.5)\n",
    "\n",
    "        plt.text(pca.components_[dimensions[0], i] * scale_factor,\n",
    "                 pca.components_[dimensions[1], i] * scale_factor,\n",
    "                 features[i],\n",
    "                 ha = 'left',\n",
    "                 va = 'bottom',\n",
    "                 fontsize = 8)\n",
    "\n",
    "    # Add circle patch\n",
    "    ellipse = Ellipse((0, 0),\n",
    "                      2,\n",
    "                      2,\n",
    "                      edgecolor = 'black',\n",
    "                      facecolor = 'none',\n",
    "                      linewidth = 2)\n",
    "    plt.gca().add_patch(ellipse)\n",
    "\n",
    "    # Add reference lines\n",
    "    plt.axhline(0, color = 'black', linestyle = '--', linewidth = 1)\n",
    "    plt.axvline(0, color = 'black', linestyle = '--', linewidth = 1)\n",
    "\n",
    "    # Set axis labels\n",
    "    plt.xlabel(f'Principal Component {dimensions[0] + 1}')\n",
    "    plt.ylabel(f'Principal Component {dimensions[1] + 1}')\n",
    "\n",
    "    # Set plot title\n",
    "    plt.title('Correlation Circle')\n",
    "\n",
    "# Plot correlation circle using the first two principal components\n",
    "plot_correlation_circle(pca_90, features = df_std.columns, dimensions = (0, 1))\n",
    "\n",
    "plt.show()"
   ]
  },
  {
   "cell_type": "code",
   "execution_count": null,
   "metadata": {
    "id": "sYe3GspWnX2O"
   },
   "outputs": [],
   "source": [
    "# illisible..."
   ]
  },
  {
   "cell_type": "code",
   "execution_count": null,
   "metadata": {
    "id": "kUc7zG3zTPwr"
   },
   "outputs": [],
   "source": [
    "# à tester :\n",
    "\"\"\"\n",
    "# https://rasbt.github.io/mlxtend/user_guide/plotting/plot_pca_correlation_graph/\n",
    "\n",
    "from mlxtend.plotting import plot_pca_correlation_graph\n",
    "\n",
    "X, y = df_pca\n",
    "\n",
    "X_norm = X / X.std(axis=0) # Normalizing the feature columns is recommended\n",
    "\n",
    "feature_names = [\n",
    "  'sepal length',\n",
    "  'sepal width',\n",
    "  'petal length',\n",
    "  'petal width']\n",
    "\n",
    "figure, correlation_matrix = plot_pca_correlation_graph(X_norm,\n",
    "                                                        feature_names,\n",
    "                                                        dimensions=(1, 2),\n",
    "                                                        figure_axis_size=10)\n",
    "\n",
    "correlation_matrix\"\"\""
   ]
  },
  {
   "cell_type": "code",
   "execution_count": null,
   "metadata": {
    "id": "9vF-Ws-lTPrw"
   },
   "outputs": [],
   "source": [
    "# https://nirpyresearch.com/pca-correlation-circle/\n",
    "# regarder ça, super interessant"
   ]
  },
  {
   "cell_type": "markdown",
   "metadata": {
    "id": "Z-qjA78tEFs3"
   },
   "source": [
    "# ARI Score"
   ]
  },
  {
   "cell_type": "code",
   "execution_count": null,
   "metadata": {
    "id": "rO0gos4YEE5_"
   },
   "outputs": [],
   "source": [
    "from sklearn.metrics.cluster import adjusted_rand_score"
   ]
  },
  {
   "cell_type": "code",
   "execution_count": null,
   "metadata": {
    "id": "bqmb1_YuEE3H"
   },
   "outputs": [],
   "source": [
    "#https://amueller.github.io/aml/04-model-evaluation/17-cluster-evaluation.html"
   ]
  },
  {
   "cell_type": "code",
   "execution_count": null,
   "metadata": {
    "id": "nd8DPWSXEE1D"
   },
   "outputs": [],
   "source": [
    "# https://reval.readthedocs.io/en/latest/"
   ]
  },
  {
   "cell_type": "code",
   "execution_count": null,
   "metadata": {
    "id": "BJJJfsBFEEyw"
   },
   "outputs": [],
   "source": [
    "# https://github.com/FlorentF9/skstab"
   ]
  }
 ],
 "metadata": {
  "colab": {
   "provenance": [],
   "toc_visible": true
  },
  "kernelspec": {
   "display_name": "Python 3 (ipykernel)",
   "language": "python",
   "name": "python3"
  },
  "language_info": {
   "codemirror_mode": {
    "name": "ipython",
    "version": 3
   },
   "file_extension": ".py",
   "mimetype": "text/x-python",
   "name": "python",
   "nbconvert_exporter": "python",
   "pygments_lexer": "ipython3",
   "version": "3.9.7"
  }
 },
 "nbformat": 4,
 "nbformat_minor": 1
}
