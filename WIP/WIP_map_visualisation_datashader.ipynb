{
 "cells": [
  {
   "cell_type": "code",
   "execution_count": null,
   "metadata": {},
   "outputs": [],
   "source": [
    "# (WIP) plot wtih datashader - image with black background\n",
    "\n"
   ]
  },
  {
   "cell_type": "code",
   "execution_count": null,
   "metadata": {},
   "outputs": [],
   "source": [
    "# Imports\n",
    "\n",
    "import datashader as ds\n",
    "from datashader import transfer_functions as tf\n",
    "from functools import partial\n",
    "from datashader.utils import export_image\n",
    "from IPython.core.display import HTML, display\n",
    "from colorcet import fire, rainbow, bgy, bjy, bkr, kb, kr"
   ]
  },
  {
   "cell_type": "code",
   "execution_count": null,
   "metadata": {},
   "outputs": [],
   "source": [
    "background = \"black\"\n",
    "cm = partial(colormap_select, reverse = (background == \"black\"))\n",
    "export = partial(export_image, background = background, export_path = \"export\")\n",
    "display(HTML(\"<style>.container { width:100% !important; }</style>\"))\n",
    "W = 700"
   ]
  },
  {
   "cell_type": "code",
   "execution_count": null,
   "metadata": {},
   "outputs": [],
   "source": []
  },
  {
   "cell_type": "code",
   "execution_count": null,
   "metadata": {},
   "outputs": [],
   "source": [
    "def create_map(data, cmap, data_agg, export_name = 'img'):\n",
    "    pad = (data.x.max() - data.x.min())/50\n",
    "    x_range, y_range = ((data.x.min() - pad, data.x.max() + pad),\n",
    "                             (data.y.min() - pad, data.y.max() + pad))\n",
    "\n",
    "    ratio = (y_range[1] - y_range[0]) / (x_range[1] - x_range[0])\n",
    "\n",
    "    plot_width  = int(W)\n",
    "    plot_height = int(plot_width * ratio)\n",
    "    if ratio > 1.5:\n",
    "        plot_height = 550\n",
    "        plot_width = int(plot_height / ratio)\n",
    "\n",
    "    cvs = ds.Canvas(plot_width = plot_width, plot_height = plot_height, x_range = x_range, y_range = y_range)\n",
    "\n",
    "    agg = cvs.points(data, 'x', 'y', data_agg)\n",
    "    img = tf.shade(agg, cmap = cmap, how = 'eq_hist')\n",
    "    return export(img, export_name)"
   ]
  },
  {
   "cell_type": "code",
   "execution_count": null,
   "metadata": {},
   "outputs": [],
   "source": [
    "# Créer la map\n",
    "create_map(df_geolocation, rainbow, ds.mean(agg_name),'geolocation_zip_code_prefix')"
   ]
  }
 ],
 "metadata": {
  "language_info": {
   "name": "python"
  }
 },
 "nbformat": 4,
 "nbformat_minor": 2
}
