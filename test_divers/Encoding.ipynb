{
 "cells": [
  {
   "cell_type": "code",
   "execution_count": null,
   "id": "38accb90",
   "metadata": {},
   "outputs": [],
   "source": []
  },
  {
   "cell_type": "code",
   "execution_count": null,
   "id": "6868a194",
   "metadata": {},
   "outputs": [],
   "source": [
    "from sklearn.preprocessing import OrdinalEncoder\n",
    "from sklearn.preprocessing import LabelEncoder"
   ]
  },
  {
   "cell_type": "code",
   "execution_count": null,
   "id": "429bbb68",
   "metadata": {},
   "outputs": [],
   "source": [
    "########## ORDINAL ENCODER ##########\n",
    "\n",
    "# possible d'encoder plusieurs colonnes d'un coup (mais ici on en a une seule à encoder)\n",
    "enc = OrdinalEncoder()\n",
    "arr_ordinal = enc.fit_transform(df_quali[['order_status']])\n",
    "\n",
    "enc.categories_"
   ]
  },
  {
   "cell_type": "code",
   "execution_count": null,
   "id": "7a2f247c",
   "metadata": {},
   "outputs": [],
   "source": [
    "# Mapping des catégories :\n",
    "[dict(enumerate(mapping)) for mapping in enc.categories_]"
   ]
  },
  {
   "cell_type": "code",
   "execution_count": null,
   "id": "37191bf3",
   "metadata": {},
   "outputs": [],
   "source": [
    "arr_ordinal"
   ]
  },
  {
   "cell_type": "code",
   "execution_count": null,
   "id": "92305672",
   "metadata": {},
   "outputs": [],
   "source": [
    "arr_ordinal = arr_ordinal.reshape(-1, )"
   ]
  },
  {
   "cell_type": "code",
   "execution_count": null,
   "id": "a615ddac",
   "metadata": {},
   "outputs": [],
   "source": [
    "# Recréer un dataframe avec les données encodées\n",
    "quali_order = pd.DataFrame()\n",
    "quali_order['order_status'] = arr_ordinal.tolist()"
   ]
  },
  {
   "cell_type": "code",
   "execution_count": null,
   "id": "513cdf13",
   "metadata": {},
   "outputs": [],
   "source": [
    "quali_order"
   ]
  },
  {
   "cell_type": "code",
   "execution_count": null,
   "id": "48c2f842",
   "metadata": {},
   "outputs": [],
   "source": []
  },
  {
   "cell_type": "code",
   "execution_count": null,
   "id": "91fe1bff",
   "metadata": {},
   "outputs": [],
   "source": [
    "########### LABEL ENCODER ##########"
   ]
  },
  {
   "cell_type": "code",
   "execution_count": null,
   "id": "497a9bc6",
   "metadata": {},
   "outputs": [],
   "source": [
    "le = LabelEncoder()\n",
    "\n",
    "# encoder variables une à une\n",
    "le.fit(df_quali[['payment_type']])\n",
    "le.classes_"
   ]
  },
  {
   "cell_type": "code",
   "execution_count": null,
   "id": "bce2a4d0",
   "metadata": {},
   "outputs": [],
   "source": [
    "# Mapping des catégories\n",
    "dict(zip(le.classes_, le.transform(le.classes_)))"
   ]
  },
  {
   "cell_type": "code",
   "execution_count": null,
   "id": "9ba09c18",
   "metadata": {},
   "outputs": [],
   "source": [
    "arr_label_payment = le.transform(df_quali[['payment_type']])\n",
    "arr_label_payment"
   ]
  },
  {
   "cell_type": "code",
   "execution_count": null,
   "id": "1b813a26",
   "metadata": {},
   "outputs": [],
   "source": [
    "# Recréer un dataframe avec les données encodées\n",
    "\n",
    "quali_payment = pd.DataFrame()\n",
    "quali_payment[ 'payment_type'] = arr_label_payment"
   ]
  },
  {
   "cell_type": "code",
   "execution_count": null,
   "id": "6ce0d570",
   "metadata": {},
   "outputs": [],
   "source": [
    "le = LabelEncoder()\n",
    "# encoder variables une à une\n",
    "le.fit(df_quali[['product_category']])\n",
    "le.classes_"
   ]
  },
  {
   "cell_type": "code",
   "execution_count": null,
   "id": "2231e97b",
   "metadata": {},
   "outputs": [],
   "source": [
    "# Mapping des catégories\n",
    "dict(zip(le.classes_, le.transform(le.classes_)))"
   ]
  },
  {
   "cell_type": "code",
   "execution_count": null,
   "id": "0dcebc81",
   "metadata": {},
   "outputs": [],
   "source": [
    "arr_label_product = le.transform(df_quali[['product_category']])\n",
    "arr_label_product"
   ]
  },
  {
   "cell_type": "code",
   "execution_count": null,
   "id": "781bf066",
   "metadata": {},
   "outputs": [],
   "source": [
    "# Recréer un dataframe avec les données encodées\n",
    "\n",
    "quali_product = pd.DataFrame()\n",
    "quali_product['product_category'] = arr_label_product"
   ]
  },
  {
   "cell_type": "code",
   "execution_count": null,
   "id": "e63408e9",
   "metadata": {},
   "outputs": [],
   "source": []
  },
  {
   "cell_type": "code",
   "execution_count": null,
   "id": "4038c4ab",
   "metadata": {},
   "outputs": [],
   "source": []
  },
  {
   "cell_type": "code",
   "execution_count": null,
   "id": "b191e729",
   "metadata": {},
   "outputs": [],
   "source": [
    "########## ONE HOT ENCODER ##########\n",
    "\n",
    "# Visualiser df simplifié\n",
    "print(\"----------------------------------------------------\")\n",
    "print('df simplifié')\n",
    "print(\"----------------------------------------------------\")\n",
    "display(df_quali.head())\n",
    "\n",
    "# OneHotEncoder\n",
    "enc = OneHotEncoder(categories = 'auto')\n",
    "\n",
    "for col in df_quali.columns:\n",
    "  # Convertir type des colonnes en categories\n",
    "  df_quali[col] = df_quali[col].astype('category')\n",
    "\n",
    "  # Leur assigner des valeurs numériques et créer nouvelles colonnes\n",
    "  df_quali[col] = df_quali[col].cat.codes\n",
    "\n",
    "# Appliquer l'encoding\n",
    "feature_arr = enc.fit_transform(df_quali).toarray()\n",
    "\n",
    "feature_labels = enc.get_feature_names_out(df_quali.columns)\n",
    "\n",
    "# Recréer un dataframe avec les données encodées\n",
    "features = pd.DataFrame(feature_arr, columns = feature_labels)\n",
    "print(\"----------------------------------------------------\")\n",
    "print('df encodé')\n",
    "print(\"----------------------------------------------------\")\n",
    "display(features.head())"
   ]
  },
  {
   "cell_type": "code",
   "execution_count": null,
   "id": "1fc6246a",
   "metadata": {},
   "outputs": [],
   "source": []
  }
 ],
 "metadata": {
  "kernelspec": {
   "display_name": "Python 3 (ipykernel)",
   "language": "python",
   "name": "python3"
  },
  "language_info": {
   "codemirror_mode": {
    "name": "ipython",
    "version": 3
   },
   "file_extension": ".py",
   "mimetype": "text/x-python",
   "name": "python",
   "nbconvert_exporter": "python",
   "pygments_lexer": "ipython3",
   "version": "3.9.7"
  }
 },
 "nbformat": 4,
 "nbformat_minor": 5
}
