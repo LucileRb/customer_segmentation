{
 "cells": [
  {
   "cell_type": "code",
   "execution_count": null,
   "metadata": {},
   "outputs": [],
   "source": [
    "# (WIP) test avec bokeh\n",
    "\n",
    "# plot wtih holoviews + datashader - bokeh with map background\n",
    "!pip install holoviews\n",
    "import holoviews as hv\n",
    "!pip install geoviews\n",
    "!pip install datashader\n",
    "import geoviews as gv\n",
    "import datashader as ds\n",
    "from colorcet import fire, rainbow, bgy, bjy, bkr, kb, kr\n",
    "from datashader.colors import colormap_select, Greys9\n",
    "from holoviews.streams import RangeXY\n",
    "from holoviews.operation.datashader import datashade, dynspread, rasterize\n",
    "from bokeh.io import push_notebook, show, output_notebook\n",
    "output_notebook()\n",
    "hv.extension('bokeh')"
   ]
  },
  {
   "cell_type": "code",
   "execution_count": null,
   "metadata": {},
   "outputs": [],
   "source": [
    "%opts Overlay [width = 800 height = 600 toolbar = 'above' xaxis = None yaxis = None]\n",
    "%opts QuadMesh [tools = ['hover'] colorbar = True] (alpha = 0 hover_alpha = 0.2)\n",
    "\n",
    "T = 0.05\n",
    "PX = 1"
   ]
  },
  {
   "cell_type": "code",
   "execution_count": null,
   "metadata": {},
   "outputs": [],
   "source": [
    "def plot_map(data, label, agg_data, agg_name, cmap):\n",
    "    url = \"http://server.arcgisonline.com/ArcGIS/rest/services/Canvas/World_Dark_Gray_Base/MapServer/tile/{Z}/{Y}/{X}.png\"\n",
    "    geomap = gv.WMTS(url)\n",
    "    points = hv.Points(gv.Dataset(data, kdims = ['x', 'y'], vdims = [agg_name]))\n",
    "    agg = datashade(points, element_type = gv.Image, aggregator = agg_data, cmap = cmap)\n",
    "    zip_codes = dynspread(agg, threshold = T, max_px = PX)\n",
    "    hover = hv.util.Dynamic(rasterize(points, aggregator = agg_data, width = 50, height = 25, streams = [RangeXY]), operation = hv.QuadMesh)\n",
    "    hover = hover.options(cmap = cmap)\n",
    "    img = geomap * zip_codes * hover\n",
    "    img = img.relabel(label)\n",
    "    return img"
   ]
  },
  {
   "cell_type": "code",
   "execution_count": null,
   "metadata": {},
   "outputs": [],
   "source": [
    "# copier df\n",
    "brazil = pd.read_csv(os.path.join(path, 'data/olist_geolocation_dataset.csv'), dtype = {'geolocation_zip_code_prefix': str})\n",
    "\n",
    "# Gets the first three and four first digits of zip codes, we will explore this further to understand how zip codes works\n",
    "brazil['geolocation_zip_code_prefix_1_digits'] = brazil['geolocation_zip_code_prefix'].str[0:1]\n",
    "brazil['geolocation_zip_code_prefix_2_digits'] = brazil['geolocation_zip_code_prefix'].str[0:2]\n",
    "brazil['geolocation_zip_code_prefix_3_digits'] = brazil['geolocation_zip_code_prefix'].str[0:3]\n",
    "brazil['geolocation_zip_code_prefix_4_digits'] = brazil['geolocation_zip_code_prefix'].str[0:4]\n",
    "\n",
    "from datashader.utils import lnglat_to_meters as webm\n",
    "x, y = webm(brazil.geolocation_lng, brazil.geolocation_lat)\n",
    "brazil['x'] = pd.Series(x)\n",
    "brazil['y'] = pd.Series(y)\n",
    "\n",
    "# transforming the prefixes to int for plotting purposes\n",
    "brazil['geolocation_zip_code_prefix'] = brazil['geolocation_zip_code_prefix'].astype(int)\n",
    "brazil['geolocation_zip_code_prefix_1_digits'] = brazil['geolocation_zip_code_prefix_1_digits'].astype(int)\n",
    "brazil['geolocation_zip_code_prefix_2_digits'] = brazil['geolocation_zip_code_prefix_2_digits'].astype(int)\n",
    "brazil['geolocation_zip_code_prefix_3_digits'] = brazil['geolocation_zip_code_prefix_3_digits'].astype(int)\n",
    "brazil['geolocation_zip_code_prefix_4_digits'] = brazil['geolocation_zip_code_prefix_4_digits'].astype(int)\n",
    "\n",
    "agg_name = 'geolocation_zip_code_prefix'\n",
    "\n",
    "#from google.colab import output\n",
    "#output.enable_custom_widget_manager()\n",
    "\n",
    "#!pip install jupyter_bokeh\n",
    "plot_map(brazil, 'Zip Codes in Brazil', ds.min(agg_name), agg_name, cmap = rainbow)\n",
    "\n",
    "# marche pas ??"
   ]
  },
  {
   "cell_type": "code",
   "execution_count": null,
   "metadata": {},
   "outputs": [],
   "source": []
  }
 ],
 "metadata": {
  "language_info": {
   "name": "python"
  }
 },
 "nbformat": 4,
 "nbformat_minor": 2
}
