{
 "cells": [
  {
   "cell_type": "markdown",
   "metadata": {
    "id": "lIAPuXn77UNQ"
   },
   "source": [
    "## Imports"
   ]
  },
  {
   "cell_type": "code",
   "execution_count": 1,
   "metadata": {
    "colab": {
     "base_uri": "https://localhost:8080/",
     "height": 1000
    },
    "id": "x5ywd3Jx-3Hv",
    "outputId": "26530fe8-1286-4d22-d0e9-027f69c2e4c3"
   },
   "outputs": [
    {
     "data": {
      "text/html": [
       "<div id=\"my_id_menu_nb\">run previous cell, wait for 2 seconds</div>\n",
       "<script>\n",
       "function repeat_indent_string(n){\n",
       "    var a = \"\" ;\n",
       "    for ( ; n > 0 ; --n)\n",
       "        a += \"    \";\n",
       "    return a;\n",
       "}\n",
       "// look up into all sections and builds an automated menu //\n",
       "var update_menu_string = function(begin, lfirst, llast, sformat, send, keep_item, begin_format, end_format) {\n",
       "    var anchors = document.getElementsByClassName(\"section\");\n",
       "    if (anchors.length == 0) {\n",
       "        anchors = document.getElementsByClassName(\"text_cell_render rendered_html\");\n",
       "    }\n",
       "    var i,t;\n",
       "    var text_menu = begin;\n",
       "    var text_memo = \"<pre>\\nlength:\" + anchors.length + \"\\n\";\n",
       "    var ind = \"\";\n",
       "    var memo_level = 1;\n",
       "    var href;\n",
       "    var tags = [];\n",
       "    var main_item = 0;\n",
       "    var format_open = 0;\n",
       "    for (i = 0; i <= llast; i++)\n",
       "        tags.push(\"h\" + i);\n",
       "\n",
       "    for (i = 0; i < anchors.length; i++) {\n",
       "        text_memo += \"**\" + anchors[i].id + \"--\\n\";\n",
       "\n",
       "        var child = null;\n",
       "        for(t = 0; t < tags.length; t++) {\n",
       "            var r = anchors[i].getElementsByTagName(tags[t]);\n",
       "            if (r.length > 0) {\n",
       "child = r[0];\n",
       "break;\n",
       "            }\n",
       "        }\n",
       "        if (child == null) {\n",
       "            text_memo += \"null\\n\";\n",
       "            continue;\n",
       "        }\n",
       "        if (anchors[i].hasAttribute(\"id\")) {\n",
       "            // when converted in RST\n",
       "            href = anchors[i].id;\n",
       "            text_memo += \"#1-\" + href;\n",
       "            // passer à child suivant (le chercher)\n",
       "        }\n",
       "        else if (child.hasAttribute(\"id\")) {\n",
       "            // in a notebook\n",
       "            href = child.id;\n",
       "            text_memo += \"#2-\" + href;\n",
       "        }\n",
       "        else {\n",
       "            text_memo += \"#3-\" + \"*\" + \"\\n\";\n",
       "            continue;\n",
       "        }\n",
       "        var title = child.textContent;\n",
       "        var level = parseInt(child.tagName.substring(1,2));\n",
       "\n",
       "        text_memo += \"--\" + level + \"?\" + lfirst + \"--\" + title + \"\\n\";\n",
       "\n",
       "        if ((level < lfirst) || (level > llast)) {\n",
       "            continue ;\n",
       "        }\n",
       "        if (title.endsWith('¶')) {\n",
       "            title = title.substring(0,title.length-1).replace(\"<\", \"&lt;\")\n",
       "         .replace(\">\", \"&gt;\").replace(\"&\", \"&amp;\");\n",
       "        }\n",
       "        if (title.length == 0) {\n",
       "            continue;\n",
       "        }\n",
       "\n",
       "        while (level < memo_level) {\n",
       "            text_menu += end_format + \"</ul>\\n\";\n",
       "            format_open -= 1;\n",
       "            memo_level -= 1;\n",
       "        }\n",
       "        if (level == lfirst) {\n",
       "            main_item += 1;\n",
       "        }\n",
       "        if (keep_item != -1 && main_item != keep_item + 1) {\n",
       "            // alert(main_item + \" - \" + level + \" - \" + keep_item);\n",
       "            continue;\n",
       "        }\n",
       "        while (level > memo_level) {\n",
       "            text_menu += \"<ul>\\n\";\n",
       "            memo_level += 1;\n",
       "        }\n",
       "        text_menu += repeat_indent_string(level-2);\n",
       "        text_menu += begin_format + sformat.replace(\"__HREF__\", href).replace(\"__TITLE__\", title);\n",
       "        format_open += 1;\n",
       "    }\n",
       "    while (1 < memo_level) {\n",
       "        text_menu += end_format + \"</ul>\\n\";\n",
       "        memo_level -= 1;\n",
       "        format_open -= 1;\n",
       "    }\n",
       "    text_menu += send;\n",
       "    //text_menu += \"\\n\" + text_memo;\n",
       "\n",
       "    while (format_open > 0) {\n",
       "        text_menu += end_format;\n",
       "        format_open -= 1;\n",
       "    }\n",
       "    return text_menu;\n",
       "};\n",
       "var update_menu = function() {\n",
       "    var sbegin = \"\";\n",
       "    var sformat = '<a href=\"#__HREF__\">__TITLE__</a>';\n",
       "    var send = \"\";\n",
       "    var begin_format = '<li>';\n",
       "    var end_format = '</li>';\n",
       "    var keep_item = -1;\n",
       "    var text_menu = update_menu_string(sbegin, 2, 4, sformat, send, keep_item,\n",
       "       begin_format, end_format);\n",
       "    var menu = document.getElementById(\"my_id_menu_nb\");\n",
       "    menu.innerHTML=text_menu;\n",
       "};\n",
       "window.setTimeout(update_menu,2000);\n",
       "            </script>"
      ],
      "text/plain": [
       "<IPython.core.display.HTML object>"
      ]
     },
     "execution_count": 1,
     "metadata": {},
     "output_type": "execute_result"
    }
   ],
   "source": [
    "# General Imports\n",
    "import numpy as np\n",
    "import pandas as pd\n",
    "import matplotlib.pyplot as plt\n",
    "import seaborn as sns\n",
    "import math\n",
    "import pickle\n",
    "import os\n",
    "\n",
    "#from eda import * # A MODIFIER CAR PAS PEP8 ET YA DES TRUCS QUI MARCHENT PAS\n",
    "\n",
    "from numpy import radians, cos, sin, sqrt\n",
    "from numpy import arcsin as asin\n",
    "\n",
    "# Folium\n",
    "#!pip install folium\n",
    "import folium\n",
    "from folium.plugins import HeatMap\n",
    "\n",
    "# Dates\n",
    "import datetime as dt\n",
    "from datetime import timedelta\n",
    "\n",
    "# KNN imputer\n",
    "from sklearn.impute import KNNImputer\n",
    "\n",
    "# Outliers\n",
    "from sklearn.ensemble import IsolationForest\n",
    "\n",
    "# Warnings\n",
    "import warnings\n",
    "warnings.simplefilter(action = 'ignore')\n",
    "\n",
    "# Sommaire\n",
    "#!pip install jyquickhelper\n",
    "from jyquickhelper import add_notebook_menu # attention, ne prend que les titres de niveau 2\n",
    "add_notebook_menu()"
   ]
  },
  {
   "cell_type": "code",
   "execution_count": 2,
   "metadata": {
    "id": "_vAbaPvG7UNR"
   },
   "outputs": [],
   "source": [
    "# Set display preferences\n",
    "pd.set_option('display.max_row', 250)\n",
    "pd.set_option('display.max_column', 100)\n",
    "pd.set_option('display.precision', 5)"
   ]
  },
  {
   "cell_type": "code",
   "execution_count": 3,
   "metadata": {
    "colab": {
     "base_uri": "https://localhost:8080/"
    },
    "id": "BaYavtuN9hSr",
    "outputId": "6ad23a9f-d1aa-4f65-d97e-5bff71f6b6d5"
   },
   "outputs": [],
   "source": [
    "# si google colab :\n",
    "#from google.colab import drive\n",
    "#drive.mount('/content/drive')"
   ]
  },
  {
   "cell_type": "code",
   "execution_count": 4,
   "metadata": {
    "id": "eUiZdZjF_4Gf"
   },
   "outputs": [],
   "source": [
    "# Chemin d'accès aux données (à modifier si code en local)\n",
    "#path = '/content/drive/MyDrive/OpenClassrooms/Projet5/' #-> pour colab\n",
    "path = '' #-> en local\n",
    "\n",
    "# Load datasets\n",
    "df_customers = pd.read_csv(os.path.join(path, 'data/olist_customers_dataset.csv'))\n",
    "df_geolocation = pd.read_csv(os.path.join(path, 'data/olist_geolocation_dataset.csv'))\n",
    "df_order_items = pd.read_csv(os.path.join(path, 'data/olist_order_items_dataset.csv'))\n",
    "df_order_payments = pd.read_csv(os.path.join(path, 'data/olist_order_payments_dataset.csv'))\n",
    "df_order_reviews = pd.read_csv(os.path.join(path, 'data/olist_order_reviews_dataset.csv'))\n",
    "df_orders = pd.read_csv(os.path.join(path, 'data/olist_orders_dataset.csv'))\n",
    "df_products = pd.read_csv(os.path.join(path, 'data/olist_products_dataset.csv'))\n",
    "df_sellers = pd.read_csv(os.path.join(path, 'data/olist_sellers_dataset.csv'))\n",
    "df_product_category = pd.read_csv(os.path.join(path, 'data/product_category_name_translation.csv'))"
   ]
  },
  {
   "cell_type": "markdown",
   "metadata": {
    "id": "ITzg_90B7UNR"
   },
   "source": [
    "## Exploration de chaque dataset"
   ]
  },
  {
   "cell_type": "markdown",
   "metadata": {
    "id": "_YxbU0nL7UNR"
   },
   "source": [
    "### 1 - Customers dataset"
   ]
  },
  {
   "cell_type": "code",
   "execution_count": 5,
   "metadata": {
    "id": "4PMmRxI57UNR"
   },
   "outputs": [],
   "source": [
    "# This dataset has information about the customer and its location. Use it to identify unique customers in the\n",
    "# orders dataset and to find the orders delivery location.\n",
    "\n",
    "# same customer will get different ids for different orders"
   ]
  },
  {
   "cell_type": "code",
   "execution_count": 6,
   "metadata": {
    "colab": {
     "base_uri": "https://localhost:8080/",
     "height": 424
    },
    "id": "yFt_c-9b_4LA",
    "outputId": "feb2c8b3-79f4-467b-c7e1-b0b99d001e43"
   },
   "outputs": [
    {
     "data": {
      "text/html": [
       "<div>\n",
       "<style scoped>\n",
       "    .dataframe tbody tr th:only-of-type {\n",
       "        vertical-align: middle;\n",
       "    }\n",
       "\n",
       "    .dataframe tbody tr th {\n",
       "        vertical-align: top;\n",
       "    }\n",
       "\n",
       "    .dataframe thead th {\n",
       "        text-align: right;\n",
       "    }\n",
       "</style>\n",
       "<table border=\"1\" class=\"dataframe\">\n",
       "  <thead>\n",
       "    <tr style=\"text-align: right;\">\n",
       "      <th></th>\n",
       "      <th>customer_id</th>\n",
       "      <th>customer_unique_id</th>\n",
       "      <th>customer_zip_code_prefix</th>\n",
       "      <th>customer_city</th>\n",
       "      <th>customer_state</th>\n",
       "    </tr>\n",
       "  </thead>\n",
       "  <tbody>\n",
       "    <tr>\n",
       "      <th>0</th>\n",
       "      <td>06b8999e2fba1a1fbc88172c00ba8bc7</td>\n",
       "      <td>861eff4711a542e4b93843c6dd7febb0</td>\n",
       "      <td>14409</td>\n",
       "      <td>franca</td>\n",
       "      <td>SP</td>\n",
       "    </tr>\n",
       "    <tr>\n",
       "      <th>1</th>\n",
       "      <td>18955e83d337fd6b2def6b18a428ac77</td>\n",
       "      <td>290c77bc529b7ac935b93aa66c333dc3</td>\n",
       "      <td>9790</td>\n",
       "      <td>sao bernardo do campo</td>\n",
       "      <td>SP</td>\n",
       "    </tr>\n",
       "    <tr>\n",
       "      <th>2</th>\n",
       "      <td>4e7b3e00288586ebd08712fdd0374a03</td>\n",
       "      <td>060e732b5b29e8181a18229c7b0b2b5e</td>\n",
       "      <td>1151</td>\n",
       "      <td>sao paulo</td>\n",
       "      <td>SP</td>\n",
       "    </tr>\n",
       "    <tr>\n",
       "      <th>3</th>\n",
       "      <td>b2b6027bc5c5109e529d4dc6358b12c3</td>\n",
       "      <td>259dac757896d24d7702b9acbbff3f3c</td>\n",
       "      <td>8775</td>\n",
       "      <td>mogi das cruzes</td>\n",
       "      <td>SP</td>\n",
       "    </tr>\n",
       "    <tr>\n",
       "      <th>4</th>\n",
       "      <td>4f2d8ab171c80ec8364f7c12e35b23ad</td>\n",
       "      <td>345ecd01c38d18a9036ed96c73b8d066</td>\n",
       "      <td>13056</td>\n",
       "      <td>campinas</td>\n",
       "      <td>SP</td>\n",
       "    </tr>\n",
       "    <tr>\n",
       "      <th>...</th>\n",
       "      <td>...</td>\n",
       "      <td>...</td>\n",
       "      <td>...</td>\n",
       "      <td>...</td>\n",
       "      <td>...</td>\n",
       "    </tr>\n",
       "    <tr>\n",
       "      <th>99436</th>\n",
       "      <td>17ddf5dd5d51696bb3d7c6291687be6f</td>\n",
       "      <td>1a29b476fee25c95fbafc67c5ac95cf8</td>\n",
       "      <td>3937</td>\n",
       "      <td>sao paulo</td>\n",
       "      <td>SP</td>\n",
       "    </tr>\n",
       "    <tr>\n",
       "      <th>99437</th>\n",
       "      <td>e7b71a9017aa05c9a7fd292d714858e8</td>\n",
       "      <td>d52a67c98be1cf6a5c84435bd38d095d</td>\n",
       "      <td>6764</td>\n",
       "      <td>taboao da serra</td>\n",
       "      <td>SP</td>\n",
       "    </tr>\n",
       "    <tr>\n",
       "      <th>99438</th>\n",
       "      <td>5e28dfe12db7fb50a4b2f691faecea5e</td>\n",
       "      <td>e9f50caf99f032f0bf3c55141f019d99</td>\n",
       "      <td>60115</td>\n",
       "      <td>fortaleza</td>\n",
       "      <td>CE</td>\n",
       "    </tr>\n",
       "    <tr>\n",
       "      <th>99439</th>\n",
       "      <td>56b18e2166679b8a959d72dd06da27f9</td>\n",
       "      <td>73c2643a0a458b49f58cea58833b192e</td>\n",
       "      <td>92120</td>\n",
       "      <td>canoas</td>\n",
       "      <td>RS</td>\n",
       "    </tr>\n",
       "    <tr>\n",
       "      <th>99440</th>\n",
       "      <td>274fa6071e5e17fe303b9748641082c8</td>\n",
       "      <td>84732c5050c01db9b23e19ba39899398</td>\n",
       "      <td>6703</td>\n",
       "      <td>cotia</td>\n",
       "      <td>SP</td>\n",
       "    </tr>\n",
       "  </tbody>\n",
       "</table>\n",
       "<p>99441 rows × 5 columns</p>\n",
       "</div>"
      ],
      "text/plain": [
       "                            customer_id                customer_unique_id  \\\n",
       "0      06b8999e2fba1a1fbc88172c00ba8bc7  861eff4711a542e4b93843c6dd7febb0   \n",
       "1      18955e83d337fd6b2def6b18a428ac77  290c77bc529b7ac935b93aa66c333dc3   \n",
       "2      4e7b3e00288586ebd08712fdd0374a03  060e732b5b29e8181a18229c7b0b2b5e   \n",
       "3      b2b6027bc5c5109e529d4dc6358b12c3  259dac757896d24d7702b9acbbff3f3c   \n",
       "4      4f2d8ab171c80ec8364f7c12e35b23ad  345ecd01c38d18a9036ed96c73b8d066   \n",
       "...                                 ...                               ...   \n",
       "99436  17ddf5dd5d51696bb3d7c6291687be6f  1a29b476fee25c95fbafc67c5ac95cf8   \n",
       "99437  e7b71a9017aa05c9a7fd292d714858e8  d52a67c98be1cf6a5c84435bd38d095d   \n",
       "99438  5e28dfe12db7fb50a4b2f691faecea5e  e9f50caf99f032f0bf3c55141f019d99   \n",
       "99439  56b18e2166679b8a959d72dd06da27f9  73c2643a0a458b49f58cea58833b192e   \n",
       "99440  274fa6071e5e17fe303b9748641082c8  84732c5050c01db9b23e19ba39899398   \n",
       "\n",
       "       customer_zip_code_prefix          customer_city customer_state  \n",
       "0                         14409                 franca             SP  \n",
       "1                          9790  sao bernardo do campo             SP  \n",
       "2                          1151              sao paulo             SP  \n",
       "3                          8775        mogi das cruzes             SP  \n",
       "4                         13056               campinas             SP  \n",
       "...                         ...                    ...            ...  \n",
       "99436                      3937              sao paulo             SP  \n",
       "99437                      6764        taboao da serra             SP  \n",
       "99438                     60115              fortaleza             CE  \n",
       "99439                     92120                 canoas             RS  \n",
       "99440                      6703                  cotia             SP  \n",
       "\n",
       "[99441 rows x 5 columns]"
      ]
     },
     "execution_count": 6,
     "metadata": {},
     "output_type": "execute_result"
    }
   ],
   "source": [
    "df_customers"
   ]
  },
  {
   "cell_type": "code",
   "execution_count": 7,
   "metadata": {
    "colab": {
     "base_uri": "https://localhost:8080/"
    },
    "id": "YFx_UZ207UNR",
    "outputId": "b6610264-8bef-4b00-8a41-c380d22068c4"
   },
   "outputs": [
    {
     "name": "stdout",
     "output_type": "stream",
     "text": [
      "<class 'pandas.core.frame.DataFrame'>\n",
      "RangeIndex: 99441 entries, 0 to 99440\n",
      "Data columns (total 5 columns):\n",
      " #   Column                    Non-Null Count  Dtype \n",
      "---  ------                    --------------  ----- \n",
      " 0   customer_id               99441 non-null  object\n",
      " 1   customer_unique_id        99441 non-null  object\n",
      " 2   customer_zip_code_prefix  99441 non-null  int64 \n",
      " 3   customer_city             99441 non-null  object\n",
      " 4   customer_state            99441 non-null  object\n",
      "dtypes: int64(1), object(4)\n",
      "memory usage: 3.8+ MB\n"
     ]
    }
   ],
   "source": [
    "df_customers.info()"
   ]
  },
  {
   "cell_type": "code",
   "execution_count": 8,
   "metadata": {
    "id": "e3b_1RNB7UNR"
   },
   "outputs": [],
   "source": [
    "# customer_id -> key to the orders dataset\n",
    "# customer_unique_id -> unique identifier of a customer\n",
    "# customer_zip_code_prefix -> 5 digits customer zop code\n",
    "# customer_city -> customer city name\n",
    "# customer_state -> customer state"
   ]
  },
  {
   "cell_type": "code",
   "execution_count": 9,
   "metadata": {
    "colab": {
     "base_uri": "https://localhost:8080/"
    },
    "id": "ke_mHWg67UNS",
    "outputId": "65d7cab4-f538-472a-d499-85d1786f327b"
   },
   "outputs": [
    {
     "data": {
      "text/plain": [
       "14994"
      ]
     },
     "execution_count": 9,
     "metadata": {},
     "output_type": "execute_result"
    }
   ],
   "source": [
    "df_customers['customer_zip_code_prefix'].nunique()"
   ]
  },
  {
   "cell_type": "code",
   "execution_count": 10,
   "metadata": {
    "colab": {
     "base_uri": "https://localhost:8080/",
     "height": 409
    },
    "id": "gQRM4sj5LnxS",
    "outputId": "46a6003c-073b-4f98-bc45-7c23008468a1"
   },
   "outputs": [
    {
     "data": {
      "text/plain": [
       "Text(0, 0.5, 'Nombre de clients')"
      ]
     },
     "execution_count": 10,
     "metadata": {},
     "output_type": "execute_result"
    },
    {
     "data": {
      "image/png": "[encoded data removed]",
      "text/plain": [
       "<Figure size 1600x400 with 1 Axes>"
      ]
     },
     "metadata": {},
     "output_type": "display_data"
    }
   ],
   "source": [
    "# Visualisation du nombre de clients par état\n",
    "\n",
    "plt.figure(figsize = (16, 4))\n",
    "plt.title('Nombre de clients par état')\n",
    "sns.barplot(y = df_customers['customer_state'].value_counts(),\n",
    "            x = df_customers['customer_state'].value_counts().index)\n",
    "plt.xlabel('Etats')\n",
    "plt.ylabel('Nombre de clients')"
   ]
  },
  {
   "cell_type": "code",
   "execution_count": 11,
   "metadata": {
    "colab": {
     "base_uri": "https://localhost:8080/",
     "height": 409
    },
    "id": "X4FbwD0xkZPj",
    "outputId": "e8070f6c-9dd6-466a-f463-829e0e0db258"
   },
   "outputs": [
    {
     "data": {
      "image/png": "[encoded data removed]",
      "text/plain": [
       "<Figure size 1600x400 with 1 Axes>"
      ]
     },
     "metadata": {},
     "output_type": "display_data"
    }
   ],
   "source": [
    "plt.figure(figsize = (16, 4))\n",
    "plt.title('Nombre de clients par ville (20 plus grosses villes)')\n",
    "sns.barplot(x = df_customers['customer_city'].value_counts().index[:20],\n",
    "            y = df_customers['customer_city'].value_counts()[:20])\n",
    "plt.ylabel('Nombre de clients')\n",
    "plt.xticks(rotation = 45)\n",
    "plt.show()"
   ]
  },
  {
   "cell_type": "code",
   "execution_count": 12,
   "metadata": {},
   "outputs": [
    {
     "data": {
      "image/png": "[encoded data removed]",
      "text/plain": [
       "<Figure size 1600x400 with 1 Axes>"
      ]
     },
     "metadata": {},
     "output_type": "display_data"
    }
   ],
   "source": [
    "plt.figure(figsize = (16, 4))\n",
    "plt.title('Nombre de clients par zipcode (20 principaux)')\n",
    "sns.barplot(x = df_customers['customer_zip_code_prefix'].value_counts().index[:20],\n",
    "            y = df_customers['customer_zip_code_prefix'].value_counts()[:20])\n",
    "plt.ylabel('Nombre de clients')\n",
    "plt.xticks(rotation = 45)\n",
    "plt.show()"
   ]
  },
  {
   "cell_type": "code",
   "execution_count": 13,
   "metadata": {
    "id": "VsxDwWWlL8ZJ"
   },
   "outputs": [],
   "source": [
    "# majorité des clients à SP (São Paulo)\n",
    "\n",
    "# faire un encodage du type : SP -> 0, les autres villes -> 1 ?"
   ]
  },
  {
   "cell_type": "markdown",
   "metadata": {
    "id": "P8hIU6u77UNS"
   },
   "source": [
    "### 2 - Geolocation dataset"
   ]
  },
  {
   "cell_type": "code",
   "execution_count": 14,
   "metadata": {
    "id": "ZAZm02Te7UNS"
   },
   "outputs": [],
   "source": [
    "# This dataset has information Brazilian zip codes and its lat/lng coordinates. Use it to plot maps and find\n",
    "# distances between sellers and customers\n",
    "\n",
    "# -> Données géographiques"
   ]
  },
  {
   "cell_type": "code",
   "execution_count": 15,
   "metadata": {
    "colab": {
     "base_uri": "https://localhost:8080/",
     "height": 206
    },
    "id": "rMqc58iM_4Iu",
    "outputId": "e96ecdf1-7295-478a-a083-1eba6ca0e745"
   },
   "outputs": [
    {
     "data": {
      "text/html": [
       "<div>\n",
       "<style scoped>\n",
       "    .dataframe tbody tr th:only-of-type {\n",
       "        vertical-align: middle;\n",
       "    }\n",
       "\n",
       "    .dataframe tbody tr th {\n",
       "        vertical-align: top;\n",
       "    }\n",
       "\n",
       "    .dataframe thead th {\n",
       "        text-align: right;\n",
       "    }\n",
       "</style>\n",
       "<table border=\"1\" class=\"dataframe\">\n",
       "  <thead>\n",
       "    <tr style=\"text-align: right;\">\n",
       "      <th></th>\n",
       "      <th>geolocation_zip_code_prefix</th>\n",
       "      <th>geolocation_lat</th>\n",
       "      <th>geolocation_lng</th>\n",
       "      <th>geolocation_city</th>\n",
       "      <th>geolocation_state</th>\n",
       "    </tr>\n",
       "  </thead>\n",
       "  <tbody>\n",
       "    <tr>\n",
       "      <th>0</th>\n",
       "      <td>1037</td>\n",
       "      <td>-23.54562</td>\n",
       "      <td>-46.63929</td>\n",
       "      <td>sao paulo</td>\n",
       "      <td>SP</td>\n",
       "    </tr>\n",
       "    <tr>\n",
       "      <th>1</th>\n",
       "      <td>1046</td>\n",
       "      <td>-23.54608</td>\n",
       "      <td>-46.64482</td>\n",
       "      <td>sao paulo</td>\n",
       "      <td>SP</td>\n",
       "    </tr>\n",
       "    <tr>\n",
       "      <th>2</th>\n",
       "      <td>1046</td>\n",
       "      <td>-23.54613</td>\n",
       "      <td>-46.64295</td>\n",
       "      <td>sao paulo</td>\n",
       "      <td>SP</td>\n",
       "    </tr>\n",
       "    <tr>\n",
       "      <th>3</th>\n",
       "      <td>1041</td>\n",
       "      <td>-23.54439</td>\n",
       "      <td>-46.63950</td>\n",
       "      <td>sao paulo</td>\n",
       "      <td>SP</td>\n",
       "    </tr>\n",
       "    <tr>\n",
       "      <th>4</th>\n",
       "      <td>1035</td>\n",
       "      <td>-23.54158</td>\n",
       "      <td>-46.64161</td>\n",
       "      <td>sao paulo</td>\n",
       "      <td>SP</td>\n",
       "    </tr>\n",
       "  </tbody>\n",
       "</table>\n",
       "</div>"
      ],
      "text/plain": [
       "   geolocation_zip_code_prefix  geolocation_lat  geolocation_lng  \\\n",
       "0                         1037        -23.54562        -46.63929   \n",
       "1                         1046        -23.54608        -46.64482   \n",
       "2                         1046        -23.54613        -46.64295   \n",
       "3                         1041        -23.54439        -46.63950   \n",
       "4                         1035        -23.54158        -46.64161   \n",
       "\n",
       "  geolocation_city geolocation_state  \n",
       "0        sao paulo                SP  \n",
       "1        sao paulo                SP  \n",
       "2        sao paulo                SP  \n",
       "3        sao paulo                SP  \n",
       "4        sao paulo                SP  "
      ]
     },
     "execution_count": 15,
     "metadata": {},
     "output_type": "execute_result"
    }
   ],
   "source": [
    "# Aperçu des données\n",
    "df_geolocation.head()"
   ]
  },
  {
   "cell_type": "code",
   "execution_count": 16,
   "metadata": {
    "id": "CFUsvvst7UNS"
   },
   "outputs": [],
   "source": [
    "# -> faire moyenne ou barycentre pour avoir un ensemble de coordonnées par ville/code/etat"
   ]
  },
  {
   "cell_type": "code",
   "execution_count": 17,
   "metadata": {
    "colab": {
     "base_uri": "https://localhost:8080/"
    },
    "id": "w5ddaAOi7UNS",
    "outputId": "32406a83-d6ed-46e6-829a-5f420565ff83",
    "scrolled": true
   },
   "outputs": [
    {
     "name": "stdout",
     "output_type": "stream",
     "text": [
      "<class 'pandas.core.frame.DataFrame'>\n",
      "RangeIndex: 1000163 entries, 0 to 1000162\n",
      "Data columns (total 5 columns):\n",
      " #   Column                       Non-Null Count    Dtype  \n",
      "---  ------                       --------------    -----  \n",
      " 0   geolocation_zip_code_prefix  1000163 non-null  int64  \n",
      " 1   geolocation_lat              1000163 non-null  float64\n",
      " 2   geolocation_lng              1000163 non-null  float64\n",
      " 3   geolocation_city             1000163 non-null  object \n",
      " 4   geolocation_state            1000163 non-null  object \n",
      "dtypes: float64(2), int64(1), object(2)\n",
      "memory usage: 38.2+ MB\n"
     ]
    }
   ],
   "source": [
    "# Structure des données\n",
    "df_geolocation.info()"
   ]
  },
  {
   "cell_type": "code",
   "execution_count": 18,
   "metadata": {
    "colab": {
     "base_uri": "https://localhost:8080/"
    },
    "id": "W8FG68r97UNS",
    "outputId": "c3dd5eae-8b7b-44b5-8c8c-c473932e8182",
    "scrolled": false
   },
   "outputs": [
    {
     "data": {
      "text/plain": [
       "<folium.plugins.heat_map.HeatMap at 0x106a1db90>"
      ]
     },
     "execution_count": 18,
     "metadata": {},
     "output_type": "execute_result"
    }
   ],
   "source": [
    "########## Visualisation des données - Carte Folium ##########\n",
    "\n",
    "# Map folium\n",
    "brazil_coordinates = (-14.2400732, -53.1805017) # coordonnées prises sur wikipedia\n",
    "\n",
    "# Generating the data that will be given to the heatmap\n",
    "heat_data = [[row[\"geolocation_lat\"], row[\"geolocation_lng\"]] for index, row in df_geolocation.iterrows()]\n",
    "\n",
    "# Creating the base map\n",
    "base_map = folium.Map(location = brazil_coordinates, zoom_start = 2)\n",
    "\n",
    "# Adding the heatmap layer\n",
    "HeatMap(data = heat_data, radius = 8, max_zoom = 13).add_to(base_map)\n",
    "\n",
    "# Displaying the map\n",
    "# base_map"
   ]
  },
  {
   "cell_type": "code",
   "execution_count": 19,
   "metadata": {
    "id": "7Kzu-t6-HA4F"
   },
   "outputs": [],
   "source": [
    "# -> attention, quelques outliers - la plupart des points sont au Brésil mais certains sont dans d'autres pays."
   ]
  },
  {
   "cell_type": "code",
   "execution_count": 20,
   "metadata": {
    "id": "gRm20wqQIeg2"
   },
   "outputs": [],
   "source": [
    "########## OUTLIERS ##########\n",
    "\n",
    "# -> supprimer outliers pour ne garder que les points situés au Brésil\n",
    "\n",
    "# Nord (lat)\n",
    "df_geolocation = df_geolocation[df_geolocation.geolocation_lat <= 5.27438888] # lat max du Brésil au Nord\n",
    "# Sud (lat)\n",
    "df_geolocation = df_geolocation[df_geolocation.geolocation_lat >= -33.75116944] # lat min du Brésil au Sud\n",
    "\n",
    "# Ouest (long)\n",
    "df_geolocation = df_geolocation[df_geolocation.geolocation_lng >= -73.98283055] # long max du Brésil à l'Ouest\n",
    "# Est (long)\n",
    "df_geolocation = df_geolocation[df_geolocation.geolocation_lng <= -34.79314722] # long max du Brésil à l'Est"
   ]
  },
  {
   "cell_type": "code",
   "execution_count": 21,
   "metadata": {
    "colab": {
     "base_uri": "https://localhost:8080/"
    },
    "id": "ui3PM2yYydXK",
    "outputId": "b40dc4dc-2107-4b51-f8e3-7ef370667335"
   },
   "outputs": [
    {
     "name": "stdout",
     "output_type": "stream",
     "text": [
      "Nombre de régions : 27\n",
      "Nombre de villes : 8006\n",
      "Nombre de zip code : 19010\n"
     ]
    }
   ],
   "source": [
    "# Nombre de régions, villes, codes postaux représenté(e)s dans le jeu de données :\n",
    "state_unique = df_geolocation['geolocation_state'].nunique()\n",
    "city_unique = df_geolocation['geolocation_city'].nunique()\n",
    "zip_unique = df_geolocation['geolocation_zip_code_prefix'].nunique()\n",
    "\n",
    "print(f'Nombre de régions : {state_unique}')\n",
    "print(f'Nombre de villes : {city_unique}')\n",
    "print(f'Nombre de zip code : {zip_unique}')"
   ]
  },
  {
   "cell_type": "code",
   "execution_count": 22,
   "metadata": {
    "colab": {
     "base_uri": "https://localhost:8080/"
    },
    "id": "SX4jReDX7UNS",
    "outputId": "09ebbc17-8b31-400c-9222-907e51f92a86"
   },
   "outputs": [
    {
     "data": {
      "text/plain": [
       "geolocation_state\n",
       "SP    404267\n",
       "MG    126334\n",
       "RJ    121164\n",
       "RS     61847\n",
       "PR     57856\n",
       "Name: count, dtype: int64"
      ]
     },
     "execution_count": 22,
     "metadata": {},
     "output_type": "execute_result"
    }
   ],
   "source": [
    "# Principaux états :\n",
    "df_geolocation['geolocation_state'].value_counts()[:5]"
   ]
  },
  {
   "cell_type": "code",
   "execution_count": 23,
   "metadata": {
    "colab": {
     "base_uri": "https://localhost:8080/",
     "height": 850
    },
    "id": "AOLY8N707UNS",
    "outputId": "f559593f-72ce-4702-b4d2-3418b8f4937a"
   },
   "outputs": [
    {
     "data": {
      "text/plain": [
       "<Figure size 640x480 with 0 Axes>"
      ]
     },
     "metadata": {},
     "output_type": "display_data"
    },
    {
     "data": {
      "image/png": "[encoded data removed]",
      "text/plain": [
       "<Figure size 1000x1000 with 2 Axes>"
      ]
     },
     "metadata": {},
     "output_type": "display_data"
    }
   ],
   "source": [
    "# Visualisation graphique des données géo (latitudes et longitudes) en fonction du code postal associé :\n",
    "\n",
    "plt.figure()\n",
    "df_geolocation.plot(kind = 'scatter',\n",
    "                    x = 'geolocation_lng',\n",
    "                    y = 'geolocation_lat',\n",
    "                    alpha = 0.4,\n",
    "                    c = 'geolocation_zip_code_prefix',\n",
    "                    cmap = plt.get_cmap('jet'),\n",
    "                    colorbar = True,\n",
    "                    figsize = (10, 10))\n",
    "plt.show()"
   ]
  },
  {
   "cell_type": "code",
   "execution_count": 24,
   "metadata": {
    "id": "HrSRakgWydXL"
   },
   "outputs": [],
   "source": [
    "# quelques points qui ont le mauvais zipcode par rapport aux coordonnées...\n",
    "# to do -> essayer de les supprimée ? ou des les rectifier ?\n",
    "\n",
    "# encore quelques points un peu éloignés au Nord -> vérifier coordonnées du Brésil\n",
    "# - update -> c'est bon, les points au Nord sont bien situés au Brésil - état du Nord semble donc moins réprésenté dans les données"
   ]
  },
  {
   "cell_type": "code",
   "execution_count": 25,
   "metadata": {
    "colab": {
     "base_uri": "https://localhost:8080/"
    },
    "id": "UmsgRbCnydXL",
    "outputId": "56e1a5d6-0c20-4ad3-b205-82bdde23619f"
   },
   "outputs": [
    {
     "name": "stdout",
     "output_type": "stream",
     "text": [
      "Nombre de duplicats dans le jeu de données geolocation avant processing: 261822\n",
      "****** Suppression des duplicats en cours ******\n",
      "Nombre de duplicats dans le jeu de données geolocation après processing: 0\n"
     ]
    }
   ],
   "source": [
    "########## DUPLICATS ##########\n",
    "\n",
    "# nombre de duplicats dans le jeu de données\n",
    "print(f'Nombre de duplicats dans le jeu de données geolocation avant processing: {df_geolocation.duplicated().sum()}')\n",
    "\n",
    "# supprimer duplicats\n",
    "print('****** Suppression des duplicats en cours ******')\n",
    "df_geolocation = df_geolocation.drop_duplicates()\n",
    "\n",
    "# nombre de duplicats dans le jeu de données après processing\n",
    "print(f'Nombre de duplicats dans le jeu de données geolocation après processing: {df_geolocation.duplicated().sum()}')"
   ]
  },
  {
   "cell_type": "code",
   "execution_count": 26,
   "metadata": {
    "colab": {
     "base_uri": "https://localhost:8080/",
     "height": 424
    },
    "id": "pSIr7prGydXL",
    "outputId": "be77869a-c47a-4e62-ad24-ac18da791a4c"
   },
   "outputs": [
    {
     "data": {
      "text/html": [
       "<div>\n",
       "<style scoped>\n",
       "    .dataframe tbody tr th:only-of-type {\n",
       "        vertical-align: middle;\n",
       "    }\n",
       "\n",
       "    .dataframe tbody tr th {\n",
       "        vertical-align: top;\n",
       "    }\n",
       "\n",
       "    .dataframe thead th {\n",
       "        text-align: right;\n",
       "    }\n",
       "</style>\n",
       "<table border=\"1\" class=\"dataframe\">\n",
       "  <thead>\n",
       "    <tr style=\"text-align: right;\">\n",
       "      <th></th>\n",
       "      <th>geolocation_zip_code_prefix</th>\n",
       "      <th>geolocation_lat</th>\n",
       "      <th>geolocation_lng</th>\n",
       "      <th>geolocation_city</th>\n",
       "      <th>geolocation_state</th>\n",
       "    </tr>\n",
       "  </thead>\n",
       "  <tbody>\n",
       "    <tr>\n",
       "      <th>0</th>\n",
       "      <td>1037</td>\n",
       "      <td>-23.54562</td>\n",
       "      <td>-46.63929</td>\n",
       "      <td>sao paulo</td>\n",
       "      <td>SP</td>\n",
       "    </tr>\n",
       "    <tr>\n",
       "      <th>1</th>\n",
       "      <td>1046</td>\n",
       "      <td>-23.54608</td>\n",
       "      <td>-46.64482</td>\n",
       "      <td>sao paulo</td>\n",
       "      <td>SP</td>\n",
       "    </tr>\n",
       "    <tr>\n",
       "      <th>2</th>\n",
       "      <td>1046</td>\n",
       "      <td>-23.54613</td>\n",
       "      <td>-46.64295</td>\n",
       "      <td>sao paulo</td>\n",
       "      <td>SP</td>\n",
       "    </tr>\n",
       "    <tr>\n",
       "      <th>3</th>\n",
       "      <td>1041</td>\n",
       "      <td>-23.54439</td>\n",
       "      <td>-46.63950</td>\n",
       "      <td>sao paulo</td>\n",
       "      <td>SP</td>\n",
       "    </tr>\n",
       "    <tr>\n",
       "      <th>4</th>\n",
       "      <td>1035</td>\n",
       "      <td>-23.54158</td>\n",
       "      <td>-46.64161</td>\n",
       "      <td>sao paulo</td>\n",
       "      <td>SP</td>\n",
       "    </tr>\n",
       "    <tr>\n",
       "      <th>...</th>\n",
       "      <td>...</td>\n",
       "      <td>...</td>\n",
       "      <td>...</td>\n",
       "      <td>...</td>\n",
       "      <td>...</td>\n",
       "    </tr>\n",
       "    <tr>\n",
       "      <th>1000155</th>\n",
       "      <td>99965</td>\n",
       "      <td>-28.18066</td>\n",
       "      <td>-52.03437</td>\n",
       "      <td>agua santa</td>\n",
       "      <td>RS</td>\n",
       "    </tr>\n",
       "    <tr>\n",
       "      <th>1000156</th>\n",
       "      <td>99950</td>\n",
       "      <td>-28.07219</td>\n",
       "      <td>-52.01127</td>\n",
       "      <td>tapejara</td>\n",
       "      <td>RS</td>\n",
       "    </tr>\n",
       "    <tr>\n",
       "      <th>1000157</th>\n",
       "      <td>99950</td>\n",
       "      <td>-28.06886</td>\n",
       "      <td>-52.01296</td>\n",
       "      <td>tapejara</td>\n",
       "      <td>RS</td>\n",
       "    </tr>\n",
       "    <tr>\n",
       "      <th>1000158</th>\n",
       "      <td>99950</td>\n",
       "      <td>-28.06864</td>\n",
       "      <td>-52.01071</td>\n",
       "      <td>tapejara</td>\n",
       "      <td>RS</td>\n",
       "    </tr>\n",
       "    <tr>\n",
       "      <th>1000161</th>\n",
       "      <td>99980</td>\n",
       "      <td>-28.38893</td>\n",
       "      <td>-51.84687</td>\n",
       "      <td>david canabarro</td>\n",
       "      <td>RS</td>\n",
       "    </tr>\n",
       "  </tbody>\n",
       "</table>\n",
       "<p>738299 rows × 5 columns</p>\n",
       "</div>"
      ],
      "text/plain": [
       "         geolocation_zip_code_prefix  geolocation_lat  geolocation_lng  \\\n",
       "0                               1037        -23.54562        -46.63929   \n",
       "1                               1046        -23.54608        -46.64482   \n",
       "2                               1046        -23.54613        -46.64295   \n",
       "3                               1041        -23.54439        -46.63950   \n",
       "4                               1035        -23.54158        -46.64161   \n",
       "...                              ...              ...              ...   \n",
       "1000155                        99965        -28.18066        -52.03437   \n",
       "1000156                        99950        -28.07219        -52.01127   \n",
       "1000157                        99950        -28.06886        -52.01296   \n",
       "1000158                        99950        -28.06864        -52.01071   \n",
       "1000161                        99980        -28.38893        -51.84687   \n",
       "\n",
       "        geolocation_city geolocation_state  \n",
       "0              sao paulo                SP  \n",
       "1              sao paulo                SP  \n",
       "2              sao paulo                SP  \n",
       "3              sao paulo                SP  \n",
       "4              sao paulo                SP  \n",
       "...                  ...               ...  \n",
       "1000155       agua santa                RS  \n",
       "1000156         tapejara                RS  \n",
       "1000157         tapejara                RS  \n",
       "1000158         tapejara                RS  \n",
       "1000161  david canabarro                RS  \n",
       "\n",
       "[738299 rows x 5 columns]"
      ]
     },
     "execution_count": 26,
     "metadata": {},
     "output_type": "execute_result"
    }
   ],
   "source": [
    "df_geolocation"
   ]
  },
  {
   "cell_type": "code",
   "execution_count": 27,
   "metadata": {
    "colab": {
     "base_uri": "https://localhost:8080/",
     "height": 238
    },
    "id": "Ts7dWNq9ydXL",
    "outputId": "b4844e78-e298-4d1d-898f-8fea17e5dc5e"
   },
   "outputs": [
    {
     "data": {
      "text/html": [
       "<div>\n",
       "<style scoped>\n",
       "    .dataframe tbody tr th:only-of-type {\n",
       "        vertical-align: middle;\n",
       "    }\n",
       "\n",
       "    .dataframe tbody tr th {\n",
       "        vertical-align: top;\n",
       "    }\n",
       "\n",
       "    .dataframe thead th {\n",
       "        text-align: right;\n",
       "    }\n",
       "</style>\n",
       "<table border=\"1\" class=\"dataframe\">\n",
       "  <thead>\n",
       "    <tr style=\"text-align: right;\">\n",
       "      <th></th>\n",
       "      <th>geolocation_zip_code_prefix</th>\n",
       "      <th>geolocation_lat</th>\n",
       "      <th>geolocation_lng</th>\n",
       "      <th>geolocation_city</th>\n",
       "      <th>geolocation_state</th>\n",
       "    </tr>\n",
       "  </thead>\n",
       "  <tbody>\n",
       "    <tr>\n",
       "      <th>999754</th>\n",
       "      <td>99965</td>\n",
       "      <td>-28.17389</td>\n",
       "      <td>-52.03845</td>\n",
       "      <td>agua santa</td>\n",
       "      <td>RS</td>\n",
       "    </tr>\n",
       "    <tr>\n",
       "      <th>999755</th>\n",
       "      <td>99965</td>\n",
       "      <td>-28.17843</td>\n",
       "      <td>-52.03526</td>\n",
       "      <td>agua santa</td>\n",
       "      <td>RS</td>\n",
       "    </tr>\n",
       "    <tr>\n",
       "      <th>999933</th>\n",
       "      <td>99965</td>\n",
       "      <td>-28.21084</td>\n",
       "      <td>-52.05993</td>\n",
       "      <td>agua santa</td>\n",
       "      <td>RS</td>\n",
       "    </tr>\n",
       "    <tr>\n",
       "      <th>999949</th>\n",
       "      <td>99965</td>\n",
       "      <td>-28.18171</td>\n",
       "      <td>-52.03559</td>\n",
       "      <td>agua santa</td>\n",
       "      <td>RS</td>\n",
       "    </tr>\n",
       "    <tr>\n",
       "      <th>1000067</th>\n",
       "      <td>99965</td>\n",
       "      <td>-28.17470</td>\n",
       "      <td>-52.03551</td>\n",
       "      <td>agua santa</td>\n",
       "      <td>RS</td>\n",
       "    </tr>\n",
       "    <tr>\n",
       "      <th>1000155</th>\n",
       "      <td>99965</td>\n",
       "      <td>-28.18066</td>\n",
       "      <td>-52.03437</td>\n",
       "      <td>agua santa</td>\n",
       "      <td>RS</td>\n",
       "    </tr>\n",
       "  </tbody>\n",
       "</table>\n",
       "</div>"
      ],
      "text/plain": [
       "         geolocation_zip_code_prefix  geolocation_lat  geolocation_lng  \\\n",
       "999754                         99965        -28.17389        -52.03845   \n",
       "999755                         99965        -28.17843        -52.03526   \n",
       "999933                         99965        -28.21084        -52.05993   \n",
       "999949                         99965        -28.18171        -52.03559   \n",
       "1000067                        99965        -28.17470        -52.03551   \n",
       "1000155                        99965        -28.18066        -52.03437   \n",
       "\n",
       "        geolocation_city geolocation_state  \n",
       "999754        agua santa                RS  \n",
       "999755        agua santa                RS  \n",
       "999933        agua santa                RS  \n",
       "999949        agua santa                RS  \n",
       "1000067       agua santa                RS  \n",
       "1000155       agua santa                RS  "
      ]
     },
     "execution_count": 27,
     "metadata": {},
     "output_type": "execute_result"
    }
   ],
   "source": [
    "df_geolocation.loc[df_geolocation['geolocation_city'] == 'agua santa']"
   ]
  },
  {
   "cell_type": "code",
   "execution_count": 28,
   "metadata": {
    "colab": {
     "base_uri": "https://localhost:8080/",
     "height": 424
    },
    "id": "8FHnqKalydXL",
    "outputId": "be537080-f5ce-45c0-c3b9-bf5d0f7941d5",
    "scrolled": false
   },
   "outputs": [
    {
     "data": {
      "text/html": [
       "<div>\n",
       "<style scoped>\n",
       "    .dataframe tbody tr th:only-of-type {\n",
       "        vertical-align: middle;\n",
       "    }\n",
       "\n",
       "    .dataframe tbody tr th {\n",
       "        vertical-align: top;\n",
       "    }\n",
       "\n",
       "    .dataframe thead th {\n",
       "        text-align: right;\n",
       "    }\n",
       "</style>\n",
       "<table border=\"1\" class=\"dataframe\">\n",
       "  <thead>\n",
       "    <tr style=\"text-align: right;\">\n",
       "      <th></th>\n",
       "      <th>geolocation_zip_code_prefix</th>\n",
       "      <th>geolocation_lat</th>\n",
       "      <th>geolocation_lng</th>\n",
       "      <th>geolocation_city</th>\n",
       "      <th>geolocation_state</th>\n",
       "    </tr>\n",
       "  </thead>\n",
       "  <tbody>\n",
       "    <tr>\n",
       "      <th>0</th>\n",
       "      <td>1037</td>\n",
       "      <td>-23.54562</td>\n",
       "      <td>-46.63929</td>\n",
       "      <td>sao paulo</td>\n",
       "      <td>SP</td>\n",
       "    </tr>\n",
       "    <tr>\n",
       "      <th>1</th>\n",
       "      <td>1046</td>\n",
       "      <td>-23.54608</td>\n",
       "      <td>-46.64482</td>\n",
       "      <td>sao paulo</td>\n",
       "      <td>SP</td>\n",
       "    </tr>\n",
       "    <tr>\n",
       "      <th>2</th>\n",
       "      <td>1046</td>\n",
       "      <td>-23.54613</td>\n",
       "      <td>-46.64295</td>\n",
       "      <td>sao paulo</td>\n",
       "      <td>SP</td>\n",
       "    </tr>\n",
       "    <tr>\n",
       "      <th>3</th>\n",
       "      <td>1041</td>\n",
       "      <td>-23.54439</td>\n",
       "      <td>-46.63950</td>\n",
       "      <td>sao paulo</td>\n",
       "      <td>SP</td>\n",
       "    </tr>\n",
       "    <tr>\n",
       "      <th>4</th>\n",
       "      <td>1035</td>\n",
       "      <td>-23.54158</td>\n",
       "      <td>-46.64161</td>\n",
       "      <td>sao paulo</td>\n",
       "      <td>SP</td>\n",
       "    </tr>\n",
       "    <tr>\n",
       "      <th>...</th>\n",
       "      <td>...</td>\n",
       "      <td>...</td>\n",
       "      <td>...</td>\n",
       "      <td>...</td>\n",
       "      <td>...</td>\n",
       "    </tr>\n",
       "    <tr>\n",
       "      <th>207050</th>\n",
       "      <td>8450</td>\n",
       "      <td>-23.54767</td>\n",
       "      <td>-46.39002</td>\n",
       "      <td>sao paulo</td>\n",
       "      <td>SP</td>\n",
       "    </tr>\n",
       "    <tr>\n",
       "      <th>207052</th>\n",
       "      <td>8450</td>\n",
       "      <td>-23.54707</td>\n",
       "      <td>-46.39109</td>\n",
       "      <td>sao paulo</td>\n",
       "      <td>SP</td>\n",
       "    </tr>\n",
       "    <tr>\n",
       "      <th>207053</th>\n",
       "      <td>8473</td>\n",
       "      <td>-23.57269</td>\n",
       "      <td>-46.39424</td>\n",
       "      <td>sao paulo</td>\n",
       "      <td>SP</td>\n",
       "    </tr>\n",
       "    <tr>\n",
       "      <th>207054</th>\n",
       "      <td>8411</td>\n",
       "      <td>-23.55594</td>\n",
       "      <td>-46.41391</td>\n",
       "      <td>sao paulo</td>\n",
       "      <td>SP</td>\n",
       "    </tr>\n",
       "    <tr>\n",
       "      <th>232549</th>\n",
       "      <td>9540</td>\n",
       "      <td>-23.62693</td>\n",
       "      <td>-46.57277</td>\n",
       "      <td>sao paulo</td>\n",
       "      <td>SP</td>\n",
       "    </tr>\n",
       "  </tbody>\n",
       "</table>\n",
       "<p>79927 rows × 5 columns</p>\n",
       "</div>"
      ],
      "text/plain": [
       "        geolocation_zip_code_prefix  geolocation_lat  geolocation_lng  \\\n",
       "0                              1037        -23.54562        -46.63929   \n",
       "1                              1046        -23.54608        -46.64482   \n",
       "2                              1046        -23.54613        -46.64295   \n",
       "3                              1041        -23.54439        -46.63950   \n",
       "4                              1035        -23.54158        -46.64161   \n",
       "...                             ...              ...              ...   \n",
       "207050                         8450        -23.54767        -46.39002   \n",
       "207052                         8450        -23.54707        -46.39109   \n",
       "207053                         8473        -23.57269        -46.39424   \n",
       "207054                         8411        -23.55594        -46.41391   \n",
       "232549                         9540        -23.62693        -46.57277   \n",
       "\n",
       "       geolocation_city geolocation_state  \n",
       "0             sao paulo                SP  \n",
       "1             sao paulo                SP  \n",
       "2             sao paulo                SP  \n",
       "3             sao paulo                SP  \n",
       "4             sao paulo                SP  \n",
       "...                 ...               ...  \n",
       "207050        sao paulo                SP  \n",
       "207052        sao paulo                SP  \n",
       "207053        sao paulo                SP  \n",
       "207054        sao paulo                SP  \n",
       "232549        sao paulo                SP  \n",
       "\n",
       "[79927 rows x 5 columns]"
      ]
     },
     "execution_count": 28,
     "metadata": {},
     "output_type": "execute_result"
    }
   ],
   "source": [
    "df_geolocation.loc[df_geolocation['geolocation_city'] == 'sao paulo']"
   ]
  },
  {
   "cell_type": "code",
   "execution_count": 29,
   "metadata": {
    "id": "BUG5fgNzydXL"
   },
   "outputs": [],
   "source": [
    "# plusieurs zip code par ville, mais une seule ville par zipcode"
   ]
  },
  {
   "cell_type": "code",
   "execution_count": 30,
   "metadata": {
    "colab": {
     "base_uri": "https://localhost:8080/"
    },
    "id": "X5CDVJ3qydXL",
    "outputId": "4915ad62-cb50-4ff1-84f8-7027397a41bd"
   },
   "outputs": [
    {
     "data": {
      "text/plain": [
       "geolocation_city\n",
       "sao paulo            79927\n",
       "rio de janeiro       35177\n",
       "são paulo            19718\n",
       "belo horizonte       19474\n",
       "curitiba             11263\n",
       "                     ...  \n",
       "são joão do oeste        1\n",
       "mondaí                   1\n",
       "tunápolis                1\n",
       "vertente do lerio        1\n",
       "araçagi                  1\n",
       "Name: count, Length: 8006, dtype: int64"
      ]
     },
     "execution_count": 30,
     "metadata": {},
     "output_type": "execute_result"
    }
   ],
   "source": [
    "# attention -> plusieurs orthographes pour les villes\n",
    "df_geolocation['geolocation_city'].value_counts()"
   ]
  },
  {
   "cell_type": "code",
   "execution_count": 31,
   "metadata": {
    "colab": {
     "base_uri": "https://localhost:8080/"
    },
    "id": "mPtA-F6jydXL",
    "outputId": "34bd8c31-a59c-4181-e94f-e2052ced67ea"
   },
   "outputs": [
    {
     "data": {
      "text/plain": [
       "geolocation_city\n",
       "sao paulo         99646\n",
       "rio de janeiro    35177\n",
       "belo horizonte    19474\n",
       "curitiba          11263\n",
       "brasilia           8791\n",
       "                  ...  \n",
       "paqueta               1\n",
       "tabai                 1\n",
       "martinesia            1\n",
       "tapuirama             1\n",
       "silvano               1\n",
       "Name: count, Length: 5964, dtype: int64"
      ]
     },
     "execution_count": 31,
     "metadata": {},
     "output_type": "execute_result"
    }
   ],
   "source": [
    "# exemple: sao paulo & são paulo\n",
    "# supprimer les accents pour être tranquille :\n",
    "\n",
    "df_geolocation['geolocation_city'] = df_geolocation['geolocation_city'].str.normalize('NFKD').str.encode('ascii', errors = 'ignore').str.decode('utf-8')\n",
    "df_geolocation['geolocation_city'].value_counts()"
   ]
  },
  {
   "cell_type": "code",
   "execution_count": 32,
   "metadata": {
    "colab": {
     "base_uri": "https://localhost:8080/",
     "height": 87
    },
    "id": "r9hei5pzydXL",
    "outputId": "5450fd43-e94c-43be-942f-52a6a54e9270"
   },
   "outputs": [
    {
     "data": {
      "image/png": "[encoded data removed]",
      "text/plain": [
       "<Figure size 1200x800 with 2 Axes>"
      ]
     },
     "metadata": {},
     "output_type": "display_data"
    }
   ],
   "source": [
    "# regarder nombre de zip code par ville et nb de villes par états (genre de heatmap avec cercles)\n",
    "\n",
    "# MOCHE - A REFAIRE et surtout très long\n",
    "\"\"\"\n",
    "df_geolocation.plot(kind = 'scatter',\n",
    "                    x = 'geolocation_lng',\n",
    "                    y = 'geolocation_lat',\n",
    "                    alpha = 0.4,\n",
    "                    s = df_geolocation['geolocation_zip_code_prefix'],\n",
    "                    label = 'geolocation_zip_code_prefix',\n",
    "                    #c = df_geolocation['geolocation_city'],\n",
    "                    cmap = plt.get_cmap('jet'),\n",
    "                    colorbar = True,\n",
    "                    figsize = (12, 8))\n",
    "plt.show()\"\"\""
   ]
  },
  {
   "cell_type": "code",
   "execution_count": null,
   "metadata": {
    "id": "Hoe2N7-GydXL"
   },
   "outputs": [],
   "source": [
    "# Granularité du jeu de données : state > city > zip code"
   ]
  },
  {
   "cell_type": "code",
   "execution_count": null,
   "metadata": {
    "colab": {
     "base_uri": "https://localhost:8080/",
     "height": 645
    },
    "id": "fF2lzkzgydXL",
    "outputId": "1ec65bdc-f567-41fe-9ec6-3be2471e2108"
   },
   "outputs": [],
   "source": [
    "df_geolocation.loc[df_geolocation['geolocation_zip_code_prefix'] == 1037]"
   ]
  },
  {
   "cell_type": "code",
   "execution_count": null,
   "metadata": {
    "colab": {
     "base_uri": "https://localhost:8080/"
    },
    "id": "r7iKY9oLydXM",
    "outputId": "b2ba88fd-bf34-479e-81bc-f464ca98c7ac"
   },
   "outputs": [],
   "source": [
    "df_geolocation['geolocation_lat'].loc[df_geolocation['geolocation_zip_code_prefix'] == 1037]"
   ]
  },
  {
   "cell_type": "code",
   "execution_count": null,
   "metadata": {
    "colab": {
     "base_uri": "https://localhost:8080/"
    },
    "id": "R30WHl7CydXM",
    "outputId": "2fed9f6b-0eb4-46b0-f1ab-efbe3294145e"
   },
   "outputs": [],
   "source": [
    "df_geolocation['geolocation_lat'].loc[df_geolocation['geolocation_zip_code_prefix'] == 1037].mean()"
   ]
  },
  {
   "cell_type": "code",
   "execution_count": null,
   "metadata": {
    "colab": {
     "base_uri": "https://localhost:8080/"
    },
    "id": "Zs5Ocrn1ydXM",
    "outputId": "044f5eaf-fca1-469c-ed87-c3f9efa18676"
   },
   "outputs": [],
   "source": [
    "df_geolocation['geolocation_lng'].loc[df_geolocation['geolocation_zip_code_prefix'] == 1037]"
   ]
  },
  {
   "cell_type": "code",
   "execution_count": null,
   "metadata": {
    "colab": {
     "base_uri": "https://localhost:8080/"
    },
    "id": "otFDaBqgydXM",
    "outputId": "2c52dc90-f3b1-4a98-9891-bc458da21463"
   },
   "outputs": [],
   "source": [
    "df_geolocation['geolocation_lng'].loc[df_geolocation['geolocation_zip_code_prefix'] == 1037].mean()"
   ]
  },
  {
   "cell_type": "code",
   "execution_count": null,
   "metadata": {
    "colab": {
     "base_uri": "https://localhost:8080/",
     "height": 463
    },
    "id": "RzINJJUEydXM",
    "outputId": "b1a6deee-da03-4fee-f369-3584650d03a8"
   },
   "outputs": [],
   "source": [
    "# test en remplaçant coordonnées par moyenne\n",
    "x_zip = df_geolocation['geolocation_lng'].loc[df_geolocation['geolocation_zip_code_prefix'] == 1037]\n",
    "y_zip = df_geolocation['geolocation_lat'].loc[df_geolocation['geolocation_zip_code_prefix'] == 1037]\n",
    "\n",
    "# Visualisation graphique des zip_code_prefix, des latitudes et longitudes associées\n",
    "plt.figure()\n",
    "plt.scatter(x = x_zip, y = y_zip, alpha = 0.4, c = 'red') # points\n",
    "plt.scatter(x = x_zip.mean(), y = y_zip.mean(), c = 'green') # moyenne\n",
    "plt.show()"
   ]
  },
  {
   "cell_type": "code",
   "execution_count": null,
   "metadata": {
    "colab": {
     "base_uri": "https://localhost:8080/",
     "height": 430
    },
    "id": "X5BaF8nfydXM",
    "outputId": "ee6328aa-699c-4aa7-e082-26ac97f4a05d"
   },
   "outputs": [],
   "source": [
    "# test avec un autre zip code\n",
    "x_zip = df_geolocation['geolocation_lng'].loc[df_geolocation['geolocation_zip_code_prefix'] == 99965]\n",
    "y_zip = df_geolocation['geolocation_lat'].loc[df_geolocation['geolocation_zip_code_prefix'] == 99965]\n",
    "\n",
    "plt.figure()\n",
    "plt.scatter(x = x_zip,\n",
    "            y = y_zip,\n",
    "            alpha = 0.4,\n",
    "            c = 'red')\n",
    "plt.scatter(x = x_zip.mean(),\n",
    "            y = y_zip.mean(),\n",
    "            c = 'green')\n",
    "plt.show()"
   ]
  },
  {
   "cell_type": "code",
   "execution_count": null,
   "metadata": {
    "id": "FHJfCVEI7UNS"
   },
   "outputs": [],
   "source": [
    "# impossible de merger geoloc aux autres df (sellers et customers) car plusieurs coordonnées par zip code/villes...\n",
    "# pas la même granularité entre les df donc besoin de merger"
   ]
  },
  {
   "cell_type": "code",
   "execution_count": null,
   "metadata": {
    "colab": {
     "base_uri": "https://localhost:8080/"
    },
    "id": "g1Oj0NN5ydXM",
    "outputId": "86778090-871b-4154-e033-cbf56e9a0432"
   },
   "outputs": [],
   "source": [
    "df_geolocation.columns"
   ]
  },
  {
   "cell_type": "code",
   "execution_count": null,
   "metadata": {
    "id": "s_9gCqj6ydXM"
   },
   "outputs": [],
   "source": [
    "# groupby et remplacer par mean\n",
    "df_geo = df_geolocation.groupby(['geolocation_zip_code_prefix'], as_index = False).agg({\n",
    "    'geolocation_lat': 'mean',\n",
    "    'geolocation_lng': 'mean',\n",
    "    'geolocation_city': 'first',\n",
    "    'geolocation_state' :'first'\n",
    "})"
   ]
  },
  {
   "cell_type": "code",
   "execution_count": null,
   "metadata": {
    "colab": {
     "base_uri": "https://localhost:8080/",
     "height": 850
    },
    "id": "GgfaS8TgydXM",
    "outputId": "f1898e62-3dcc-4b63-bb8d-cb4e3a321dfe"
   },
   "outputs": [],
   "source": [
    "plt.figure()\n",
    "df_geo.plot(kind = 'scatter',\n",
    "            x = 'geolocation_lng',\n",
    "            y = 'geolocation_lat',\n",
    "            alpha = 0.4,\n",
    "            c = 'geolocation_zip_code_prefix',\n",
    "            cmap = plt.get_cmap('jet'),\n",
    "            colorbar = True,\n",
    "            figsize = (10, 10))\n",
    "plt.show()"
   ]
  },
  {
   "cell_type": "markdown",
   "metadata": {
    "id": "fQlUEBtV7UNT"
   },
   "source": [
    "### 3 - Order items dataset"
   ]
  },
  {
   "cell_type": "code",
   "execution_count": null,
   "metadata": {
    "colab": {
     "base_uri": "https://localhost:8080/",
     "height": 444
    },
    "id": "YI37obDE7UNT",
    "outputId": "11764161-ac07-4692-81ce-ce24ce68bf5f"
   },
   "outputs": [],
   "source": [
    "# This dataset includes data about the items purchased within each order.\n",
    "\n",
    "df_order_items"
   ]
  },
  {
   "cell_type": "code",
   "execution_count": null,
   "metadata": {
    "id": "zjG_ije07UNT"
   },
   "outputs": [],
   "source": [
    "# order_id -> order unique id\n",
    "# order_item_id -> nb of items by order\n",
    "# product_id -> product unique id\n",
    "# seller_id -> seller unique id\n",
    "# shipping_limit_date -> shipping limit date (for the seller)\n",
    "# price -> item price\n",
    "# freight_value -> item freight value (si plusieurs items par commande, freight value splitté entre les items)"
   ]
  },
  {
   "cell_type": "code",
   "execution_count": null,
   "metadata": {
    "colab": {
     "base_uri": "https://localhost:8080/"
    },
    "id": "1alJFxYC7UNT",
    "outputId": "d7e1e9a0-a2b7-49bd-b74e-9f4711d0be88"
   },
   "outputs": [],
   "source": [
    "df_order_items['order_item_id'].value_counts()"
   ]
  },
  {
   "cell_type": "code",
   "execution_count": null,
   "metadata": {
    "colab": {
     "base_uri": "https://localhost:8080/",
     "height": 564
    },
    "id": "-vst6TumJiTY",
    "outputId": "fa063b07-e8db-4d1d-8c16-e82c9f37a3a8"
   },
   "outputs": [],
   "source": [
    "# Nombre d'articles par commande\n",
    "plt.figure(figsize = (15, 6))\n",
    "sns.barplot(y = df_order_items['order_item_id'].value_counts(),\n",
    "            x = df_order_items['order_item_id'].value_counts().index,\n",
    "            alpha = 0.8)\n",
    "plt.title(\"Nombre de commandes par nombre d'articles\")\n",
    "plt.xlabel(\"Nombre d'articles\")\n",
    "plt.ylabel(\"Nombre de commandes\")\n",
    "plt.show()"
   ]
  },
  {
   "cell_type": "code",
   "execution_count": null,
   "metadata": {
    "id": "B22HBTQlZNRk"
   },
   "outputs": [],
   "source": [
    "# la plupart des commandes -> 1 seul article"
   ]
  },
  {
   "cell_type": "markdown",
   "metadata": {
    "id": "xSmBd-hb7UNT"
   },
   "source": [
    "### 4 - Order payments dataset"
   ]
  },
  {
   "cell_type": "code",
   "execution_count": null,
   "metadata": {
    "colab": {
     "base_uri": "https://localhost:8080/",
     "height": 206
    },
    "id": "-aoEwzLa7UNT",
    "outputId": "496a18cd-3e27-4b3d-fcdf-dc07c2e84fb7"
   },
   "outputs": [],
   "source": [
    "# This dataset includes data about the orders payment options\n",
    "\n",
    "# Aperçu des données\n",
    "df_order_payments.head()"
   ]
  },
  {
   "cell_type": "code",
   "execution_count": null,
   "metadata": {
    "id": "l8lUPoTb7UNT"
   },
   "outputs": [],
   "source": [
    "# order_id -> unique ID of an order\n",
    "# payment_sequential -> nb de méthodes de paiement\n",
    "# payment_type -> méthode de paiement\n",
    "# payment_installments -> nb of installments chosen by the customer (paiement en plusieurs fois)\n",
    "# payment_value -> transaction value"
   ]
  },
  {
   "cell_type": "code",
   "execution_count": null,
   "metadata": {
    "colab": {
     "base_uri": "https://localhost:8080/"
    },
    "id": "FYHl3nJX7UNU",
    "outputId": "5a4ebedd-ce30-468a-b727-19ac2ec878a8"
   },
   "outputs": [],
   "source": [
    "df_order_payments['payment_sequential'].value_counts()[:5]"
   ]
  },
  {
   "cell_type": "code",
   "execution_count": null,
   "metadata": {
    "id": "67Ed8Zx9VvjF"
   },
   "outputs": [],
   "source": [
    "# La majorité des paiements se fait en une fois"
   ]
  },
  {
   "cell_type": "code",
   "execution_count": null,
   "metadata": {},
   "outputs": [],
   "source": [
    "# Type de paiement\n",
    "order_status = df_order_payments['payment_type'].value_counts()\n",
    "\n",
    "plt.figure(figsize = (13, 7))\n",
    "sns.barplot(x = order_status.index, y = order_status.values)\n",
    "plt.title('Payment type')\n",
    "plt.xticks(rotation = 45)\n",
    "plt.show()"
   ]
  },
  {
   "cell_type": "code",
   "execution_count": null,
   "metadata": {
    "id": "JlojrM4D9mqC"
   },
   "outputs": [],
   "source": [
    "# 5 types de paiement différents\n",
    "# Boleto = moyen de payment en espèce"
   ]
  },
  {
   "cell_type": "code",
   "execution_count": null,
   "metadata": {},
   "outputs": [],
   "source": [
    "# Boxplot - type de paiement\n",
    "\n",
    "plt.figure()\n",
    "sns.boxplot(data = df_order_payments,\n",
    "            y = 'payment_value',\n",
    "            x = 'payment_type')\n",
    "plt.title('Montant du payement')\n",
    "plt.show()"
   ]
  },
  {
   "cell_type": "code",
   "execution_count": null,
   "metadata": {
    "colab": {
     "base_uri": "https://localhost:8080/",
     "height": 472
    },
    "id": "8pwEucxaJAFx",
    "outputId": "a6b59aaa-2f0c-4b4c-ffab-259b552ebc5b"
   },
   "outputs": [],
   "source": [
    "# Boxplot - type de paiement\n",
    "\n",
    "plt.figure()\n",
    "sns.boxplot(data = df_order_payments,\n",
    "            y = 'payment_value',\n",
    "            x = 'payment_type',\n",
    "            showfliers = False) # pour enlever les outliers \n",
    "plt.title('Montant du payement')\n",
    "plt.show()"
   ]
  },
  {
   "cell_type": "code",
   "execution_count": null,
   "metadata": {
    "colab": {
     "base_uri": "https://localhost:8080/",
     "height": 143
    },
    "id": "g7wJOf7vJMEp",
    "outputId": "e66d8880-8962-4f47-e639-19a9073320b8"
   },
   "outputs": [],
   "source": [
    "# 'Not defined' -> 3 lignes\n",
    "\n",
    "display(df_order_payments.loc[df_order_payments['payment_type'] == 'not_defined'])\n",
    "\n",
    "# à dropper pour simplifier et nettoyer un peu les données\n",
    "df_order_payments = df_order_payments.loc[df_order_payments['payment_type'] != 'not_defined']"
   ]
  },
  {
   "cell_type": "markdown",
   "metadata": {
    "id": "Jjr1wurX7UNU"
   },
   "source": [
    "### 5 - Order reviews dataset"
   ]
  },
  {
   "cell_type": "code",
   "execution_count": null,
   "metadata": {
    "colab": {
     "base_uri": "https://localhost:8080/",
     "height": 261
    },
    "id": "MzqTV4Lz7UNU",
    "outputId": "91902634-4a63-4d08-9cb1-d9eadca35b05"
   },
   "outputs": [],
   "source": [
    "# This dataset includes data about the reviews made by the customers\n",
    "\n",
    "# Aperçu des données\n",
    "df_order_reviews.head()"
   ]
  },
  {
   "cell_type": "code",
   "execution_count": null,
   "metadata": {
    "id": "6rHr08FZ7UNU"
   },
   "outputs": [],
   "source": [
    "# review_id -> unique review id\n",
    "# order_id -> unique order id\n",
    "# review_score -> de 1 à 5\n",
    "# review_comment_title -> titre du commentaire (en portugais)\n",
    "# review_comment_message -> commentaire (en portugais)\n",
    "# review_creation_date -> date à laquelle le questionnaire de satisfaction a été envoyé au client\n",
    "# review_answer_timestamp -> date de complétion du questionnaire de satisfaction par le client"
   ]
  },
  {
   "cell_type": "code",
   "execution_count": null,
   "metadata": {
    "colab": {
     "base_uri": "https://localhost:8080/",
     "height": 472
    },
    "id": "lPlBmktv7UNU",
    "outputId": "0b57d872-11c5-4403-ba14-84317c1e1140"
   },
   "outputs": [],
   "source": [
    "# délai d'évaluation des produits\n",
    "\n",
    "delay_reponse = (pd.to_datetime(df_order_reviews['review_answer_timestamp']) - pd.to_datetime(df_order_reviews['review_creation_date'])).dt.total_seconds()/(3600*24)\n",
    "delay_reponse\n",
    "\n",
    "# Histogramme du délai d'évaluation des produits\n",
    "\n",
    "plt.figure(figsize = (13, 7))\n",
    "sns.lineplot(data = delay_reponse) # TO DO -> MOCHE, A ARRANGER\n",
    "plt.xlabel('Secondes')\n",
    "plt.title('Temps de réponse')\n",
    "sns.despine()\n",
    "plt.show()"
   ]
  },
  {
   "cell_type": "code",
   "execution_count": null,
   "metadata": {
    "id": "XW3a-hNX7UNU"
   },
   "outputs": [],
   "source": [
    "# quelques commentaires manquants -> faire variable bool (commentaire présent/absent)\n",
    "# (cf. section feature engineering plus bas)"
   ]
  },
  {
   "cell_type": "code",
   "execution_count": null,
   "metadata": {
    "colab": {
     "base_uri": "https://localhost:8080/",
     "height": 699
    },
    "id": "S3ptcy7mkjzH",
    "outputId": "b44d61ec-16a8-44a1-d6e9-fbcd88e3311d"
   },
   "outputs": [],
   "source": [
    "# Distribution des scores de reviews\n",
    "plt.figure(figsize = (12, 7))\n",
    "review_score_index = [str(i) for i in df_order_reviews['review_score'].value_counts().index]\n",
    "sns.barplot(x = review_score_index, y = df_order_reviews['review_score'].value_counts().values, palette = 'Set2')\n",
    "plt.title('Review Scores')\n",
    "sns.despine() # Remove the top and right spines from plot(s)\n",
    "plt.show()"
   ]
  },
  {
   "cell_type": "markdown",
   "metadata": {
    "id": "DS4yRZjZ7UNU"
   },
   "source": [
    "### 6 - Orders dataset"
   ]
  },
  {
   "cell_type": "code",
   "execution_count": null,
   "metadata": {
    "colab": {
     "base_uri": "https://localhost:8080/",
     "height": 226
    },
    "id": "PjM1Ynqj7UNU",
    "outputId": "db53b85c-a1e0-4527-df66-a885f1fddd8e"
   },
   "outputs": [],
   "source": [
    "# \"Core\" dataset\n",
    "\n",
    "# Aperçu des données\n",
    "df_orders.sample(5)"
   ]
  },
  {
   "cell_type": "code",
   "execution_count": null,
   "metadata": {
    "id": "gYidies97UNU"
   },
   "outputs": [],
   "source": [
    "# order_id -> unique id of the order\n",
    "# customer_id -> key to the customer dataset\n",
    "# order_status -> status de la commande\n",
    "# order_purchase_timestamp -> date d'achat\n",
    "# order_approved_at -> date d'acceptation du paiment\n",
    "# order_delivered_carrier_date -> date à laquelle la commande confiée au service de livraison\n",
    "# order_delivered_customer_date -> date de livraison\n",
    "# order_estimated_delivery_date -> date de livraison estimée indiquée au client lors de l'achat"
   ]
  },
  {
   "cell_type": "code",
   "execution_count": null,
   "metadata": {
    "id": "B6WzHVRs7UNU"
   },
   "outputs": [],
   "source": [
    "# idée -> regarder delta entre date de livraison estimée et effective - regarder correlation avec note review"
   ]
  },
  {
   "cell_type": "code",
   "execution_count": null,
   "metadata": {
    "colab": {
     "base_uri": "https://localhost:8080/",
     "height": 444
    },
    "id": "3yl0YLeI7UNV",
    "outputId": "49fa6e8b-9fb0-4e3f-d7c0-059ecb4b1c11"
   },
   "outputs": [],
   "source": [
    "# manque quelques dates - regarder où\n",
    "\n",
    "df_orders.loc[df_orders['order_delivered_customer_date'].isna()]"
   ]
  },
  {
   "cell_type": "code",
   "execution_count": null,
   "metadata": {
    "id": "qtv2qAZX7UNV"
   },
   "outputs": [],
   "source": [
    "# to do -> voir s'il y a un lien entre ces commandes"
   ]
  },
  {
   "cell_type": "code",
   "execution_count": null,
   "metadata": {
    "colab": {
     "base_uri": "https://localhost:8080/",
     "height": 505
    },
    "id": "BpIq242cPH2t",
    "outputId": "7eb310ec-f167-4218-f600-1ab266e3fe2e"
   },
   "outputs": [],
   "source": [
    "# Nombre de commandes par statuts d'achats\n",
    "order_status = df_orders['order_status'].value_counts()\n",
    "\n",
    "# Barplot\n",
    "plt.figure(figsize = (13, 7))\n",
    "sns.barplot(x = order_status.index, y = order_status.values)\n",
    "plt.title('Order status')\n",
    "plt.xticks(rotation = 45)\n",
    "plt.show()"
   ]
  },
  {
   "cell_type": "code",
   "execution_count": null,
   "metadata": {
    "id": "-lMdNnuDPMeU"
   },
   "outputs": [],
   "source": [
    "# Suppression des commandes 'canceled' ? ou les concerver ?\n",
    "df_orders = df_orders[df_orders['order_status'] != 'canceled']\n",
    "\n",
    "# enlever aussi commandes 'created' ?\n",
    "# autre idée -> ne garder que les commandes livrées ?"
   ]
  },
  {
   "cell_type": "markdown",
   "metadata": {
    "id": "uxQzLHn47UNV"
   },
   "source": [
    "### 7 - Products dataset"
   ]
  },
  {
   "cell_type": "code",
   "execution_count": null,
   "metadata": {
    "colab": {
     "base_uri": "https://localhost:8080/",
     "height": 226
    },
    "id": "12d4KN3n7UNV",
    "outputId": "006e1f6d-55a6-4b24-a487-8c5e2c567637"
   },
   "outputs": [],
   "source": [
    "# This dataset includes data about the products sold by Olist\n",
    "\n",
    "# Aperçu des données\n",
    "df_products.sample(5)"
   ]
  },
  {
   "cell_type": "code",
   "execution_count": null,
   "metadata": {
    "id": "K9odsTTW7UNV"
   },
   "outputs": [],
   "source": [
    "# product_id\n",
    "# product_category_name (en portugais)\n",
    "# product_name_lenght\n",
    "# product_description_lenght\n",
    "# product_photos_qty\n",
    "# product_weight_g\n",
    "# product_length_cm\n",
    "# product_height_cm\n",
    "# product_width_cm"
   ]
  },
  {
   "cell_type": "code",
   "execution_count": null,
   "metadata": {
    "colab": {
     "base_uri": "https://localhost:8080/"
    },
    "id": "soLYFBOf7UNV",
    "outputId": "d0b99ba3-6e66-47a8-af26-0cac7b279c63"
   },
   "outputs": [],
   "source": [
    "# combien de catégories de produits ?\n",
    "df_products['product_category_name'].value_counts() # -> 73 catégories de produits"
   ]
  },
  {
   "cell_type": "markdown",
   "metadata": {
    "id": "-hR1dFH37UNV"
   },
   "source": [
    "### 8 - Sellers dataset"
   ]
  },
  {
   "cell_type": "code",
   "execution_count": null,
   "metadata": {
    "colab": {
     "base_uri": "https://localhost:8080/",
     "height": 206
    },
    "id": "SUpGKpGj7UNV",
    "outputId": "e98ca970-d978-4fd0-9f65-0c691016d449"
   },
   "outputs": [],
   "source": [
    "# This dataset includes data about the sellers that fulfilled orders made at Olist. Use it to find the seller\n",
    "# location and to identify which seller fulfilled each product\n",
    "\n",
    "# Aperçu des données\n",
    "df_sellers.head()"
   ]
  },
  {
   "cell_type": "code",
   "execution_count": null,
   "metadata": {
    "id": "b8hy0b6f7UNV"
   },
   "outputs": [],
   "source": [
    "# seller_id\n",
    "# seller_zip_code_prefix\n",
    "# seller_city\n",
    "# seller_state"
   ]
  },
  {
   "cell_type": "code",
   "execution_count": null,
   "metadata": {
    "colab": {
     "base_uri": "https://localhost:8080/",
     "height": 411
    },
    "id": "ieKCv75jLLJZ",
    "outputId": "d8a32162-2fa3-4693-aea6-16fc59c8e8d1"
   },
   "outputs": [],
   "source": [
    "# Visualisation du nombre de vendeurs dans les différents états\n",
    "plt.figure(figsize = (14, 4))\n",
    "sns.barplot(y = df_sellers['seller_state'].value_counts(),\n",
    "            x = df_sellers['seller_state'].value_counts().index)\n",
    "plt.title('Nombre de vendeurs par état')\n",
    "plt.xlabel('Etats')\n",
    "plt.ylabel('Nombre de vendeurs')\n",
    "plt.show()"
   ]
  },
  {
   "cell_type": "code",
   "execution_count": null,
   "metadata": {
    "id": "h1rmjr8iLety"
   },
   "outputs": [],
   "source": [
    "# grande majorité des vendeurs sont à SP (São Paulo)"
   ]
  },
  {
   "cell_type": "markdown",
   "metadata": {
    "id": "iYU5iMjj7UNV"
   },
   "source": [
    "### 9 - Product category name translation"
   ]
  },
  {
   "cell_type": "code",
   "execution_count": null,
   "metadata": {
    "colab": {
     "base_uri": "https://localhost:8080/",
     "height": 206
    },
    "id": "_B3C0IZl7UNV",
    "outputId": "7b7fc774-f79e-44c4-a6dd-a9aa4390b487"
   },
   "outputs": [],
   "source": [
    "# Translates the product_category_name to english\n",
    "\n",
    "# Aperçu des données\n",
    "df_product_category.sample(5)"
   ]
  },
  {
   "cell_type": "code",
   "execution_count": null,
   "metadata": {
    "colab": {
     "base_uri": "https://localhost:8080/"
    },
    "id": "PvmRy75WAGVd",
    "outputId": "a934d8cb-c581-4e8a-da95-797c3e90ae08"
   },
   "outputs": [],
   "source": [
    "# Données manquantes\n",
    "df_product_category.isna().sum()"
   ]
  },
  {
   "cell_type": "markdown",
   "metadata": {
    "id": "L5hS0-q27UNW"
   },
   "source": [
    "## Liens entre datasets"
   ]
  },
  {
   "cell_type": "markdown",
   "metadata": {
    "id": "YcTmx0Uq7UNW"
   },
   "source": [
    "## Merge"
   ]
  },
  {
   "cell_type": "code",
   "execution_count": null,
   "metadata": {
    "id": "jQSjnuDO7UNW"
   },
   "outputs": [],
   "source": [
    "# utiliser le dataset orders et merger les autres datasets dessus\n",
    "\n",
    "# Datasets :\n",
    "#df_customers\n",
    "#df_geolocation\n",
    "#df_order_items\n",
    "#df_order_payments\n",
    "#df_order_reviews\n",
    "#df_orders\n",
    "#df_products\n",
    "#df_sellers\n",
    "#df_product_category"
   ]
  },
  {
   "cell_type": "code",
   "execution_count": null,
   "metadata": {
    "colab": {
     "base_uri": "https://localhost:8080/",
     "height": 226
    },
    "id": "4iIBx-Lq7UNW",
    "outputId": "748783f6-ff14-4339-eca8-23886c991389"
   },
   "outputs": [],
   "source": [
    "df_order_items.head()"
   ]
  },
  {
   "cell_type": "code",
   "execution_count": null,
   "metadata": {
    "colab": {
     "base_uri": "https://localhost:8080/",
     "height": 206
    },
    "id": "xN6m263v7UNW",
    "outputId": "6826bd7d-47fd-47fc-f8bc-212665e99baa"
   },
   "outputs": [],
   "source": [
    "df_sellers.head()"
   ]
  },
  {
   "cell_type": "code",
   "execution_count": null,
   "metadata": {
    "colab": {
     "base_uri": "https://localhost:8080/",
     "height": 206
    },
    "id": "7YNhyMkTydXP",
    "outputId": "41ca38e8-a1a4-4159-e661-b653929264de"
   },
   "outputs": [],
   "source": [
    "# 1 - merge sellers avec coordonnées geo\n",
    "\n",
    "# renommer colonnes df sellers pour faciliter merge\n",
    "df_sellers.columns = ['seller_id', 'geolocation_zip_code_prefix', 'seller_city', 'seller_state']\n",
    "\n",
    "# merge\n",
    "df_sellers_geo = pd.merge(df_sellers,\n",
    "                          df_geo,\n",
    "                          how = 'left',\n",
    "                          on = ['geolocation_zip_code_prefix', 'geolocation_zip_code_prefix'])\n",
    "\n",
    "# Suppression de la colonne 'geolocation_zip_code_prefix'\n",
    "df_sellers_geo.drop(columns = ['geolocation_zip_code_prefix',\n",
    "                               'geolocation_city',\n",
    "                               'geolocation_state'\n",
    "                              ], inplace = True)\n",
    "\n",
    "# renommer colonnes\n",
    "df_sellers_geo.columns = ['seller_id', 'seller_city', 'seller_state', 'seller_geolocation_lat', 'seller_geolocation_lng']\n",
    "\n",
    "df_sellers_geo.sample(5)"
   ]
  },
  {
   "cell_type": "code",
   "execution_count": null,
   "metadata": {
    "colab": {
     "base_uri": "https://localhost:8080/",
     "height": 583
    },
    "id": "lQogqW6-7UNW",
    "outputId": "9fcdac77-57ec-4ad3-eee0-7967d5cab4bc"
   },
   "outputs": [],
   "source": [
    "# 2 - merge sellers avec order items\n",
    "\n",
    "nb_sellers = df_sellers_geo['seller_id'].nunique()\n",
    "print(f'Nombre de sellers avant merge : {nb_sellers}')\n",
    "\n",
    "nb_sellers_items = df_order_items['seller_id'].nunique()\n",
    "print(f'Nombre de sellers dans items avant merge : {nb_sellers_items}')\n",
    "\n",
    "nb_order_items = df_order_items['order_id'].nunique()\n",
    "print(f'Nombre de commandes dans items avant merge : {nb_order_items}')\n",
    "\n",
    "sellers_and_items = pd.merge(df_order_items,\n",
    "                             df_sellers_geo,\n",
    "                             how = 'left',\n",
    "                             left_on = ['seller_id'],\n",
    "                             right_on = ['seller_id'])\n",
    "\n",
    "nb_sellers_final = sellers_and_items['seller_id'].nunique()\n",
    "print(f'Nombre de sellers après merge : {nb_sellers_final}')\n",
    "print(f'{nb_sellers - nb_sellers_final} sellers perdus pendant le merge.')\n",
    "print(f'{nb_sellers_items - nb_sellers_final} sellers items perdus pendant le merge.')\n",
    "\n",
    "nb_order_final = sellers_and_items['order_id'].nunique()\n",
    "print(f'Nombre de commandes après merge : {nb_order_final}')\n",
    "print(f'{nb_order_items - nb_order_final} order perdus pendant le merge.')\n",
    "\n",
    "sellers_and_items"
   ]
  },
  {
   "cell_type": "code",
   "execution_count": null,
   "metadata": {
    "colab": {
     "base_uri": "https://localhost:8080/",
     "height": 444
    },
    "id": "a7VpjjY17UNW",
    "outputId": "b308f064-adc9-4440-834e-2c34fd7925fa"
   },
   "outputs": [],
   "source": [
    "df_products"
   ]
  },
  {
   "cell_type": "code",
   "execution_count": null,
   "metadata": {
    "colab": {
     "base_uri": "https://localhost:8080/",
     "height": 583
    },
    "id": "7taO0RIT7UNW",
    "outputId": "dadeed65-da5b-491c-c71b-571dd28309b6"
   },
   "outputs": [],
   "source": [
    "# 3 - ajouter infos produits\n",
    "# merge précédent (sellers_and_items) + df_products\n",
    "\n",
    "nb_produits = sellers_and_items['product_id'].nunique()\n",
    "print(f'Nombre de produits dans order items avant merge : {nb_produits}')\n",
    "\n",
    "nb_produits_df = df_products['product_id'].nunique()\n",
    "print(f'Nombre de produits dans df produit avant merge : {nb_produits_df}')\n",
    "\n",
    "nb_order = sellers_and_items['order_id'].nunique()\n",
    "print(f'Nombre de commandes dans items avant merge : {nb_order}')\n",
    "\n",
    "sellers_items_products = pd.merge(sellers_and_items,\n",
    "                                  df_products,\n",
    "                                  how = 'left',\n",
    "                                  left_on = ['product_id'],\n",
    "                                  right_on = ['product_id'])\n",
    "\n",
    "nb_produits_final = sellers_items_products['product_id'].nunique()\n",
    "print(f'Nombre de produits après merge : {nb_produits_final}')\n",
    "print(f'{nb_produits - nb_produits_final} produits perdus pendant le merge.')\n",
    "print(f'{nb_produits_df - nb_produits_final} infos produits perdus pendant le merge.')\n",
    "\n",
    "nb_order_final = sellers_items_products['order_id'].nunique()\n",
    "print(f'Nombre de commandes après merge : {nb_order_final}')\n",
    "print(f'{nb_order - nb_order_final} order perdus pendant le merge.')\n",
    "\n",
    "sellers_items_products"
   ]
  },
  {
   "cell_type": "code",
   "execution_count": null,
   "metadata": {
    "colab": {
     "base_uri": "https://localhost:8080/",
     "height": 600
    },
    "id": "4ea7E_bM7UNW",
    "outputId": "8a97aacb-e501-47c6-fd9c-bd848f14658a"
   },
   "outputs": [],
   "source": [
    "# 4 - ajouter infos produits aux commandes\n",
    "# merge précédent (sellers_and_items) + df_products\n",
    "\n",
    "nb_produits = sellers_items_products['product_id'].nunique()\n",
    "print(f'Nombre de produits dans order items avant merge : {nb_produits}')\n",
    "\n",
    "nb_order = sellers_items_products['order_id'].nunique()\n",
    "print(f'Nombre de commandes dans items avant merge : {nb_order}')\n",
    "\n",
    "nb_order_df = df_orders['order_id'].nunique()\n",
    "print(f'Nombre de commandes avant merge : {nb_order_df}')\n",
    "\n",
    "products_orders = pd.merge(df_orders,\n",
    "                           sellers_items_products,\n",
    "                           how = 'left',\n",
    "                           left_on = ['order_id'],\n",
    "                           right_on = ['order_id'])\n",
    "\n",
    "nb_produits_final = products_orders['product_id'].nunique()\n",
    "print(f'Nombre de produits après merge : {nb_produits_final}')\n",
    "print(f'{nb_produits - nb_produits_final} produits perdus pendant le merge.')\n",
    "\n",
    "nb_order_final = products_orders['order_id'].nunique()\n",
    "print(f'Nombre de commandes après merge : {nb_order_final}')\n",
    "print(f'{nb_order - nb_order_final} order items perdus pendant le merge.')\n",
    "print(f'{nb_order_df - nb_order_final} order perdus pendant le merge.')\n",
    "\n",
    "products_orders"
   ]
  },
  {
   "cell_type": "code",
   "execution_count": null,
   "metadata": {
    "colab": {
     "base_uri": "https://localhost:8080/",
     "height": 530
    },
    "id": "iq9iBzP87UNW",
    "outputId": "fb5a63e5-69c0-4c6e-8371-a1a6d5564a69"
   },
   "outputs": [],
   "source": [
    "# 5 - ajouter infos payment aux commandes\n",
    "# merge précédent (products_orders) + df_order_payments\n",
    "\n",
    "nb_order = products_orders['order_id'].nunique()\n",
    "print(f'Nombre de commandes dans order avant merge : {nb_order}')\n",
    "\n",
    "nb_order_df = df_order_payments['order_id'].nunique()\n",
    "print(f'Nombre de payments commandes avant merge : {nb_order_df}')\n",
    "\n",
    "products_orders_payment = pd.merge(products_orders,\n",
    "                           df_order_payments,\n",
    "                           how = 'left',\n",
    "                           left_on = ['order_id'],\n",
    "                           right_on = ['order_id'])\n",
    "\n",
    "nb_order_final = products_orders_payment['order_id'].nunique()\n",
    "print(f'Nombre de commandes après merge : {nb_order_final}')\n",
    "print(f'{nb_order - nb_order_final} order perdus pendant le merge.')\n",
    "print(f'{nb_order_df - nb_order_final} order payments perdus pendant le merge.')\n",
    "\n",
    "products_orders_payment"
   ]
  },
  {
   "cell_type": "code",
   "execution_count": null,
   "metadata": {
    "colab": {
     "base_uri": "https://localhost:8080/",
     "height": 635
    },
    "id": "qQw8ye8s7UNW",
    "outputId": "41a1e46f-2415-4a98-a51f-617153269d7c"
   },
   "outputs": [],
   "source": [
    "# 6 - ajouter infos reviews aux commandes\n",
    "# merge précédent (products_orders_payment) + df_order_reviews\n",
    "\n",
    "nb_order = products_orders_payment['order_id'].nunique()\n",
    "print(f'Nombre de commandes dans order avant merge : {nb_order}')\n",
    "\n",
    "nb_order_df = df_order_reviews['order_id'].nunique()\n",
    "print(f'Nombre de reviews commandes avant merge : {nb_order_df}')\n",
    "\n",
    "products_orders_payment_reviews = pd.merge(products_orders_payment,\n",
    "                           df_order_reviews,\n",
    "                           how = 'left',\n",
    "                           left_on = ['order_id'],\n",
    "                           right_on = ['order_id'])\n",
    "\n",
    "nb_order_final = products_orders_payment_reviews['order_id'].nunique()\n",
    "print(f'Nombre de commandes après merge : {nb_order_final}')\n",
    "print(f'{nb_order - nb_order_final} order perdus pendant le merge.')\n",
    "print(f'{nb_order_df - nb_order_final} order reviews perdus pendant le merge.')\n",
    "\n",
    "products_orders_payment_reviews"
   ]
  },
  {
   "cell_type": "code",
   "execution_count": null,
   "metadata": {
    "colab": {
     "base_uri": "https://localhost:8080/"
    },
    "id": "YqqG5FZmydXQ",
    "outputId": "d897c8b0-4f5e-4408-8694-408da12c136b"
   },
   "outputs": [],
   "source": [
    "df_customers.columns"
   ]
  },
  {
   "cell_type": "code",
   "execution_count": null,
   "metadata": {
    "colab": {
     "base_uri": "https://localhost:8080/"
    },
    "id": "Tf0ul7jsydXQ",
    "outputId": "51fef117-3352-4014-d5a7-90d0c3b161d9"
   },
   "outputs": [],
   "source": [
    "df_geo.columns"
   ]
  },
  {
   "cell_type": "code",
   "execution_count": null,
   "metadata": {
    "id": "1wu8gMZhydXQ"
   },
   "outputs": [],
   "source": [
    "df_customers.columns = [\n",
    "    'customer_id', \n",
    "    'customer_unique_id', \n",
    "    'geolocation_zip_code_prefix',\n",
    "    'customer_city', \n",
    "    'customer_state'\n",
    "    ]"
   ]
  },
  {
   "cell_type": "code",
   "execution_count": null,
   "metadata": {
    "colab": {
     "base_uri": "https://localhost:8080/",
     "height": 424
    },
    "id": "hwrpYDeUydXQ",
    "outputId": "99a87380-2acb-4a30-e6b2-8389e39fa02c"
   },
   "outputs": [],
   "source": [
    "# 7 - customer + geo\n",
    "df_customers_geo = pd.merge(df_customers, \n",
    "                            df_geo, \n",
    "                            how = 'left', \n",
    "                            on = ['geolocation_zip_code_prefix', 'geolocation_zip_code_prefix'])\n",
    "\n",
    "# Suppression de la colonne 'geolocation_zip_code_prefix'\n",
    "df_customers_geo.drop(columns = ['geolocation_zip_code_prefix', 'geolocation_city', 'geolocation_state'], \n",
    "                      inplace = True)\n",
    "df_customers_geo"
   ]
  },
  {
   "cell_type": "code",
   "execution_count": null,
   "metadata": {
    "colab": {
     "base_uri": "https://localhost:8080/"
    },
    "id": "Z3LZ6H_RydXQ",
    "outputId": "657b1058-82e4-4c57-daff-1cdf9b0c5cab"
   },
   "outputs": [],
   "source": [
    "df_customers_geo.columns"
   ]
  },
  {
   "cell_type": "code",
   "execution_count": null,
   "metadata": {
    "id": "gKMotX-0ydXQ"
   },
   "outputs": [],
   "source": [
    "# renommer colonnes avant prochain merge\n",
    "df_customers_geo.columns = [\n",
    "    'customer_id', \n",
    "    'customer_unique_id', \n",
    "    'customer_city', \n",
    "    'customer_state',\n",
    "    'customer_geolocation_lat', \n",
    "    'customer_geolocation_lng'\n",
    "    ]"
   ]
  },
  {
   "cell_type": "code",
   "execution_count": null,
   "metadata": {
    "colab": {
     "base_uri": "https://localhost:8080/",
     "height": 652
    },
    "id": "2jd9RRV87UNW",
    "outputId": "66266dda-261e-4d7b-8cb9-a1a0f40eac54"
   },
   "outputs": [],
   "source": [
    "# 8 - lier commandes à leurs clients\n",
    "# merge précédent (products_orders_payment_reviews) + df_customers\n",
    "\n",
    "nb_order = products_orders_payment_reviews['order_id'].nunique()\n",
    "print(f'Nombre de commandes dans order avant merge : {nb_order}')\n",
    "\n",
    "nb_customer = products_orders_payment_reviews['customer_id'].nunique()\n",
    "print(f'Nombre de customer dans order avant merge : {nb_order}')\n",
    "\n",
    "nb_customer_df = df_customers_geo['customer_id'].nunique()\n",
    "print(f'Nombre de customers avant merge : {nb_order_df}')\n",
    "\n",
    "df_final = pd.merge(\n",
    "    df_customers_geo, \n",
    "    products_orders_payment_reviews,\n",
    "    how = 'left',\n",
    "    left_on = ['customer_id'],\n",
    "    right_on = ['customer_id']\n",
    "    )\n",
    "\n",
    "nb_order_final = df_final['order_id'].nunique()\n",
    "nb_customer_final = df_final['customer_id'].nunique()\n",
    "print(f'Nombre de commandes après merge : {nb_order_final}')\n",
    "print(f'Nombre de customer après merge : {nb_customer_final}')\n",
    "print(f'{nb_order - nb_order_final} order perdus pendant le merge.')\n",
    "print(f'{nb_customer - nb_customer_final} customers de order perdus pendant le merge.')\n",
    "print(f'{nb_customer_df - nb_customer_final} customers perdus pendant le merge.')\n",
    "\n",
    "df_final"
   ]
  },
  {
   "cell_type": "code",
   "execution_count": null,
   "metadata": {
    "colab": {
     "base_uri": "https://localhost:8080/",
     "height": 513
    },
    "id": "S3DqjeHT7UNX",
    "outputId": "bb5cbc63-5611-4f2d-ee84-5a2532b22c64"
   },
   "outputs": [],
   "source": [
    "df_final"
   ]
  },
  {
   "cell_type": "code",
   "execution_count": null,
   "metadata": {
    "colab": {
     "base_uri": "https://localhost:8080/"
    },
    "id": "J1LNiLe_7UNX",
    "outputId": "28f5a08d-9807-41ff-b2f7-6e0539dd1af4"
   },
   "outputs": [],
   "source": [
    "df_final.columns"
   ]
  },
  {
   "cell_type": "markdown",
   "metadata": {
    "id": "OdRahvyO7UNY"
   },
   "source": [
    "## Feature engineering"
   ]
  },
  {
   "cell_type": "code",
   "execution_count": null,
   "metadata": {
    "id": "6kF9BUrQ7UNY"
   },
   "outputs": [],
   "source": [
    "# identifier potentielles nouvelles variables qui pourraient être interessantes pour la segmentation\n",
    "# (ne pas en faire trop non plus, modèle doit être explicable quand même)"
   ]
  },
  {
   "cell_type": "code",
   "execution_count": null,
   "metadata": {
    "id": "NaO8yZTD7UNY"
   },
   "outputs": [],
   "source": [
    "########## Traduire noms portugais -> anglais ##########\n",
    "\n",
    "df_final['product_category_name_english'] = df_final['product_category_name'].map(df_product_category.set_index('product_category_name')['product_category_name_english'])\n",
    "df_final.drop(['product_category_name'], axis = 1, inplace = True)"
   ]
  },
  {
   "cell_type": "code",
   "execution_count": null,
   "metadata": {
    "colab": {
     "base_uri": "https://localhost:8080/"
    },
    "id": "3S0-K2x-jU0n",
    "outputId": "4f9097c9-e49f-41fe-907e-cd11f432a245"
   },
   "outputs": [],
   "source": [
    "df_final['product_category_name_english'].unique()"
   ]
  },
  {
   "cell_type": "code",
   "execution_count": null,
   "metadata": {
    "id": "YzYfpliOjOvF"
   },
   "outputs": [],
   "source": [
    "# Faire nouvelles catégories -> + de 70 actuellement, impossible à utiliser\n",
    "\n",
    "categories = {\n",
    "    'Furniture': ['office_furniture', 'furniture_decor', 'furniture_living_room', 'kitchen_dining_laundry_garden_furniture', 'bed_bath_table', 'home_comfort', 'home_comfort_2', 'home_construction', 'garden_tools', 'furniture_bedroom', 'furniture_mattress_and_upholstery'],\n",
    "    'Electronics': ['auto', 'computers_accessories', 'musical_instruments', 'consoles_games', 'watches_gifts', 'air_conditioning', 'telephony', 'electronics', 'fixed_telephony', 'tablets_printing_image', 'computers', 'small_appliances_home_oven_and_coffee', 'small_appliances', 'audio', 'signaling_and_security', 'security_and_services'],\n",
    "    'Fashion': ['fashio_female_clothing', 'fashion_male_clothing', 'fashion_bags_accessories', 'fashion_shoes', 'fashion_sport', 'fashion_underwear_beach', 'fashion_childrens_clothes', 'baby', 'cool_stuff'],\n",
    "    'Home & Garden': ['housewares', 'home_confort', 'home_appliances', 'home_appliances_2', 'flowers', 'costruction_tools_garden', 'garden_tools', 'construction_tools_lights', 'costruction_tools_tools', 'luggage_accessories', 'la_cuisine', 'pet_shop', 'market_place'],\n",
    "    'Entertainment': ['sports_leisure', 'toys', 'cds_dvds_musicals', 'music', 'dvds_blu_ray', 'cine_photo', 'party_supplies', 'christmas_supplies', 'arts_and_craftmanship', 'art', 'books_general_interest', 'books_technical', 'books_imported', 'stationery'],\n",
    "    'Beauty & Health': ['health_beauty', 'perfumery', 'diapers_and_hygiene'],\n",
    "    'Food & Drinks': ['food_drink', 'drinks', 'food'],\n",
    "    'Industry & Construction': ['construction_tools_construction', 'construction_tools_safety', 'industry_commerce_and_business', 'agro_industry_and_commerce']\n",
    "    }"
   ]
  },
  {
   "cell_type": "code",
   "execution_count": null,
   "metadata": {
    "id": "mtFn72HwguER"
   },
   "outputs": [],
   "source": [
    "# Réduire les 8 catégories pour n'en garder que 4 :\n",
    "\n",
    "categories_4 = {\n",
    "    'Furniture and Home Decor': [\n",
    "        'office_furniture', 'housewares', 'furniture_decor',\n",
    "        'kitchen_dining_laundry_garden_furniture', 'bed_bath_table',\n",
    "        'luggage_accessories', 'furniture_living_room', 'furniture_bedroom',\n",
    "        'furniture_mattress_and_upholstery'\n",
    "    ],\n",
    "    'Electronics and Technology': [\n",
    "        'computers_accessories', 'telephony', 'electronics',\n",
    "        'tablets_printing_image', 'fixed_telephony', 'computers', 'audio'\n",
    "    ],\n",
    "    'Fashion and Accessories': [\n",
    "        'fashion_female_clothing', 'fashion_bags_accessories',\n",
    "        'fashion_male_clothing', 'fashion_shoes', 'fashion_underwear_beach',\n",
    "        'fashion_sport', 'fashion_childrens_clothes'\n",
    "    ],\n",
    "    'Leisure and Miscellaneous': [\n",
    "        'sports_leisure', 'toys', 'auto', 'health_beauty', 'garden_tools',\n",
    "        'pet_shop', 'watches_gifts', 'perfumery', 'art', 'stationery',\n",
    "        'consoles_games', 'construction_tools_lights', 'food_drink', 'drinks',\n",
    "        'cool_stuff', 'home_construction', 'electronics', 'home_appliances_2',\n",
    "        'small_appliances', 'small_appliances_home_oven_and_coffee',\n",
    "        'books_general_interest', 'home_appliances', 'costruction_tools_tools',\n",
    "        'signaling_and_security', 'musical_instruments',\n",
    "        'construction_tools_construction', 'music', 'industry_commerce_and_business',\n",
    "        'fashion_shoes', 'fashion_underwear_beach', 'dvds_blu_ray',\n",
    "        'construction_tools_safety', 'food', 'fixed_telephony',\n",
    "        'tablets_printing_image', 'market_place', 'christmas_supplies',\n",
    "        'agro_industry_and_commerce', 'costruction_tools_garden', 'computers',\n",
    "        'audio', 'books_imported', 'books_technical', 'party_supplies',\n",
    "        'la_cuisine', 'flowers', 'diapers_and_hygiene', 'cine_photo',\n",
    "        'cds_dvds_musicals', 'home_comfort_2', 'arts_and_craftsmanship',\n",
    "        'security_and_services'\n",
    "    ]\n",
    "}"
   ]
  },
  {
   "cell_type": "code",
   "execution_count": null,
   "metadata": {
    "colab": {
     "base_uri": "https://localhost:8080/"
    },
    "id": "soo2M43kJMUA",
    "outputId": "ed1a01f0-971b-42f1-826f-9214a97a0bc0"
   },
   "outputs": [],
   "source": [
    "categories_4.items()"
   ]
  },
  {
   "cell_type": "code",
   "execution_count": null,
   "metadata": {
    "colab": {
     "base_uri": "https://localhost:8080/"
    },
    "id": "HtKstvLGJlvX",
    "outputId": "eaa270b7-6b56-468a-f6cb-9ae7827dbf0f"
   },
   "outputs": [],
   "source": [
    "categories_4.keys()"
   ]
  },
  {
   "cell_type": "code",
   "execution_count": null,
   "metadata": {
    "id": "89GAMGWCIM8-"
   },
   "outputs": [],
   "source": [
    "# Reverse dict\n",
    "\n",
    "inverse = { v: k for k, l in categories_4.items() for v in l }"
   ]
  },
  {
   "cell_type": "code",
   "execution_count": null,
   "metadata": {
    "colab": {
     "base_uri": "https://localhost:8080/"
    },
    "id": "fJL6dYB4J-Vx",
    "outputId": "6122e426-f124-4b42-dfef-69d738f1b2d4"
   },
   "outputs": [],
   "source": [
    "inverse"
   ]
  },
  {
   "cell_type": "code",
   "execution_count": null,
   "metadata": {
    "colab": {
     "base_uri": "https://localhost:8080/"
    },
    "id": "nIIAui80vAND",
    "outputId": "3b936cf4-d9de-4d33-e57a-422670bb9e71"
   },
   "outputs": [],
   "source": [
    "df_final['product_category'] = df_final['product_category_name_english'].map(inverse)\n",
    "df_final.drop(['product_category_name_english'], axis = 1, inplace = True)\n",
    "\n",
    "df_final['product_category'].value_counts()"
   ]
  },
  {
   "cell_type": "code",
   "execution_count": null,
   "metadata": {
    "colab": {
     "base_uri": "https://localhost:8080/",
     "height": 571
    },
    "id": "1029w5cQk5to",
    "outputId": "9837606c-4e97-408d-a0ec-b25c0143bb7c"
   },
   "outputs": [],
   "source": [
    "plt.figure(figsize = (10, 6))\n",
    "sns.barplot(x = df_final['product_category'].value_counts().values, \n",
    "            y = df_final['product_category'].value_counts().index, \n",
    "            palette = 'Set2')\n",
    "plt.title('Number of orders per each Category')\n",
    "plt.xticks(rotation = 45)\n",
    "sns.despine()"
   ]
  },
  {
   "cell_type": "code",
   "execution_count": null,
   "metadata": {
    "id": "qmTvJatW2aND"
   },
   "outputs": [],
   "source": [
    "# résultat franchement desequilibré..."
   ]
  },
  {
   "cell_type": "code",
   "execution_count": null,
   "metadata": {
    "colab": {
     "base_uri": "https://localhost:8080/",
     "height": 270
    },
    "id": "voUzb3g9kHjv",
    "outputId": "8dc504ac-f0d7-4260-c70c-54d3a41aa4e1"
   },
   "outputs": [],
   "source": [
    "# (WIP) Drop inconsistent dates where \"order_delivered_carrier_date\" is greater than \"order_delivered_customer_date\"\n",
    "# mettre shipping limit date en datetime avant\n",
    "#df_final.drop((df_final[['order_delivered_carrier_date', 'order_delivered_customer_date']][df_final['shipping_limit_date'] < 0]).index, inplace = True)"
   ]
  },
  {
   "cell_type": "code",
   "execution_count": null,
   "metadata": {
    "colab": {
     "base_uri": "https://localhost:8080/",
     "height": 443
    },
    "id": "CfOFvQwBkHg2",
    "outputId": "b5e09ce1-2321-42f5-9d59-c88091fb7704"
   },
   "outputs": [],
   "source": [
    "# (WIP) - idem que cellule précédante, passer dates str -> dt\n",
    "\"\"\"\n",
    "# Shipping stat  S <-> C\n",
    "# First get seller to carrier duration in days and classify the duration into 'OnTime/Early' & 'Late'\n",
    "df_final['seller_to_carrier_status'] = np.where((df_final['shipping_limit_date'] - df_final['order_delivered_carrier_date']).dt.days >= 0, 'OnTime/Early', 'Late')\n",
    "# First get difference between estimated delivery date and actual delivery date in days and classify the duration in 'OnTime/Early' & 'Late'\n",
    "df_final['arrival_status'] = np.where((df_final['order_estimated_delivery_date'] - df_final['order_delivered_customer_date']).dt.days >= 0, 'OnTime/Early', 'Late')\n",
    "\"\"\""
   ]
  },
  {
   "cell_type": "code",
   "execution_count": null,
   "metadata": {
    "id": "0I42vj2k7UNZ"
   },
   "outputs": [],
   "source": [
    "########## DATES ##########\n",
    "\n",
    "# 'order_purchase_timestamp'\n",
    "# 'order_approved_at'\n",
    "# 'order_delivered_carrier_date'\n",
    "# 'order_delivered_customer_date'\n",
    "# 'order_estimated_delivery_date'\n",
    "# 'shipping_limit_date'\n",
    "# 'review_creation_date'\n",
    "# 'review_answer_timestamp'\n",
    "\n",
    "# convertir en dt\n",
    "dates_to_convert = ['review_answer_timestamp',\n",
    "                    'review_creation_date',\n",
    "                    'order_purchase_timestamp',\n",
    "                    'order_delivered_customer_date',\n",
    "                    'order_estimated_delivery_date',\n",
    "                    'order_delivered_carrier_date',\n",
    "                    'order_approved_at',\n",
    "                    'shipping_limit_date']\n",
    "\n",
    "for x in dates_to_convert:\n",
    "    df_final[x] = pd.to_datetime(df_final[x])\n",
    "\n",
    "# créer les nouvelles features :\n",
    "# - delta entre date envoi questionnaire satisfaction et réponse (pour avoir vitesse de réponse)\n",
    "df_final['review_time'] = (df_final['review_answer_timestamp'] - df_final['review_creation_date']).dt.total_seconds()/(3600*24)\n",
    "\n",
    "# - delta entre date d'achat et date effective de livraison\n",
    "df_final['order_time'] = (df_final['order_delivered_customer_date'] - df_final['order_purchase_timestamp']).dt.total_seconds()/(3600*24)\n",
    "\n",
    "# - delta entre livraison estimée et livraison effective\n",
    "df_final['delivery_error_time'] = (df_final['order_delivered_customer_date'] - df_final['order_estimated_delivery_date']).dt.total_seconds()/(3600*24)\n",
    "\n",
    "# - delta envoi de la commande par le vendeur (temps de préparation de la commande)\n",
    "df_final['order_preparation_time'] = (df_final['order_delivered_carrier_date'] - df_final['order_approved_at']).dt.total_seconds()/(3600*24)\n",
    "\n",
    "# - temps de livraison\n",
    "df_final['delivery_time'] = (df_final['order_delivered_customer_date'] - df_final['order_delivered_carrier_date']).dt.total_seconds()/(3600*24)\n",
    "\n",
    "# - est ce que le vendeur a dépassé le shipping limit date ou non ?\n",
    "df_final['shipping_limit_respect'] = (df_final['shipping_limit_date'] - df_final['order_delivered_carrier_date']).dt.total_seconds()/(3600*24)\n",
    "\n",
    "# drop features qui ne nous intéressent plus\n",
    "df_final.drop(['review_answer_timestamp',\n",
    "                    'review_creation_date',\n",
    "                    'order_delivered_customer_date',\n",
    "                    'order_estimated_delivery_date',\n",
    "                    'order_delivered_carrier_date',\n",
    "                    'order_approved_at',\n",
    "                    'shipping_limit_date'], axis = 1, inplace = True)\n",
    "\n",
    "# Ajout heure, jour, mois de l'achat\n",
    "df_final['purchase_time']  = pd.to_datetime(df_final['order_purchase_timestamp'])\n",
    "df_final['purchase_year'] = df_final['purchase_time'].dt.year\n",
    "df_final['purchase_month'] = df_final['purchase_time'].dt.month\n",
    "df_final['purchase_dayofweek'] = df_final['purchase_time'].dt.dayofweek\n",
    "df_final['purchase_day'] = df_final['purchase_time'].dt.day\n",
    "df_final['purchase_hour'] = df_final['purchase_time'].dt.hour"
   ]
  },
  {
   "cell_type": "code",
   "execution_count": null,
   "metadata": {
    "colab": {
     "base_uri": "https://localhost:8080/"
    },
    "id": "Crd6DJHIYNdv",
    "outputId": "26ab074c-cfc9-4e85-f25a-a4630c1f714c"
   },
   "outputs": [],
   "source": [
    "df_final['purchase_year'].unique()"
   ]
  },
  {
   "cell_type": "code",
   "execution_count": null,
   "metadata": {
    "id": "Q_8J7EsV7UNZ"
   },
   "outputs": [],
   "source": [
    "########### REVIEWS ##########\n",
    "\n",
    "df_final.loc[df_final['review_comment_message'].isna()]\n",
    "\n",
    "# new feature -> review text oui/non\n",
    "\n",
    "df_final['full_written_review'] = 1\n",
    "df_final['full_written_review'].loc[df_final['review_comment_message'].isna()] = 0\n",
    "\n",
    "df_final['written_review_title'] = 1\n",
    "df_final['written_review_title'].loc[df_final['review_comment_title'].isna()] = 0\n",
    "\n",
    "# drop les titres et textes des reviews (en portugais)\n",
    "df_final.drop(['review_comment_title', 'review_comment_message'], axis = 1, inplace = True)"
   ]
  },
  {
   "cell_type": "code",
   "execution_count": null,
   "metadata": {
    "id": "N4yXs_xb7UNZ"
   },
   "outputs": [],
   "source": [
    "########### VOLUME (cm3) ##########\n",
    "# volume = height*lenght*width (va permettre de passer de 3 variables à 1)\n",
    "\n",
    "df_final['product_volume_cm3'] = df_final['product_length_cm'] \\\n",
    "                               * df_final['product_height_cm'] \\\n",
    "                               * df_final['product_width_cm']\n",
    "\n",
    "df_final.drop(['product_length_cm', 'product_height_cm', 'product_width_cm'], axis = 1, inplace = True)"
   ]
  },
  {
   "cell_type": "code",
   "execution_count": null,
   "metadata": {
    "id": "n20_m4uk7UNZ"
   },
   "outputs": [],
   "source": [
    "# frequence des commandes\n",
    "\n",
    "# 2 ans de données -> prendre fréquence sur 6 mois ? ou prendre sur toutes les données ?"
   ]
  },
  {
   "cell_type": "code",
   "execution_count": null,
   "metadata": {
    "id": "AHZUNdFV7UNZ"
   },
   "outputs": [],
   "source": [
    "# https://blog.smile.io/how-to-calculate-purchase-frequency/\n",
    "\n",
    "# customer order frequency = purchase frequency\n",
    "# number of times that your customers make a purchase from you within a specified period of time\n",
    "\n",
    "# Repeat Purchase Rate (RPR)\n",
    "# = number of customers who bought more than once (365 days) divided by number of customers (365 days)\n",
    "\n",
    "# Purchase Frequency (PF)\n",
    "# = number of orders (365 days) divided by number of unique customers (365 days)\n",
    "\n",
    "# Time Between Purchases (TBP)\n",
    "# = 365 days divided by purchase frequency"
   ]
  },
  {
   "cell_type": "code",
   "execution_count": null,
   "metadata": {
    "colab": {
     "base_uri": "https://localhost:8080/",
     "height": 430
    },
    "id": "vcGI-TDUydXR",
    "outputId": "a8c6b0ea-c918-4086-ddac-f0f93f83ebba"
   },
   "outputs": [],
   "source": [
    "# plotter customer et seller -> TO DO -> VOIR SI J'ARRIVE A FAIRE  (parce que un peu moisi en l'état)\n",
    "\n",
    "plt.figure()\n",
    "plt.scatter(x = df_final['seller_geolocation_lng'][0], y = df_final['seller_geolocation_lat'][0], c = 'red') # sellers\n",
    "plt.scatter(x = df_final['customer_geolocation_lng'][0], y = df_final['customer_geolocation_lat'][0], c = 'green') # customers\n",
    "plt.show()"
   ]
  },
  {
   "cell_type": "code",
   "execution_count": null,
   "metadata": {
    "id": "NVhcNcfnydXR"
   },
   "outputs": [],
   "source": [
    "########### DISTANCE VENDEUR - ACHETEUR (km) ##########\n",
    "# Calculer distance en km entre vendeur et acheteur\n",
    "\n",
    "def haversine(lon1, lat1, lon2, lat2):\n",
    "    \"\"\"\n",
    "    Calculate the great circle distance between two points\n",
    "    on the earth (specified in decimal degrees)\n",
    "    \"\"\"\n",
    "    # convert decimal degrees to radians\n",
    "    lon1, lat1, lon2, lat2 = map(radians, [lon1, lat1, lon2, lat2])\n",
    "    # haversine formula\n",
    "    dlon = lon2 - lon1\n",
    "    dlat = lat2 - lat1\n",
    "    a = sin(dlat/2)**2 + cos(lat1) * cos(lat2) * sin(dlon/2)**2\n",
    "    c = 2 * asin(sqrt(a))\n",
    "    # Radius of earth in kilometers is 6371\n",
    "    km = 6371* c\n",
    "    return km\n",
    "\n",
    "# calcul de la distance\n",
    "df_final['distance'] = df_final.apply(lambda x: haversine(x['seller_geolocation_lat'],\n",
    "                                                          x['seller_geolocation_lng'],\n",
    "                                                          x['customer_geolocation_lat'],\n",
    "                                                          x['customer_geolocation_lng']) * 0.90, axis = 1)\n",
    "\n",
    "# droper coordonnées (car ne sera plus utile)\n",
    "df_final.drop(\n",
    "    [\n",
    "        'seller_geolocation_lat', \n",
    "        'seller_geolocation_lng', \n",
    "        'customer_geolocation_lat', \n",
    "        'customer_geolocation_lng'\n",
    "    ], \n",
    "    axis = 1, \n",
    "    inplace = True)"
   ]
  },
  {
   "cell_type": "code",
   "execution_count": null,
   "metadata": {
    "colab": {
     "base_uri": "https://localhost:8080/",
     "height": 344
    },
    "id": "o1Gt2C95ydXS",
    "outputId": "a300092e-95a7-46ce-b696-a775b4549ff1"
   },
   "outputs": [],
   "source": [
    "df_final.sample(6)"
   ]
  },
  {
   "cell_type": "code",
   "execution_count": null,
   "metadata": {
    "id": "WLZK0T9VOnpg"
   },
   "outputs": [],
   "source": [
    "# Export données 'propres' au format pickle pour rfm (garder id etc)\n",
    "\n",
    "# Chemin d'accès aux données (à modifier si code en local)\n",
    "#path = '/content/drive/MyDrive/OpenClassrooms/Projet5/' #-> pour colab\n",
    "path = '' #-> en local\n",
    "\n",
    "# specifier le chemin choisi\n",
    "filepath = os.path.join(path, 'df_for_rfm')\n",
    "\n",
    "# exporter en format pickle\n",
    "with open(filepath, 'wb') as f:\n",
    "    pickle.dump(df_final, f)"
   ]
  },
  {
   "cell_type": "markdown",
   "metadata": {},
   "source": [
    "## Pré selection des variables"
   ]
  },
  {
   "cell_type": "code",
   "execution_count": null,
   "metadata": {
    "colab": {
     "base_uri": "https://localhost:8080/",
     "height": 617
    },
    "id": "UOVH2PL4fsxG",
    "outputId": "1f43afa6-5e8f-42f7-9eb3-8731ed00163e"
   },
   "outputs": [],
   "source": [
    "########## Drop des variables non pertinentes pour le clustering ##########\n",
    "\n",
    "# Dropper les identifiants (ne seront plus utiles par la suite), purchase_time et \n",
    "# order_purchase_timestamp (dates et heures) ainsi que les villes, états... (on garde les coordonnées geo)\n",
    "\n",
    "features_to_drop = [\n",
    "    'customer_id', \n",
    "    'customer_unique_id', \n",
    "    'order_id', \n",
    "    'order_item_id', \n",
    "    'product_id', \n",
    "    'seller_id', \n",
    "    'review_id', \n",
    "    'purchase_time', \n",
    "    'order_purchase_timestamp', \n",
    "    'customer_city', \n",
    "    'customer_state', \n",
    "    'seller_city', \n",
    "    'seller_state'\n",
    "]\n",
    "\n",
    "\n",
    "df = df_final.drop(features_to_drop, \n",
    "                   axis = 1)\n",
    "\n",
    "df.sample(5)"
   ]
  },
  {
   "cell_type": "markdown",
   "metadata": {},
   "source": [
    "## Duplicats"
   ]
  },
  {
   "cell_type": "code",
   "execution_count": null,
   "metadata": {},
   "outputs": [],
   "source": [
    "# Vérifier qu'il n'y a pas de duplicats\n",
    "\n",
    "print(\"\\nPourcentage de duplicats :\", end = \"\\n = \")\n",
    "print(round((df.duplicated().sum().sum()/np.product(df.shape))*100, 2), end = \" % \\n\")"
   ]
  },
  {
   "cell_type": "code",
   "execution_count": null,
   "metadata": {},
   "outputs": [],
   "source": [
    "df.duplicated()"
   ]
  },
  {
   "cell_type": "code",
   "execution_count": null,
   "metadata": {},
   "outputs": [],
   "source": [
    "df.drop_duplicates(inplace = True)"
   ]
  },
  {
   "cell_type": "markdown",
   "metadata": {
    "id": "ijlgrZzAgoWY"
   },
   "source": [
    "## Imputation valeurs manquantes"
   ]
  },
  {
   "cell_type": "code",
   "execution_count": null,
   "metadata": {
    "colab": {
     "base_uri": "https://localhost:8080/"
    },
    "id": "UwWogmIEatpj",
    "outputId": "b7585a68-1f1e-4193-d89f-85549d489f5e"
   },
   "outputs": [],
   "source": [
    "df.shape"
   ]
  },
  {
   "cell_type": "code",
   "execution_count": null,
   "metadata": {
    "colab": {
     "base_uri": "https://localhost:8080/"
    },
    "id": "IUKXgv6fX39v",
    "outputId": "f5686e07-8aaa-433d-d0b8-61cf56b6dd04"
   },
   "outputs": [],
   "source": [
    "# ICI faire \"controle qualité\" et regarder données manquantes + faire imputation données manquantes ou drop des variables pour lesquelles les données sont trop éparses\n",
    "df.isna().sum()"
   ]
  },
  {
   "cell_type": "code",
   "execution_count": null,
   "metadata": {
    "colab": {
     "base_uri": "https://localhost:8080/",
     "height": 781
    },
    "id": "VnjaZ29zYGvf",
    "outputId": "92dd48d7-1fe9-41db-c55b-839c4a8d00ed"
   },
   "outputs": [],
   "source": [
    "# heatmap des na\n",
    "plt.figure(figsize = (15, 7))\n",
    "sns.heatmap(df.isna(), cbar = False)\n",
    "plt.show()"
   ]
  },
  {
   "cell_type": "code",
   "execution_count": null,
   "metadata": {
    "id": "llngpyVDY2Nd"
   },
   "outputs": [],
   "source": [
    "# Plusieurs lignes sur la heatmap -> commandes pour lesquelles il y a beaucoup de données manquantes\n",
    "# sont probablement les commandes qui n'ont pas abouti\n",
    "# les supprimer - on a 41 variables, prendre un seuil de 15 ou 20 variables pour dropper\n",
    "\n",
    "# nombre de lignes avant traitement -> 119018\n",
    "# seuil < 20 NaN -> 118377 rows restants\n",
    "# seuil < 15 NaN -> 117740 rows restants\n",
    "# seuil < 10 NaN -> 117738 rows restants\n",
    "# -> peu de différences entre 10 et 15 - prendre 10\n",
    "\n",
    "df = df[df.isna().sum(axis = 1) < 10]"
   ]
  },
  {
   "cell_type": "code",
   "execution_count": null,
   "metadata": {
    "colab": {
     "base_uri": "https://localhost:8080/",
     "height": 781
    },
    "id": "2i-_z1dgcKAI",
    "outputId": "100fdb82-08ba-472c-88af-63b464263b48"
   },
   "outputs": [],
   "source": [
    "plt.figure(figsize = (15, 7))\n",
    "sns.heatmap(df.isna(), cbar = False)\n",
    "plt.show()"
   ]
  },
  {
   "cell_type": "code",
   "execution_count": null,
   "metadata": {
    "colab": {
     "base_uri": "https://localhost:8080/"
    },
    "id": "LpNuT9-vcqk7",
    "outputId": "edd61c0f-ec5d-4882-b703-ff3acff8ccaa"
   },
   "outputs": [],
   "source": [
    "df.info()"
   ]
  },
  {
   "cell_type": "code",
   "execution_count": null,
   "metadata": {
    "colab": {
     "base_uri": "https://localhost:8080/",
     "height": 666
    },
    "id": "QPYVQUMydje1",
    "outputId": "6b38dd53-acb3-4555-f50b-ecc66d3cdb4f"
   },
   "outputs": [],
   "source": [
    "# tableau nombre et pourcentage de valeurs manquantes par colonne\n",
    "print('\\nValeurs manquantes par colonne : \\n')\n",
    "pd.set_option('display.max_rows', None) # pour afficher toutes les lignes\n",
    "values = df.isnull().sum()\n",
    "percentage = 100 * values / len(df)\n",
    "table = pd.concat([values, percentage.round(2)], axis = 1)\n",
    "table.columns = ['Nombres de valeurs manquantes', '% de valeurs manquantes']\n",
    "display(table[table['Nombres de valeurs manquantes'] != 0].sort_values('% de valeurs manquantes', ascending = False))\n",
    "pd.reset_option('display.max_rows') # on reset l'option pour ne plus afficher toutes les lignes"
   ]
  },
  {
   "cell_type": "code",
   "execution_count": null,
   "metadata": {
    "id": "5ZkkR1uWdJZn"
   },
   "outputs": [],
   "source": [
    "# Variables pour lesquelles il reste des NaN (faible pourcentage):\n",
    "\n",
    "# VARIABLES QUALI\n",
    "## product_category_name_english\n",
    "## payment_type\n",
    "\n",
    "# VARIABLES QUANTI\n",
    "## payment_sequential\n",
    "## product_name_lenght\n",
    "## product_description_lenght\n",
    "## product_photos_qty\n",
    "## product_weight_g\n",
    "## payment_installments\n",
    "## payment_value\n",
    "## review_score\n",
    "## review_time\n",
    "## order_time\n",
    "## delivery_error_time\n",
    "## order_preparation_time\n",
    "## delivery_time\n",
    "## shipping_limit_respect\n",
    "## product_volume_cm3\n",
    "## distance"
   ]
  },
  {
   "cell_type": "code",
   "execution_count": null,
   "metadata": {
    "colab": {
     "base_uri": "https://localhost:8080/"
    },
    "id": "5KJqSugKemlE",
    "outputId": "81b97af6-289c-436d-8e63-367d7296f8c5"
   },
   "outputs": [],
   "source": [
    "# VARIABLES QUALI\n",
    "# Traiter modalité par modalité et remplacer les NaN par la modalité la plus fréquente\n",
    "\n",
    "# Catégories de produits\n",
    "df['product_category'].value_counts()"
   ]
  },
  {
   "cell_type": "code",
   "execution_count": null,
   "metadata": {
    "id": "iarINK0He2HR"
   },
   "outputs": [],
   "source": [
    "# Most common = 'bed_bath_table' - ou remplacer par 'unknown' ?? ou par rien ?\n",
    "\n",
    "df['product_category'].fillna('', inplace = True)"
   ]
  },
  {
   "cell_type": "code",
   "execution_count": null,
   "metadata": {
    "colab": {
     "base_uri": "https://localhost:8080/"
    },
    "id": "h5KxCXHqfYpg",
    "outputId": "d17dafc4-8112-4969-a7c7-152d8b7c9698"
   },
   "outputs": [],
   "source": [
    "# Type de paiement\n",
    "df['payment_type'].value_counts()"
   ]
  },
  {
   "cell_type": "code",
   "execution_count": null,
   "metadata": {
    "id": "AXAFeC5efYni"
   },
   "outputs": [],
   "source": [
    "# Most common = credit_card\n",
    "\n",
    "df_final['payment_type'].fillna('credit_card', inplace = True)"
   ]
  },
  {
   "cell_type": "code",
   "execution_count": null,
   "metadata": {
    "id": "hWt6XbMifYlQ"
   },
   "outputs": [],
   "source": [
    "# VARIABLES QUANTI\n",
    "\n",
    "df_con = df.select_dtypes(include = ['int', 'float'])\n",
    "col = df_con.columns"
   ]
  },
  {
   "cell_type": "code",
   "execution_count": null,
   "metadata": {
    "colab": {
     "base_uri": "https://localhost:8080/"
    },
    "id": "4gUIp9KVpqaj",
    "outputId": "f9819db2-b5a1-4ccf-89ea-2ec09f146868"
   },
   "outputs": [],
   "source": [
    "df_con.shape"
   ]
  },
  {
   "cell_type": "code",
   "execution_count": null,
   "metadata": {
    "colab": {
     "base_uri": "https://localhost:8080/"
    },
    "id": "YnWoCKJOYAye",
    "outputId": "533f2e22-9ca1-4524-a8a3-6299c0928a38"
   },
   "outputs": [],
   "source": [
    "# CHOIX DE K\n",
    "\n",
    "# dépend du pb -> si supervisé -> comme projet 4\n",
    "# dépend du métier -> des fois certains nb de voisins font sens\n",
    "# quand non supervisé -> cacher des valeurs et voir avec quel K on les trouve (très rarement fait)\n",
    "# prendre valeur par défaut\n",
    "\n",
    "# https://towardsdatascience.com/how-to-find-the-optimal-value-of-k-in-knn-35d936e554eb#:~:text=The%20optimal%20K%20value%20usually,be%20aware%20of%20the%20outliers.\n",
    "\n",
    "# \"The optimal K value usually found is the square root of N, where N is the total number of samples.\"\n",
    "\n",
    "# Nb samples\n",
    "N = df_con.shape[0]\n",
    "\n",
    "optimal_K = sqrt(N)\n",
    "optimal_K"
   ]
  },
  {
   "cell_type": "code",
   "execution_count": null,
   "metadata": {
    "id": "iff4o7uUeODO"
   },
   "outputs": [],
   "source": [
    "# mouaaaaaaaai...."
   ]
  },
  {
   "cell_type": "code",
   "execution_count": null,
   "metadata": {
    "id": "f-tj3LB5fYi_"
   },
   "outputs": [],
   "source": [
    "# KNN imputer\n",
    "KNN_imputer = KNNImputer()\n",
    "df_KNN = KNN_imputer.fit_transform(df_con)"
   ]
  },
  {
   "cell_type": "code",
   "execution_count": null,
   "metadata": {
    "id": "vuGaYkK9gNH-"
   },
   "outputs": [],
   "source": [
    "# donne un array - le convertir en df\n",
    "df_con = pd.DataFrame(df_KNN, columns = col)"
   ]
  },
  {
   "cell_type": "code",
   "execution_count": null,
   "metadata": {
    "id": "coIgIehMgPje"
   },
   "outputs": [],
   "source": [
    "# mettre variables quali au même format que quanti\n",
    "df_cat = df.select_dtypes(include = ['object'])\n",
    "col = df_cat.columns\n",
    "\n",
    "df = pd.concat([df_con, df_cat], axis = 1, join = 'inner')\n",
    "df"
   ]
  },
  {
   "cell_type": "code",
   "execution_count": null,
   "metadata": {
    "id": "G_HT5FA7gZzO"
   },
   "outputs": [],
   "source": [
    "df.isna().sum()"
   ]
  },
  {
   "cell_type": "markdown",
   "metadata": {},
   "source": [
    "## Outliers"
   ]
  },
  {
   "cell_type": "code",
   "execution_count": null,
   "metadata": {},
   "outputs": [],
   "source": [
    "# plus de nan -> ok pour isolation forest\n",
    "\n",
    "# outliers detectés grâce aux boxplots\n",
    "# vérifier avec Isolation Forest et supprimer lignes correspondantes\n",
    "\n",
    "np.random.seed(1)\n",
    "\n",
    "clf = IsolationForest()\n",
    "preds = clf.fit_predict(df.select_dtypes(include = ['float64']))\n",
    "preds"
   ]
  },
  {
   "cell_type": "code",
   "execution_count": null,
   "metadata": {},
   "outputs": [],
   "source": [
    "# anomalies ont un score de -1 : on les enlève\n",
    "df.drop(df.iloc[np.where(preds == -1)[0]].index,inplace = True)\n",
    "\n",
    "df.shape"
   ]
  },
  {
   "cell_type": "markdown",
   "metadata": {
    "id": "iWZofATqY3Xq"
   },
   "source": [
    "## Analyse univariée"
   ]
  },
  {
   "cell_type": "code",
   "execution_count": null,
   "metadata": {
    "id": "Js1Tdj6ElKYx"
   },
   "outputs": [],
   "source": [
    "# Faire une analyse par variable pour avoir quelque chose de propre et bien détécter outliers ou incohérences ?"
   ]
  },
  {
   "cell_type": "code",
   "execution_count": null,
   "metadata": {
    "id": "LpM8fOamN6yb"
   },
   "outputs": [],
   "source": [
    "# faire un graph qui regroupe évolution par mois du nb de commandes, du nb de clients et du CA etc\n",
    "# idem avec toutes les dates"
   ]
  },
  {
   "cell_type": "code",
   "execution_count": null,
   "metadata": {
    "id": "n5yeR4gplHlU"
   },
   "outputs": [],
   "source": [
    "plt.figure(figsize = [10, 6])\n",
    "sns.distplot(x = df['freight_value'])\n",
    "plt.title('Freight Value Distribution')\n",
    "sns.despine()\n",
    "plt.show()"
   ]
  },
  {
   "cell_type": "code",
   "execution_count": null,
   "metadata": {
    "id": "VeYiBmRvUFom"
   },
   "outputs": [],
   "source": [
    "# Boxplots des variables quantitatives\n",
    "\n",
    "columns = df.select_dtypes(include = ['float64']).columns\n",
    "nb_lignes = len(columns)/10 # 10 = nb max de boxplots par lignes pour que ça soit lisible\n",
    "\n",
    "figure = plt.figure(figsize = (20, 12))\n",
    "for index, col in enumerate(columns):\n",
    "    figure.add_subplot(int(np.ceil(nb_lignes)), 10, index + 1)\n",
    "    sns.boxplot(y = col, data = df)\n",
    "figure.tight_layout()\n",
    "plt.show()"
   ]
  },
  {
   "cell_type": "code",
   "execution_count": null,
   "metadata": {
    "id": "KRnz9v8VUFj3"
   },
   "outputs": [],
   "source": [
    "# Barplot des variables qualitatives\n",
    "\n",
    "columns = df.select_dtypes(include = ['object']).columns\n",
    "size = round(math.sqrt(len(columns)))\n",
    "\n",
    "plt.figure(figsize = (12, 12))\n",
    "i = 0\n",
    "for index, col in enumerate(columns):\n",
    "    if df[col].str.len().mean() < 100: # prendre seulement les colonnes dont les elements ne sont pas trop longs (pour ne pas prendre les descriptions par ex)\n",
    "        i += 1\n",
    "        plt.subplot(size, size, i)\n",
    "        plt.title(col, fontsize = 14, weight = 'bold')\n",
    "        plt.xticks(fontsize = 14, rotation = 90)\n",
    "        ax = sns.barplot(x = df[col].value_counts().index[:10],\n",
    "                        y = df[col].value_counts()[:10],\n",
    "                        palette = 'viridis')\n",
    "        ax.set(ylabel = None) # pour enlever nom de l'axe y\n",
    "        plt.tight_layout()\n",
    "plt.show()"
   ]
  },
  {
   "cell_type": "code",
   "execution_count": null,
   "metadata": {
    "id": "xMMv8CwTUFhB"
   },
   "outputs": [],
   "source": [
    "# Order status -> à pas l'air franchement interessant - à ignorer pour le clustering"
   ]
  },
  {
   "cell_type": "markdown",
   "metadata": {
    "id": "LJ3fNuxnY7UW"
   },
   "source": [
    "## Analyse bivariée"
   ]
  },
  {
   "cell_type": "code",
   "execution_count": null,
   "metadata": {},
   "outputs": [],
   "source": [
    "df"
   ]
  },
  {
   "cell_type": "code",
   "execution_count": null,
   "metadata": {},
   "outputs": [],
   "source": [
    "df['Count'] = 1"
   ]
  },
  {
   "cell_type": "code",
   "execution_count": null,
   "metadata": {},
   "outputs": [],
   "source": [
    "df.groupby('purchase_month')['Count'].sum()"
   ]
  },
  {
   "cell_type": "code",
   "execution_count": null,
   "metadata": {
    "colab": {
     "base_uri": "https://localhost:8080/",
     "height": 455
    },
    "id": "4d0JDlPDNWSu",
    "outputId": "6e384acc-0a3f-46af-cf7a-55fd7074cddc"
   },
   "outputs": [],
   "source": [
    "## evolution du nb de commandes par mois\n",
    "\n",
    "plt.figure()\n",
    "sns.lineplot(x = df.groupby('purchase_month')['Count'].sum().index,\n",
    "             y = df.groupby('purchase_month')['Count'].sum().values, \n",
    "             markers = True)\n",
    "plt.title('Number of Orders by Month')\n",
    "plt.xlabel('Month')\n",
    "plt.ylabel('Number of Orders')\n",
    "plt.xticks(rotation = 45)\n",
    "plt.show()"
   ]
  },
  {
   "cell_type": "code",
   "execution_count": null,
   "metadata": {},
   "outputs": [],
   "source": [
    "# Très peu de commandes en septembre\n",
    "# Petit pic en Novembre (pour Noel ? )\n",
    "# Majorité des commandes entre Mars et Aout"
   ]
  },
  {
   "cell_type": "code",
   "execution_count": null,
   "metadata": {},
   "outputs": [],
   "source": [
    "## evolution du nb de commandes par année\n",
    "\n",
    "plt.figure()\n",
    "sns.lineplot(x = df.groupby('purchase_year')['Count'].sum().index,\n",
    "             y = df.groupby('purchase_year')['Count'].sum().values, \n",
    "             markers = True)\n",
    "plt.title('Number of Orders by Year')\n",
    "plt.xlabel('Year')\n",
    "plt.ylabel('Number of Orders')\n",
    "plt.xticks(rotation = 45)\n",
    "plt.show()"
   ]
  },
  {
   "cell_type": "code",
   "execution_count": null,
   "metadata": {},
   "outputs": [],
   "source": [
    "## evolution du nb de commandes par jour du mois\n",
    "\n",
    "plt.figure()\n",
    "sns.lineplot(x = df.groupby('purchase_day')['Count'].sum().index,\n",
    "             y = df.groupby('purchase_day')['Count'].sum().values, \n",
    "             markers = True)\n",
    "plt.title('Number of Orders by Day')\n",
    "plt.xlabel('Days')\n",
    "plt.ylabel('Number of Orders')\n",
    "plt.xticks(rotation = 45)\n",
    "plt.show()"
   ]
  },
  {
   "cell_type": "code",
   "execution_count": null,
   "metadata": {},
   "outputs": [],
   "source": [
    "## evolution du nb de commandes par heure de la journée\n",
    "\n",
    "plt.figure()\n",
    "sns.lineplot(x = df.groupby('purchase_hour')['Count'].sum().index,\n",
    "             y = df.groupby('purchase_hour')['Count'].sum().values, \n",
    "             markers = True)\n",
    "plt.title('Number of Orders by Hour')\n",
    "plt.xlabel('Heures')\n",
    "plt.ylabel('Number of Orders')\n",
    "plt.xticks(rotation = 45)\n",
    "plt.show()"
   ]
  },
  {
   "cell_type": "code",
   "execution_count": null,
   "metadata": {},
   "outputs": [],
   "source": [
    "## evolution du nb de commandes par jour de la semaine\n",
    "\n",
    "plt.figure()\n",
    "sns.lineplot(x = df.groupby('purchase_dayofweek')['Count'].sum().index,\n",
    "             y = df.groupby('purchase_dayofweek')['Count'].sum().values, \n",
    "             markers = True)\n",
    "plt.title('Number of Orders by Day of week')\n",
    "plt.xlabel('Day of week')\n",
    "plt.ylabel('Number of Orders')\n",
    "plt.xticks(rotation = 45)\n",
    "plt.show()"
   ]
  },
  {
   "cell_type": "code",
   "execution_count": null,
   "metadata": {},
   "outputs": [],
   "source": [
    "# Retrouver correspondance des jours de la semaine (0 = lundi ou 0 = dimanche ? )"
   ]
  },
  {
   "cell_type": "code",
   "execution_count": null,
   "metadata": {
    "colab": {
     "base_uri": "https://localhost:8080/",
     "height": 450
    },
    "id": "Prz5AfYsNc9n",
    "outputId": "e66f5424-b641-4353-a733-8175a6491376"
   },
   "outputs": [],
   "source": [
    "# Evolution du temps des commandes (délai entre commande et livraison)\n",
    "\n",
    "plt.figure()\n",
    "sns.lineplot(x = df.groupby('purchase_month')['order_time'].mean().index, \n",
    "             y = df.groupby('purchase_month')['order_time'].mean().values, \n",
    "             markers = True)\n",
    "plt.show()"
   ]
  },
  {
   "cell_type": "code",
   "execution_count": null,
   "metadata": {},
   "outputs": [],
   "source": [
    "# délai de préparation des commandes et de livraison très court en été"
   ]
  },
  {
   "cell_type": "code",
   "execution_count": null,
   "metadata": {},
   "outputs": [],
   "source": [
    "# Evolution du retard de livraison en fonction des années (zoom sur 2017)\n",
    "\n",
    "plt.figure(figsize = (20, 7))\n",
    "sns.lineplot(data = df, \n",
    "             x = 'purchase_year', \n",
    "             y = 'shipping_limit_respect', \n",
    "             markers = True)\n",
    "plt.show()"
   ]
  },
  {
   "cell_type": "code",
   "execution_count": null,
   "metadata": {
    "colab": {
     "base_uri": "https://localhost:8080/",
     "height": 450
    },
    "id": "fmHvQ9DHydXS",
    "outputId": "6759a6ff-d37e-4bc7-ca41-1dc6ee2b2bc5"
   },
   "outputs": [],
   "source": [
    "# Ventes de la plateforme par mois vs nb de commandes par mois\n",
    "\n",
    "plt.figure()\n",
    "sns.lineplot(data = df, x = 'purchase_month', y = 'payment_value', markers = True)\n",
    "sns.lineplot(data = df, x = 'purchase_month', y = 'Count', markers = True)\n",
    "plt.show()"
   ]
  },
  {
   "cell_type": "code",
   "execution_count": null,
   "metadata": {},
   "outputs": [],
   "source": [
    "# Ventes de la plateforme par jour de la semaine\n",
    "\n",
    "plt.figure()\n",
    "sns.lineplot(data = df, x = 'purchase_dayofweek', y = 'payment_value', markers = True)\n",
    "plt.show()"
   ]
  },
  {
   "cell_type": "code",
   "execution_count": null,
   "metadata": {},
   "outputs": [],
   "source": [
    "# Ventes de la plateforme par heure de la journée\n",
    "\n",
    "plt.figure()\n",
    "sns.lineplot(data = df, x = 'purchase_hour', y = 'payment_value', markers = True)\n",
    "plt.show()"
   ]
  },
  {
   "cell_type": "code",
   "execution_count": null,
   "metadata": {},
   "outputs": [],
   "source": [
    "# Ventes de la plateforme par jour du mois\n",
    "\n",
    "plt.figure()\n",
    "sns.lineplot(data = df, x = 'purchase_day', y = 'payment_value', markers = True)\n",
    "plt.show()"
   ]
  },
  {
   "cell_type": "code",
   "execution_count": null,
   "metadata": {
    "id": "TL0roxNjydXR"
   },
   "outputs": [],
   "source": [
    "df.info()"
   ]
  },
  {
   "cell_type": "code",
   "execution_count": null,
   "metadata": {
    "id": "hezNxVzzydXR"
   },
   "outputs": [],
   "source": [
    "df.columns"
   ]
  },
  {
   "cell_type": "code",
   "execution_count": null,
   "metadata": {
    "id": "ow7bTr0hydXS"
   },
   "outputs": [],
   "source": [
    "# Matrice de corrélations\n",
    "plt.figure(figsize = (20, 12))\n",
    "sns.heatmap(df.corr(), annot = True)\n",
    "plt.show()"
   ]
  },
  {
   "cell_type": "code",
   "execution_count": null,
   "metadata": {
    "id": "p5za0aTnXxj4"
   },
   "outputs": [],
   "source": [
    "# order_time et delivery_time très fortement corrélés -> garder un des deux seulement\n",
    "# drop delivery_time car n'est pas fonction du client or ici on essaie de segmenter les comportements clients\n",
    "\n",
    "# poids et volume fortement corrélés -> garder un des deux seulement\n",
    "# poids et freight_value fortement corrélés\n",
    "# freight_value et volume sont aussi fortement corrélés (moins que poids mais quand même)\n",
    "# garder poids et supprimer les deux autres ? ou garder les deux autres et supprimer le poids ?\n",
    "# supprimer freight_value car prit en compte dans payment_value\n",
    "# supprimer volume et garder poids -> et faire l'inverse si résultats sont pas bons\n",
    "\n",
    "# payment_value et price fortement corrélés -> garder un des deux seulement\n",
    "# garder payment_value (car prend en compte prix de la livraison)\n",
    "\n",
    "df.drop(['delivery_time', 'price', 'freight_value', 'product_volume_cm3'], axis = 1, inplace = True)"
   ]
  },
  {
   "cell_type": "code",
   "execution_count": null,
   "metadata": {
    "id": "dqQ9jD30cRo_"
   },
   "outputs": [],
   "source": [
    "# supprimer aussi purchase_year ?\n",
    "# on a vu que le nombre de commandes a augmenté avec les années mais sinon pas pertinent pour notre\n",
    "# problématique\n",
    "# drop aussi 'count' -> créé seulement pour les graphs\n",
    "\n",
    "df.drop(['purchase_year', 'Count'], axis = 1, inplace = True)"
   ]
  },
  {
   "cell_type": "code",
   "execution_count": null,
   "metadata": {
    "colab": {
     "base_uri": "https://localhost:8080/"
    },
    "id": "VkTFF0ejeEnH",
    "outputId": "6cf7e441-3dcf-4674-ebcd-967d284f59a0"
   },
   "outputs": [],
   "source": [
    "df.columns"
   ]
  },
  {
   "cell_type": "code",
   "execution_count": null,
   "metadata": {
    "colab": {
     "base_uri": "https://localhost:8080/",
     "height": 34
    },
    "id": "SxddAsqSydXS",
    "outputId": "1fcd1b39-08ad-4ac8-dfbd-4b6453f59c83"
   },
   "outputs": [],
   "source": [
    "# Pairplot\n",
    "plt.figure()\n",
    "#sns.pairplot(df, hue = 'payment_type') # trop lourd avec couleur\n",
    "#sns.pairplot(df) # trop lourd avec couleur # trop de variables, pas super lisible\n",
    "plt.show()"
   ]
  },
  {
   "cell_type": "code",
   "execution_count": null,
   "metadata": {
    "id": "_GFAA1SdpHYX"
   },
   "outputs": [],
   "source": [
    "# Anova ??\n",
    "\n",
    "# CONDITIONS D'APPLICATION"
   ]
  },
  {
   "cell_type": "code",
   "execution_count": null,
   "metadata": {},
   "outputs": [],
   "source": [
    "# Anova\n",
    "import statsmodels.api as sm\n",
    "from statsmodels.formula.api import ols"
   ]
  },
  {
   "cell_type": "code",
   "execution_count": null,
   "metadata": {},
   "outputs": [],
   "source": [
    "def anova(df, variable):\n",
    "\n",
    "    print('\\t') \n",
    "    print('----------------------------------------------------')\n",
    "    print('\\nANOVA \\n')\n",
    "    print('----------------------------------------------------')\n",
    "    print('\\t')\n",
    "\n",
    "    \n",
    "    # renommer colonnes pour enlever \"-\"\n",
    "    df.columns = df.columns.str.replace('-', '_')\n",
    "\n",
    "    # calculer dimension des subplots\n",
    "    columns = df.select_dtypes(include = ['float64']).columns\n",
    "    size = round(math.sqrt(len(columns)))\n",
    "\n",
    "    plt.figure(figsize = (25, 15))\n",
    "    i = 0\n",
    "    for index, col in enumerate(columns):\n",
    "        i += 1\n",
    "        if col != variable:\n",
    "            mod = ols(f'{col} ~ {variable}', data = df).fit()\n",
    "            # do type 2 anova\n",
    "            aov_table = sm.stats.anova_lm(mod, typ = 2)\n",
    "            print('\\t')\n",
    "            #print(\"----------------------------------------------------\")\n",
    "            print(f'ANOVA table pour {col}')\n",
    "            print('----------------------------------------------------')\n",
    "            display(aov_table)\n",
    "            print('\\t')\n",
    "\n",
    "            pvalue = round(aov_table['PR(>F)'][variable], 2)\n",
    "\n",
    "            if aov_table['PR(>F)'][variable] > 0.05:\n",
    "                print(f\" ---> l'hypothèse nulle est acceptée: le {col} ne varie pas selon le {variable}\")\n",
    "                print('\\t')\n",
    "            else:\n",
    "                print(f\" ---> l'hypothèse nulle est rejetée: le {col} varie selon le {variable}\")\n",
    "                print('\\t')\n",
    "\n",
    "        # plot\n",
    "        plt.subplot(size, size, i)\n",
    "        plt.title(f'{col} - p-value = {pvalue}')\n",
    "        sns.boxplot(x = df[col], \n",
    "                    y = df[variable], \n",
    "                    data = df, \n",
    "                    #order=['e', 'd', 'c', 'b', 'a']\n",
    "                    )\n",
    "        plt.xticks(rotation = 90)\n",
    "    plt.tight_layout()\n",
    "    \n",
    "    print('\\t') \n",
    "    print('----------------------------------------------------')\n",
    "    print(f'\\nBoxplot des variables en fonction du {variable}\\n')\n",
    "    print('----------------------------------------------------')\n",
    "    print('\\t')\n",
    "    \n",
    "    plt.show()"
   ]
  },
  {
   "cell_type": "code",
   "execution_count": null,
   "metadata": {},
   "outputs": [],
   "source": [
    "# à modifier, beaucoup trop long"
   ]
  },
  {
   "cell_type": "code",
   "execution_count": null,
   "metadata": {},
   "outputs": [],
   "source": [
    "# anova avec nutrition_grade\n",
    "#anova(df, variable = 'purchase_month')"
   ]
  },
  {
   "cell_type": "code",
   "execution_count": null,
   "metadata": {},
   "outputs": [],
   "source": []
  },
  {
   "cell_type": "code",
   "execution_count": null,
   "metadata": {},
   "outputs": [],
   "source": []
  },
  {
   "cell_type": "code",
   "execution_count": null,
   "metadata": {},
   "outputs": [],
   "source": [
    "stop"
   ]
  },
  {
   "cell_type": "markdown",
   "metadata": {},
   "source": [
    "## Scaling"
   ]
  },
  {
   "cell_type": "code",
   "execution_count": null,
   "metadata": {},
   "outputs": [],
   "source": [
    "df.select_dtypes(include = 'object')"
   ]
  },
  {
   "cell_type": "code",
   "execution_count": null,
   "metadata": {},
   "outputs": [],
   "source": [
    "# standardiser variables quanti\n",
    "\n",
    "# isoler variables quanti\n",
    "df_quanti = df.select_dtypes(include = ['int', 'float'])\n",
    "df_quanti.columns"
   ]
  },
  {
   "cell_type": "code",
   "execution_count": null,
   "metadata": {},
   "outputs": [],
   "source": [
    "df_quanti"
   ]
  },
  {
   "cell_type": "code",
   "execution_count": null,
   "metadata": {},
   "outputs": [],
   "source": [
    "# Standard scaler -> subtracts the mean from each data point and then divides the result by the standard deviation. \n",
    "# This results in a dataset with a mean of 0 and a standard deviation of 1.\n",
    "\n",
    "# MinMaxScaler -> subtracts the minimum value from each data point and then divides the result by the difference \n",
    "# between the maximum and minimum values. This results in a dataset with values ranging between 0 and 1."
   ]
  },
  {
   "cell_type": "code",
   "execution_count": null,
   "metadata": {},
   "outputs": [],
   "source": [
    "\"\"\"# MinMaxScaler\n",
    "\n",
    "# Create a MinMaxScaler instance\n",
    "scaler = MinMaxScaler()\n",
    "\n",
    "# Fit the scaler\n",
    "scaler.fit(df)\n",
    "\n",
    "# Transform the data using the fitted scaler\n",
    "scaled_data = scaler.transform(df)\"\"\""
   ]
  },
  {
   "cell_type": "code",
   "execution_count": null,
   "metadata": {},
   "outputs": [],
   "source": [
    "# scaling\n",
    "\n",
    "scaler = StandardScaler()\n",
    "df_quanti_std = scaler.fit_transform(df_quanti)\n",
    "\n",
    "df_quanti_std = pd.DataFrame(data = df_quanti_std, columns = df_quanti.columns)\n",
    "df_quanti_std"
   ]
  },
  {
   "cell_type": "code",
   "execution_count": null,
   "metadata": {},
   "outputs": [],
   "source": [
    "########## CONCATENATION ##########\n",
    "# concatener données qualitatives 'brutes' et quantitatives standardisées\n",
    "\n",
    "df = pd.concat([df_quanti_std, df['order_status'], df['payment_type'], df['product_category']], axis = 1)\n",
    "df"
   ]
  },
  {
   "cell_type": "code",
   "execution_count": null,
   "metadata": {},
   "outputs": [],
   "source": []
  },
  {
   "cell_type": "code",
   "execution_count": null,
   "metadata": {},
   "outputs": [],
   "source": []
  },
  {
   "cell_type": "code",
   "execution_count": null,
   "metadata": {},
   "outputs": [],
   "source": []
  },
  {
   "cell_type": "markdown",
   "metadata": {},
   "source": [
    "## Encoding"
   ]
  },
  {
   "cell_type": "code",
   "execution_count": null,
   "metadata": {},
   "outputs": [],
   "source": [
    "df.select_dtypes(include = 'object')"
   ]
  },
  {
   "cell_type": "code",
   "execution_count": null,
   "metadata": {},
   "outputs": [],
   "source": [
    "# Variables qualitatives à encoder =\n",
    "\n",
    "#\n",
    "#\n",
    "#\n"
   ]
  },
  {
   "cell_type": "code",
   "execution_count": null,
   "metadata": {},
   "outputs": [],
   "source": [
    "##### Order_status #####\n",
    "# -> comme on a vu dans data explo, on a delivered et le reste donc faire encoding en prenant:\n",
    "# delivered = 1\n",
    "# le reste = 0\n",
    "\n",
    "# Créer le dictionnaire pour le mapping\n",
    "mapping_order_status = {\n",
    "    'approved' : 0, \n",
    "    'delivered' : 1, \n",
    "    'invoiced' : 0, \n",
    "    'processing' : 0, \n",
    "    'shipped' : 0,\n",
    "    'unavailable' : 0\n",
    "}\n",
    "\n",
    "# utiliser le dictionnaire pour encoder la variable\n",
    "df['order_status'] = df['order_status'].map(mapping_order_status)\n",
    "\n",
    "# 'visualiser' résultat\n",
    "df['order_status'].value_counts()"
   ]
  },
  {
   "cell_type": "code",
   "execution_count": null,
   "metadata": {},
   "outputs": [],
   "source": [
    "# trèèèèès unbalanced... quasiment que des commandes livrées -> à exclure ? par super informatif a priori"
   ]
  },
  {
   "cell_type": "code",
   "execution_count": null,
   "metadata": {},
   "outputs": [],
   "source": [
    "##### Payment type #####\n",
    "df['payment_type'].value_counts()"
   ]
  },
  {
   "cell_type": "code",
   "execution_count": null,
   "metadata": {},
   "outputs": [],
   "source": [
    "# credit card vs le reste\n",
    "\n",
    "# Créer le dictionnaire pour le mapping\n",
    "mapping_payment_type = {\n",
    "    'credit_card' : 1, \n",
    "    'boleto' : 0, \n",
    "    'voucher' : 0, \n",
    "    'debit_card' : 0\n",
    "}\n",
    "\n",
    "# utiliser le dictionnaire pour encoder la variable\n",
    "df['payment_type'] = df['payment_type'].map(mapping_payment_type)\n",
    "\n",
    "# 'visualiser' résultat\n",
    "df['payment_type'].value_counts()"
   ]
  },
  {
   "cell_type": "code",
   "execution_count": null,
   "metadata": {},
   "outputs": [],
   "source": [
    "##### product category #####\n",
    "\n",
    "# séparer chaque catégorie pour créer une variable par catégorie\n",
    "# -> utiliser get dummies\n",
    "\n",
    "df = pd.get_dummies(df, columns = ['product_category'])\n",
    "df"
   ]
  },
  {
   "cell_type": "code",
   "execution_count": null,
   "metadata": {},
   "outputs": [],
   "source": [
    "df.columns"
   ]
  },
  {
   "cell_type": "code",
   "execution_count": null,
   "metadata": {},
   "outputs": [],
   "source": [
    "# 'product_category_' -> produits qui n'ont pas de catégorie ? "
   ]
  },
  {
   "cell_type": "code",
   "execution_count": null,
   "metadata": {},
   "outputs": [],
   "source": [
    "# drop product category\n",
    "df.drop(['product_category_'], axis = 1, inplace = True)"
   ]
  },
  {
   "cell_type": "code",
   "execution_count": null,
   "metadata": {},
   "outputs": [],
   "source": [
    "df"
   ]
  },
  {
   "cell_type": "code",
   "execution_count": null,
   "metadata": {},
   "outputs": [],
   "source": [
    "# Vérifier qu'il ne reste pas de NaN\n",
    "df.isna().sum().sum()"
   ]
  },
  {
   "cell_type": "code",
   "execution_count": null,
   "metadata": {},
   "outputs": [],
   "source": [
    "df.dropna(inplace = True)"
   ]
  },
  {
   "cell_type": "code",
   "execution_count": null,
   "metadata": {},
   "outputs": [],
   "source": [
    "df.shape"
   ]
  },
  {
   "cell_type": "code",
   "execution_count": null,
   "metadata": {},
   "outputs": [],
   "source": []
  },
  {
   "cell_type": "markdown",
   "metadata": {},
   "source": [
    "## ACP"
   ]
  },
  {
   "cell_type": "code",
   "execution_count": null,
   "metadata": {},
   "outputs": [],
   "source": [
    "# PCA\n",
    "from sklearn.decomposition import PCA\n",
    "from matplotlib.patches import Circle"
   ]
  },
  {
   "cell_type": "code",
   "execution_count": null,
   "metadata": {},
   "outputs": [],
   "source": [
    "# Df total\n",
    "df.shape"
   ]
  },
  {
   "cell_type": "code",
   "execution_count": null,
   "metadata": {},
   "outputs": [],
   "source": [
    "# Réduction dimmensionnelle avec 'Principal Component Analysis'\n",
    "pca = PCA()\n",
    "df_pca = pca.fit_transform(df)\n",
    "df_pca"
   ]
  },
  {
   "cell_type": "code",
   "execution_count": null,
   "metadata": {},
   "outputs": [],
   "source": [
    "# Représentation graphique\n",
    "fig = plt.figure(1, figsize = (12, 4))\n",
    "plt.bar(range(len(pca.explained_variance_ratio_)), 100*pca.explained_variance_ratio_)\n",
    "plt.ylim(0, 1.05*100)\n",
    "plt.plot(range(len(pca.explained_variance_ratio_)), 100*np.cumsum(pca.explained_variance_ratio_), 's-')\n",
    "plt.ylabel('Pourcentage de variance')\n",
    "plt.xlabel('Nombre de composantes')\n",
    "plt.title('Variance expliqué par PCA')\n",
    "plt.show()"
   ]
  },
  {
   "cell_type": "code",
   "execution_count": null,
   "metadata": {},
   "outputs": [],
   "source": [
    "# Faire un scree plot\n",
    "\n",
    "def display_scree_plot(pca):\n",
    "    '''Display a scree plot for the pca'''\n",
    "\n",
    "    scree = pca.explained_variance_ratio_*100\n",
    "    plt.bar(np.arange(len(scree))+1, scree)\n",
    "    plt.plot(np.arange(len(scree))+1, scree.cumsum(), c = \"red\", marker = 'o')\n",
    "    plt.xlabel(\"Number of principal components\")\n",
    "    plt.ylabel(\"Percentage explained variance\")\n",
    "    plt.title(\"Scree plot\")\n",
    "    plt.show(block = False)\n",
    "    \n",
    "display_scree_plot(pca)  "
   ]
  },
  {
   "cell_type": "code",
   "execution_count": null,
   "metadata": {},
   "outputs": [],
   "source": [
    "# Scree plot\n",
    "# ( = line plot of the eigenvalues of factors or principal components in an analysis)\n",
    "\n",
    "ind = np.arange(0, 27)\n",
    "(fig, ax) = plt.subplots(figsize = (8, 6))\n",
    "sns.pointplot(x = ind, y = pca.explained_variance_ratio_)\n",
    "ax.set_title('Scree plot')\n",
    "ax.set_xticks(ind)\n",
    "ax.set_xticklabels(ind)\n",
    "ax.set_xlabel('Component Number')\n",
    "ax.set_ylabel('Explained Variance')\n",
    "plt.show()"
   ]
  },
  {
   "cell_type": "code",
   "execution_count": null,
   "metadata": {},
   "outputs": [],
   "source": [
    "# autre représentation de la variance expliquée :\n",
    "plt.figure(figsize = (12, 4))\n",
    "sns.barplot(x = np.arange(1, len(pca.explained_variance_ratio_) + 1),\n",
    "            y = np.cumsum(pca.explained_variance_ratio_))\n",
    "plt.xlabel('Number of Principal Components')\n",
    "plt.ylabel('Cumulative Explained Variance')\n",
    "plt.title('Explained Variance Ratio')\n",
    "plt.show()"
   ]
  },
  {
   "cell_type": "code",
   "execution_count": null,
   "metadata": {},
   "outputs": [],
   "source": [
    "pca.explained_variance_ratio_"
   ]
  },
  {
   "cell_type": "code",
   "execution_count": null,
   "metadata": {},
   "outputs": [],
   "source": [
    "# Test en ne gardant que 2 dimensions :\n",
    "\n",
    "pca = PCA(n_components = 2)\n",
    "df_pca = pca.fit_transform(df)"
   ]
  },
  {
   "cell_type": "code",
   "execution_count": null,
   "metadata": {},
   "outputs": [],
   "source": [
    "print('Explained variance regarding first dimension : ' + '{:.1%}'.format(pca.explained_variance_ratio_[0]))\n",
    "print('Explained variance regarding second dimension : ' + '{:.1%}'.format(pca.explained_variance_ratio_[1]))\n",
    "print('Total variance included in those 2 dimensions : ' + '{:.1%}'.format(pca.explained_variance_ratio_.sum()))"
   ]
  },
  {
   "cell_type": "code",
   "execution_count": null,
   "metadata": {},
   "outputs": [],
   "source": [
    "# Test en conservant 90% de la variance\n",
    "\n",
    "pca_90 = PCA(n_components = 0.90)  # 90% de la variance\n",
    "df_pca_90 = pca_90.fit_transform(df)\n",
    "\n",
    "# Mise sous forme de DataFrame\n",
    "df_pca_90 = pd.DataFrame(df_pca_90, columns = ['Composante_' + str(i) for i in range(df_pca_90.shape[1])])\n",
    "df_pca_90.shape"
   ]
  },
  {
   "cell_type": "code",
   "execution_count": null,
   "metadata": {},
   "outputs": [],
   "source": [
    "# Plot the correlation circle\n",
    "from matplotlib.patches import Ellipse\n",
    "\n",
    "def plot_correlation_circle(pca, features, dimensions = (0, 1), scale_factor = 1):\n",
    "    num_features = len(features)\n",
    "    num_principal_components = pca.components_.shape[0]\n",
    "\n",
    "    if dimensions[0] >= num_principal_components or dimensions[1] >= num_principal_components:\n",
    "        raise ValueError('Invalid dimensions. Ensure that dimensions are within the range of available principal components.')\n",
    "\n",
    "    plt.figure(figsize = (10, 10))\n",
    "\n",
    "    # Scatter plot (avec transparence)\n",
    "    plt.scatter(pca.components_[dimensions[0], :],\n",
    "                pca.components_[dimensions[1], :],\n",
    "                alpha = 0.7)\n",
    "\n",
    "    # Plot arrows\n",
    "    for i in range(num_features):\n",
    "        plt.arrow(0,\n",
    "                  0,\n",
    "                  pca.components_[dimensions[0], i],\n",
    "                  pca.components_[dimensions[1], i],\n",
    "                  head_width = 0.05,\n",
    "                  head_length = 0.05,\n",
    "                  fc = 'grey',\n",
    "                  ec = 'grey',\n",
    "                  alpha = 0.5)\n",
    "\n",
    "        plt.text(pca.components_[dimensions[0], i] * scale_factor,\n",
    "                 pca.components_[dimensions[1], i] * scale_factor,\n",
    "                 features[i],\n",
    "                 ha = 'left',\n",
    "                 va = 'bottom',\n",
    "                 fontsize = 8)\n",
    "\n",
    "    # Add circle patch\n",
    "    ellipse = Ellipse((0, 0),\n",
    "                      2,\n",
    "                      2,\n",
    "                      edgecolor = 'black',\n",
    "                      facecolor = 'none',\n",
    "                      linewidth = 2)\n",
    "    plt.gca().add_patch(ellipse)\n",
    "\n",
    "    # Add reference lines\n",
    "    plt.axhline(0, color = 'black', linestyle = '--', linewidth = 1)\n",
    "    plt.axvline(0, color = 'black', linestyle = '--', linewidth = 1)\n",
    "\n",
    "    # Set axis labels\n",
    "    plt.xlabel(f'Principal Component {dimensions[0] + 1}')\n",
    "    plt.ylabel(f'Principal Component {dimensions[1] + 1}')\n",
    "\n",
    "    # Set plot title\n",
    "    plt.title('Correlation Circle')\n",
    "\n",
    "# Plot correlation circle using the first two principal components\n",
    "plot_correlation_circle(pca_90, features = df.columns, dimensions = (0, 1))\n",
    "\n",
    "plt.show()"
   ]
  },
  {
   "cell_type": "code",
   "execution_count": null,
   "metadata": {},
   "outputs": [],
   "source": [
    "# Cercle des correlations : \n",
    "\n",
    "# cercle de rayon 1\n",
    "# axe horizontal = composante principale 1\n",
    "# axe vertical = composante principale 2\n",
    "\n",
    "# longueur des flèches = représente à quel point la variance de la variable est expliquée dans ce plan factoriel\n",
    "# angle entre les flèches = indication de si les variables sont corrélées entre elles sur ce plan ou non\n",
    "# etc : petit angle -> correlation positive dans ce plan\n",
    "# angle de 90° -> pas de correlation\n",
    "# angle de 180° -> correlation negative"
   ]
  },
  {
   "cell_type": "code",
   "execution_count": null,
   "metadata": {},
   "outputs": [],
   "source": [
    "# autres plans factoriels : \n",
    "plot_correlation_circle(pca_90, features = df.columns, dimensions = (1, 2))"
   ]
  },
  {
   "cell_type": "code",
   "execution_count": null,
   "metadata": {},
   "outputs": [],
   "source": [
    "plot_correlation_circle(pca_90, features = df.columns, dimensions = (3, 8))"
   ]
  },
  {
   "cell_type": "code",
   "execution_count": null,
   "metadata": {},
   "outputs": [],
   "source": [
    "# à tester :\n",
    "\"\"\"\n",
    "# https://rasbt.github.io/mlxtend/user_guide/plotting/plot_pca_correlation_graph/\n",
    "\n",
    "from mlxtend.plotting import plot_pca_correlation_graph\n",
    "\n",
    "X, y = df_pca\n",
    "\n",
    "X_norm = X / X.std(axis=0) # Normalizing the feature columns is recommended\n",
    "\n",
    "feature_names = [\n",
    "  'sepal length',\n",
    "  'sepal width',\n",
    "  'petal length',\n",
    "  'petal width']\n",
    "\n",
    "figure, correlation_matrix = plot_pca_correlation_graph(X_norm,\n",
    "                                                        feature_names,\n",
    "                                                        dimensions=(1, 2),\n",
    "                                                        figure_axis_size=10)\n",
    "\n",
    "correlation_matrix\"\"\""
   ]
  },
  {
   "cell_type": "code",
   "execution_count": null,
   "metadata": {},
   "outputs": [],
   "source": [
    "# https://nirpyresearch.com/pca-correlation-circle/\n",
    "# regarder ça, super interessant"
   ]
  },
  {
   "cell_type": "code",
   "execution_count": null,
   "metadata": {},
   "outputs": [],
   "source": []
  },
  {
   "cell_type": "code",
   "execution_count": null,
   "metadata": {},
   "outputs": [],
   "source": []
  },
  {
   "cell_type": "markdown",
   "metadata": {
    "id": "Dsc11dZIY_Hi"
   },
   "source": [
    "## Export du jeu de données final"
   ]
  },
  {
   "cell_type": "code",
   "execution_count": null,
   "metadata": {
    "id": "EOrqFVw-ydXS"
   },
   "outputs": [],
   "source": [
    "# Export données 'propres' au format pickle\n",
    "\n",
    "# Chemin d'accès aux données (à modifier si code en local)\n",
    "#path = '/content/drive/MyDrive/OpenClassrooms/Projet5/' #-> pour colab\n",
    "path = '' #-> en local\n",
    "\n",
    "# specifier le chemin choisi\n",
    "filepath = os.path.join(path, 'df')\n",
    "\n",
    "# exporter en format pickle\n",
    "with open(filepath, 'wb') as f:\n",
    "    pickle.dump(df, f)"
   ]
  },
  {
   "cell_type": "code",
   "execution_count": null,
   "metadata": {
    "id": "TPOwsqKdoJAz"
   },
   "outputs": [],
   "source": []
  }
 ],
 "metadata": {
  "colab": {
   "provenance": [],
   "toc_visible": true
  },
  "kernelspec": {
   "display_name": "Python 3 (ipykernel)",
   "language": "python",
   "name": "python3"
  },
  "language_info": {
   "codemirror_mode": {
    "name": "ipython",
    "version": 3
   },
   "file_extension": ".py",
   "mimetype": "text/x-python",
   "name": "python",
   "nbconvert_exporter": "python",
   "pygments_lexer": "ipython3",
   "version": "3.11.3"
  }
 },
 "nbformat": 4,
 "nbformat_minor": 1
}
